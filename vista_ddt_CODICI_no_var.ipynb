{
 "cells": [
  {
   "cell_type": "code",
   "execution_count": 1,
   "metadata": {},
   "outputs": [],
   "source": [
    "import pandas as pd\n",
    "import numpy as np\n",
    "import plotly.express as px"
   ]
  },
  {
   "cell_type": "code",
   "execution_count": 2,
   "metadata": {},
   "outputs": [
    {
     "data": {
      "text/html": [
       "<div>\n",
       "<style scoped>\n",
       "    .dataframe tbody tr th:only-of-type {\n",
       "        vertical-align: middle;\n",
       "    }\n",
       "\n",
       "    .dataframe tbody tr th {\n",
       "        vertical-align: top;\n",
       "    }\n",
       "\n",
       "    .dataframe thead th {\n",
       "        text-align: right;\n",
       "    }\n",
       "</style>\n",
       "<table border=\"1\" class=\"dataframe\">\n",
       "  <thead>\n",
       "    <tr style=\"text-align: right;\">\n",
       "      <th></th>\n",
       "      <th>Codice_articolo</th>\n",
       "      <th>Codice_variante</th>\n",
       "      <th>Descrizione</th>\n",
       "      <th>Costo</th>\n",
       "      <th>Data_riferimento</th>\n",
       "      <th>Categoria</th>\n",
       "    </tr>\n",
       "  </thead>\n",
       "  <tbody>\n",
       "    <tr>\n",
       "      <th>0</th>\n",
       "      <td>017.PM419</td>\n",
       "      <td>1</td>\n",
       "      <td>NaN</td>\n",
       "      <td>46.52</td>\n",
       "      <td>2023-01</td>\n",
       "      <td>Veneziane</td>\n",
       "    </tr>\n",
       "    <tr>\n",
       "      <th>1</th>\n",
       "      <td>017.PM421</td>\n",
       "      <td>1</td>\n",
       "      <td>NaN</td>\n",
       "      <td>48.75</td>\n",
       "      <td>2023-01</td>\n",
       "      <td>Veneziane</td>\n",
       "    </tr>\n",
       "    <tr>\n",
       "      <th>2</th>\n",
       "      <td>017.PM422</td>\n",
       "      <td>3</td>\n",
       "      <td>NaN</td>\n",
       "      <td>46.52</td>\n",
       "      <td>2023-01</td>\n",
       "      <td>Veneziane</td>\n",
       "    </tr>\n",
       "    <tr>\n",
       "      <th>3</th>\n",
       "      <td>017.PM424</td>\n",
       "      <td>2</td>\n",
       "      <td>NaN</td>\n",
       "      <td>51.80</td>\n",
       "      <td>2023-01</td>\n",
       "      <td>Veneziane</td>\n",
       "    </tr>\n",
       "    <tr>\n",
       "      <th>4</th>\n",
       "      <td>017.PM425</td>\n",
       "      <td>1</td>\n",
       "      <td>NaN</td>\n",
       "      <td>46.52</td>\n",
       "      <td>2023-01</td>\n",
       "      <td>Veneziane</td>\n",
       "    </tr>\n",
       "    <tr>\n",
       "      <th>...</th>\n",
       "      <td>...</td>\n",
       "      <td>...</td>\n",
       "      <td>...</td>\n",
       "      <td>...</td>\n",
       "      <td>...</td>\n",
       "      <td>...</td>\n",
       "    </tr>\n",
       "    <tr>\n",
       "      <th>1508</th>\n",
       "      <td>052.MP.HPL.1</td>\n",
       "      <td>0</td>\n",
       "      <td>LAMINATO HPL 1 MM RETRORUVIDATO</td>\n",
       "      <td>6.00</td>\n",
       "      <td>2022-04</td>\n",
       "      <td>Laminati e altri</td>\n",
       "    </tr>\n",
       "    <tr>\n",
       "      <th>1509</th>\n",
       "      <td>052.MP.HPL.4</td>\n",
       "      <td>2</td>\n",
       "      <td>LAMINATO HPL 4 MM RETRORUVIDATO</td>\n",
       "      <td>14.20</td>\n",
       "      <td>2023-04</td>\n",
       "      <td>Laminati e altri</td>\n",
       "    </tr>\n",
       "    <tr>\n",
       "      <th>1510</th>\n",
       "      <td>052.MP.HPL.4</td>\n",
       "      <td>3</td>\n",
       "      <td>LAMINATO HPL 4 MM RETRORUVIDATO</td>\n",
       "      <td>14.20</td>\n",
       "      <td>2023-04</td>\n",
       "      <td>Laminati e altri</td>\n",
       "    </tr>\n",
       "    <tr>\n",
       "      <th>1511</th>\n",
       "      <td>052.MP.HPL.4</td>\n",
       "      <td>0</td>\n",
       "      <td>LAMINATO HPL 4 MM RETRORUVIDATO</td>\n",
       "      <td>14.20</td>\n",
       "      <td>2023-04</td>\n",
       "      <td>Laminati e altri</td>\n",
       "    </tr>\n",
       "    <tr>\n",
       "      <th>1512</th>\n",
       "      <td>052.MP.MDF</td>\n",
       "      <td>0</td>\n",
       "      <td>MDF GREZZO SP.16 mm PER MOBILI</td>\n",
       "      <td>6.50</td>\n",
       "      <td>2022-11</td>\n",
       "      <td>Laminati e altri</td>\n",
       "    </tr>\n",
       "  </tbody>\n",
       "</table>\n",
       "<p>1513 rows × 6 columns</p>\n",
       "</div>"
      ],
      "text/plain": [
       "     Codice_articolo  Codice_variante                      Descrizione  Costo  \\\n",
       "0          017.PM419                1                              NaN  46.52   \n",
       "1          017.PM421                1                              NaN  48.75   \n",
       "2          017.PM422                3                              NaN  46.52   \n",
       "3          017.PM424                2                              NaN  51.80   \n",
       "4          017.PM425                1                              NaN  46.52   \n",
       "...              ...              ...                              ...    ...   \n",
       "1508    052.MP.HPL.1                0  LAMINATO HPL 1 MM RETRORUVIDATO   6.00   \n",
       "1509    052.MP.HPL.4                2  LAMINATO HPL 4 MM RETRORUVIDATO  14.20   \n",
       "1510    052.MP.HPL.4                3  LAMINATO HPL 4 MM RETRORUVIDATO  14.20   \n",
       "1511    052.MP.HPL.4                0  LAMINATO HPL 4 MM RETRORUVIDATO  14.20   \n",
       "1512      052.MP.MDF                0   MDF GREZZO SP.16 mm PER MOBILI   6.50   \n",
       "\n",
       "     Data_riferimento         Categoria  \n",
       "0             2023-01         Veneziane  \n",
       "1             2023-01         Veneziane  \n",
       "2             2023-01         Veneziane  \n",
       "3             2023-01         Veneziane  \n",
       "4             2023-01         Veneziane  \n",
       "...               ...               ...  \n",
       "1508          2022-04  Laminati e altri  \n",
       "1509          2023-04  Laminati e altri  \n",
       "1510          2023-04  Laminati e altri  \n",
       "1511          2023-04  Laminati e altri  \n",
       "1512          2022-11  Laminati e altri  \n",
       "\n",
       "[1513 rows x 6 columns]"
      ]
     },
     "execution_count": 2,
     "metadata": {},
     "output_type": "execute_result"
    }
   ],
   "source": [
    "df_listino = pd.read_csv('data_demo/art_costi.csv')\n",
    "df_listino[\"Data_riferimento\"] = pd.to_datetime(df_listino[\"Data_riferimento\"]).dt.to_period(\"M\")\n",
    "df_listino"
   ]
  },
  {
   "cell_type": "code",
   "execution_count": 3,
   "metadata": {},
   "outputs": [
    {
     "data": {
      "text/html": [
       "<div>\n",
       "<style scoped>\n",
       "    .dataframe tbody tr th:only-of-type {\n",
       "        vertical-align: middle;\n",
       "    }\n",
       "\n",
       "    .dataframe tbody tr th {\n",
       "        vertical-align: top;\n",
       "    }\n",
       "\n",
       "    .dataframe thead th {\n",
       "        text-align: right;\n",
       "    }\n",
       "</style>\n",
       "<table border=\"1\" class=\"dataframe\">\n",
       "  <thead>\n",
       "    <tr style=\"text-align: right;\">\n",
       "      <th></th>\n",
       "      <th>Codice_articolo</th>\n",
       "      <th>Codice_variante</th>\n",
       "      <th>Costo</th>\n",
       "      <th>Data_riferimento</th>\n",
       "    </tr>\n",
       "  </thead>\n",
       "  <tbody>\n",
       "    <tr>\n",
       "      <th>0</th>\n",
       "      <td>017.GUI.MED.01</td>\n",
       "      <td>0</td>\n",
       "      <td>0.35</td>\n",
       "      <td>2022-03</td>\n",
       "    </tr>\n",
       "    <tr>\n",
       "      <th>1</th>\n",
       "      <td>017.PM001</td>\n",
       "      <td>2</td>\n",
       "      <td>1.00</td>\n",
       "      <td>2023-08</td>\n",
       "    </tr>\n",
       "    <tr>\n",
       "      <th>2</th>\n",
       "      <td>017.PM001</td>\n",
       "      <td>3</td>\n",
       "      <td>1.00</td>\n",
       "      <td>2023-08</td>\n",
       "    </tr>\n",
       "    <tr>\n",
       "      <th>3</th>\n",
       "      <td>017.PM001</td>\n",
       "      <td>4</td>\n",
       "      <td>1.00</td>\n",
       "      <td>2023-08</td>\n",
       "    </tr>\n",
       "    <tr>\n",
       "      <th>4</th>\n",
       "      <td>017.PM001</td>\n",
       "      <td>5</td>\n",
       "      <td>1.00</td>\n",
       "      <td>2023-08</td>\n",
       "    </tr>\n",
       "    <tr>\n",
       "      <th>...</th>\n",
       "      <td>...</td>\n",
       "      <td>...</td>\n",
       "      <td>...</td>\n",
       "      <td>...</td>\n",
       "    </tr>\n",
       "    <tr>\n",
       "      <th>2736</th>\n",
       "      <td>098.P055CF6ANT</td>\n",
       "      <td>1</td>\n",
       "      <td>3.50</td>\n",
       "      <td>2015-09</td>\n",
       "    </tr>\n",
       "    <tr>\n",
       "      <th>2737</th>\n",
       "      <td>098.P055CF6ANT</td>\n",
       "      <td>0</td>\n",
       "      <td>3.50</td>\n",
       "      <td>2013-05</td>\n",
       "    </tr>\n",
       "    <tr>\n",
       "      <th>2738</th>\n",
       "      <td>0MAG.0001</td>\n",
       "      <td>0</td>\n",
       "      <td>80.00</td>\n",
       "      <td>2018-06</td>\n",
       "    </tr>\n",
       "    <tr>\n",
       "      <th>2739</th>\n",
       "      <td>0MAG.0002</td>\n",
       "      <td>0</td>\n",
       "      <td>60.00</td>\n",
       "      <td>2018-06</td>\n",
       "    </tr>\n",
       "    <tr>\n",
       "      <th>2740</th>\n",
       "      <td>COM.ACC</td>\n",
       "      <td>0</td>\n",
       "      <td>0.88</td>\n",
       "      <td>2021-05</td>\n",
       "    </tr>\n",
       "  </tbody>\n",
       "</table>\n",
       "<p>2741 rows × 4 columns</p>\n",
       "</div>"
      ],
      "text/plain": [
       "     Codice_articolo  Codice_variante  Costo Data_riferimento\n",
       "0     017.GUI.MED.01                0   0.35          2022-03\n",
       "1          017.PM001                2   1.00          2023-08\n",
       "2          017.PM001                3   1.00          2023-08\n",
       "3          017.PM001                4   1.00          2023-08\n",
       "4          017.PM001                5   1.00          2023-08\n",
       "...              ...              ...    ...              ...\n",
       "2736  098.P055CF6ANT                1   3.50          2015-09\n",
       "2737  098.P055CF6ANT                0   3.50          2013-05\n",
       "2738       0MAG.0001                0  80.00          2018-06\n",
       "2739       0MAG.0002                0  60.00          2018-06\n",
       "2740         COM.ACC                0   0.88          2021-05\n",
       "\n",
       "[2741 rows x 4 columns]"
      ]
     },
     "execution_count": 3,
     "metadata": {},
     "output_type": "execute_result"
    }
   ],
   "source": [
    "df_listino_original = pd.read_csv('data_clean/art_costi.csv')\n",
    "df_listino_original[\"Data_riferimento\"] = pd.to_datetime(df_listino_original[\"Data_riferimento\"]).dt.to_period(\"M\")\n",
    "df_listino_original"
   ]
  },
  {
   "cell_type": "code",
   "execution_count": 4,
   "metadata": {},
   "outputs": [
    {
     "data": {
      "text/html": [
       "<div>\n",
       "<style scoped>\n",
       "    .dataframe tbody tr th:only-of-type {\n",
       "        vertical-align: middle;\n",
       "    }\n",
       "\n",
       "    .dataframe tbody tr th {\n",
       "        vertical-align: top;\n",
       "    }\n",
       "\n",
       "    .dataframe thead th {\n",
       "        text-align: right;\n",
       "    }\n",
       "</style>\n",
       "<table border=\"1\" class=\"dataframe\">\n",
       "  <thead>\n",
       "    <tr style=\"text-align: right;\">\n",
       "      <th></th>\n",
       "      <th>COD_CF_Fornitore</th>\n",
       "      <th>Data_documento</th>\n",
       "      <th>ID_documento</th>\n",
       "      <th>Descrizione</th>\n",
       "      <th>Codice_articolo</th>\n",
       "      <th>Codice_variante</th>\n",
       "      <th>Codice_categoria</th>\n",
       "      <th>Unita_misura</th>\n",
       "      <th>Quantita_um</th>\n",
       "      <th>Prezzo_netto_vu</th>\n",
       "      <th>importo</th>\n",
       "    </tr>\n",
       "  </thead>\n",
       "  <tbody>\n",
       "    <tr>\n",
       "      <th>0</th>\n",
       "      <td>2521</td>\n",
       "      <td>2016-09-19</td>\n",
       "      <td>2016-BADDV-0000001</td>\n",
       "      <td>ANTA APR. DX IN CRISTALLO SATINATO 895x2040</td>\n",
       "      <td>017.PM107.001</td>\n",
       "      <td>0</td>\n",
       "      <td>10.30.40.10.20</td>\n",
       "      <td>PZ</td>\n",
       "      <td>16.00</td>\n",
       "      <td>94.00000</td>\n",
       "      <td>1504.00</td>\n",
       "    </tr>\n",
       "    <tr>\n",
       "      <th>1</th>\n",
       "      <td>2521</td>\n",
       "      <td>2016-09-19</td>\n",
       "      <td>2016-BADDV-0000001</td>\n",
       "      <td>ANTA APR. SX IN CRISTALLO SATINATO 895x2040</td>\n",
       "      <td>017.PM107.003</td>\n",
       "      <td>0</td>\n",
       "      <td>10.30.40.10.20</td>\n",
       "      <td>PZ</td>\n",
       "      <td>33.00</td>\n",
       "      <td>94.00000</td>\n",
       "      <td>3102.00</td>\n",
       "    </tr>\n",
       "    <tr>\n",
       "      <th>2</th>\n",
       "      <td>2521</td>\n",
       "      <td>2016-09-19</td>\n",
       "      <td>2016-BADDV-0000001</td>\n",
       "      <td>VETRO STRATIFICATO 3+3</td>\n",
       "      <td>017.PM152</td>\n",
       "      <td>3</td>\n",
       "      <td>10.30.40.10.10</td>\n",
       "      <td>MQ</td>\n",
       "      <td>31.48</td>\n",
       "      <td>23.58132</td>\n",
       "      <td>742.34</td>\n",
       "    </tr>\n",
       "    <tr>\n",
       "      <th>3</th>\n",
       "      <td>2521</td>\n",
       "      <td>2016-09-19</td>\n",
       "      <td>2016-BADDV-0000001</td>\n",
       "      <td>VETRO STRATIFICATO TRASPARENTE 5+5</td>\n",
       "      <td>090.VST55</td>\n",
       "      <td>309</td>\n",
       "      <td>10.30.40.10.50</td>\n",
       "      <td>MQ</td>\n",
       "      <td>64.39</td>\n",
       "      <td>20.50008</td>\n",
       "      <td>1320.00</td>\n",
       "    </tr>\n",
       "    <tr>\n",
       "      <th>4</th>\n",
       "      <td>1964</td>\n",
       "      <td>2016-09-21</td>\n",
       "      <td>2016-BADDV-0000002</td>\n",
       "      <td>VETRO STRATIFICATO TRASPARENTE 5+5</td>\n",
       "      <td>090.VST55</td>\n",
       "      <td>332</td>\n",
       "      <td>10.30.40.10.50</td>\n",
       "      <td>MQ</td>\n",
       "      <td>4.77</td>\n",
       "      <td>25.00000</td>\n",
       "      <td>119.25</td>\n",
       "    </tr>\n",
       "    <tr>\n",
       "      <th>...</th>\n",
       "      <td>...</td>\n",
       "      <td>...</td>\n",
       "      <td>...</td>\n",
       "      <td>...</td>\n",
       "      <td>...</td>\n",
       "      <td>...</td>\n",
       "      <td>...</td>\n",
       "      <td>...</td>\n",
       "      <td>...</td>\n",
       "      <td>...</td>\n",
       "      <td>...</td>\n",
       "    </tr>\n",
       "    <tr>\n",
       "      <th>20443</th>\n",
       "      <td>1964</td>\n",
       "      <td>2024-03-15</td>\n",
       "      <td>2024-BADDV-0000447</td>\n",
       "      <td>VETRO TRASPARENTE STRATIFICATO 3+3 F.G. ANTA I...</td>\n",
       "      <td>090.VST33</td>\n",
       "      <td>351</td>\n",
       "      <td>10.30.40.10.50</td>\n",
       "      <td>MQ</td>\n",
       "      <td>13.87</td>\n",
       "      <td>25.00000</td>\n",
       "      <td>346.75</td>\n",
       "    </tr>\n",
       "    <tr>\n",
       "      <th>20444</th>\n",
       "      <td>1964</td>\n",
       "      <td>2024-03-15</td>\n",
       "      <td>2024-BADDV-0000447</td>\n",
       "      <td>VETRO TRASPARENTE STRATIFICATO 3+3 F.G. ANTA I...</td>\n",
       "      <td>090.VST33</td>\n",
       "      <td>791</td>\n",
       "      <td>10.30.40.10.50</td>\n",
       "      <td>MQ</td>\n",
       "      <td>1.90</td>\n",
       "      <td>25.00000</td>\n",
       "      <td>47.50</td>\n",
       "    </tr>\n",
       "    <tr>\n",
       "      <th>20445</th>\n",
       "      <td>1964</td>\n",
       "      <td>2024-03-18</td>\n",
       "      <td>2024-BADDV-0000448</td>\n",
       "      <td>VETROCAMERA ANG. 90° TR. 904X950 SU PORTA SERI...</td>\n",
       "      <td>052.MP.VT.POR.TR.45.04</td>\n",
       "      <td>0</td>\n",
       "      <td>20.30.050</td>\n",
       "      <td>PZ</td>\n",
       "      <td>4.00</td>\n",
       "      <td>0.00000</td>\n",
       "      <td>0.00</td>\n",
       "    </tr>\n",
       "    <tr>\n",
       "      <th>20446</th>\n",
       "      <td>1964</td>\n",
       "      <td>2024-03-18</td>\n",
       "      <td>2024-BADDV-0000448</td>\n",
       "      <td>VETROCAMERA ANG. 90° TR. 904X950 SU PORTA SERI...</td>\n",
       "      <td>052.MP.VT.POR.TR.45.04</td>\n",
       "      <td>0</td>\n",
       "      <td>20.30.050</td>\n",
       "      <td>PZ</td>\n",
       "      <td>1.00</td>\n",
       "      <td>0.00000</td>\n",
       "      <td>0.00</td>\n",
       "    </tr>\n",
       "    <tr>\n",
       "      <th>20447</th>\n",
       "      <td>682</td>\n",
       "      <td>2024-02-28</td>\n",
       "      <td>2024-BADDV-0000449</td>\n",
       "      <td>CATENACCIOLO PER PORTA DOPPIA CRISTALLO SP.10 MM</td>\n",
       "      <td>017.PM397</td>\n",
       "      <td>0</td>\n",
       "      <td>10.30.50.10.010</td>\n",
       "      <td>PZ</td>\n",
       "      <td>20.00</td>\n",
       "      <td>50.25000</td>\n",
       "      <td>1005.00</td>\n",
       "    </tr>\n",
       "  </tbody>\n",
       "</table>\n",
       "<p>20448 rows × 11 columns</p>\n",
       "</div>"
      ],
      "text/plain": [
       "       COD_CF_Fornitore Data_documento        ID_documento  \\\n",
       "0                  2521     2016-09-19  2016-BADDV-0000001   \n",
       "1                  2521     2016-09-19  2016-BADDV-0000001   \n",
       "2                  2521     2016-09-19  2016-BADDV-0000001   \n",
       "3                  2521     2016-09-19  2016-BADDV-0000001   \n",
       "4                  1964     2016-09-21  2016-BADDV-0000002   \n",
       "...                 ...            ...                 ...   \n",
       "20443              1964     2024-03-15  2024-BADDV-0000447   \n",
       "20444              1964     2024-03-15  2024-BADDV-0000447   \n",
       "20445              1964     2024-03-18  2024-BADDV-0000448   \n",
       "20446              1964     2024-03-18  2024-BADDV-0000448   \n",
       "20447               682     2024-02-28  2024-BADDV-0000449   \n",
       "\n",
       "                                             Descrizione  \\\n",
       "0            ANTA APR. DX IN CRISTALLO SATINATO 895x2040   \n",
       "1            ANTA APR. SX IN CRISTALLO SATINATO 895x2040   \n",
       "2                                 VETRO STRATIFICATO 3+3   \n",
       "3                     VETRO STRATIFICATO TRASPARENTE 5+5   \n",
       "4                     VETRO STRATIFICATO TRASPARENTE 5+5   \n",
       "...                                                  ...   \n",
       "20443  VETRO TRASPARENTE STRATIFICATO 3+3 F.G. ANTA I...   \n",
       "20444  VETRO TRASPARENTE STRATIFICATO 3+3 F.G. ANTA I...   \n",
       "20445  VETROCAMERA ANG. 90° TR. 904X950 SU PORTA SERI...   \n",
       "20446  VETROCAMERA ANG. 90° TR. 904X950 SU PORTA SERI...   \n",
       "20447   CATENACCIOLO PER PORTA DOPPIA CRISTALLO SP.10 MM   \n",
       "\n",
       "              Codice_articolo  Codice_variante Codice_categoria Unita_misura  \\\n",
       "0               017.PM107.001                0   10.30.40.10.20           PZ   \n",
       "1               017.PM107.003                0   10.30.40.10.20           PZ   \n",
       "2                   017.PM152                3   10.30.40.10.10           MQ   \n",
       "3                   090.VST55              309   10.30.40.10.50           MQ   \n",
       "4                   090.VST55              332   10.30.40.10.50           MQ   \n",
       "...                       ...              ...              ...          ...   \n",
       "20443               090.VST33              351   10.30.40.10.50           MQ   \n",
       "20444               090.VST33              791   10.30.40.10.50           MQ   \n",
       "20445  052.MP.VT.POR.TR.45.04                0        20.30.050           PZ   \n",
       "20446  052.MP.VT.POR.TR.45.04                0        20.30.050           PZ   \n",
       "20447               017.PM397                0  10.30.50.10.010           PZ   \n",
       "\n",
       "       Quantita_um  Prezzo_netto_vu  importo  \n",
       "0            16.00         94.00000  1504.00  \n",
       "1            33.00         94.00000  3102.00  \n",
       "2            31.48         23.58132   742.34  \n",
       "3            64.39         20.50008  1320.00  \n",
       "4             4.77         25.00000   119.25  \n",
       "...            ...              ...      ...  \n",
       "20443        13.87         25.00000   346.75  \n",
       "20444         1.90         25.00000    47.50  \n",
       "20445         4.00          0.00000     0.00  \n",
       "20446         1.00          0.00000     0.00  \n",
       "20447        20.00         50.25000  1005.00  \n",
       "\n",
       "[20448 rows x 11 columns]"
      ]
     },
     "execution_count": 4,
     "metadata": {},
     "output_type": "execute_result"
    }
   ],
   "source": [
    "df_ddt = pd.read_csv('data_demo/ddt_righe.csv')\n",
    "df_ddt"
   ]
  },
  {
   "cell_type": "code",
   "execution_count": 5,
   "metadata": {},
   "outputs": [],
   "source": [
    "codice = \"090.VST33\"#\"027.101TEL.H\""
   ]
  },
  {
   "cell_type": "code",
   "execution_count": 6,
   "metadata": {},
   "outputs": [
    {
     "data": {
      "text/plain": [
       "1192"
      ]
     },
     "execution_count": 6,
     "metadata": {},
     "output_type": "execute_result"
    }
   ],
   "source": [
    "len(df_ddt[(df_ddt[\"Codice_articolo\"] == codice)]) #DDT"
   ]
  },
  {
   "cell_type": "code",
   "execution_count": 7,
   "metadata": {},
   "outputs": [
    {
     "data": {
      "text/plain": [
       "91"
      ]
     },
     "execution_count": 7,
     "metadata": {},
     "output_type": "execute_result"
    }
   ],
   "source": [
    "len(df_listino[(df_listino[\"Codice_articolo\"] == codice)]) #Listino"
   ]
  },
  {
   "cell_type": "code",
   "execution_count": 8,
   "metadata": {},
   "outputs": [
    {
     "data": {
      "text/plain": [
       "109"
      ]
     },
     "execution_count": 8,
     "metadata": {},
     "output_type": "execute_result"
    }
   ],
   "source": [
    "len(df_listino_original[(df_listino_original[\"Codice_articolo\"] == codice)]) #Listino"
   ]
  },
  {
   "cell_type": "code",
   "execution_count": 9,
   "metadata": {},
   "outputs": [
    {
     "data": {
      "text/html": [
       "<div>\n",
       "<style scoped>\n",
       "    .dataframe tbody tr th:only-of-type {\n",
       "        vertical-align: middle;\n",
       "    }\n",
       "\n",
       "    .dataframe tbody tr th {\n",
       "        vertical-align: top;\n",
       "    }\n",
       "\n",
       "    .dataframe thead th {\n",
       "        text-align: right;\n",
       "    }\n",
       "</style>\n",
       "<table border=\"1\" class=\"dataframe\">\n",
       "  <thead>\n",
       "    <tr style=\"text-align: right;\">\n",
       "      <th></th>\n",
       "      <th>Codice_articolo</th>\n",
       "      <th>Codice_variante</th>\n",
       "      <th>Costo</th>\n",
       "      <th>Data_riferimento</th>\n",
       "    </tr>\n",
       "  </thead>\n",
       "  <tbody>\n",
       "    <tr>\n",
       "      <th>2462</th>\n",
       "      <td>090.VST33</td>\n",
       "      <td>1</td>\n",
       "      <td>24.5</td>\n",
       "      <td>2023-08</td>\n",
       "    </tr>\n",
       "    <tr>\n",
       "      <th>2463</th>\n",
       "      <td>090.VST33</td>\n",
       "      <td>2</td>\n",
       "      <td>24.5</td>\n",
       "      <td>2023-08</td>\n",
       "    </tr>\n",
       "    <tr>\n",
       "      <th>2464</th>\n",
       "      <td>090.VST33</td>\n",
       "      <td>3</td>\n",
       "      <td>24.5</td>\n",
       "      <td>2023-08</td>\n",
       "    </tr>\n",
       "    <tr>\n",
       "      <th>2465</th>\n",
       "      <td>090.VST33</td>\n",
       "      <td>4</td>\n",
       "      <td>24.5</td>\n",
       "      <td>2023-08</td>\n",
       "    </tr>\n",
       "    <tr>\n",
       "      <th>2466</th>\n",
       "      <td>090.VST33</td>\n",
       "      <td>5</td>\n",
       "      <td>24.5</td>\n",
       "      <td>2023-08</td>\n",
       "    </tr>\n",
       "    <tr>\n",
       "      <th>...</th>\n",
       "      <td>...</td>\n",
       "      <td>...</td>\n",
       "      <td>...</td>\n",
       "      <td>...</td>\n",
       "    </tr>\n",
       "    <tr>\n",
       "      <th>2566</th>\n",
       "      <td>090.VST33</td>\n",
       "      <td>766</td>\n",
       "      <td>24.5</td>\n",
       "      <td>2023-11</td>\n",
       "    </tr>\n",
       "    <tr>\n",
       "      <th>2567</th>\n",
       "      <td>090.VST33</td>\n",
       "      <td>767</td>\n",
       "      <td>24.5</td>\n",
       "      <td>2023-11</td>\n",
       "    </tr>\n",
       "    <tr>\n",
       "      <th>2568</th>\n",
       "      <td>090.VST33</td>\n",
       "      <td>768</td>\n",
       "      <td>24.5</td>\n",
       "      <td>2023-11</td>\n",
       "    </tr>\n",
       "    <tr>\n",
       "      <th>2569</th>\n",
       "      <td>090.VST33</td>\n",
       "      <td>769</td>\n",
       "      <td>24.5</td>\n",
       "      <td>2023-11</td>\n",
       "    </tr>\n",
       "    <tr>\n",
       "      <th>2570</th>\n",
       "      <td>090.VST33</td>\n",
       "      <td>0</td>\n",
       "      <td>24.5</td>\n",
       "      <td>2023-08</td>\n",
       "    </tr>\n",
       "  </tbody>\n",
       "</table>\n",
       "<p>109 rows × 4 columns</p>\n",
       "</div>"
      ],
      "text/plain": [
       "     Codice_articolo  Codice_variante  Costo Data_riferimento\n",
       "2462       090.VST33                1   24.5          2023-08\n",
       "2463       090.VST33                2   24.5          2023-08\n",
       "2464       090.VST33                3   24.5          2023-08\n",
       "2465       090.VST33                4   24.5          2023-08\n",
       "2466       090.VST33                5   24.5          2023-08\n",
       "...              ...              ...    ...              ...\n",
       "2566       090.VST33              766   24.5          2023-11\n",
       "2567       090.VST33              767   24.5          2023-11\n",
       "2568       090.VST33              768   24.5          2023-11\n",
       "2569       090.VST33              769   24.5          2023-11\n",
       "2570       090.VST33                0   24.5          2023-08\n",
       "\n",
       "[109 rows x 4 columns]"
      ]
     },
     "execution_count": 9,
     "metadata": {},
     "output_type": "execute_result"
    }
   ],
   "source": [
    "df_listino_original[(df_listino_original[\"Codice_articolo\"] == codice)]"
   ]
  },
  {
   "cell_type": "code",
   "execution_count": 10,
   "metadata": {},
   "outputs": [
    {
     "data": {
      "text/html": [
       "<div>\n",
       "<style scoped>\n",
       "    .dataframe tbody tr th:only-of-type {\n",
       "        vertical-align: middle;\n",
       "    }\n",
       "\n",
       "    .dataframe tbody tr th {\n",
       "        vertical-align: top;\n",
       "    }\n",
       "\n",
       "    .dataframe thead th {\n",
       "        text-align: right;\n",
       "    }\n",
       "</style>\n",
       "<table border=\"1\" class=\"dataframe\">\n",
       "  <thead>\n",
       "    <tr style=\"text-align: right;\">\n",
       "      <th></th>\n",
       "      <th>Codice_articolo</th>\n",
       "      <th>Codice_variante</th>\n",
       "      <th>Descrizione</th>\n",
       "      <th>Costo</th>\n",
       "      <th>Data_riferimento</th>\n",
       "      <th>Categoria</th>\n",
       "    </tr>\n",
       "  </thead>\n",
       "  <tbody>\n",
       "    <tr>\n",
       "      <th>454</th>\n",
       "      <td>090.VST33</td>\n",
       "      <td>1</td>\n",
       "      <td>VETRO TRASPARENTE STRATIFICATO 3+3 F.G. ANTA I...</td>\n",
       "      <td>24.5</td>\n",
       "      <td>2023-08</td>\n",
       "      <td>Vetri</td>\n",
       "    </tr>\n",
       "    <tr>\n",
       "      <th>455</th>\n",
       "      <td>090.VST33</td>\n",
       "      <td>2</td>\n",
       "      <td>VETRO TRASPARENTE STRATIFICATO 3+3 F.G. ANTA I...</td>\n",
       "      <td>24.5</td>\n",
       "      <td>2023-08</td>\n",
       "      <td>Vetri</td>\n",
       "    </tr>\n",
       "    <tr>\n",
       "      <th>456</th>\n",
       "      <td>090.VST33</td>\n",
       "      <td>3</td>\n",
       "      <td>VETRO TRASPARENTE STRATIFICATO 3+3 F.G. ANTA I...</td>\n",
       "      <td>24.5</td>\n",
       "      <td>2023-08</td>\n",
       "      <td>Vetri</td>\n",
       "    </tr>\n",
       "    <tr>\n",
       "      <th>457</th>\n",
       "      <td>090.VST33</td>\n",
       "      <td>4</td>\n",
       "      <td>VETRO TRASPARENTE STRATIFICATO 3+3 F.G. ANTA I...</td>\n",
       "      <td>24.5</td>\n",
       "      <td>2023-08</td>\n",
       "      <td>Vetri</td>\n",
       "    </tr>\n",
       "    <tr>\n",
       "      <th>458</th>\n",
       "      <td>090.VST33</td>\n",
       "      <td>5</td>\n",
       "      <td>VETRO TRASPARENTE STRATIFICATO 3+3 F.G. ANTA I...</td>\n",
       "      <td>24.5</td>\n",
       "      <td>2023-08</td>\n",
       "      <td>Vetri</td>\n",
       "    </tr>\n",
       "    <tr>\n",
       "      <th>...</th>\n",
       "      <td>...</td>\n",
       "      <td>...</td>\n",
       "      <td>...</td>\n",
       "      <td>...</td>\n",
       "      <td>...</td>\n",
       "      <td>...</td>\n",
       "    </tr>\n",
       "    <tr>\n",
       "      <th>540</th>\n",
       "      <td>090.VST33</td>\n",
       "      <td>468</td>\n",
       "      <td>VETRO TRASPARENTE STRATIFICATO 3+3 F.G. ANTA I...</td>\n",
       "      <td>24.5</td>\n",
       "      <td>2023-08</td>\n",
       "      <td>Vetri</td>\n",
       "    </tr>\n",
       "    <tr>\n",
       "      <th>541</th>\n",
       "      <td>090.VST33</td>\n",
       "      <td>469</td>\n",
       "      <td>VETRO TRASPARENTE STRATIFICATO 3+3 F.G. ANTA I...</td>\n",
       "      <td>24.5</td>\n",
       "      <td>2023-08</td>\n",
       "      <td>Vetri</td>\n",
       "    </tr>\n",
       "    <tr>\n",
       "      <th>542</th>\n",
       "      <td>090.VST33</td>\n",
       "      <td>470</td>\n",
       "      <td>VETRO TRASPARENTE STRATIFICATO 3+3 F.G. ANTA I...</td>\n",
       "      <td>24.5</td>\n",
       "      <td>2023-08</td>\n",
       "      <td>Vetri</td>\n",
       "    </tr>\n",
       "    <tr>\n",
       "      <th>543</th>\n",
       "      <td>090.VST33</td>\n",
       "      <td>471</td>\n",
       "      <td>VETRO TRASPARENTE STRATIFICATO 3+3 F.G. ANTA I...</td>\n",
       "      <td>24.5</td>\n",
       "      <td>2023-08</td>\n",
       "      <td>Vetri</td>\n",
       "    </tr>\n",
       "    <tr>\n",
       "      <th>544</th>\n",
       "      <td>090.VST33</td>\n",
       "      <td>0</td>\n",
       "      <td>VETRO TRASPARENTE STRATIFICATO 3+3 F.G. ANTA I...</td>\n",
       "      <td>24.5</td>\n",
       "      <td>2023-08</td>\n",
       "      <td>Vetri</td>\n",
       "    </tr>\n",
       "  </tbody>\n",
       "</table>\n",
       "<p>91 rows × 6 columns</p>\n",
       "</div>"
      ],
      "text/plain": [
       "    Codice_articolo  Codice_variante  \\\n",
       "454       090.VST33                1   \n",
       "455       090.VST33                2   \n",
       "456       090.VST33                3   \n",
       "457       090.VST33                4   \n",
       "458       090.VST33                5   \n",
       "..              ...              ...   \n",
       "540       090.VST33              468   \n",
       "541       090.VST33              469   \n",
       "542       090.VST33              470   \n",
       "543       090.VST33              471   \n",
       "544       090.VST33                0   \n",
       "\n",
       "                                           Descrizione  Costo  \\\n",
       "454  VETRO TRASPARENTE STRATIFICATO 3+3 F.G. ANTA I...   24.5   \n",
       "455  VETRO TRASPARENTE STRATIFICATO 3+3 F.G. ANTA I...   24.5   \n",
       "456  VETRO TRASPARENTE STRATIFICATO 3+3 F.G. ANTA I...   24.5   \n",
       "457  VETRO TRASPARENTE STRATIFICATO 3+3 F.G. ANTA I...   24.5   \n",
       "458  VETRO TRASPARENTE STRATIFICATO 3+3 F.G. ANTA I...   24.5   \n",
       "..                                                 ...    ...   \n",
       "540  VETRO TRASPARENTE STRATIFICATO 3+3 F.G. ANTA I...   24.5   \n",
       "541  VETRO TRASPARENTE STRATIFICATO 3+3 F.G. ANTA I...   24.5   \n",
       "542  VETRO TRASPARENTE STRATIFICATO 3+3 F.G. ANTA I...   24.5   \n",
       "543  VETRO TRASPARENTE STRATIFICATO 3+3 F.G. ANTA I...   24.5   \n",
       "544  VETRO TRASPARENTE STRATIFICATO 3+3 F.G. ANTA I...   24.5   \n",
       "\n",
       "    Data_riferimento Categoria  \n",
       "454          2023-08     Vetri  \n",
       "455          2023-08     Vetri  \n",
       "456          2023-08     Vetri  \n",
       "457          2023-08     Vetri  \n",
       "458          2023-08     Vetri  \n",
       "..               ...       ...  \n",
       "540          2023-08     Vetri  \n",
       "541          2023-08     Vetri  \n",
       "542          2023-08     Vetri  \n",
       "543          2023-08     Vetri  \n",
       "544          2023-08     Vetri  \n",
       "\n",
       "[91 rows x 6 columns]"
      ]
     },
     "execution_count": 10,
     "metadata": {},
     "output_type": "execute_result"
    }
   ],
   "source": [
    "df_costo_listino = df_listino[(df_listino[\"Codice_articolo\"] == codice)]\n",
    "df_costo_listino"
   ]
  },
  {
   "cell_type": "code",
   "execution_count": 11,
   "metadata": {},
   "outputs": [
    {
     "data": {
      "text/plain": [
       "(24.5, Period('2023-08', 'M'))"
      ]
     },
     "execution_count": 11,
     "metadata": {},
     "output_type": "execute_result"
    }
   ],
   "source": [
    "if not df_costo_listino.empty:\n",
    "    costo_listino = df_costo_listino[\"Costo\"].values[0]\n",
    "    data_riferimento = df_costo_listino[\"Data_riferimento\"].values[0]\n",
    "else:\n",
    "    costo_listino = np.nan\n",
    "    data_riferimento = np.nan\n",
    "costo_listino, data_riferimento"
   ]
  },
  {
   "cell_type": "code",
   "execution_count": 12,
   "metadata": {},
   "outputs": [
    {
     "data": {
      "text/html": [
       "<div>\n",
       "<style scoped>\n",
       "    .dataframe tbody tr th:only-of-type {\n",
       "        vertical-align: middle;\n",
       "    }\n",
       "\n",
       "    .dataframe tbody tr th {\n",
       "        vertical-align: top;\n",
       "    }\n",
       "\n",
       "    .dataframe thead th {\n",
       "        text-align: right;\n",
       "    }\n",
       "</style>\n",
       "<table border=\"1\" class=\"dataframe\">\n",
       "  <thead>\n",
       "    <tr style=\"text-align: right;\">\n",
       "      <th></th>\n",
       "      <th>Codice_articolo</th>\n",
       "      <th>Codice_variante</th>\n",
       "      <th>Costo</th>\n",
       "      <th>Data_riferimento</th>\n",
       "    </tr>\n",
       "  </thead>\n",
       "  <tbody>\n",
       "    <tr>\n",
       "      <th>2462</th>\n",
       "      <td>090.VST33</td>\n",
       "      <td>1</td>\n",
       "      <td>24.5</td>\n",
       "      <td>2023-08</td>\n",
       "    </tr>\n",
       "    <tr>\n",
       "      <th>2463</th>\n",
       "      <td>090.VST33</td>\n",
       "      <td>2</td>\n",
       "      <td>24.5</td>\n",
       "      <td>2023-08</td>\n",
       "    </tr>\n",
       "    <tr>\n",
       "      <th>2464</th>\n",
       "      <td>090.VST33</td>\n",
       "      <td>3</td>\n",
       "      <td>24.5</td>\n",
       "      <td>2023-08</td>\n",
       "    </tr>\n",
       "    <tr>\n",
       "      <th>2465</th>\n",
       "      <td>090.VST33</td>\n",
       "      <td>4</td>\n",
       "      <td>24.5</td>\n",
       "      <td>2023-08</td>\n",
       "    </tr>\n",
       "    <tr>\n",
       "      <th>2466</th>\n",
       "      <td>090.VST33</td>\n",
       "      <td>5</td>\n",
       "      <td>24.5</td>\n",
       "      <td>2023-08</td>\n",
       "    </tr>\n",
       "    <tr>\n",
       "      <th>...</th>\n",
       "      <td>...</td>\n",
       "      <td>...</td>\n",
       "      <td>...</td>\n",
       "      <td>...</td>\n",
       "    </tr>\n",
       "    <tr>\n",
       "      <th>2566</th>\n",
       "      <td>090.VST33</td>\n",
       "      <td>766</td>\n",
       "      <td>24.5</td>\n",
       "      <td>2023-11</td>\n",
       "    </tr>\n",
       "    <tr>\n",
       "      <th>2567</th>\n",
       "      <td>090.VST33</td>\n",
       "      <td>767</td>\n",
       "      <td>24.5</td>\n",
       "      <td>2023-11</td>\n",
       "    </tr>\n",
       "    <tr>\n",
       "      <th>2568</th>\n",
       "      <td>090.VST33</td>\n",
       "      <td>768</td>\n",
       "      <td>24.5</td>\n",
       "      <td>2023-11</td>\n",
       "    </tr>\n",
       "    <tr>\n",
       "      <th>2569</th>\n",
       "      <td>090.VST33</td>\n",
       "      <td>769</td>\n",
       "      <td>24.5</td>\n",
       "      <td>2023-11</td>\n",
       "    </tr>\n",
       "    <tr>\n",
       "      <th>2570</th>\n",
       "      <td>090.VST33</td>\n",
       "      <td>0</td>\n",
       "      <td>24.5</td>\n",
       "      <td>2023-08</td>\n",
       "    </tr>\n",
       "  </tbody>\n",
       "</table>\n",
       "<p>109 rows × 4 columns</p>\n",
       "</div>"
      ],
      "text/plain": [
       "     Codice_articolo  Codice_variante  Costo Data_riferimento\n",
       "2462       090.VST33                1   24.5          2023-08\n",
       "2463       090.VST33                2   24.5          2023-08\n",
       "2464       090.VST33                3   24.5          2023-08\n",
       "2465       090.VST33                4   24.5          2023-08\n",
       "2466       090.VST33                5   24.5          2023-08\n",
       "...              ...              ...    ...              ...\n",
       "2566       090.VST33              766   24.5          2023-11\n",
       "2567       090.VST33              767   24.5          2023-11\n",
       "2568       090.VST33              768   24.5          2023-11\n",
       "2569       090.VST33              769   24.5          2023-11\n",
       "2570       090.VST33                0   24.5          2023-08\n",
       "\n",
       "[109 rows x 4 columns]"
      ]
     },
     "execution_count": 12,
     "metadata": {},
     "output_type": "execute_result"
    }
   ],
   "source": [
    "df_costo_listino_original = df_listino_original[(df_listino_original[\"Codice_articolo\"] == codice)]\n",
    "df_costo_listino_original"
   ]
  },
  {
   "cell_type": "code",
   "execution_count": 13,
   "metadata": {},
   "outputs": [
    {
     "data": {
      "text/plain": [
       "(24.5, Period('2023-08', 'M'))"
      ]
     },
     "execution_count": 13,
     "metadata": {},
     "output_type": "execute_result"
    }
   ],
   "source": [
    "if not df_costo_listino_original.empty:\n",
    "    costo_listino_original = df_costo_listino_original[\"Costo\"].values[0]\n",
    "    data_riferimento_original = df_costo_listino_original[\"Data_riferimento\"].values[0]\n",
    "else:\n",
    "    costo_listino_original = np.nan\n",
    "    data_riferimento_original = np.nan\n",
    "costo_listino_original, data_riferimento_original"
   ]
  },
  {
   "cell_type": "code",
   "execution_count": 14,
   "metadata": {},
   "outputs": [
    {
     "ename": "TypeError",
     "evalue": "ufunc 'isnan' not supported for the input types, and the inputs could not be safely coerced to any supported types according to the casting rule ''safe''",
     "output_type": "error",
     "traceback": [
      "\u001b[0;31m---------------------------------------------------------------------------\u001b[0m",
      "\u001b[0;31mTypeError\u001b[0m                                 Traceback (most recent call last)",
      "Cell \u001b[0;32mIn[14], line 13\u001b[0m\n\u001b[1;32m     11\u001b[0m df_codice[\u001b[38;5;124m\"\u001b[39m\u001b[38;5;124mCosto_listino\u001b[39m\u001b[38;5;124m\"\u001b[39m] \u001b[38;5;241m=\u001b[39m costo_listino_original\n\u001b[1;32m     12\u001b[0m \u001b[38;5;66;03m# for dates prior to the listino date, set costo listino to nan to avoid plotting\u001b[39;00m\n\u001b[0;32m---> 13\u001b[0m \u001b[38;5;28;01mif\u001b[39;00m \u001b[43mnp\u001b[49m\u001b[38;5;241;43m.\u001b[39;49m\u001b[43misnan\u001b[49m\u001b[43m(\u001b[49m\u001b[43mdata_riferimento_original\u001b[49m\u001b[43m)\u001b[49m:\n\u001b[1;32m     14\u001b[0m     data_riferimento_original \u001b[38;5;241m=\u001b[39m df_codice\u001b[38;5;241m.\u001b[39mindex[\u001b[38;5;241m0\u001b[39m]\n\u001b[1;32m     15\u001b[0m \u001b[38;5;28mprint\u001b[39m(data_riferimento_original)\n",
      "\u001b[0;31mTypeError\u001b[0m: ufunc 'isnan' not supported for the input types, and the inputs could not be safely coerced to any supported types according to the casting rule ''safe''"
     ]
    }
   ],
   "source": [
    "df_codice = df_ddt[(df_ddt[\"Codice_articolo\"] == codice)][[\"Data_documento\", \"Prezzo_netto_vu\"]].copy()\n",
    "# remove day from date, keep only month and year\n",
    "df_codice[\"Data_documento\"] = pd.to_datetime(df_codice[\"Data_documento\"]).dt.to_period(\"M\")\n",
    "# average by month\n",
    "df_codice = df_codice.groupby(\"Data_documento\").mean()\n",
    "# fill missing months\n",
    "df_codice = df_codice.reindex(pd.period_range(start=df_codice.index.min(), end=df_codice.index.max(), freq=\"M\"))\n",
    "df_codice = df_codice.ffill() #df_codice.fillna(0) #\n",
    "df_codice[\"Prezzo_netto_vu\"] = df_codice[\"Prezzo_netto_vu\"].round(2)\n",
    "#df_027[\"MA\"] = df_027[\"Prezzo_netto_vu\"].rolling(window=20).mean()\n",
    "df_codice[\"Costo_listino\"] = costo_listino_original\n",
    "# for dates prior to the listino date, set costo listino to nan to avoid plotting\n",
    "if np.isnan(data_riferimento_original):\n",
    "    data_riferimento_original = df_codice.index[0]\n",
    "print(data_riferimento_original)\n",
    "df_codice.loc[df_codice.index < data_riferimento_original, \"Costo_listino\"] = np.nan\n",
    "df_codice"
   ]
  },
  {
   "cell_type": "code",
   "execution_count": null,
   "metadata": {},
   "outputs": [
    {
     "data": {
      "application/vnd.plotly.v1+json": {
       "config": {
        "plotlyServerURL": "https://plot.ly"
       },
       "data": [
        {
         "hovertemplate": "variable=Prezzo_netto_vu<br>x=%{x}<br>value=%{y}<extra></extra>",
         "legendgroup": "Prezzo_netto_vu",
         "line": {
          "color": "#636efa",
          "dash": "solid"
         },
         "marker": {
          "symbol": "circle"
         },
         "mode": "lines+markers",
         "name": "Prezzo_netto_vu",
         "orientation": "v",
         "showlegend": true,
         "textposition": "top center",
         "type": "scatter",
         "x": [
          "2020-11-01T00:00:00",
          "2020-12-01T00:00:00",
          "2021-01-01T00:00:00",
          "2021-02-01T00:00:00",
          "2021-03-01T00:00:00",
          "2021-04-01T00:00:00",
          "2021-05-01T00:00:00"
         ],
         "xaxis": "x",
         "y": [
          15,
          15,
          15,
          16,
          16,
          16,
          16
         ],
         "yaxis": "y"
        },
        {
         "hovertemplate": "variable=Costo_listino<br>x=%{x}<br>value=%{y}<extra></extra>",
         "legendgroup": "Costo_listino",
         "line": {
          "color": "#EF553B",
          "dash": "solid"
         },
         "marker": {
          "symbol": "circle"
         },
         "mode": "lines+markers",
         "name": "Costo_listino",
         "orientation": "v",
         "showlegend": true,
         "textposition": "top center",
         "type": "scatter",
         "x": [
          "2020-11-01T00:00:00",
          "2020-12-01T00:00:00",
          "2021-01-01T00:00:00",
          "2021-02-01T00:00:00",
          "2021-03-01T00:00:00",
          "2021-04-01T00:00:00",
          "2021-05-01T00:00:00"
         ],
         "xaxis": "x",
         "y": [
          null,
          null,
          null,
          null,
          null,
          null,
          null
         ],
         "yaxis": "y"
        }
       ],
       "layout": {
        "legend": {
         "title": {
          "text": "variable"
         },
         "tracegroupgap": 0
        },
        "template": {
         "data": {
          "bar": [
           {
            "error_x": {
             "color": "#2a3f5f"
            },
            "error_y": {
             "color": "#2a3f5f"
            },
            "marker": {
             "line": {
              "color": "white",
              "width": 0.5
             },
             "pattern": {
              "fillmode": "overlay",
              "size": 10,
              "solidity": 0.2
             }
            },
            "type": "bar"
           }
          ],
          "barpolar": [
           {
            "marker": {
             "line": {
              "color": "white",
              "width": 0.5
             },
             "pattern": {
              "fillmode": "overlay",
              "size": 10,
              "solidity": 0.2
             }
            },
            "type": "barpolar"
           }
          ],
          "carpet": [
           {
            "aaxis": {
             "endlinecolor": "#2a3f5f",
             "gridcolor": "#C8D4E3",
             "linecolor": "#C8D4E3",
             "minorgridcolor": "#C8D4E3",
             "startlinecolor": "#2a3f5f"
            },
            "baxis": {
             "endlinecolor": "#2a3f5f",
             "gridcolor": "#C8D4E3",
             "linecolor": "#C8D4E3",
             "minorgridcolor": "#C8D4E3",
             "startlinecolor": "#2a3f5f"
            },
            "type": "carpet"
           }
          ],
          "choropleth": [
           {
            "colorbar": {
             "outlinewidth": 0,
             "ticks": ""
            },
            "type": "choropleth"
           }
          ],
          "contour": [
           {
            "colorbar": {
             "outlinewidth": 0,
             "ticks": ""
            },
            "colorscale": [
             [
              0,
              "#0d0887"
             ],
             [
              0.1111111111111111,
              "#46039f"
             ],
             [
              0.2222222222222222,
              "#7201a8"
             ],
             [
              0.3333333333333333,
              "#9c179e"
             ],
             [
              0.4444444444444444,
              "#bd3786"
             ],
             [
              0.5555555555555556,
              "#d8576b"
             ],
             [
              0.6666666666666666,
              "#ed7953"
             ],
             [
              0.7777777777777778,
              "#fb9f3a"
             ],
             [
              0.8888888888888888,
              "#fdca26"
             ],
             [
              1,
              "#f0f921"
             ]
            ],
            "type": "contour"
           }
          ],
          "contourcarpet": [
           {
            "colorbar": {
             "outlinewidth": 0,
             "ticks": ""
            },
            "type": "contourcarpet"
           }
          ],
          "heatmap": [
           {
            "colorbar": {
             "outlinewidth": 0,
             "ticks": ""
            },
            "colorscale": [
             [
              0,
              "#0d0887"
             ],
             [
              0.1111111111111111,
              "#46039f"
             ],
             [
              0.2222222222222222,
              "#7201a8"
             ],
             [
              0.3333333333333333,
              "#9c179e"
             ],
             [
              0.4444444444444444,
              "#bd3786"
             ],
             [
              0.5555555555555556,
              "#d8576b"
             ],
             [
              0.6666666666666666,
              "#ed7953"
             ],
             [
              0.7777777777777778,
              "#fb9f3a"
             ],
             [
              0.8888888888888888,
              "#fdca26"
             ],
             [
              1,
              "#f0f921"
             ]
            ],
            "type": "heatmap"
           }
          ],
          "heatmapgl": [
           {
            "colorbar": {
             "outlinewidth": 0,
             "ticks": ""
            },
            "colorscale": [
             [
              0,
              "#0d0887"
             ],
             [
              0.1111111111111111,
              "#46039f"
             ],
             [
              0.2222222222222222,
              "#7201a8"
             ],
             [
              0.3333333333333333,
              "#9c179e"
             ],
             [
              0.4444444444444444,
              "#bd3786"
             ],
             [
              0.5555555555555556,
              "#d8576b"
             ],
             [
              0.6666666666666666,
              "#ed7953"
             ],
             [
              0.7777777777777778,
              "#fb9f3a"
             ],
             [
              0.8888888888888888,
              "#fdca26"
             ],
             [
              1,
              "#f0f921"
             ]
            ],
            "type": "heatmapgl"
           }
          ],
          "histogram": [
           {
            "marker": {
             "pattern": {
              "fillmode": "overlay",
              "size": 10,
              "solidity": 0.2
             }
            },
            "type": "histogram"
           }
          ],
          "histogram2d": [
           {
            "colorbar": {
             "outlinewidth": 0,
             "ticks": ""
            },
            "colorscale": [
             [
              0,
              "#0d0887"
             ],
             [
              0.1111111111111111,
              "#46039f"
             ],
             [
              0.2222222222222222,
              "#7201a8"
             ],
             [
              0.3333333333333333,
              "#9c179e"
             ],
             [
              0.4444444444444444,
              "#bd3786"
             ],
             [
              0.5555555555555556,
              "#d8576b"
             ],
             [
              0.6666666666666666,
              "#ed7953"
             ],
             [
              0.7777777777777778,
              "#fb9f3a"
             ],
             [
              0.8888888888888888,
              "#fdca26"
             ],
             [
              1,
              "#f0f921"
             ]
            ],
            "type": "histogram2d"
           }
          ],
          "histogram2dcontour": [
           {
            "colorbar": {
             "outlinewidth": 0,
             "ticks": ""
            },
            "colorscale": [
             [
              0,
              "#0d0887"
             ],
             [
              0.1111111111111111,
              "#46039f"
             ],
             [
              0.2222222222222222,
              "#7201a8"
             ],
             [
              0.3333333333333333,
              "#9c179e"
             ],
             [
              0.4444444444444444,
              "#bd3786"
             ],
             [
              0.5555555555555556,
              "#d8576b"
             ],
             [
              0.6666666666666666,
              "#ed7953"
             ],
             [
              0.7777777777777778,
              "#fb9f3a"
             ],
             [
              0.8888888888888888,
              "#fdca26"
             ],
             [
              1,
              "#f0f921"
             ]
            ],
            "type": "histogram2dcontour"
           }
          ],
          "mesh3d": [
           {
            "colorbar": {
             "outlinewidth": 0,
             "ticks": ""
            },
            "type": "mesh3d"
           }
          ],
          "parcoords": [
           {
            "line": {
             "colorbar": {
              "outlinewidth": 0,
              "ticks": ""
             }
            },
            "type": "parcoords"
           }
          ],
          "pie": [
           {
            "automargin": true,
            "type": "pie"
           }
          ],
          "scatter": [
           {
            "fillpattern": {
             "fillmode": "overlay",
             "size": 10,
             "solidity": 0.2
            },
            "type": "scatter"
           }
          ],
          "scatter3d": [
           {
            "line": {
             "colorbar": {
              "outlinewidth": 0,
              "ticks": ""
             }
            },
            "marker": {
             "colorbar": {
              "outlinewidth": 0,
              "ticks": ""
             }
            },
            "type": "scatter3d"
           }
          ],
          "scattercarpet": [
           {
            "marker": {
             "colorbar": {
              "outlinewidth": 0,
              "ticks": ""
             }
            },
            "type": "scattercarpet"
           }
          ],
          "scattergeo": [
           {
            "marker": {
             "colorbar": {
              "outlinewidth": 0,
              "ticks": ""
             }
            },
            "type": "scattergeo"
           }
          ],
          "scattergl": [
           {
            "marker": {
             "colorbar": {
              "outlinewidth": 0,
              "ticks": ""
             }
            },
            "type": "scattergl"
           }
          ],
          "scattermapbox": [
           {
            "marker": {
             "colorbar": {
              "outlinewidth": 0,
              "ticks": ""
             }
            },
            "type": "scattermapbox"
           }
          ],
          "scatterpolar": [
           {
            "marker": {
             "colorbar": {
              "outlinewidth": 0,
              "ticks": ""
             }
            },
            "type": "scatterpolar"
           }
          ],
          "scatterpolargl": [
           {
            "marker": {
             "colorbar": {
              "outlinewidth": 0,
              "ticks": ""
             }
            },
            "type": "scatterpolargl"
           }
          ],
          "scatterternary": [
           {
            "marker": {
             "colorbar": {
              "outlinewidth": 0,
              "ticks": ""
             }
            },
            "type": "scatterternary"
           }
          ],
          "surface": [
           {
            "colorbar": {
             "outlinewidth": 0,
             "ticks": ""
            },
            "colorscale": [
             [
              0,
              "#0d0887"
             ],
             [
              0.1111111111111111,
              "#46039f"
             ],
             [
              0.2222222222222222,
              "#7201a8"
             ],
             [
              0.3333333333333333,
              "#9c179e"
             ],
             [
              0.4444444444444444,
              "#bd3786"
             ],
             [
              0.5555555555555556,
              "#d8576b"
             ],
             [
              0.6666666666666666,
              "#ed7953"
             ],
             [
              0.7777777777777778,
              "#fb9f3a"
             ],
             [
              0.8888888888888888,
              "#fdca26"
             ],
             [
              1,
              "#f0f921"
             ]
            ],
            "type": "surface"
           }
          ],
          "table": [
           {
            "cells": {
             "fill": {
              "color": "#EBF0F8"
             },
             "line": {
              "color": "white"
             }
            },
            "header": {
             "fill": {
              "color": "#C8D4E3"
             },
             "line": {
              "color": "white"
             }
            },
            "type": "table"
           }
          ]
         },
         "layout": {
          "annotationdefaults": {
           "arrowcolor": "#2a3f5f",
           "arrowhead": 0,
           "arrowwidth": 1
          },
          "autotypenumbers": "strict",
          "coloraxis": {
           "colorbar": {
            "outlinewidth": 0,
            "ticks": ""
           }
          },
          "colorscale": {
           "diverging": [
            [
             0,
             "#8e0152"
            ],
            [
             0.1,
             "#c51b7d"
            ],
            [
             0.2,
             "#de77ae"
            ],
            [
             0.3,
             "#f1b6da"
            ],
            [
             0.4,
             "#fde0ef"
            ],
            [
             0.5,
             "#f7f7f7"
            ],
            [
             0.6,
             "#e6f5d0"
            ],
            [
             0.7,
             "#b8e186"
            ],
            [
             0.8,
             "#7fbc41"
            ],
            [
             0.9,
             "#4d9221"
            ],
            [
             1,
             "#276419"
            ]
           ],
           "sequential": [
            [
             0,
             "#0d0887"
            ],
            [
             0.1111111111111111,
             "#46039f"
            ],
            [
             0.2222222222222222,
             "#7201a8"
            ],
            [
             0.3333333333333333,
             "#9c179e"
            ],
            [
             0.4444444444444444,
             "#bd3786"
            ],
            [
             0.5555555555555556,
             "#d8576b"
            ],
            [
             0.6666666666666666,
             "#ed7953"
            ],
            [
             0.7777777777777778,
             "#fb9f3a"
            ],
            [
             0.8888888888888888,
             "#fdca26"
            ],
            [
             1,
             "#f0f921"
            ]
           ],
           "sequentialminus": [
            [
             0,
             "#0d0887"
            ],
            [
             0.1111111111111111,
             "#46039f"
            ],
            [
             0.2222222222222222,
             "#7201a8"
            ],
            [
             0.3333333333333333,
             "#9c179e"
            ],
            [
             0.4444444444444444,
             "#bd3786"
            ],
            [
             0.5555555555555556,
             "#d8576b"
            ],
            [
             0.6666666666666666,
             "#ed7953"
            ],
            [
             0.7777777777777778,
             "#fb9f3a"
            ],
            [
             0.8888888888888888,
             "#fdca26"
            ],
            [
             1,
             "#f0f921"
            ]
           ]
          },
          "colorway": [
           "#636efa",
           "#EF553B",
           "#00cc96",
           "#ab63fa",
           "#FFA15A",
           "#19d3f3",
           "#FF6692",
           "#B6E880",
           "#FF97FF",
           "#FECB52"
          ],
          "font": {
           "color": "#2a3f5f"
          },
          "geo": {
           "bgcolor": "white",
           "lakecolor": "white",
           "landcolor": "white",
           "showlakes": true,
           "showland": true,
           "subunitcolor": "#C8D4E3"
          },
          "hoverlabel": {
           "align": "left"
          },
          "hovermode": "closest",
          "mapbox": {
           "style": "light"
          },
          "paper_bgcolor": "white",
          "plot_bgcolor": "white",
          "polar": {
           "angularaxis": {
            "gridcolor": "#EBF0F8",
            "linecolor": "#EBF0F8",
            "ticks": ""
           },
           "bgcolor": "white",
           "radialaxis": {
            "gridcolor": "#EBF0F8",
            "linecolor": "#EBF0F8",
            "ticks": ""
           }
          },
          "scene": {
           "xaxis": {
            "backgroundcolor": "white",
            "gridcolor": "#DFE8F3",
            "gridwidth": 2,
            "linecolor": "#EBF0F8",
            "showbackground": true,
            "ticks": "",
            "zerolinecolor": "#EBF0F8"
           },
           "yaxis": {
            "backgroundcolor": "white",
            "gridcolor": "#DFE8F3",
            "gridwidth": 2,
            "linecolor": "#EBF0F8",
            "showbackground": true,
            "ticks": "",
            "zerolinecolor": "#EBF0F8"
           },
           "zaxis": {
            "backgroundcolor": "white",
            "gridcolor": "#DFE8F3",
            "gridwidth": 2,
            "linecolor": "#EBF0F8",
            "showbackground": true,
            "ticks": "",
            "zerolinecolor": "#EBF0F8"
           }
          },
          "shapedefaults": {
           "line": {
            "color": "#2a3f5f"
           }
          },
          "ternary": {
           "aaxis": {
            "gridcolor": "#DFE8F3",
            "linecolor": "#A2B1C6",
            "ticks": ""
           },
           "baxis": {
            "gridcolor": "#DFE8F3",
            "linecolor": "#A2B1C6",
            "ticks": ""
           },
           "bgcolor": "white",
           "caxis": {
            "gridcolor": "#DFE8F3",
            "linecolor": "#A2B1C6",
            "ticks": ""
           }
          },
          "title": {
           "x": 0.05
          },
          "xaxis": {
           "automargin": true,
           "gridcolor": "#EBF0F8",
           "linecolor": "#EBF0F8",
           "ticks": "",
           "title": {
            "standoff": 15
           },
           "zerolinecolor": "#EBF0F8",
           "zerolinewidth": 2
          },
          "yaxis": {
           "automargin": true,
           "gridcolor": "#EBF0F8",
           "linecolor": "#EBF0F8",
           "ticks": "",
           "title": {
            "standoff": 15
           },
           "zerolinecolor": "#EBF0F8",
           "zerolinewidth": 2
          }
         }
        },
        "title": {
         "text": "Prezzo Netto VU medio mese prodotto codice: 090.VST33, variante: 357"
        },
        "xaxis": {
         "anchor": "y",
         "domain": [
          0,
          1
         ],
         "title": {
          "text": "x"
         }
        },
        "yaxis": {
         "anchor": "x",
         "domain": [
          0,
          1
         ],
         "range": [
          0,
          17.6
         ],
         "title": {
          "text": "value"
         }
        }
       }
      }
     },
     "metadata": {},
     "output_type": "display_data"
    }
   ],
   "source": [
    "fig = px.line(df_codice, x=df_codice.index.to_timestamp() ,\n",
    "               y=['Prezzo_netto_vu', \"Costo_listino\"], template='plotly_white', title=f'Prezzo Netto VU medio mese prodotto codice: {codice}',\n",
    "                 markers=True, range_y=[0, df_codice[\"Prezzo_netto_vu\"].max()*1.1])\n",
    "fig.update_traces(textposition='top center')\n",
    "fig.show()"
   ]
  }
 ],
 "metadata": {
  "kernelspec": {
   "display_name": "env",
   "language": "python",
   "name": "python3"
  },
  "language_info": {
   "codemirror_mode": {
    "name": "ipython",
    "version": 3
   },
   "file_extension": ".py",
   "mimetype": "text/x-python",
   "name": "python",
   "nbconvert_exporter": "python",
   "pygments_lexer": "ipython3",
   "version": "3.10.12"
  }
 },
 "nbformat": 4,
 "nbformat_minor": 2
}
