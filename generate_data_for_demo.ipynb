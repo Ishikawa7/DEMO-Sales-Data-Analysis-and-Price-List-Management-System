{
 "cells": [
  {
   "cell_type": "code",
   "execution_count": 3,
   "metadata": {},
   "outputs": [],
   "source": [
    "import pandas as pd\n",
    "import numpy as np"
   ]
  },
  {
   "cell_type": "code",
   "execution_count": 5,
   "metadata": {},
   "outputs": [],
   "source": [
    "df_listino = pd.read_csv('data_demo/art_costi.csv')\n",
    "df_ddt = pd.read_csv('data_demo/ddt_righe.csv')\n",
    "\n",
    "df_ddt = df_ddt[df_ddt[\"Data_documento\"] > \"2024-02-18\"]\n",
    "# remove from listino al the products that are not in the ddt\n",
    "df_listino = df_listino[df_listino[\"Codice_articolo\"].isin(df_ddt[\"Codice_articolo\"])]"
   ]
  },
  {
   "cell_type": "code",
   "execution_count": 6,
   "metadata": {},
   "outputs": [
    {
     "data": {
      "text/html": [
       "<div>\n",
       "<style scoped>\n",
       "    .dataframe tbody tr th:only-of-type {\n",
       "        vertical-align: middle;\n",
       "    }\n",
       "\n",
       "    .dataframe tbody tr th {\n",
       "        vertical-align: top;\n",
       "    }\n",
       "\n",
       "    .dataframe thead th {\n",
       "        text-align: right;\n",
       "    }\n",
       "</style>\n",
       "<table border=\"1\" class=\"dataframe\">\n",
       "  <thead>\n",
       "    <tr style=\"text-align: right;\">\n",
       "      <th></th>\n",
       "      <th>Codice_articolo</th>\n",
       "      <th>Codice_variante</th>\n",
       "      <th>Descrizione</th>\n",
       "      <th>Costo</th>\n",
       "      <th>Data_riferimento</th>\n",
       "      <th>Categoria</th>\n",
       "    </tr>\n",
       "  </thead>\n",
       "  <tbody>\n",
       "    <tr>\n",
       "      <th>26</th>\n",
       "      <td>017.PM152</td>\n",
       "      <td>1</td>\n",
       "      <td>VETRO STRATIFICATO 33.1</td>\n",
       "      <td>30.5</td>\n",
       "      <td>2023-08-28</td>\n",
       "      <td>Vetri</td>\n",
       "    </tr>\n",
       "    <tr>\n",
       "      <th>27</th>\n",
       "      <td>017.PM152</td>\n",
       "      <td>2</td>\n",
       "      <td>VETRO STRATIFICATO 33.1</td>\n",
       "      <td>18.0</td>\n",
       "      <td>2023-08-28</td>\n",
       "      <td>Vetri</td>\n",
       "    </tr>\n",
       "    <tr>\n",
       "      <th>28</th>\n",
       "      <td>017.PM152</td>\n",
       "      <td>3</td>\n",
       "      <td>VETRO STRATIFICATO 33.1</td>\n",
       "      <td>30.5</td>\n",
       "      <td>2023-08-28</td>\n",
       "      <td>Vetri</td>\n",
       "    </tr>\n",
       "    <tr>\n",
       "      <th>29</th>\n",
       "      <td>017.PM152</td>\n",
       "      <td>4</td>\n",
       "      <td>VETRO STRATIFICATO 33.1</td>\n",
       "      <td>18.0</td>\n",
       "      <td>2023-08-28</td>\n",
       "      <td>Vetri</td>\n",
       "    </tr>\n",
       "    <tr>\n",
       "      <th>30</th>\n",
       "      <td>017.PM152</td>\n",
       "      <td>5</td>\n",
       "      <td>VETRO STRATIFICATO 33.1</td>\n",
       "      <td>18.0</td>\n",
       "      <td>2023-08-28</td>\n",
       "      <td>Vetri</td>\n",
       "    </tr>\n",
       "  </tbody>\n",
       "</table>\n",
       "</div>"
      ],
      "text/plain": [
       "   Codice_articolo  Codice_variante              Descrizione  Costo  \\\n",
       "26       017.PM152                1  VETRO STRATIFICATO 33.1   30.5   \n",
       "27       017.PM152                2  VETRO STRATIFICATO 33.1   18.0   \n",
       "28       017.PM152                3  VETRO STRATIFICATO 33.1   30.5   \n",
       "29       017.PM152                4  VETRO STRATIFICATO 33.1   18.0   \n",
       "30       017.PM152                5  VETRO STRATIFICATO 33.1   18.0   \n",
       "\n",
       "   Data_riferimento Categoria  \n",
       "26       2023-08-28     Vetri  \n",
       "27       2023-08-28     Vetri  \n",
       "28       2023-08-28     Vetri  \n",
       "29       2023-08-28     Vetri  \n",
       "30       2023-08-28     Vetri  "
      ]
     },
     "execution_count": 6,
     "metadata": {},
     "output_type": "execute_result"
    }
   ],
   "source": [
    "df_listino.head()"
   ]
  },
  {
   "cell_type": "code",
   "execution_count": 2,
   "metadata": {},
   "outputs": [],
   "source": [
    "dict_entities = {}\n",
    "ids_products_list = []\n",
    "ids_clienti_list = []\n",
    "ids_azien_list = []"
   ]
  },
  {
   "cell_type": "code",
   "execution_count": null,
   "metadata": {},
   "outputs": [],
   "source": [
    "# prodotti in listino\n",
    "for index in len(df_listino):\n",
    "    cod_articolo = df_listino.iloc[index][\"Codice_articolo\"]\n",
    "    ids_products_list.append(cod_articolo)\n",
    "    variante = df_listino.iloc[index][\"Variante\"]\n",
    "    costo = df_listino.iloc[index][\"Costo\"]\n",
    "    data_riferimento = df_listino.iloc[index][\"Data_riferimento\"]\n",
    "    categoria = df_listino.iloc[index][\"Categoria\"]\n",
    "    descrizione = df_listino.iloc[index][\"Descrizione\"]\n",
    "    dict_entities[cod_articolo] = {\n",
    "        \"cod_articolo\": cod_articolo,\n",
    "        \"variante\": variante,\n",
    "        \"costo\": costo,\n",
    "        \"data_riferimento\": data_riferimento,\n",
    "        \"categoria\": categoria,\n",
    "        \"descrizione\": descrizione\n",
    "    }"
   ]
  },
  {
   "cell_type": "code",
   "execution_count": null,
   "metadata": {},
   "outputs": [],
   "source": [
    "# prodotti inventati\n",
    "for index in range(20):\n",
    "    cod_articolo = \"prod_\"+str(index)\n",
    "    ids_products_list.append(cod_articolo)\n",
    "    variante = np.random.choice([0, 1, 2])\n",
    "    costo = np.random.uniform(10000, 20000)\n",
    "    data_riferimento = \"2024-03-17\"\n",
    "    categoria = \"level2\"\n",
    "    descrizione = \"prodotto inventato\"\n",
    "    dict_entities[cod_articolo] = {\n",
    "        \"cod_articolo\": cod_articolo,\n",
    "        \"variante\": variante,\n",
    "        \"costo\": costo,\n",
    "        \"data_riferimento\": data_riferimento,\n",
    "        \"categoria\": categoria,\n",
    "        \"descrizione\": descrizione\n",
    "    }"
   ]
  },
  {
   "cell_type": "code",
   "execution_count": null,
   "metadata": {},
   "outputs": [],
   "source": [
    "#fornitori e ddt\n",
    "for index in len(df_ddt):\n",
    "    cod_fornitore = df_ddt.iloc[index][\"COD_CF_Fornitore\"]\n",
    "    dict_entities[cod_fornitore] = {\n",
    "        \"cod_fornitore\": cod_fornitore\n",
    "    }\n",
    "    data_documento = df_ddt.iloc[index][\"Data_documento\"]\n",
    "    id_documento = df_ddt.iloc[index][\"ID_documento\"]\n",
    "    descrizione = df_ddt.iloc[index][\"Descrizione\"]\n",
    "    codice_articolo = df_ddt.iloc[index][\"Codice_articolo\"]\n",
    "    codice_variante = df_ddt.iloc[index][\"Codice_variante\"]\n",
    "    codice_categoria = df_ddt.iloc[index][\"Codice_categoria\"]\n",
    "    unita_misura = df_ddt.iloc[index][\"Unita_misura\"]\n",
    "    quantita_um = df_ddt.iloc[index][\"Quantita_um\"]\n",
    "    prezzo_netto_vu = df_ddt.iloc[index][\"Prezzo_netto_vu\"]\n",
    "    importo = df_ddt.iloc[index][\"importo\"]\n",
    "\n",
    "    if id_documento not in dict_entities:\n",
    "        dict_entities[id_documento] = {\n",
    "            \"data_documento\": data_documento,\n",
    "            \"id_documento\": id_documento,\n",
    "            \"venduto\": [],\n",
    "            \"importo\": importo\n",
    "        }\n",
    "    dict_entities[id_documento].append(\n",
    "        {\n",
    "        \"codice_articolo\": codice_articolo,\n",
    "        \"codice_variante\": codice_variante,\n",
    "        \"descrizione\": descrizione,\n",
    "        \"codice_categoria\": codice_categoria,\n",
    "        \"unita_misura\": unita_misura,\n",
    "        \"quantita_um\": quantita_um,\n",
    "        \"prezzo_netto_vu\": prezzo_netto_vu,\n",
    "        }\n",
    "    )"
   ]
  },
  {
   "cell_type": "code",
   "execution_count": null,
   "metadata": {},
   "outputs": [],
   "source": [
    "#clienti\n",
    "for i in range(60):\n",
    "    dict_entities[\"cliente_\"+i] = { \"id_cliente\": \"cliente_\"+i}\n",
    "    ids_clienti_list.append(\"cliente_\"+i)"
   ]
  },
  {
   "cell_type": "code",
   "execution_count": null,
   "metadata": {},
   "outputs": [],
   "source": [
    "# aziende\n",
    "for i in range(3):\n",
    "    dict_entities[\"mangini\"+i] = { \"id_azienda\": \"mangini\"+i}\n",
    "    ids_azien_list.append(\"mangini\"+i)"
   ]
  },
  {
   "cell_type": "code",
   "execution_count": null,
   "metadata": {},
   "outputs": [],
   "source": [
    "# preventivi\n",
    "for i in range(35):\n",
    "    dict_entities[\"preventivo_\"+i] = { \"id_preventivo\": \"preventivo_\"+i}"
   ]
  },
  {
   "cell_type": "code",
   "execution_count": null,
   "metadata": {},
   "outputs": [],
   "source": [
    "# fatture\n",
    "for i in range(70):\n",
    "    data_documento =  \"2024-03-17\"\n",
    "    id_documento = \"fattura_\"+str(i)\n",
    "    descrizione = \"fattura inventata\"\n",
    "    id_cliente = np.random.choice(ids_clienti_list)\n",
    "    id_azienda = np.random.choice(ids_azien_list)\n",
    "    products_list = []\n",
    "    for j in range(np.random.randint(1, 5)):\n",
    "        # chose a random product\n",
    "        codice_articolo = np.random.choice(ids_products_list)\n",
    "        product = dict_entities[codice_articolo]\n",
    "        codice_variante = product[\"variante\"]\n",
    "        costo = product[\"costo\"]\n",
    "        categoria = product[\"categoria\"]\n",
    "        prezzo_netto_vu = costo + np.random.uniform(-0.25, 0.5)\n",
    "        product_dict = {\n",
    "            \"codice_articolo\": codice_articolo,\n",
    "            \"codice_variante\": codice_variante,\n",
    "            \"codice_categoria\": categoria,\n",
    "            \"prezzo_netto_vu\": prezzo_netto_vu,\n",
    "        }\n",
    "        products_list.append(product_dict)\n",
    "\n",
    "    importo = sum([product[\"prezzo_netto_vu\"] for product in products_list])\n",
    "\n",
    "    dict_entities[id_documento] = {\n",
    "        \"data_documento\": data_documento,\n",
    "        \"id_documento\": id_documento,\n",
    "        \"venduto\": products_list,\n",
    "        \"importo\": importo,\n",
    "        \"id_cliente\": id_cliente,\n",
    "        \"id_azienda\": id_azienda\n",
    "        }"
   ]
  },
  {
   "cell_type": "code",
   "execution_count": null,
   "metadata": {},
   "outputs": [],
   "source": []
  },
  {
   "cell_type": "code",
   "execution_count": null,
   "metadata": {},
   "outputs": [],
   "source": []
  },
  {
   "cell_type": "code",
   "execution_count": null,
   "metadata": {},
   "outputs": [],
   "source": []
  }
 ],
 "metadata": {
  "kernelspec": {
   "display_name": "Python 3",
   "language": "python",
   "name": "python3"
  },
  "language_info": {
   "codemirror_mode": {
    "name": "ipython",
    "version": 3
   },
   "file_extension": ".py",
   "mimetype": "text/x-python",
   "name": "python",
   "nbconvert_exporter": "python",
   "pygments_lexer": "ipython3",
   "version": "3.10.12"
  }
 },
 "nbformat": 4,
 "nbformat_minor": 2
}
