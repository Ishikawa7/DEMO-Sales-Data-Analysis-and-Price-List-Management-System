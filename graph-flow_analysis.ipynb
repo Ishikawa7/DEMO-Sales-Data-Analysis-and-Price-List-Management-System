{
 "cells": [
  {
   "cell_type": "code",
   "execution_count": 1,
   "metadata": {},
   "outputs": [],
   "source": [
    "import pandas as pd\n",
    "import numpy as np\n",
    "import networkx as nx\n",
    "from pyvis.network import Network\n",
    "import json\n",
    "import plotly.express as px\n",
    "import plotly.graph_objects as go"
   ]
  },
  {
   "cell_type": "code",
   "execution_count": 2,
   "metadata": {},
   "outputs": [],
   "source": [
    "with open('dict_entities.json', 'r') as f:\n",
    "    db_dict = json.load(f)"
   ]
  },
  {
   "cell_type": "code",
   "execution_count": 3,
   "metadata": {},
   "outputs": [
    {
     "data": {
      "text/plain": [
       "{'prod_017.PM152': {'cod_articolo': '017.PM152',\n",
       "  'variante': 0,\n",
       "  'costo': 10000.0,\n",
       "  'data_riferimento': '2023-08-28',\n",
       "  'categoria': 'Vetri',\n",
       "  'descrizione': 'VETRO STRATIFICATO 33.1'},\n",
       " 'prod_090.VST33': {'cod_articolo': '090.VST33',\n",
       "  'variante': 0,\n",
       "  'costo': 24.5,\n",
       "  'data_riferimento': '2023-08-28',\n",
       "  'categoria': 'Vetri',\n",
       "  'descrizione': 'VETRO TRASPARENTE STRATIFICATO 3+3 F.G. ANTA INTELAIATA'},\n",
       " 'prod_090.VST55': {'cod_articolo': '090.VST55',\n",
       "  'variante': 0,\n",
       "  'costo': 37.0,\n",
       "  'data_riferimento': '2023-08-28',\n",
       "  'categoria': 'Vetri',\n",
       "  'descrizione': 'VETRO STRATIFICATO TRASPARENTE 5+5'},\n",
       " 'prod_045.OB.P1T': {'cod_articolo': '045.OB.P1T',\n",
       "  'variante': 0,\n",
       "  'costo': 75.0,\n",
       "  'data_riferimento': '2023-08-28',\n",
       "  'categoria': 'Visive',\n",
       "  'descrizione': \"VETROCAMERA OBLO' PER PORTA 400X700 R100 TRASPARENTE S45\"},\n",
       " 'prod_052.MP.VT.POR.TR.45.04': {'cod_articolo': '052.MP.VT.POR.TR.45.04',\n",
       "  'variante': 0,\n",
       "  'costo': 112.0,\n",
       "  'data_riferimento': '2023-08-28',\n",
       "  'categoria': 'Visive',\n",
       "  'descrizione': 'VETROCAMERA ANG. 90° TR. 904X950 SU PORTA SERIE 45'},\n",
       " 'prod_017.PM001': {'cod_articolo': '017.PM001',\n",
       "  'variante': 35,\n",
       "  'costo': 1.0,\n",
       "  'data_riferimento': '2023-08-28',\n",
       "  'categoria': 'MP Acciaio',\n",
       "  'descrizione': 'NASTRO ACCIAIO ZINCATO'},\n",
       " 'prod_017.PM507': {'cod_articolo': '017.PM507',\n",
       "  'variante': 0,\n",
       "  'costo': 0.0,\n",
       "  'data_riferimento': '2012-05-10',\n",
       "  'categoria': 'Accessori',\n",
       "  'descrizione': 'LAVORAZIONI ESTERNE (1 LIVELLO)'},\n",
       " 'prod_017.PM597': {'cod_articolo': '017.PM597',\n",
       "  'variante': 0,\n",
       "  'costo': 33.0,\n",
       "  'data_riferimento': '2022-12-07',\n",
       "  'categoria': 'Accessori',\n",
       "  'descrizione': 'MANIGLIONE HOPPE E5012 IN ACCIAIO INOX'},\n",
       " 'prod_prod_0': {'cod_articolo': 'prod_0',\n",
       "  'variante': 2,\n",
       "  'costo': 18408.3383272577,\n",
       "  'data_riferimento': '2024-03-17',\n",
       "  'categoria': 'level2',\n",
       "  'descrizione': 'prodotto inventato'},\n",
       " 'prod_prod_1': {'cod_articolo': 'prod_1',\n",
       "  'variante': 1,\n",
       "  'costo': 11235.789104166848,\n",
       "  'data_riferimento': '2024-03-17',\n",
       "  'categoria': 'level2',\n",
       "  'descrizione': 'prodotto inventato'},\n",
       " 'prod_prod_2': {'cod_articolo': 'prod_2',\n",
       "  'variante': 1,\n",
       "  'costo': 13474.000095120227,\n",
       "  'data_riferimento': '2024-03-17',\n",
       "  'categoria': 'level2',\n",
       "  'descrizione': 'prodotto inventato'},\n",
       " 'prod_prod_3': {'cod_articolo': 'prod_3',\n",
       "  'variante': 2,\n",
       "  'costo': 14926.49015874017,\n",
       "  'data_riferimento': '2024-03-17',\n",
       "  'categoria': 'level2',\n",
       "  'descrizione': 'prodotto inventato'},\n",
       " 'prod_prod_4': {'cod_articolo': 'prod_4',\n",
       "  'variante': 1,\n",
       "  'costo': 12627.763946386938,\n",
       "  'data_riferimento': '2024-03-17',\n",
       "  'categoria': 'level2',\n",
       "  'descrizione': 'prodotto inventato'},\n",
       " 'fornitore_1964': {'cod_fornitore': 1964},\n",
       " 'documento_2024-BADDV-0000404': {'data_documento': '2024-03-12',\n",
       "  'id_documento': '2024-BADDV-0000404',\n",
       "  'venduto': [{'codice_articolo': '045.OB.P1T',\n",
       "    'codice_variante': 0,\n",
       "    'descrizione': \"VETROCAMERA OBLO' PER PORTA TRASPARENTE S45\",\n",
       "    'codice_categoria': '20.10.066',\n",
       "    'unita_misura': 'PZ',\n",
       "    'quantita_um': 4.0,\n",
       "    'prezzo_netto_vu': 0.0}],\n",
       "  'importo': 0.0,\n",
       "  'cod_fornitore': 1964,\n",
       "  'azienda': 'mangini_3'},\n",
       " 'documento_2024-BADDV-0000405': {'data_documento': '2024-03-11',\n",
       "  'id_documento': '2024-BADDV-0000405',\n",
       "  'venduto': [{'codice_articolo': '045.OB.P1T',\n",
       "    'codice_variante': 0,\n",
       "    'descrizione': \"VETROCAMERA OBLO' PER PORTA TRASPARENTE S45\",\n",
       "    'codice_categoria': '20.10.066',\n",
       "    'unita_misura': 'PZ',\n",
       "    'quantita_um': 12.0,\n",
       "    'prezzo_netto_vu': 0.0}],\n",
       "  'importo': 0.0,\n",
       "  'cod_fornitore': 1964,\n",
       "  'azienda': 'mangini_1'},\n",
       " 'fornitore_1571': {'cod_fornitore': 1571},\n",
       " 'documento_2024-BADDV-0000429': {'data_documento': '2024-03-11',\n",
       "  'id_documento': '2024-BADDV-0000429',\n",
       "  'venduto': [{'codice_articolo': '017.PM001',\n",
       "    'codice_variante': 29,\n",
       "    'descrizione': 'NASTRO ACCIAIO ZINCATO',\n",
       "    'codice_categoria': '10.30.10.10.30.05',\n",
       "    'unita_misura': 'KG',\n",
       "    'quantita_um': 12000.0,\n",
       "    'prezzo_netto_vu': 0.92}],\n",
       "  'importo': 11040.0,\n",
       "  'cod_fornitore': 1571,\n",
       "  'azienda': 'mangini_2'},\n",
       " 'fornitore_597': {'cod_fornitore': 597},\n",
       " 'documento_2024-BADDV-0000435': {'data_documento': '2024-03-12',\n",
       "  'id_documento': '2024-BADDV-0000435',\n",
       "  'venduto': [{'codice_articolo': '017.PM507',\n",
       "    'codice_variante': 0,\n",
       "    'descrizione': 'CARPENTERIA METALLICA',\n",
       "    'codice_categoria': '10.30.50.10.190',\n",
       "    'unita_misura': 'NR',\n",
       "    'quantita_um': 1.0,\n",
       "    'prezzo_netto_vu': 8500.0}],\n",
       "  'importo': 8500.0,\n",
       "  'cod_fornitore': 597,\n",
       "  'azienda': 'mangini_2'},\n",
       " 'fornitore_5624': {'cod_fornitore': 5624},\n",
       " 'documento_2024-BADDV-0000436': {'data_documento': '2024-03-13',\n",
       "  'id_documento': '2024-BADDV-0000436',\n",
       "  'venduto': [{'codice_articolo': '017.PM507',\n",
       "    'codice_variante': 0,\n",
       "    'descrizione': 'PROFILI DOORMATICA SCORREVOLE AUT.',\n",
       "    'codice_categoria': '10.30.50.10.190',\n",
       "    'unita_misura': 'NR',\n",
       "    'quantita_um': 22.0,\n",
       "    'prezzo_netto_vu': 0.0}],\n",
       "  'importo': 0.0,\n",
       "  'cod_fornitore': 5624,\n",
       "  'azienda': 'mangini_1'},\n",
       " 'documento_2024-BADDV-0000439': {'data_documento': '2024-03-15',\n",
       "  'id_documento': '2024-BADDV-0000439',\n",
       "  'venduto': [{'codice_articolo': '090.VST55',\n",
       "    'codice_variante': 3419,\n",
       "    'descrizione': 'VETRO STRATIFICATO TRASPARENTE 5+5',\n",
       "    'codice_categoria': '10.30.40.10.50',\n",
       "    'unita_misura': 'MQ',\n",
       "    'quantita_um': 5.05,\n",
       "    'prezzo_netto_vu': 40.0}],\n",
       "  'importo': 202.0,\n",
       "  'cod_fornitore': 1964,\n",
       "  'azienda': 'mangini_1'},\n",
       " 'fornitore_3493': {'cod_fornitore': 3493},\n",
       " 'documento_2024-BADDV-0000440': {'data_documento': '2024-03-11',\n",
       "  'id_documento': '2024-BADDV-0000440',\n",
       "  'venduto': [{'codice_articolo': '090.VST33',\n",
       "    'codice_variante': 790,\n",
       "    'descrizione': 'VETRO TRASPARENTE STRATIFICATO 3+3 F.G. ANTA INTELAIATA',\n",
       "    'codice_categoria': '10.30.40.10.50',\n",
       "    'unita_misura': 'MQ',\n",
       "    'quantita_um': 26.99,\n",
       "    'prezzo_netto_vu': 23.0}],\n",
       "  'importo': 620.77,\n",
       "  'cod_fornitore': 3493,\n",
       "  'azienda': 'mangini_2'},\n",
       " 'fornitore_584': {'cod_fornitore': 584},\n",
       " 'documento_2024-BADDV-0000445': {'data_documento': '2024-03-14',\n",
       "  'id_documento': '2024-BADDV-0000445',\n",
       "  'venduto': [{'codice_articolo': '017.PM597',\n",
       "    'codice_variante': 0,\n",
       "    'descrizione': 'MANIGLIONE REGUITTI DENVER 25 S Q25 INOX SAT_x000D_con 23 attacchi passanti per maniglione su 2 lati',\n",
       "    'codice_categoria': '10.30.50.10.010',\n",
       "    'unita_misura': 'PZ',\n",
       "    'quantita_um': 46.0,\n",
       "    'prezzo_netto_vu': 34.81196}],\n",
       "  'importo': 1601.35,\n",
       "  'cod_fornitore': 584,\n",
       "  'azienda': 'mangini_2'},\n",
       " 'documento_2024-BADDV-0000447': {'data_documento': '2024-03-15',\n",
       "  'id_documento': '2024-BADDV-0000447',\n",
       "  'venduto': [{'codice_articolo': '090.VST33',\n",
       "    'codice_variante': 791,\n",
       "    'descrizione': 'VETRO TRASPARENTE STRATIFICATO 3+3 F.G. ANTA INTELAIATA',\n",
       "    'codice_categoria': '10.30.40.10.50',\n",
       "    'unita_misura': 'MQ',\n",
       "    'quantita_um': 1.9,\n",
       "    'prezzo_netto_vu': 25.0}],\n",
       "  'importo': 47.5,\n",
       "  'cod_fornitore': 1964,\n",
       "  'azienda': 'mangini_1'},\n",
       " 'documento_2024-BADDV-0000448': {'data_documento': '2024-03-18',\n",
       "  'id_documento': '2024-BADDV-0000448',\n",
       "  'venduto': [{'codice_articolo': '052.MP.VT.POR.TR.45.04',\n",
       "    'codice_variante': 0,\n",
       "    'descrizione': 'VETROCAMERA ANG. 90° TR. 904X950 SU PORTA SERIE 45',\n",
       "    'codice_categoria': '20.30.050',\n",
       "    'unita_misura': 'PZ',\n",
       "    'quantita_um': 1.0,\n",
       "    'prezzo_netto_vu': 0.0}],\n",
       "  'importo': 0.0,\n",
       "  'cod_fornitore': 1964,\n",
       "  'azienda': 'mangini_3'},\n",
       " 'cliente_0': {'id_cliente': 'cliente_0'},\n",
       " 'cliente_1': {'id_cliente': 'cliente_1'},\n",
       " 'cliente_2': {'id_cliente': 'cliente_2'},\n",
       " 'cliente_3': {'id_cliente': 'cliente_3'},\n",
       " 'cliente_4': {'id_cliente': 'cliente_4'},\n",
       " 'cliente_5': {'id_cliente': 'cliente_5'},\n",
       " 'cliente_6': {'id_cliente': 'cliente_6'},\n",
       " 'cliente_7': {'id_cliente': 'cliente_7'},\n",
       " 'cliente_8': {'id_cliente': 'cliente_8'},\n",
       " 'cliente_9': {'id_cliente': 'cliente_9'},\n",
       " 'mangini_0': {'id_azienda': 'mangini_1'},\n",
       " 'mangini_1': {'id_azienda': 'mangini_2'},\n",
       " 'preventivo_0': {'data_documento': '2024-03-17',\n",
       "  'id_documento': 'preventivo_0',\n",
       "  'da_vendere': [{'codice_articolo': '017.PM152',\n",
       "    'codice_variante': 0,\n",
       "    'codice_categoria': 'Vetri',\n",
       "    'prezzo_netto_vu': 9999.946832791265},\n",
       "   {'codice_articolo': '017.PM152',\n",
       "    'codice_variante': 0,\n",
       "    'codice_categoria': 'Vetri',\n",
       "    'prezzo_netto_vu': 10000.346830042472}],\n",
       "  'importo': 20000.293662833737,\n",
       "  'id_cliente': 'cliente_1',\n",
       "  'id_azienda': 'mangini_1',\n",
       "  'status': 'accettato'},\n",
       " 'preventivo_1': {'data_documento': '2024-03-17',\n",
       "  'id_documento': 'preventivo_1',\n",
       "  'da_vendere': [{'codice_articolo': '090.VST33',\n",
       "    'codice_variante': 0,\n",
       "    'codice_categoria': 'Vetri',\n",
       "    'prezzo_netto_vu': 24.438146623153543},\n",
       "   {'codice_articolo': '017.PM152',\n",
       "    'codice_variante': 0,\n",
       "    'codice_categoria': 'Vetri',\n",
       "    'prezzo_netto_vu': 10000.226309458143}],\n",
       "  'importo': 10024.664456081297,\n",
       "  'id_cliente': 'cliente_6',\n",
       "  'id_azienda': 'mangini_0',\n",
       "  'status': 'accettato'},\n",
       " 'preventivo_2': {'data_documento': '2024-03-17',\n",
       "  'id_documento': 'preventivo_2',\n",
       "  'da_vendere': [{'codice_articolo': '017.PM152',\n",
       "    'codice_variante': 0,\n",
       "    'codice_categoria': 'Vetri',\n",
       "    'prezzo_netto_vu': 9999.866918594298},\n",
       "   {'codice_articolo': '045.OB.P1T',\n",
       "    'codice_variante': 0,\n",
       "    'codice_categoria': 'Visive',\n",
       "    'prezzo_netto_vu': 74.97792138879105}],\n",
       "  'importo': 10074.844839983089,\n",
       "  'id_cliente': 'cliente_4',\n",
       "  'id_azienda': 'mangini_0',\n",
       "  'status': 'in attesa'},\n",
       " 'preventivo_3': {'data_documento': '2024-03-17',\n",
       "  'id_documento': 'preventivo_3',\n",
       "  'da_vendere': [{'codice_articolo': '090.VST33',\n",
       "    'codice_variante': 0,\n",
       "    'codice_categoria': 'Vetri',\n",
       "    'prezzo_netto_vu': 24.765105390490906}],\n",
       "  'importo': 24.765105390490906,\n",
       "  'id_cliente': 'cliente_7',\n",
       "  'id_azienda': 'mangini_0',\n",
       "  'status': 'accettato'},\n",
       " 'preventivo_4': {'data_documento': '2024-03-17',\n",
       "  'id_documento': 'preventivo_4',\n",
       "  'da_vendere': [{'codice_articolo': '052.MP.VT.POR.TR.45.04',\n",
       "    'codice_variante': 0,\n",
       "    'codice_categoria': 'Visive',\n",
       "    'prezzo_netto_vu': 112.0246106014498},\n",
       "   {'codice_articolo': '017.PM152',\n",
       "    'codice_variante': 0,\n",
       "    'codice_categoria': 'Vetri',\n",
       "    'prezzo_netto_vu': 10000.008000204867},\n",
       "   {'codice_articolo': '017.PM507',\n",
       "    'codice_variante': 0,\n",
       "    'codice_categoria': 'Accessori',\n",
       "    'prezzo_netto_vu': -0.07427228742738876},\n",
       "   {'codice_articolo': '017.PM152',\n",
       "    'codice_variante': 0,\n",
       "    'codice_categoria': 'Vetri',\n",
       "    'prezzo_netto_vu': 10000.165668717771}],\n",
       "  'importo': 20112.12400723666,\n",
       "  'id_cliente': 'cliente_0',\n",
       "  'id_azienda': 'mangini_0',\n",
       "  'status': 'in attesa'},\n",
       " 'preventivo_5': {'data_documento': '2024-03-17',\n",
       "  'id_documento': 'preventivo_5',\n",
       "  'da_vendere': [{'codice_articolo': '017.PM152',\n",
       "    'codice_variante': 0,\n",
       "    'codice_categoria': 'Vetri',\n",
       "    'prezzo_netto_vu': 10000.290521270825}],\n",
       "  'importo': 10000.290521270825,\n",
       "  'id_cliente': 'cliente_3',\n",
       "  'id_azienda': 'mangini_1',\n",
       "  'status': 'in attesa'},\n",
       " 'preventivo_6': {'data_documento': '2024-03-17',\n",
       "  'id_documento': 'preventivo_6',\n",
       "  'da_vendere': [{'codice_articolo': '017.PM152',\n",
       "    'codice_variante': 0,\n",
       "    'codice_categoria': 'Vetri',\n",
       "    'prezzo_netto_vu': 10000.40495223457},\n",
       "   {'codice_articolo': '017.PM152',\n",
       "    'codice_variante': 0,\n",
       "    'codice_categoria': 'Vetri',\n",
       "    'prezzo_netto_vu': 10000.312083170826},\n",
       "   {'codice_articolo': '017.PM152',\n",
       "    'codice_variante': 0,\n",
       "    'codice_categoria': 'Vetri',\n",
       "    'prezzo_netto_vu': 9999.767905201754}],\n",
       "  'importo': 30000.48494060715,\n",
       "  'id_cliente': 'cliente_0',\n",
       "  'id_azienda': 'mangini_0',\n",
       "  'status': 'in attesa'},\n",
       " 'preventivo_7': {'data_documento': '2024-03-17',\n",
       "  'id_documento': 'preventivo_7',\n",
       "  'da_vendere': [{'codice_articolo': '017.PM152',\n",
       "    'codice_variante': 0,\n",
       "    'codice_categoria': 'Vetri',\n",
       "    'prezzo_netto_vu': 10000.223400919494}],\n",
       "  'importo': 10000.223400919494,\n",
       "  'id_cliente': 'cliente_2',\n",
       "  'id_azienda': 'mangini_0',\n",
       "  'status': 'accettato'},\n",
       " 'preventivo_8': {'data_documento': '2024-03-17',\n",
       "  'id_documento': 'preventivo_8',\n",
       "  'da_vendere': [{'codice_articolo': '017.PM152',\n",
       "    'codice_variante': 0,\n",
       "    'codice_categoria': 'Vetri',\n",
       "    'prezzo_netto_vu': 9999.99753777803},\n",
       "   {'codice_articolo': '017.PM152',\n",
       "    'codice_variante': 0,\n",
       "    'codice_categoria': 'Vetri',\n",
       "    'prezzo_netto_vu': 10000.187578174411}],\n",
       "  'importo': 20000.18511595244,\n",
       "  'id_cliente': 'cliente_9',\n",
       "  'id_azienda': 'mangini_0',\n",
       "  'status': 'in attesa'},\n",
       " 'preventivo_9': {'data_documento': '2024-03-17',\n",
       "  'id_documento': 'preventivo_9',\n",
       "  'da_vendere': [{'codice_articolo': '017.PM152',\n",
       "    'codice_variante': 0,\n",
       "    'codice_categoria': 'Vetri',\n",
       "    'prezzo_netto_vu': 9999.903360246448}],\n",
       "  'importo': 9999.903360246448,\n",
       "  'id_cliente': 'cliente_9',\n",
       "  'id_azienda': 'mangini_1',\n",
       "  'status': 'in attesa'},\n",
       " 'fattura_0': {'data_documento': '2024-03-17',\n",
       "  'id_documento': 'fattura_0',\n",
       "  'venduto': [{'codice_articolo': '017.PM152',\n",
       "    'codice_variante': 0,\n",
       "    'codice_categoria': 'Vetri',\n",
       "    'prezzo_netto_vu': 9999.85672568951},\n",
       "   {'codice_articolo': '017.PM152',\n",
       "    'codice_variante': 0,\n",
       "    'codice_categoria': 'Vetri',\n",
       "    'prezzo_netto_vu': 10000.26828058502},\n",
       "   {'codice_articolo': '017.PM152',\n",
       "    'codice_variante': 0,\n",
       "    'codice_categoria': 'Vetri',\n",
       "    'prezzo_netto_vu': 10000.485201655716}],\n",
       "  'importo': 30000.610207930247,\n",
       "  'id_cliente': 'cliente_0',\n",
       "  'id_azienda': 'mangini_1'},\n",
       " 'fattura_1': {'data_documento': '2024-03-17',\n",
       "  'id_documento': 'fattura_1',\n",
       "  'venduto': [{'codice_articolo': '090.VST33',\n",
       "    'codice_variante': 0,\n",
       "    'codice_categoria': 'Vetri',\n",
       "    'prezzo_netto_vu': 24.761222688840935},\n",
       "   {'codice_articolo': '017.PM152',\n",
       "    'codice_variante': 0,\n",
       "    'codice_categoria': 'Vetri',\n",
       "    'prezzo_netto_vu': 10000.19303023128}],\n",
       "  'importo': 10024.95425292012,\n",
       "  'id_cliente': 'cliente_6',\n",
       "  'id_azienda': 'mangini_1'},\n",
       " 'fattura_2': {'data_documento': '2024-03-17',\n",
       "  'id_documento': 'fattura_2',\n",
       "  'venduto': [{'codice_articolo': '017.PM152',\n",
       "    'codice_variante': 0,\n",
       "    'codice_categoria': 'Vetri',\n",
       "    'prezzo_netto_vu': 9999.925003972794}],\n",
       "  'importo': 9999.925003972794,\n",
       "  'id_cliente': 'cliente_8',\n",
       "  'id_azienda': 'mangini_0'},\n",
       " 'fattura_3': {'data_documento': '2024-03-17',\n",
       "  'id_documento': 'fattura_3',\n",
       "  'venduto': [{'codice_articolo': '090.VST33',\n",
       "    'codice_variante': 0,\n",
       "    'codice_categoria': 'Vetri',\n",
       "    'prezzo_netto_vu': 24.971304997883486},\n",
       "   {'codice_articolo': '017.PM152',\n",
       "    'codice_variante': 0,\n",
       "    'codice_categoria': 'Vetri',\n",
       "    'prezzo_netto_vu': 10000.241472835023}],\n",
       "  'importo': 10025.212777832907,\n",
       "  'id_cliente': 'cliente_5',\n",
       "  'id_azienda': 'mangini_0'},\n",
       " 'fattura_4': {'data_documento': '2024-03-17',\n",
       "  'id_documento': 'fattura_4',\n",
       "  'venduto': [{'codice_articolo': '017.PM152',\n",
       "    'codice_variante': 0,\n",
       "    'codice_categoria': 'Vetri',\n",
       "    'prezzo_netto_vu': 10000.254117961731},\n",
       "   {'codice_articolo': '017.PM001',\n",
       "    'codice_variante': 35,\n",
       "    'codice_categoria': 'MP Acciaio',\n",
       "    'prezzo_netto_vu': 1.3404589808653244}],\n",
       "  'importo': 10001.594576942596,\n",
       "  'id_cliente': 'cliente_6',\n",
       "  'id_azienda': 'mangini_1'},\n",
       " 'fattura_5': {'data_documento': '2024-03-17',\n",
       "  'id_documento': 'fattura_5',\n",
       "  'venduto': [{'codice_articolo': '017.PM152',\n",
       "    'codice_variante': 0,\n",
       "    'codice_categoria': 'Vetri',\n",
       "    'prezzo_netto_vu': 10000.30594479064}],\n",
       "  'importo': 10000.30594479064,\n",
       "  'id_cliente': 'cliente_1',\n",
       "  'id_azienda': 'mangini_1'},\n",
       " 'fattura_6': {'data_documento': '2024-03-17',\n",
       "  'id_documento': 'fattura_6',\n",
       "  'venduto': [{'codice_articolo': '017.PM507',\n",
       "    'codice_variante': 0,\n",
       "    'codice_categoria': 'Accessori',\n",
       "    'prezzo_netto_vu': -0.22067813366906947},\n",
       "   {'codice_articolo': '017.PM152',\n",
       "    'codice_variante': 0,\n",
       "    'codice_categoria': 'Vetri',\n",
       "    'prezzo_netto_vu': 10000.366140670225},\n",
       "   {'codice_articolo': '017.PM152',\n",
       "    'codice_variante': 0,\n",
       "    'codice_categoria': 'Vetri',\n",
       "    'prezzo_netto_vu': 10000.465205701435},\n",
       "   {'codice_articolo': '017.PM152',\n",
       "    'codice_variante': 0,\n",
       "    'codice_categoria': 'Vetri',\n",
       "    'prezzo_netto_vu': 10000.010701907495}],\n",
       "  'importo': 30000.621370145484,\n",
       "  'id_cliente': 'cliente_7',\n",
       "  'id_azienda': 'mangini_1'},\n",
       " 'fattura_7': {'data_documento': '2024-03-17',\n",
       "  'id_documento': 'fattura_7',\n",
       "  'venduto': [{'codice_articolo': '017.PM152',\n",
       "    'codice_variante': 0,\n",
       "    'codice_categoria': 'Vetri',\n",
       "    'prezzo_netto_vu': 10000.468733910257},\n",
       "   {'codice_articolo': '017.PM152',\n",
       "    'codice_variante': 0,\n",
       "    'codice_categoria': 'Vetri',\n",
       "    'prezzo_netto_vu': 10000.070131170913}],\n",
       "  'importo': 20000.53886508117,\n",
       "  'id_cliente': 'cliente_8',\n",
       "  'id_azienda': 'mangini_1'},\n",
       " 'fattura_8': {'data_documento': '2024-03-17',\n",
       "  'id_documento': 'fattura_8',\n",
       "  'venduto': [{'codice_articolo': '017.PM152',\n",
       "    'codice_variante': 0,\n",
       "    'codice_categoria': 'Vetri',\n",
       "    'prezzo_netto_vu': 10000.009708829259},\n",
       "   {'codice_articolo': '017.PM152',\n",
       "    'codice_variante': 0,\n",
       "    'codice_categoria': 'Vetri',\n",
       "    'prezzo_netto_vu': 9999.883753742664}],\n",
       "  'importo': 19999.893462571923,\n",
       "  'id_cliente': 'cliente_6',\n",
       "  'id_azienda': 'mangini_0'},\n",
       " 'fattura_9': {'data_documento': '2024-03-17',\n",
       "  'id_documento': 'fattura_9',\n",
       "  'venduto': [{'codice_articolo': '017.PM152',\n",
       "    'codice_variante': 0,\n",
       "    'codice_categoria': 'Vetri',\n",
       "    'prezzo_netto_vu': 10000.278615079866}],\n",
       "  'importo': 10000.278615079866,\n",
       "  'id_cliente': 'cliente_6',\n",
       "  'id_azienda': 'mangini_0'},\n",
       " 'fattura_10': {'data_documento': '2024-03-17',\n",
       "  'id_documento': 'fattura_10',\n",
       "  'venduto': [{'codice_articolo': '017.PM152',\n",
       "    'codice_variante': 0,\n",
       "    'codice_categoria': 'Vetri',\n",
       "    'prezzo_netto_vu': 10000.018155723554}],\n",
       "  'importo': 10000.018155723554,\n",
       "  'id_cliente': 'cliente_4',\n",
       "  'id_azienda': 'mangini_1'},\n",
       " 'fattura_11': {'data_documento': '2024-03-17',\n",
       "  'id_documento': 'fattura_11',\n",
       "  'venduto': [{'codice_articolo': '017.PM152',\n",
       "    'codice_variante': 0,\n",
       "    'codice_categoria': 'Vetri',\n",
       "    'prezzo_netto_vu': 10000.119058318645},\n",
       "   {'codice_articolo': '090.VST33',\n",
       "    'codice_variante': 0,\n",
       "    'codice_categoria': 'Vetri',\n",
       "    'prezzo_netto_vu': 24.604420826304437}],\n",
       "  'importo': 10024.72347914495,\n",
       "  'id_cliente': 'cliente_2',\n",
       "  'id_azienda': 'mangini_0'},\n",
       " 'fattura_12': {'data_documento': '2024-03-17',\n",
       "  'id_documento': 'fattura_12',\n",
       "  'venduto': [{'codice_articolo': '090.VST33',\n",
       "    'codice_variante': 0,\n",
       "    'codice_categoria': 'Vetri',\n",
       "    'prezzo_netto_vu': 24.781855903037393},\n",
       "   {'codice_articolo': '090.VST33',\n",
       "    'codice_variante': 0,\n",
       "    'codice_categoria': 'Vetri',\n",
       "    'prezzo_netto_vu': 24.70804271072476},\n",
       "   {'codice_articolo': '017.PM152',\n",
       "    'codice_variante': 0,\n",
       "    'codice_categoria': 'Vetri',\n",
       "    'prezzo_netto_vu': 10000.305537769707}],\n",
       "  'importo': 10049.795436383469,\n",
       "  'id_cliente': 'cliente_8',\n",
       "  'id_azienda': 'mangini_1'},\n",
       " 'fattura_13': {'data_documento': '2024-03-17',\n",
       "  'id_documento': 'fattura_13',\n",
       "  'venduto': [{'codice_articolo': '017.PM152',\n",
       "    'codice_variante': 0,\n",
       "    'codice_categoria': 'Vetri',\n",
       "    'prezzo_netto_vu': 9999.853007122427}],\n",
       "  'importo': 9999.853007122427,\n",
       "  'id_cliente': 'cliente_3',\n",
       "  'id_azienda': 'mangini_0'},\n",
       " 'fattura_14': {'data_documento': '2024-03-17',\n",
       "  'id_documento': 'fattura_14',\n",
       "  'venduto': [{'codice_articolo': '017.PM152',\n",
       "    'codice_variante': 0,\n",
       "    'codice_categoria': 'Vetri',\n",
       "    'prezzo_netto_vu': 10000.059574092833},\n",
       "   {'codice_articolo': '017.PM152',\n",
       "    'codice_variante': 0,\n",
       "    'codice_categoria': 'Vetri',\n",
       "    'prezzo_netto_vu': 10000.199405558398},\n",
       "   {'codice_articolo': '017.PM152',\n",
       "    'codice_variante': 0,\n",
       "    'codice_categoria': 'Vetri',\n",
       "    'prezzo_netto_vu': 10000.056541556281},\n",
       "   {'codice_articolo': '017.PM152',\n",
       "    'codice_variante': 0,\n",
       "    'codice_categoria': 'Vetri',\n",
       "    'prezzo_netto_vu': 10000.21815674004}],\n",
       "  'importo': 40000.533677947555,\n",
       "  'id_cliente': 'cliente_1',\n",
       "  'id_azienda': 'mangini_0'},\n",
       " 'fattura_15': {'data_documento': '2024-03-17',\n",
       "  'id_documento': 'fattura_15',\n",
       "  'venduto': [{'codice_articolo': '017.PM152',\n",
       "    'codice_variante': 0,\n",
       "    'codice_categoria': 'Vetri',\n",
       "    'prezzo_netto_vu': 9999.841129074919},\n",
       "   {'codice_articolo': '017.PM152',\n",
       "    'codice_variante': 0,\n",
       "    'codice_categoria': 'Vetri',\n",
       "    'prezzo_netto_vu': 9999.915002878251},\n",
       "   {'codice_articolo': '017.PM152',\n",
       "    'codice_variante': 0,\n",
       "    'codice_categoria': 'Vetri',\n",
       "    'prezzo_netto_vu': 10000.212923687697}],\n",
       "  'importo': 29999.969055640868,\n",
       "  'id_cliente': 'cliente_2',\n",
       "  'id_azienda': 'mangini_0'},\n",
       " 'fattura_16': {'data_documento': '2024-03-17',\n",
       "  'id_documento': 'fattura_16',\n",
       "  'venduto': [{'codice_articolo': '017.PM152',\n",
       "    'codice_variante': 0,\n",
       "    'codice_categoria': 'Vetri',\n",
       "    'prezzo_netto_vu': 9999.799643238159},\n",
       "   {'codice_articolo': '017.PM152',\n",
       "    'codice_variante': 0,\n",
       "    'codice_categoria': 'Vetri',\n",
       "    'prezzo_netto_vu': 9999.989356109618}],\n",
       "  'importo': 19999.788999347777,\n",
       "  'id_cliente': 'cliente_8',\n",
       "  'id_azienda': 'mangini_0'},\n",
       " 'fattura_17': {'data_documento': '2024-03-17',\n",
       "  'id_documento': 'fattura_17',\n",
       "  'venduto': [{'codice_articolo': '017.PM152',\n",
       "    'codice_variante': 0,\n",
       "    'codice_categoria': 'Vetri',\n",
       "    'prezzo_netto_vu': 9999.826016447134},\n",
       "   {'codice_articolo': '017.PM152',\n",
       "    'codice_variante': 0,\n",
       "    'codice_categoria': 'Vetri',\n",
       "    'prezzo_netto_vu': 10000.129051738399},\n",
       "   {'codice_articolo': '017.PM001',\n",
       "    'codice_variante': 35,\n",
       "    'codice_categoria': 'MP Acciaio',\n",
       "    'prezzo_netto_vu': 0.8177484234281108},\n",
       "   {'codice_articolo': '017.PM152',\n",
       "    'codice_variante': 0,\n",
       "    'codice_categoria': 'Vetri',\n",
       "    'prezzo_netto_vu': 10000.314471439366}],\n",
       "  'importo': 30001.08728804833,\n",
       "  'id_cliente': 'cliente_7',\n",
       "  'id_azienda': 'mangini_1'},\n",
       " 'fattura_18': {'data_documento': '2024-03-17',\n",
       "  'id_documento': 'fattura_18',\n",
       "  'venduto': [{'codice_articolo': '017.PM152',\n",
       "    'codice_variante': 0,\n",
       "    'codice_categoria': 'Vetri',\n",
       "    'prezzo_netto_vu': 9999.977746382036},\n",
       "   {'codice_articolo': '017.PM152',\n",
       "    'codice_variante': 0,\n",
       "    'codice_categoria': 'Vetri',\n",
       "    'prezzo_netto_vu': 10000.38972624639},\n",
       "   {'codice_articolo': '017.PM152',\n",
       "    'codice_variante': 0,\n",
       "    'codice_categoria': 'Vetri',\n",
       "    'prezzo_netto_vu': 10000.08556477454}],\n",
       "  'importo': 30000.453037402964,\n",
       "  'id_cliente': 'cliente_2',\n",
       "  'id_azienda': 'mangini_1'},\n",
       " 'fattura_19': {'data_documento': '2024-03-17',\n",
       "  'id_documento': 'fattura_19',\n",
       "  'venduto': [{'codice_articolo': '017.PM152',\n",
       "    'codice_variante': 0,\n",
       "    'codice_categoria': 'Vetri',\n",
       "    'prezzo_netto_vu': 10000.025751828785},\n",
       "   {'codice_articolo': '017.PM152',\n",
       "    'codice_variante': 0,\n",
       "    'codice_categoria': 'Vetri',\n",
       "    'prezzo_netto_vu': 10000.334314423877},\n",
       "   {'codice_articolo': '017.PM001',\n",
       "    'codice_variante': 35,\n",
       "    'codice_categoria': 'MP Acciaio',\n",
       "    'prezzo_netto_vu': 1.194387287050126},\n",
       "   {'codice_articolo': '090.VST33',\n",
       "    'codice_variante': 0,\n",
       "    'codice_categoria': 'Vetri',\n",
       "    'prezzo_netto_vu': 24.849775859977917}],\n",
       "  'importo': 20026.40422939969,\n",
       "  'id_cliente': 'cliente_4',\n",
       "  'id_azienda': 'mangini_0'}}"
      ]
     },
     "execution_count": 3,
     "metadata": {},
     "output_type": "execute_result"
    }
   ],
   "source": [
    "db_dict"
   ]
  },
  {
   "cell_type": "code",
   "execution_count": 4,
   "metadata": {},
   "outputs": [],
   "source": [
    "graph_db = nx.DiGraph()\n",
    "for key in db_dict.keys():\n",
    "    key_start = key.split('_')[0]\n",
    "\n",
    "    if key_start == 'documento':\n",
    "        cod_fornitore = db_dict[key]['cod_fornitore']\n",
    "        azienda = db_dict[key]['azienda']\n",
    "        importo = db_dict[key]['importo']\n",
    "        id_documento = db_dict[key]['id_documento']\n",
    "        fornitore = \"fornitore_\"+ str(cod_fornitore)\n",
    "        if not graph_db.has_node(fornitore):\n",
    "            graph_db.add_node(fornitore, type='fornitore')\n",
    "        if not graph_db.has_node(azienda):\n",
    "            graph_db.add_node(azienda, type='azienda')\n",
    "        for prod in db_dict[key]['venduto']:\n",
    "            codice_articolo = prod['codice_articolo']\n",
    "            graph_db.add_edge(fornitore, azienda, type='materia', label= codice_articolo, name= codice_articolo, weight= 1)\n",
    "        graph_db.add_edge(azienda, fornitore, type='money_neg', label= str(importo), name= str(importo), weight= importo)\n",
    "        graph_db.add_edge(fornitore, azienda, type='document', label= id_documento, name= id_documento, weight= 1)\n",
    "\n",
    "    elif key_start == 'preventivo':\n",
    "        documento = db_dict[key]['id_documento']\n",
    "        cliente = db_dict[key]['id_cliente']\n",
    "        azienda = db_dict[key]['id_azienda']\n",
    "        status = db_dict[key]['status']\n",
    "        if not graph_db.has_node(cliente):\n",
    "            graph_db.add_node(cliente, type='cliente')\n",
    "        if not graph_db.has_node(azienda):\n",
    "            graph_db.add_node(azienda, type='azienda')\n",
    "        graph_db.add_edge(azienda, cliente, type='document', label= documento + \"(\" + status + \")\", name= documento + \"(\" + status + \")\", weight= 1)\n",
    "\n",
    "    elif key_start == 'fattura':\n",
    "        documento = db_dict[key]['id_documento']\n",
    "        cliente = db_dict[key]['id_cliente']\n",
    "        azienda = db_dict[key]['id_azienda']\n",
    "        importo = db_dict[key]['importo']\n",
    "        if not graph_db.has_node(cliente):\n",
    "            graph_db.add_node(cliente, type='cliente')\n",
    "        if not graph_db.has_node(azienda):\n",
    "            graph_db.add_node(azienda, type='azienda')\n",
    "        graph_db.add_edge(azienda, cliente, type='document', label= id_documento, name= id_documento, weight= 1)\n",
    "        graph_db.add_edge(cliente, azienda, type='money_pos', label= str(importo), name= str(importo), weight= importo)\n",
    "        for prod in db_dict[key]['venduto']:\n",
    "            codice_articolo = prod['codice_articolo']\n",
    "            graph_db.add_edge(azienda, cliente, type='materia', label= codice_articolo, name= codice_articolo, weight= 1)\n"
   ]
  },
  {
   "cell_type": "code",
   "execution_count": 5,
   "metadata": {},
   "outputs": [],
   "source": [
    "graph_db_money = graph_db.copy()\n",
    "for edge in graph_db.edges(data=True):\n",
    "    if edge[2]['type'] not in ['money_pos','money_neg']:\n",
    "        graph_db_money.remove_edge(edge[0], edge[1])\n",
    "        \n",
    "graph_db_materia = graph_db.copy()\n",
    "for edge in graph_db.edges(data=True):\n",
    "    if edge[2]['type'] != 'materia':\n",
    "        graph_db_materia.remove_edge(edge[0], edge[1])\n",
    "\n",
    "graph_db_document = graph_db.copy()\n",
    "for edge in graph_db.edges(data=True):\n",
    "    if edge[2]['type'] != 'document':\n",
    "        graph_db_document.remove_edge(edge[0], edge[1])"
   ]
  },
  {
   "cell_type": "code",
   "execution_count": 6,
   "metadata": {},
   "outputs": [],
   "source": [
    "graph_db_product = nx.DiGraph()\n",
    "for key in db_dict.keys():\n",
    "    key_start = key.split('_')[0]\n",
    "\n",
    "    if key_start == 'documento':\n",
    "        cod_fornitore = db_dict[key]['cod_fornitore']\n",
    "        fornitore = \"fornitore_\"+ str(cod_fornitore)\n",
    "        importo = db_dict[key]['importo']\n",
    "        if not graph_db_product.has_node(fornitore):\n",
    "            graph_db_product.add_node(fornitore, type='fornitore')\n",
    "        for prod in db_dict[key]['venduto']:\n",
    "            codice_articolo = prod['codice_articolo']\n",
    "            articolo = \"prod_\" + codice_articolo\n",
    "            if not graph_db_product.has_node(articolo):\n",
    "                graph_db_product.add_node(articolo, type='materia', label= articolo, name= articolo, weight= 1)\n",
    "        graph_db_product.add_edge(articolo, fornitore, type='money_neg', label= importo, name= importo, weight= importo)\n",
    "\n",
    "    elif key_start == 'fattura':\n",
    "        cliente = db_dict[key]['id_cliente']\n",
    "        importo = db_dict[key]['importo']\n",
    "        if not graph_db_product.has_node(cliente):\n",
    "            graph_db_product.add_node(cliente, type='cliente')\n",
    "        for prod in db_dict[key]['venduto']:\n",
    "            codice_articolo = prod['codice_articolo']\n",
    "            articolo = \"prod_\" + codice_articolo\n",
    "            if not graph_db_product.has_node(articolo):\n",
    "                graph_db_product.add_node(articolo, type='materia', label= codice_articolo, name= codice_articolo, weight= 1)\n",
    "            graph_db_product.add_edge(cliente, articolo, type='money_pos', label= importo, name= importo, weight= importo)"
   ]
  },
  {
   "cell_type": "code",
   "execution_count": 7,
   "metadata": {},
   "outputs": [],
   "source": [
    "graph_dict = {'all': graph_db, 'money': graph_db_money, 'materia': graph_db_materia, 'document': graph_db_document, 'prod': graph_db_product}"
   ]
  },
  {
   "cell_type": "code",
   "execution_count": 8,
   "metadata": {},
   "outputs": [],
   "source": [
    "def create_graph(graph, name):\n",
    "    # create pyvis network\n",
    "    nt = Network(height=\"1024px\", width=\"100%\",\n",
    "                 notebook=True, directed=True, \n",
    "                 neighborhood_highlight=True, select_menu=False, \n",
    "                 filter_menu=True, cdn_resources='in_line', bgcolor=\"#f4f4f4\")\n",
    "    #nt.from_nx(mrg)\n",
    "    node_colors = {'fornitore': '#e0e098', 'azienda': '#76cc76', 'cliente': '#9d6ec9', 'materia': '#ff8c8c'}\n",
    "    edge_colors = {'materia': 'black', 'money_neg': 'red', 'money_pos': 'green', 'document': 'blue'}\n",
    "    for node in graph.nodes(data=True):\n",
    "        node_name = node[0]\n",
    "        node_type = node[1]['type']\n",
    "        nt.add_node(node_name, title=node, color=node_colors[node_type])\n",
    "    for edge in graph.edges(data=True):\n",
    "        val = edge[2]['weight']\n",
    "        edge_type = edge[2]['type']\n",
    "        val = round(val, 2)\n",
    "        label = edge[2]['label']\n",
    "        try :\n",
    "            label = float(label)\n",
    "        except:\n",
    "            label = edge[2]['label']\n",
    "        if isinstance(label, float):\n",
    "            label = round(label, 0)\n",
    "        nt.add_edge(edge[0], edge[1], \n",
    "                    value=val, \n",
    "                    weight=val,\n",
    "                    title=str(val),\n",
    "                    label=str(label),\n",
    "                    color=edge_colors[edge_type],\n",
    "        )\n",
    "    nt.force_atlas_2based(gravity=-50, overlap=1.0, central_gravity=0.005)\n",
    "    nt.show_buttons(filter_=['physics'])#,'nodes'\n",
    "    #nt.set_options(\"\"\"\n",
    "    #const options = {\n",
    "    #  \"borderWidth\": 3,\n",
    "    #  \"borderWidthSelected\": 5,\n",
    "    #  \"nodes\": {\n",
    "    #    \"font\": {\n",
    "    #      \"size\": 42,\n",
    "    #      \"face\": \"verdana\",\n",
    "    #      \"strokeWidth\": 2\n",
    "    #    },\n",
    "    #    \"size\": 30\n",
    "    #  },\n",
    "    #  \"physics\": {\n",
    "    #    \"forceAtlas2Based\": {\n",
    "    #      \"gravitationalConstant\": -100,\n",
    "    #      \"centralGravity\": 0.005,\n",
    "    #      \"springLength\": 100,\n",
    "    #      \"avoidOverlap\": 1\n",
    "    #    },\n",
    "    #    \"minVelocity\": 0.75,\n",
    "    #    \"solver\": \"forceAtlas2Based\",\n",
    "    #    \"timestep\": 1\n",
    "    #  }\n",
    "    #}\n",
    "    #                \"\"\")\n",
    "    nt.show(\"graph_analysis/\"+name+\".html\")"
   ]
  },
  {
   "cell_type": "code",
   "execution_count": 9,
   "metadata": {},
   "outputs": [
    {
     "name": "stdout",
     "output_type": "stream",
     "text": [
      "graph_analysis/all.html\n",
      "graph_analysis/money.html\n",
      "graph_analysis/materia.html\n",
      "graph_analysis/document.html\n",
      "graph_analysis/prod.html\n"
     ]
    }
   ],
   "source": [
    "for key in graph_dict.keys():\n",
    "    create_graph(graph_dict[key], key)"
   ]
  },
  {
   "cell_type": "code",
   "execution_count": 10,
   "metadata": {},
   "outputs": [],
   "source": [
    "# for graph_money calculate in and out degree, betweenness and closeness, vitaility\n",
    "\n",
    "def calculate_metrics(graph):\n",
    "    in_degree = dict(graph.in_degree(weight='weight'))\n",
    "    out_degree = dict(graph.out_degree(weight='weight'))\n",
    "    betweenness = nx.betweenness_centrality(graph, weight='weight')\n",
    "    closeness = nx.closeness_centrality(graph, distance='weight')\n",
    "    #vitality = nx.closeness_vitality(graph, weight='weight')\n",
    "    metrics = {}\n",
    "    for node in graph.nodes():\n",
    "        metrics[node] = {'in_degree': in_degree[node], 'out_degree': out_degree[node], 'betweenness': betweenness[node], 'closeness': closeness[node]}#, 'vitality': vitality[node]}\n",
    "    return pd.DataFrame(metrics).T"
   ]
  },
  {
   "cell_type": "code",
   "execution_count": 11,
   "metadata": {},
   "outputs": [
    {
     "data": {
      "text/html": [
       "<div>\n",
       "<style scoped>\n",
       "    .dataframe tbody tr th:only-of-type {\n",
       "        vertical-align: middle;\n",
       "    }\n",
       "\n",
       "    .dataframe tbody tr th {\n",
       "        vertical-align: top;\n",
       "    }\n",
       "\n",
       "    .dataframe thead th {\n",
       "        text-align: right;\n",
       "    }\n",
       "</style>\n",
       "<table border=\"1\" class=\"dataframe\">\n",
       "  <thead>\n",
       "    <tr style=\"text-align: right;\">\n",
       "      <th></th>\n",
       "      <th>in_degree</th>\n",
       "      <th>out_degree</th>\n",
       "      <th>betweenness</th>\n",
       "      <th>closeness</th>\n",
       "    </tr>\n",
       "  </thead>\n",
       "  <tbody>\n",
       "    <tr>\n",
       "      <th>fornitore_1964</th>\n",
       "      <td>47.500000</td>\n",
       "      <td>2.000000</td>\n",
       "      <td>0.073099</td>\n",
       "      <td>0.000049</td>\n",
       "    </tr>\n",
       "    <tr>\n",
       "      <th>mangini_3</th>\n",
       "      <td>1.000000</td>\n",
       "      <td>0.000000</td>\n",
       "      <td>0.000000</td>\n",
       "      <td>0.000049</td>\n",
       "    </tr>\n",
       "    <tr>\n",
       "      <th>mangini_1</th>\n",
       "      <td>130055.864647</td>\n",
       "      <td>56.500000</td>\n",
       "      <td>0.336257</td>\n",
       "      <td>0.000049</td>\n",
       "    </tr>\n",
       "    <tr>\n",
       "      <th>fornitore_1571</th>\n",
       "      <td>11040.000000</td>\n",
       "      <td>1.000000</td>\n",
       "      <td>0.000000</td>\n",
       "      <td>0.000019</td>\n",
       "    </tr>\n",
       "    <tr>\n",
       "      <th>mangini_2</th>\n",
       "      <td>4.000000</td>\n",
       "      <td>21762.120000</td>\n",
       "      <td>0.035088</td>\n",
       "      <td>0.210526</td>\n",
       "    </tr>\n",
       "    <tr>\n",
       "      <th>fornitore_597</th>\n",
       "      <td>8500.000000</td>\n",
       "      <td>1.000000</td>\n",
       "      <td>0.000000</td>\n",
       "      <td>0.000025</td>\n",
       "    </tr>\n",
       "    <tr>\n",
       "      <th>fornitore_5624</th>\n",
       "      <td>0.000000</td>\n",
       "      <td>1.000000</td>\n",
       "      <td>0.000000</td>\n",
       "      <td>0.000049</td>\n",
       "    </tr>\n",
       "    <tr>\n",
       "      <th>fornitore_3493</th>\n",
       "      <td>620.770000</td>\n",
       "      <td>1.000000</td>\n",
       "      <td>0.000000</td>\n",
       "      <td>0.000339</td>\n",
       "    </tr>\n",
       "    <tr>\n",
       "      <th>fornitore_584</th>\n",
       "      <td>1601.350000</td>\n",
       "      <td>1.000000</td>\n",
       "      <td>0.000000</td>\n",
       "      <td>0.000131</td>\n",
       "    </tr>\n",
       "    <tr>\n",
       "      <th>cliente_1</th>\n",
       "      <td>2.000000</td>\n",
       "      <td>50000.839623</td>\n",
       "      <td>0.000000</td>\n",
       "      <td>0.000063</td>\n",
       "    </tr>\n",
       "    <tr>\n",
       "      <th>cliente_6</th>\n",
       "      <td>2.000000</td>\n",
       "      <td>20001.873192</td>\n",
       "      <td>0.000000</td>\n",
       "      <td>0.000063</td>\n",
       "    </tr>\n",
       "    <tr>\n",
       "      <th>mangini_0</th>\n",
       "      <td>140052.040362</td>\n",
       "      <td>10.000000</td>\n",
       "      <td>0.154971</td>\n",
       "      <td>0.000037</td>\n",
       "    </tr>\n",
       "    <tr>\n",
       "      <th>cliente_4</th>\n",
       "      <td>2.000000</td>\n",
       "      <td>30026.422385</td>\n",
       "      <td>0.035088</td>\n",
       "      <td>0.000063</td>\n",
       "    </tr>\n",
       "    <tr>\n",
       "      <th>cliente_7</th>\n",
       "      <td>2.000000</td>\n",
       "      <td>30001.087288</td>\n",
       "      <td>0.000000</td>\n",
       "      <td>0.000074</td>\n",
       "    </tr>\n",
       "    <tr>\n",
       "      <th>cliente_0</th>\n",
       "      <td>2.000000</td>\n",
       "      <td>30000.610208</td>\n",
       "      <td>0.000000</td>\n",
       "      <td>0.000074</td>\n",
       "    </tr>\n",
       "    <tr>\n",
       "      <th>cliente_3</th>\n",
       "      <td>2.000000</td>\n",
       "      <td>9999.853007</td>\n",
       "      <td>0.046784</td>\n",
       "      <td>0.000063</td>\n",
       "    </tr>\n",
       "    <tr>\n",
       "      <th>cliente_2</th>\n",
       "      <td>2.000000</td>\n",
       "      <td>60000.422093</td>\n",
       "      <td>0.000000</td>\n",
       "      <td>0.000074</td>\n",
       "    </tr>\n",
       "    <tr>\n",
       "      <th>cliente_9</th>\n",
       "      <td>2.000000</td>\n",
       "      <td>0.000000</td>\n",
       "      <td>0.000000</td>\n",
       "      <td>0.000069</td>\n",
       "    </tr>\n",
       "    <tr>\n",
       "      <th>cliente_8</th>\n",
       "      <td>2.000000</td>\n",
       "      <td>30049.584436</td>\n",
       "      <td>0.000000</td>\n",
       "      <td>0.000064</td>\n",
       "    </tr>\n",
       "    <tr>\n",
       "      <th>cliente_5</th>\n",
       "      <td>1.000000</td>\n",
       "      <td>10025.212778</td>\n",
       "      <td>0.000000</td>\n",
       "      <td>0.000039</td>\n",
       "    </tr>\n",
       "  </tbody>\n",
       "</table>\n",
       "</div>"
      ],
      "text/plain": [
       "                    in_degree    out_degree  betweenness  closeness\n",
       "fornitore_1964      47.500000      2.000000     0.073099   0.000049\n",
       "mangini_3            1.000000      0.000000     0.000000   0.000049\n",
       "mangini_1       130055.864647     56.500000     0.336257   0.000049\n",
       "fornitore_1571   11040.000000      1.000000     0.000000   0.000019\n",
       "mangini_2            4.000000  21762.120000     0.035088   0.210526\n",
       "fornitore_597     8500.000000      1.000000     0.000000   0.000025\n",
       "fornitore_5624       0.000000      1.000000     0.000000   0.000049\n",
       "fornitore_3493     620.770000      1.000000     0.000000   0.000339\n",
       "fornitore_584     1601.350000      1.000000     0.000000   0.000131\n",
       "cliente_1            2.000000  50000.839623     0.000000   0.000063\n",
       "cliente_6            2.000000  20001.873192     0.000000   0.000063\n",
       "mangini_0       140052.040362     10.000000     0.154971   0.000037\n",
       "cliente_4            2.000000  30026.422385     0.035088   0.000063\n",
       "cliente_7            2.000000  30001.087288     0.000000   0.000074\n",
       "cliente_0            2.000000  30000.610208     0.000000   0.000074\n",
       "cliente_3            2.000000   9999.853007     0.046784   0.000063\n",
       "cliente_2            2.000000  60000.422093     0.000000   0.000074\n",
       "cliente_9            2.000000      0.000000     0.000000   0.000069\n",
       "cliente_8            2.000000  30049.584436     0.000000   0.000064\n",
       "cliente_5            1.000000  10025.212778     0.000000   0.000039"
      ]
     },
     "execution_count": 11,
     "metadata": {},
     "output_type": "execute_result"
    }
   ],
   "source": [
    "df_metrics = calculate_metrics(graph_db)\n",
    "df_metrics.to_csv('graph_analysis/metrics_money.csv')\n",
    "df_metrics"
   ]
  },
  {
   "cell_type": "code",
   "execution_count": 12,
   "metadata": {},
   "outputs": [
    {
     "data": {
      "text/html": [
       "<div>\n",
       "<style scoped>\n",
       "    .dataframe tbody tr th:only-of-type {\n",
       "        vertical-align: middle;\n",
       "    }\n",
       "\n",
       "    .dataframe tbody tr th {\n",
       "        vertical-align: top;\n",
       "    }\n",
       "\n",
       "    .dataframe thead th {\n",
       "        text-align: right;\n",
       "    }\n",
       "</style>\n",
       "<table border=\"1\" class=\"dataframe\">\n",
       "  <thead>\n",
       "    <tr style=\"text-align: right;\">\n",
       "      <th></th>\n",
       "      <th>in_degree</th>\n",
       "      <th>out_degree</th>\n",
       "      <th>betweenness</th>\n",
       "      <th>closeness</th>\n",
       "    </tr>\n",
       "  </thead>\n",
       "  <tbody>\n",
       "    <tr>\n",
       "      <th>fornitore_1964</th>\n",
       "      <td>249.500000</td>\n",
       "      <td>0.000000</td>\n",
       "      <td>0.000000</td>\n",
       "      <td>0.000061</td>\n",
       "    </tr>\n",
       "    <tr>\n",
       "      <th>prod_045.OB.P1T</th>\n",
       "      <td>0.000000</td>\n",
       "      <td>0.000000</td>\n",
       "      <td>0.000000</td>\n",
       "      <td>0.000000</td>\n",
       "    </tr>\n",
       "    <tr>\n",
       "      <th>fornitore_1571</th>\n",
       "      <td>11040.000000</td>\n",
       "      <td>0.000000</td>\n",
       "      <td>0.000000</td>\n",
       "      <td>0.000007</td>\n",
       "    </tr>\n",
       "    <tr>\n",
       "      <th>prod_017.PM001</th>\n",
       "      <td>60029.086094</td>\n",
       "      <td>11040.000000</td>\n",
       "      <td>0.006494</td>\n",
       "      <td>0.000007</td>\n",
       "    </tr>\n",
       "    <tr>\n",
       "      <th>fornitore_597</th>\n",
       "      <td>8500.000000</td>\n",
       "      <td>0.000000</td>\n",
       "      <td>0.000000</td>\n",
       "      <td>0.000004</td>\n",
       "    </tr>\n",
       "    <tr>\n",
       "      <th>prod_017.PM507</th>\n",
       "      <td>30000.621370</td>\n",
       "      <td>8500.000000</td>\n",
       "      <td>0.004329</td>\n",
       "      <td>0.000002</td>\n",
       "    </tr>\n",
       "    <tr>\n",
       "      <th>fornitore_5624</th>\n",
       "      <td>0.000000</td>\n",
       "      <td>0.000000</td>\n",
       "      <td>0.000000</td>\n",
       "      <td>0.000006</td>\n",
       "    </tr>\n",
       "    <tr>\n",
       "      <th>prod_090.VST55</th>\n",
       "      <td>0.000000</td>\n",
       "      <td>202.000000</td>\n",
       "      <td>0.000000</td>\n",
       "      <td>0.000000</td>\n",
       "    </tr>\n",
       "    <tr>\n",
       "      <th>fornitore_3493</th>\n",
       "      <td>620.770000</td>\n",
       "      <td>0.000000</td>\n",
       "      <td>0.000000</td>\n",
       "      <td>0.000026</td>\n",
       "    </tr>\n",
       "    <tr>\n",
       "      <th>prod_090.VST33</th>\n",
       "      <td>60151.090176</td>\n",
       "      <td>668.270000</td>\n",
       "      <td>0.021645</td>\n",
       "      <td>0.000019</td>\n",
       "    </tr>\n",
       "    <tr>\n",
       "      <th>fornitore_584</th>\n",
       "      <td>1601.350000</td>\n",
       "      <td>0.000000</td>\n",
       "      <td>0.000000</td>\n",
       "      <td>0.000028</td>\n",
       "    </tr>\n",
       "    <tr>\n",
       "      <th>prod_017.PM597</th>\n",
       "      <td>0.000000</td>\n",
       "      <td>1601.350000</td>\n",
       "      <td>0.000000</td>\n",
       "      <td>0.000000</td>\n",
       "    </tr>\n",
       "    <tr>\n",
       "      <th>prod_052.MP.VT.POR.TR.45.04</th>\n",
       "      <td>0.000000</td>\n",
       "      <td>0.000000</td>\n",
       "      <td>0.000000</td>\n",
       "      <td>0.000000</td>\n",
       "    </tr>\n",
       "    <tr>\n",
       "      <th>cliente_0</th>\n",
       "      <td>0.000000</td>\n",
       "      <td>30000.610208</td>\n",
       "      <td>0.000000</td>\n",
       "      <td>0.000000</td>\n",
       "    </tr>\n",
       "    <tr>\n",
       "      <th>prod_017.PM152</th>\n",
       "      <td>200054.221840</td>\n",
       "      <td>0.000000</td>\n",
       "      <td>0.000000</td>\n",
       "      <td>0.000018</td>\n",
       "    </tr>\n",
       "    <tr>\n",
       "      <th>cliente_6</th>\n",
       "      <td>0.000000</td>\n",
       "      <td>30026.827445</td>\n",
       "      <td>0.000000</td>\n",
       "      <td>0.000000</td>\n",
       "    </tr>\n",
       "    <tr>\n",
       "      <th>cliente_8</th>\n",
       "      <td>0.000000</td>\n",
       "      <td>30049.584436</td>\n",
       "      <td>0.000000</td>\n",
       "      <td>0.000000</td>\n",
       "    </tr>\n",
       "    <tr>\n",
       "      <th>cliente_5</th>\n",
       "      <td>0.000000</td>\n",
       "      <td>20050.425556</td>\n",
       "      <td>0.000000</td>\n",
       "      <td>0.000000</td>\n",
       "    </tr>\n",
       "    <tr>\n",
       "      <th>cliente_1</th>\n",
       "      <td>0.000000</td>\n",
       "      <td>40000.533678</td>\n",
       "      <td>0.000000</td>\n",
       "      <td>0.000000</td>\n",
       "    </tr>\n",
       "    <tr>\n",
       "      <th>cliente_7</th>\n",
       "      <td>0.000000</td>\n",
       "      <td>90002.795946</td>\n",
       "      <td>0.000000</td>\n",
       "      <td>0.000000</td>\n",
       "    </tr>\n",
       "    <tr>\n",
       "      <th>cliente_4</th>\n",
       "      <td>0.000000</td>\n",
       "      <td>60079.212688</td>\n",
       "      <td>0.000000</td>\n",
       "      <td>0.000000</td>\n",
       "    </tr>\n",
       "    <tr>\n",
       "      <th>cliente_2</th>\n",
       "      <td>0.000000</td>\n",
       "      <td>40025.176517</td>\n",
       "      <td>0.000000</td>\n",
       "      <td>0.000000</td>\n",
       "    </tr>\n",
       "    <tr>\n",
       "      <th>cliente_3</th>\n",
       "      <td>0.000000</td>\n",
       "      <td>9999.853007</td>\n",
       "      <td>0.000000</td>\n",
       "      <td>0.000000</td>\n",
       "    </tr>\n",
       "  </tbody>\n",
       "</table>\n",
       "</div>"
      ],
      "text/plain": [
       "                                 in_degree    out_degree  betweenness  \\\n",
       "fornitore_1964                  249.500000      0.000000     0.000000   \n",
       "prod_045.OB.P1T                   0.000000      0.000000     0.000000   \n",
       "fornitore_1571                11040.000000      0.000000     0.000000   \n",
       "prod_017.PM001                60029.086094  11040.000000     0.006494   \n",
       "fornitore_597                  8500.000000      0.000000     0.000000   \n",
       "prod_017.PM507                30000.621370   8500.000000     0.004329   \n",
       "fornitore_5624                    0.000000      0.000000     0.000000   \n",
       "prod_090.VST55                    0.000000    202.000000     0.000000   \n",
       "fornitore_3493                  620.770000      0.000000     0.000000   \n",
       "prod_090.VST33                60151.090176    668.270000     0.021645   \n",
       "fornitore_584                  1601.350000      0.000000     0.000000   \n",
       "prod_017.PM597                    0.000000   1601.350000     0.000000   \n",
       "prod_052.MP.VT.POR.TR.45.04       0.000000      0.000000     0.000000   \n",
       "cliente_0                         0.000000  30000.610208     0.000000   \n",
       "prod_017.PM152               200054.221840      0.000000     0.000000   \n",
       "cliente_6                         0.000000  30026.827445     0.000000   \n",
       "cliente_8                         0.000000  30049.584436     0.000000   \n",
       "cliente_5                         0.000000  20050.425556     0.000000   \n",
       "cliente_1                         0.000000  40000.533678     0.000000   \n",
       "cliente_7                         0.000000  90002.795946     0.000000   \n",
       "cliente_4                         0.000000  60079.212688     0.000000   \n",
       "cliente_2                         0.000000  40025.176517     0.000000   \n",
       "cliente_3                         0.000000   9999.853007     0.000000   \n",
       "\n",
       "                             closeness  \n",
       "fornitore_1964                0.000061  \n",
       "prod_045.OB.P1T               0.000000  \n",
       "fornitore_1571                0.000007  \n",
       "prod_017.PM001                0.000007  \n",
       "fornitore_597                 0.000004  \n",
       "prod_017.PM507                0.000002  \n",
       "fornitore_5624                0.000006  \n",
       "prod_090.VST55                0.000000  \n",
       "fornitore_3493                0.000026  \n",
       "prod_090.VST33                0.000019  \n",
       "fornitore_584                 0.000028  \n",
       "prod_017.PM597                0.000000  \n",
       "prod_052.MP.VT.POR.TR.45.04   0.000000  \n",
       "cliente_0                     0.000000  \n",
       "prod_017.PM152                0.000018  \n",
       "cliente_6                     0.000000  \n",
       "cliente_8                     0.000000  \n",
       "cliente_5                     0.000000  \n",
       "cliente_1                     0.000000  \n",
       "cliente_7                     0.000000  \n",
       "cliente_4                     0.000000  \n",
       "cliente_2                     0.000000  \n",
       "cliente_3                     0.000000  "
      ]
     },
     "execution_count": 12,
     "metadata": {},
     "output_type": "execute_result"
    }
   ],
   "source": [
    "df_metrics = calculate_metrics(graph_db_product)\n",
    "df_metrics.to_csv('graph_analysis/metrics_product.csv')\n",
    "df_metrics"
   ]
  },
  {
   "cell_type": "code",
   "execution_count": 39,
   "metadata": {},
   "outputs": [
    {
     "data": {
      "text/html": [
       "<div>\n",
       "<style scoped>\n",
       "    .dataframe tbody tr th:only-of-type {\n",
       "        vertical-align: middle;\n",
       "    }\n",
       "\n",
       "    .dataframe tbody tr th {\n",
       "        vertical-align: top;\n",
       "    }\n",
       "\n",
       "    .dataframe thead th {\n",
       "        text-align: right;\n",
       "    }\n",
       "</style>\n",
       "<table border=\"1\" class=\"dataframe\">\n",
       "  <thead>\n",
       "    <tr style=\"text-align: right;\">\n",
       "      <th></th>\n",
       "      <th>source</th>\n",
       "      <th>target</th>\n",
       "      <th>type</th>\n",
       "      <th>label</th>\n",
       "      <th>label_percentage</th>\n",
       "      <th>source_id</th>\n",
       "      <th>target_id</th>\n",
       "      <th>color</th>\n",
       "    </tr>\n",
       "  </thead>\n",
       "  <tbody>\n",
       "    <tr>\n",
       "      <th>0</th>\n",
       "      <td>prod_045.OB.P1T</td>\n",
       "      <td>fornitore_1964</td>\n",
       "      <td>money_neg</td>\n",
       "      <td>0.000000</td>\n",
       "      <td>0.000000</td>\n",
       "      <td>13</td>\n",
       "      <td>20</td>\n",
       "      <td>#ff7c7f</td>\n",
       "    </tr>\n",
       "    <tr>\n",
       "      <th>1</th>\n",
       "      <td>prod_017.PM001</td>\n",
       "      <td>fornitore_1571</td>\n",
       "      <td>money_neg</td>\n",
       "      <td>11040.000000</td>\n",
       "      <td>0.501553</td>\n",
       "      <td>14</td>\n",
       "      <td>15</td>\n",
       "      <td>#ff7c7f</td>\n",
       "    </tr>\n",
       "    <tr>\n",
       "      <th>2</th>\n",
       "      <td>prod_017.PM507</td>\n",
       "      <td>fornitore_597</td>\n",
       "      <td>money_neg</td>\n",
       "      <td>8500.000000</td>\n",
       "      <td>0.386160</td>\n",
       "      <td>1</td>\n",
       "      <td>22</td>\n",
       "      <td>#ff7c7f</td>\n",
       "    </tr>\n",
       "    <tr>\n",
       "      <th>3</th>\n",
       "      <td>prod_017.PM507</td>\n",
       "      <td>fornitore_5624</td>\n",
       "      <td>money_neg</td>\n",
       "      <td>0.000000</td>\n",
       "      <td>0.000000</td>\n",
       "      <td>1</td>\n",
       "      <td>0</td>\n",
       "      <td>#ff7c7f</td>\n",
       "    </tr>\n",
       "    <tr>\n",
       "      <th>4</th>\n",
       "      <td>prod_090.VST55</td>\n",
       "      <td>fornitore_1964</td>\n",
       "      <td>money_neg</td>\n",
       "      <td>202.000000</td>\n",
       "      <td>0.009177</td>\n",
       "      <td>19</td>\n",
       "      <td>20</td>\n",
       "      <td>#ff7c7f</td>\n",
       "    </tr>\n",
       "    <tr>\n",
       "      <th>5</th>\n",
       "      <td>prod_090.VST33</td>\n",
       "      <td>fornitore_3493</td>\n",
       "      <td>money_neg</td>\n",
       "      <td>620.770000</td>\n",
       "      <td>0.028202</td>\n",
       "      <td>21</td>\n",
       "      <td>8</td>\n",
       "      <td>#ff7c7f</td>\n",
       "    </tr>\n",
       "    <tr>\n",
       "      <th>6</th>\n",
       "      <td>prod_090.VST33</td>\n",
       "      <td>fornitore_1964</td>\n",
       "      <td>money_neg</td>\n",
       "      <td>47.500000</td>\n",
       "      <td>0.002158</td>\n",
       "      <td>21</td>\n",
       "      <td>20</td>\n",
       "      <td>#ff7c7f</td>\n",
       "    </tr>\n",
       "    <tr>\n",
       "      <th>7</th>\n",
       "      <td>prod_017.PM597</td>\n",
       "      <td>fornitore_584</td>\n",
       "      <td>money_neg</td>\n",
       "      <td>1601.350000</td>\n",
       "      <td>0.072750</td>\n",
       "      <td>7</td>\n",
       "      <td>11</td>\n",
       "      <td>#ff7c7f</td>\n",
       "    </tr>\n",
       "    <tr>\n",
       "      <th>8</th>\n",
       "      <td>prod_052.MP.VT.POR.TR.45.04</td>\n",
       "      <td>fornitore_1964</td>\n",
       "      <td>money_neg</td>\n",
       "      <td>0.000000</td>\n",
       "      <td>0.000000</td>\n",
       "      <td>2</td>\n",
       "      <td>20</td>\n",
       "      <td>#ff7c7f</td>\n",
       "    </tr>\n",
       "    <tr>\n",
       "      <th>9</th>\n",
       "      <td>cliente_0</td>\n",
       "      <td>prod_017.PM152</td>\n",
       "      <td>money_pos</td>\n",
       "      <td>30000.610208</td>\n",
       "      <td>0.085659</td>\n",
       "      <td>12</td>\n",
       "      <td>18</td>\n",
       "      <td>#7cff96</td>\n",
       "    </tr>\n",
       "    <tr>\n",
       "      <th>10</th>\n",
       "      <td>cliente_6</td>\n",
       "      <td>prod_090.VST33</td>\n",
       "      <td>money_pos</td>\n",
       "      <td>10024.954253</td>\n",
       "      <td>0.028624</td>\n",
       "      <td>10</td>\n",
       "      <td>21</td>\n",
       "      <td>#7cff96</td>\n",
       "    </tr>\n",
       "    <tr>\n",
       "      <th>11</th>\n",
       "      <td>cliente_6</td>\n",
       "      <td>prod_017.PM152</td>\n",
       "      <td>money_pos</td>\n",
       "      <td>10000.278615</td>\n",
       "      <td>0.028553</td>\n",
       "      <td>10</td>\n",
       "      <td>18</td>\n",
       "      <td>#7cff96</td>\n",
       "    </tr>\n",
       "    <tr>\n",
       "      <th>12</th>\n",
       "      <td>cliente_6</td>\n",
       "      <td>prod_017.PM001</td>\n",
       "      <td>money_pos</td>\n",
       "      <td>10001.594577</td>\n",
       "      <td>0.028557</td>\n",
       "      <td>10</td>\n",
       "      <td>14</td>\n",
       "      <td>#7cff96</td>\n",
       "    </tr>\n",
       "    <tr>\n",
       "      <th>13</th>\n",
       "      <td>cliente_8</td>\n",
       "      <td>prod_017.PM152</td>\n",
       "      <td>money_pos</td>\n",
       "      <td>19999.788999</td>\n",
       "      <td>0.057104</td>\n",
       "      <td>16</td>\n",
       "      <td>18</td>\n",
       "      <td>#7cff96</td>\n",
       "    </tr>\n",
       "    <tr>\n",
       "      <th>14</th>\n",
       "      <td>cliente_8</td>\n",
       "      <td>prod_090.VST33</td>\n",
       "      <td>money_pos</td>\n",
       "      <td>10049.795436</td>\n",
       "      <td>0.028694</td>\n",
       "      <td>16</td>\n",
       "      <td>21</td>\n",
       "      <td>#7cff96</td>\n",
       "    </tr>\n",
       "    <tr>\n",
       "      <th>15</th>\n",
       "      <td>cliente_5</td>\n",
       "      <td>prod_090.VST33</td>\n",
       "      <td>money_pos</td>\n",
       "      <td>10025.212778</td>\n",
       "      <td>0.028624</td>\n",
       "      <td>17</td>\n",
       "      <td>21</td>\n",
       "      <td>#7cff96</td>\n",
       "    </tr>\n",
       "    <tr>\n",
       "      <th>16</th>\n",
       "      <td>cliente_5</td>\n",
       "      <td>prod_017.PM152</td>\n",
       "      <td>money_pos</td>\n",
       "      <td>10025.212778</td>\n",
       "      <td>0.028624</td>\n",
       "      <td>17</td>\n",
       "      <td>18</td>\n",
       "      <td>#7cff96</td>\n",
       "    </tr>\n",
       "    <tr>\n",
       "      <th>17</th>\n",
       "      <td>cliente_1</td>\n",
       "      <td>prod_017.PM152</td>\n",
       "      <td>money_pos</td>\n",
       "      <td>40000.533678</td>\n",
       "      <td>0.114211</td>\n",
       "      <td>4</td>\n",
       "      <td>18</td>\n",
       "      <td>#7cff96</td>\n",
       "    </tr>\n",
       "    <tr>\n",
       "      <th>18</th>\n",
       "      <td>cliente_7</td>\n",
       "      <td>prod_017.PM507</td>\n",
       "      <td>money_pos</td>\n",
       "      <td>30000.621370</td>\n",
       "      <td>0.085659</td>\n",
       "      <td>5</td>\n",
       "      <td>1</td>\n",
       "      <td>#7cff96</td>\n",
       "    </tr>\n",
       "    <tr>\n",
       "      <th>19</th>\n",
       "      <td>cliente_7</td>\n",
       "      <td>prod_017.PM152</td>\n",
       "      <td>money_pos</td>\n",
       "      <td>30001.087288</td>\n",
       "      <td>0.085660</td>\n",
       "      <td>5</td>\n",
       "      <td>18</td>\n",
       "      <td>#7cff96</td>\n",
       "    </tr>\n",
       "    <tr>\n",
       "      <th>20</th>\n",
       "      <td>cliente_7</td>\n",
       "      <td>prod_017.PM001</td>\n",
       "      <td>money_pos</td>\n",
       "      <td>30001.087288</td>\n",
       "      <td>0.085660</td>\n",
       "      <td>5</td>\n",
       "      <td>14</td>\n",
       "      <td>#7cff96</td>\n",
       "    </tr>\n",
       "    <tr>\n",
       "      <th>21</th>\n",
       "      <td>cliente_4</td>\n",
       "      <td>prod_017.PM152</td>\n",
       "      <td>money_pos</td>\n",
       "      <td>20026.404229</td>\n",
       "      <td>0.057180</td>\n",
       "      <td>6</td>\n",
       "      <td>18</td>\n",
       "      <td>#7cff96</td>\n",
       "    </tr>\n",
       "    <tr>\n",
       "      <th>22</th>\n",
       "      <td>cliente_4</td>\n",
       "      <td>prod_017.PM001</td>\n",
       "      <td>money_pos</td>\n",
       "      <td>20026.404229</td>\n",
       "      <td>0.057180</td>\n",
       "      <td>6</td>\n",
       "      <td>14</td>\n",
       "      <td>#7cff96</td>\n",
       "    </tr>\n",
       "    <tr>\n",
       "      <th>23</th>\n",
       "      <td>cliente_4</td>\n",
       "      <td>prod_090.VST33</td>\n",
       "      <td>money_pos</td>\n",
       "      <td>20026.404229</td>\n",
       "      <td>0.057180</td>\n",
       "      <td>6</td>\n",
       "      <td>21</td>\n",
       "      <td>#7cff96</td>\n",
       "    </tr>\n",
       "    <tr>\n",
       "      <th>24</th>\n",
       "      <td>cliente_2</td>\n",
       "      <td>prod_017.PM152</td>\n",
       "      <td>money_pos</td>\n",
       "      <td>30000.453037</td>\n",
       "      <td>0.085658</td>\n",
       "      <td>3</td>\n",
       "      <td>18</td>\n",
       "      <td>#7cff96</td>\n",
       "    </tr>\n",
       "    <tr>\n",
       "      <th>25</th>\n",
       "      <td>cliente_2</td>\n",
       "      <td>prod_090.VST33</td>\n",
       "      <td>money_pos</td>\n",
       "      <td>10024.723479</td>\n",
       "      <td>0.028623</td>\n",
       "      <td>3</td>\n",
       "      <td>21</td>\n",
       "      <td>#7cff96</td>\n",
       "    </tr>\n",
       "    <tr>\n",
       "      <th>26</th>\n",
       "      <td>cliente_3</td>\n",
       "      <td>prod_017.PM152</td>\n",
       "      <td>money_pos</td>\n",
       "      <td>9999.853007</td>\n",
       "      <td>0.028552</td>\n",
       "      <td>9</td>\n",
       "      <td>18</td>\n",
       "      <td>#7cff96</td>\n",
       "    </tr>\n",
       "  </tbody>\n",
       "</table>\n",
       "</div>"
      ],
      "text/plain": [
       "                         source          target       type         label  \\\n",
       "0               prod_045.OB.P1T  fornitore_1964  money_neg      0.000000   \n",
       "1                prod_017.PM001  fornitore_1571  money_neg  11040.000000   \n",
       "2                prod_017.PM507   fornitore_597  money_neg   8500.000000   \n",
       "3                prod_017.PM507  fornitore_5624  money_neg      0.000000   \n",
       "4                prod_090.VST55  fornitore_1964  money_neg    202.000000   \n",
       "5                prod_090.VST33  fornitore_3493  money_neg    620.770000   \n",
       "6                prod_090.VST33  fornitore_1964  money_neg     47.500000   \n",
       "7                prod_017.PM597   fornitore_584  money_neg   1601.350000   \n",
       "8   prod_052.MP.VT.POR.TR.45.04  fornitore_1964  money_neg      0.000000   \n",
       "9                     cliente_0  prod_017.PM152  money_pos  30000.610208   \n",
       "10                    cliente_6  prod_090.VST33  money_pos  10024.954253   \n",
       "11                    cliente_6  prod_017.PM152  money_pos  10000.278615   \n",
       "12                    cliente_6  prod_017.PM001  money_pos  10001.594577   \n",
       "13                    cliente_8  prod_017.PM152  money_pos  19999.788999   \n",
       "14                    cliente_8  prod_090.VST33  money_pos  10049.795436   \n",
       "15                    cliente_5  prod_090.VST33  money_pos  10025.212778   \n",
       "16                    cliente_5  prod_017.PM152  money_pos  10025.212778   \n",
       "17                    cliente_1  prod_017.PM152  money_pos  40000.533678   \n",
       "18                    cliente_7  prod_017.PM507  money_pos  30000.621370   \n",
       "19                    cliente_7  prod_017.PM152  money_pos  30001.087288   \n",
       "20                    cliente_7  prod_017.PM001  money_pos  30001.087288   \n",
       "21                    cliente_4  prod_017.PM152  money_pos  20026.404229   \n",
       "22                    cliente_4  prod_017.PM001  money_pos  20026.404229   \n",
       "23                    cliente_4  prod_090.VST33  money_pos  20026.404229   \n",
       "24                    cliente_2  prod_017.PM152  money_pos  30000.453037   \n",
       "25                    cliente_2  prod_090.VST33  money_pos  10024.723479   \n",
       "26                    cliente_3  prod_017.PM152  money_pos   9999.853007   \n",
       "\n",
       "    label_percentage  source_id  target_id    color  \n",
       "0           0.000000         13         20  #ff7c7f  \n",
       "1           0.501553         14         15  #ff7c7f  \n",
       "2           0.386160          1         22  #ff7c7f  \n",
       "3           0.000000          1          0  #ff7c7f  \n",
       "4           0.009177         19         20  #ff7c7f  \n",
       "5           0.028202         21          8  #ff7c7f  \n",
       "6           0.002158         21         20  #ff7c7f  \n",
       "7           0.072750          7         11  #ff7c7f  \n",
       "8           0.000000          2         20  #ff7c7f  \n",
       "9           0.085659         12         18  #7cff96  \n",
       "10          0.028624         10         21  #7cff96  \n",
       "11          0.028553         10         18  #7cff96  \n",
       "12          0.028557         10         14  #7cff96  \n",
       "13          0.057104         16         18  #7cff96  \n",
       "14          0.028694         16         21  #7cff96  \n",
       "15          0.028624         17         21  #7cff96  \n",
       "16          0.028624         17         18  #7cff96  \n",
       "17          0.114211          4         18  #7cff96  \n",
       "18          0.085659          5          1  #7cff96  \n",
       "19          0.085660          5         18  #7cff96  \n",
       "20          0.085660          5         14  #7cff96  \n",
       "21          0.057180          6         18  #7cff96  \n",
       "22          0.057180          6         14  #7cff96  \n",
       "23          0.057180          6         21  #7cff96  \n",
       "24          0.085658          3         18  #7cff96  \n",
       "25          0.028623          3         21  #7cff96  \n",
       "26          0.028552          9         18  #7cff96  "
      ]
     },
     "execution_count": 39,
     "metadata": {},
     "output_type": "execute_result"
    }
   ],
   "source": [
    "# create a dataframe from graph_money\n",
    "df_product = pd.DataFrame(graph_db_product.edges(data=True), columns=['source', 'target', 'data'])\n",
    "df_product['type'] = df_product['data'].apply(lambda x: x['type'])\n",
    "df_product['label'] = df_product['data'].apply(lambda x: x['label'])\n",
    "df_product['label'] = df_product['label'].apply(lambda x: round(float(x), 2) if isinstance(x, str) else x)\n",
    "money_neg_sum = df_product[df_product['type'] == 'money_neg'][\"label\"].sum()\n",
    "money_pos_sum = df_product[df_product['type'] == 'money_pos'][\"label\"].sum()\n",
    "df_product[\"label_percentage\"] = df_product.apply(lambda x: x['label']/money_neg_sum if x['type'] == 'money_neg' else x['label']/money_pos_sum, axis=1)\n",
    "df_product.drop(columns=['data'], inplace=True)\n",
    "#df_money.to_csv('graph_analysis/df_money.csv')3\n",
    "entities = list(set(df_product['source'].unique().tolist() + df_product['target'].unique().tolist()))\n",
    "# assign a number to each entity\n",
    "entity_dict = {entities[i]: i for i in range(len(entities))}\n",
    "# assign category to each entity\n",
    "entity_type = {entities[i]: graph_db_product.nodes[entities[i]]['type'] for i in range(len(entities))}\n",
    "# assign a color to each entity type\n",
    "entity_color = {'fornitore': '#e0e098', 'cliente': '#9d6ec9', 'materia': '#686868'}\n",
    "# create the list of colors for each entity\n",
    "entity_colors = [entity_color[entity_type[entity]] for entity in entities]\n",
    "df_product['source_id'] = df_product['source'].apply(lambda x: entity_dict[x])\n",
    "df_product['target_id'] = df_product['target'].apply(lambda x: entity_dict[x])\n",
    "# assign a color to each type\n",
    "df_product['color'] = df_product['type'].apply(lambda x: '#ff7c7f' if x == 'money_neg' else '#7cff96')\n",
    "# label percentage must be negative for money_neg\n",
    "df_product"
   ]
  },
  {
   "cell_type": "code",
   "execution_count": 42,
   "metadata": {},
   "outputs": [],
   "source": [
    "sources = df_product['source_id'].to_list()\n",
    "targets = df_product['target_id'].to_list()\n",
    "nodes = list(set(sources + targets))\n",
    "values = df_product['label_percentage'].to_list()\n",
    "values = [round(x, 2) for x in values]\n",
    "edge_colors = df_product['color'].to_list()"
   ]
  },
  {
   "cell_type": "code",
   "execution_count": 50,
   "metadata": {},
   "outputs": [
    {
     "data": {
      "application/vnd.plotly.v1+json": {
       "config": {
        "plotlyServerURL": "https://plot.ly"
       },
       "data": [
        {
         "link": {
          "arrowlen": 10,
          "color": [
           "#ff7c7f",
           "#ff7c7f",
           "#ff7c7f",
           "#ff7c7f",
           "#ff7c7f",
           "#ff7c7f",
           "#ff7c7f",
           "#ff7c7f",
           "#ff7c7f",
           "#7cff96",
           "#7cff96",
           "#7cff96",
           "#7cff96",
           "#7cff96",
           "#7cff96",
           "#7cff96",
           "#7cff96",
           "#7cff96",
           "#7cff96",
           "#7cff96",
           "#7cff96",
           "#7cff96",
           "#7cff96",
           "#7cff96",
           "#7cff96",
           "#7cff96",
           "#7cff96"
          ],
          "source": [
           13,
           14,
           1,
           1,
           19,
           21,
           21,
           7,
           2,
           12,
           10,
           10,
           10,
           16,
           16,
           17,
           17,
           4,
           5,
           5,
           5,
           6,
           6,
           6,
           3,
           3,
           9
          ],
          "target": [
           20,
           15,
           22,
           0,
           20,
           8,
           20,
           11,
           20,
           18,
           21,
           18,
           14,
           18,
           21,
           21,
           18,
           18,
           1,
           18,
           14,
           18,
           14,
           21,
           18,
           21,
           18
          ],
          "value": [
           0,
           0.5,
           0.39,
           0,
           0.01,
           0.03,
           0,
           0.07,
           0,
           0.09,
           0.03,
           0.03,
           0.03,
           0.06,
           0.03,
           0.03,
           0.03,
           0.11,
           0.09,
           0.09,
           0.09,
           0.06,
           0.06,
           0.06,
           0.09,
           0.03,
           0.03
          ]
         },
         "node": {
          "color": [
           "#e0e098",
           "#686868",
           "#686868",
           "#9d6ec9",
           "#9d6ec9",
           "#9d6ec9",
           "#9d6ec9",
           "#686868",
           "#e0e098",
           "#9d6ec9",
           "#9d6ec9",
           "#e0e098",
           "#9d6ec9",
           "#686868",
           "#686868",
           "#e0e098",
           "#9d6ec9",
           "#9d6ec9",
           "#686868",
           "#686868",
           "#e0e098",
           "#686868",
           "#e0e098"
          ],
          "label": [
           "fornitore_5624",
           "prod_017.PM507",
           "prod_052.MP.VT.POR.TR.45.04",
           "cliente_2",
           "cliente_1",
           "cliente_7",
           "cliente_4",
           "prod_017.PM597",
           "fornitore_3493",
           "cliente_3",
           "cliente_6",
           "fornitore_584",
           "cliente_0",
           "prod_045.OB.P1T",
           "prod_017.PM001",
           "fornitore_1571",
           "cliente_8",
           "cliente_5",
           "prod_017.PM152",
           "prod_090.VST55",
           "fornitore_1964",
           "prod_090.VST33",
           "fornitore_597"
          ],
          "line": {
           "color": "black",
           "width": 0.5
          },
          "pad": 15,
          "thickness": 15
         },
         "type": "sankey",
         "valueformat": ".2%"
        }
       ],
       "layout": {
        "font": {
         "size": 10
        },
        "height": 600,
        "template": {
         "data": {
          "bar": [
           {
            "error_x": {
             "color": "#2a3f5f"
            },
            "error_y": {
             "color": "#2a3f5f"
            },
            "marker": {
             "line": {
              "color": "#E5ECF6",
              "width": 0.5
             },
             "pattern": {
              "fillmode": "overlay",
              "size": 10,
              "solidity": 0.2
             }
            },
            "type": "bar"
           }
          ],
          "barpolar": [
           {
            "marker": {
             "line": {
              "color": "#E5ECF6",
              "width": 0.5
             },
             "pattern": {
              "fillmode": "overlay",
              "size": 10,
              "solidity": 0.2
             }
            },
            "type": "barpolar"
           }
          ],
          "carpet": [
           {
            "aaxis": {
             "endlinecolor": "#2a3f5f",
             "gridcolor": "white",
             "linecolor": "white",
             "minorgridcolor": "white",
             "startlinecolor": "#2a3f5f"
            },
            "baxis": {
             "endlinecolor": "#2a3f5f",
             "gridcolor": "white",
             "linecolor": "white",
             "minorgridcolor": "white",
             "startlinecolor": "#2a3f5f"
            },
            "type": "carpet"
           }
          ],
          "choropleth": [
           {
            "colorbar": {
             "outlinewidth": 0,
             "ticks": ""
            },
            "type": "choropleth"
           }
          ],
          "contour": [
           {
            "colorbar": {
             "outlinewidth": 0,
             "ticks": ""
            },
            "colorscale": [
             [
              0,
              "#0d0887"
             ],
             [
              0.1111111111111111,
              "#46039f"
             ],
             [
              0.2222222222222222,
              "#7201a8"
             ],
             [
              0.3333333333333333,
              "#9c179e"
             ],
             [
              0.4444444444444444,
              "#bd3786"
             ],
             [
              0.5555555555555556,
              "#d8576b"
             ],
             [
              0.6666666666666666,
              "#ed7953"
             ],
             [
              0.7777777777777778,
              "#fb9f3a"
             ],
             [
              0.8888888888888888,
              "#fdca26"
             ],
             [
              1,
              "#f0f921"
             ]
            ],
            "type": "contour"
           }
          ],
          "contourcarpet": [
           {
            "colorbar": {
             "outlinewidth": 0,
             "ticks": ""
            },
            "type": "contourcarpet"
           }
          ],
          "heatmap": [
           {
            "colorbar": {
             "outlinewidth": 0,
             "ticks": ""
            },
            "colorscale": [
             [
              0,
              "#0d0887"
             ],
             [
              0.1111111111111111,
              "#46039f"
             ],
             [
              0.2222222222222222,
              "#7201a8"
             ],
             [
              0.3333333333333333,
              "#9c179e"
             ],
             [
              0.4444444444444444,
              "#bd3786"
             ],
             [
              0.5555555555555556,
              "#d8576b"
             ],
             [
              0.6666666666666666,
              "#ed7953"
             ],
             [
              0.7777777777777778,
              "#fb9f3a"
             ],
             [
              0.8888888888888888,
              "#fdca26"
             ],
             [
              1,
              "#f0f921"
             ]
            ],
            "type": "heatmap"
           }
          ],
          "heatmapgl": [
           {
            "colorbar": {
             "outlinewidth": 0,
             "ticks": ""
            },
            "colorscale": [
             [
              0,
              "#0d0887"
             ],
             [
              0.1111111111111111,
              "#46039f"
             ],
             [
              0.2222222222222222,
              "#7201a8"
             ],
             [
              0.3333333333333333,
              "#9c179e"
             ],
             [
              0.4444444444444444,
              "#bd3786"
             ],
             [
              0.5555555555555556,
              "#d8576b"
             ],
             [
              0.6666666666666666,
              "#ed7953"
             ],
             [
              0.7777777777777778,
              "#fb9f3a"
             ],
             [
              0.8888888888888888,
              "#fdca26"
             ],
             [
              1,
              "#f0f921"
             ]
            ],
            "type": "heatmapgl"
           }
          ],
          "histogram": [
           {
            "marker": {
             "pattern": {
              "fillmode": "overlay",
              "size": 10,
              "solidity": 0.2
             }
            },
            "type": "histogram"
           }
          ],
          "histogram2d": [
           {
            "colorbar": {
             "outlinewidth": 0,
             "ticks": ""
            },
            "colorscale": [
             [
              0,
              "#0d0887"
             ],
             [
              0.1111111111111111,
              "#46039f"
             ],
             [
              0.2222222222222222,
              "#7201a8"
             ],
             [
              0.3333333333333333,
              "#9c179e"
             ],
             [
              0.4444444444444444,
              "#bd3786"
             ],
             [
              0.5555555555555556,
              "#d8576b"
             ],
             [
              0.6666666666666666,
              "#ed7953"
             ],
             [
              0.7777777777777778,
              "#fb9f3a"
             ],
             [
              0.8888888888888888,
              "#fdca26"
             ],
             [
              1,
              "#f0f921"
             ]
            ],
            "type": "histogram2d"
           }
          ],
          "histogram2dcontour": [
           {
            "colorbar": {
             "outlinewidth": 0,
             "ticks": ""
            },
            "colorscale": [
             [
              0,
              "#0d0887"
             ],
             [
              0.1111111111111111,
              "#46039f"
             ],
             [
              0.2222222222222222,
              "#7201a8"
             ],
             [
              0.3333333333333333,
              "#9c179e"
             ],
             [
              0.4444444444444444,
              "#bd3786"
             ],
             [
              0.5555555555555556,
              "#d8576b"
             ],
             [
              0.6666666666666666,
              "#ed7953"
             ],
             [
              0.7777777777777778,
              "#fb9f3a"
             ],
             [
              0.8888888888888888,
              "#fdca26"
             ],
             [
              1,
              "#f0f921"
             ]
            ],
            "type": "histogram2dcontour"
           }
          ],
          "mesh3d": [
           {
            "colorbar": {
             "outlinewidth": 0,
             "ticks": ""
            },
            "type": "mesh3d"
           }
          ],
          "parcoords": [
           {
            "line": {
             "colorbar": {
              "outlinewidth": 0,
              "ticks": ""
             }
            },
            "type": "parcoords"
           }
          ],
          "pie": [
           {
            "automargin": true,
            "type": "pie"
           }
          ],
          "scatter": [
           {
            "fillpattern": {
             "fillmode": "overlay",
             "size": 10,
             "solidity": 0.2
            },
            "type": "scatter"
           }
          ],
          "scatter3d": [
           {
            "line": {
             "colorbar": {
              "outlinewidth": 0,
              "ticks": ""
             }
            },
            "marker": {
             "colorbar": {
              "outlinewidth": 0,
              "ticks": ""
             }
            },
            "type": "scatter3d"
           }
          ],
          "scattercarpet": [
           {
            "marker": {
             "colorbar": {
              "outlinewidth": 0,
              "ticks": ""
             }
            },
            "type": "scattercarpet"
           }
          ],
          "scattergeo": [
           {
            "marker": {
             "colorbar": {
              "outlinewidth": 0,
              "ticks": ""
             }
            },
            "type": "scattergeo"
           }
          ],
          "scattergl": [
           {
            "marker": {
             "colorbar": {
              "outlinewidth": 0,
              "ticks": ""
             }
            },
            "type": "scattergl"
           }
          ],
          "scattermapbox": [
           {
            "marker": {
             "colorbar": {
              "outlinewidth": 0,
              "ticks": ""
             }
            },
            "type": "scattermapbox"
           }
          ],
          "scatterpolar": [
           {
            "marker": {
             "colorbar": {
              "outlinewidth": 0,
              "ticks": ""
             }
            },
            "type": "scatterpolar"
           }
          ],
          "scatterpolargl": [
           {
            "marker": {
             "colorbar": {
              "outlinewidth": 0,
              "ticks": ""
             }
            },
            "type": "scatterpolargl"
           }
          ],
          "scatterternary": [
           {
            "marker": {
             "colorbar": {
              "outlinewidth": 0,
              "ticks": ""
             }
            },
            "type": "scatterternary"
           }
          ],
          "surface": [
           {
            "colorbar": {
             "outlinewidth": 0,
             "ticks": ""
            },
            "colorscale": [
             [
              0,
              "#0d0887"
             ],
             [
              0.1111111111111111,
              "#46039f"
             ],
             [
              0.2222222222222222,
              "#7201a8"
             ],
             [
              0.3333333333333333,
              "#9c179e"
             ],
             [
              0.4444444444444444,
              "#bd3786"
             ],
             [
              0.5555555555555556,
              "#d8576b"
             ],
             [
              0.6666666666666666,
              "#ed7953"
             ],
             [
              0.7777777777777778,
              "#fb9f3a"
             ],
             [
              0.8888888888888888,
              "#fdca26"
             ],
             [
              1,
              "#f0f921"
             ]
            ],
            "type": "surface"
           }
          ],
          "table": [
           {
            "cells": {
             "fill": {
              "color": "#EBF0F8"
             },
             "line": {
              "color": "white"
             }
            },
            "header": {
             "fill": {
              "color": "#C8D4E3"
             },
             "line": {
              "color": "white"
             }
            },
            "type": "table"
           }
          ]
         },
         "layout": {
          "annotationdefaults": {
           "arrowcolor": "#2a3f5f",
           "arrowhead": 0,
           "arrowwidth": 1
          },
          "autotypenumbers": "strict",
          "coloraxis": {
           "colorbar": {
            "outlinewidth": 0,
            "ticks": ""
           }
          },
          "colorscale": {
           "diverging": [
            [
             0,
             "#8e0152"
            ],
            [
             0.1,
             "#c51b7d"
            ],
            [
             0.2,
             "#de77ae"
            ],
            [
             0.3,
             "#f1b6da"
            ],
            [
             0.4,
             "#fde0ef"
            ],
            [
             0.5,
             "#f7f7f7"
            ],
            [
             0.6,
             "#e6f5d0"
            ],
            [
             0.7,
             "#b8e186"
            ],
            [
             0.8,
             "#7fbc41"
            ],
            [
             0.9,
             "#4d9221"
            ],
            [
             1,
             "#276419"
            ]
           ],
           "sequential": [
            [
             0,
             "#0d0887"
            ],
            [
             0.1111111111111111,
             "#46039f"
            ],
            [
             0.2222222222222222,
             "#7201a8"
            ],
            [
             0.3333333333333333,
             "#9c179e"
            ],
            [
             0.4444444444444444,
             "#bd3786"
            ],
            [
             0.5555555555555556,
             "#d8576b"
            ],
            [
             0.6666666666666666,
             "#ed7953"
            ],
            [
             0.7777777777777778,
             "#fb9f3a"
            ],
            [
             0.8888888888888888,
             "#fdca26"
            ],
            [
             1,
             "#f0f921"
            ]
           ],
           "sequentialminus": [
            [
             0,
             "#0d0887"
            ],
            [
             0.1111111111111111,
             "#46039f"
            ],
            [
             0.2222222222222222,
             "#7201a8"
            ],
            [
             0.3333333333333333,
             "#9c179e"
            ],
            [
             0.4444444444444444,
             "#bd3786"
            ],
            [
             0.5555555555555556,
             "#d8576b"
            ],
            [
             0.6666666666666666,
             "#ed7953"
            ],
            [
             0.7777777777777778,
             "#fb9f3a"
            ],
            [
             0.8888888888888888,
             "#fdca26"
            ],
            [
             1,
             "#f0f921"
            ]
           ]
          },
          "colorway": [
           "#636efa",
           "#EF553B",
           "#00cc96",
           "#ab63fa",
           "#FFA15A",
           "#19d3f3",
           "#FF6692",
           "#B6E880",
           "#FF97FF",
           "#FECB52"
          ],
          "font": {
           "color": "#2a3f5f"
          },
          "geo": {
           "bgcolor": "white",
           "lakecolor": "white",
           "landcolor": "#E5ECF6",
           "showlakes": true,
           "showland": true,
           "subunitcolor": "white"
          },
          "hoverlabel": {
           "align": "left"
          },
          "hovermode": "closest",
          "mapbox": {
           "style": "light"
          },
          "paper_bgcolor": "white",
          "plot_bgcolor": "#E5ECF6",
          "polar": {
           "angularaxis": {
            "gridcolor": "white",
            "linecolor": "white",
            "ticks": ""
           },
           "bgcolor": "#E5ECF6",
           "radialaxis": {
            "gridcolor": "white",
            "linecolor": "white",
            "ticks": ""
           }
          },
          "scene": {
           "xaxis": {
            "backgroundcolor": "#E5ECF6",
            "gridcolor": "white",
            "gridwidth": 2,
            "linecolor": "white",
            "showbackground": true,
            "ticks": "",
            "zerolinecolor": "white"
           },
           "yaxis": {
            "backgroundcolor": "#E5ECF6",
            "gridcolor": "white",
            "gridwidth": 2,
            "linecolor": "white",
            "showbackground": true,
            "ticks": "",
            "zerolinecolor": "white"
           },
           "zaxis": {
            "backgroundcolor": "#E5ECF6",
            "gridcolor": "white",
            "gridwidth": 2,
            "linecolor": "white",
            "showbackground": true,
            "ticks": "",
            "zerolinecolor": "white"
           }
          },
          "shapedefaults": {
           "line": {
            "color": "#2a3f5f"
           }
          },
          "ternary": {
           "aaxis": {
            "gridcolor": "white",
            "linecolor": "white",
            "ticks": ""
           },
           "baxis": {
            "gridcolor": "white",
            "linecolor": "white",
            "ticks": ""
           },
           "bgcolor": "#E5ECF6",
           "caxis": {
            "gridcolor": "white",
            "linecolor": "white",
            "ticks": ""
           }
          },
          "title": {
           "x": 0.05
          },
          "xaxis": {
           "automargin": true,
           "gridcolor": "white",
           "linecolor": "white",
           "ticks": "",
           "title": {
            "standoff": 15
           },
           "zerolinecolor": "white",
           "zerolinewidth": 2
          },
          "yaxis": {
           "automargin": true,
           "gridcolor": "white",
           "linecolor": "white",
           "ticks": "",
           "title": {
            "standoff": 15
           },
           "zerolinecolor": "white",
           "zerolinewidth": 2
          }
         }
        },
        "title": {
         "text": "Products money flow"
        },
        "width": 1500
       }
      }
     },
     "metadata": {},
     "output_type": "display_data"
    }
   ],
   "source": [
    "fig = go.Figure(\n",
    "    data=\n",
    "    [\n",
    "      go.Sankey(\n",
    "        valueformat = \".2%\",\n",
    "        #valuesuffix = \"%\",\n",
    "        #arrangement='snap',\n",
    "        # Define nodes\n",
    "        node = dict(\n",
    "          pad = 15,\n",
    "          thickness = 15,\n",
    "          line = dict(color = \"black\", width = 0.5),\n",
    "          label =  list(entity_dict.keys()),\n",
    "          color =  entity_colors,\n",
    "          #align=\"left\",\n",
    "        ),\n",
    "        # Add links\n",
    "        link = dict(\n",
    "          arrowlen=10,\n",
    "          source = sources,\n",
    "          target =  targets,\n",
    "          value =  values,\n",
    "          #label =  df_product['label_percentage'].to_list(),\n",
    "          color =  edge_colors\n",
    "        )\n",
    "      )\n",
    "    ]\n",
    ")\n",
    "\n",
    "fig.update_layout(title_text=\"Products money flow\",\n",
    "                  font_size=10, height=600, width=1500)\n",
    "fig.write_html('graph_analysis/sankey_product.html')\n",
    "fig.show()"
   ]
  },
  {
   "cell_type": "code",
   "execution_count": 118,
   "metadata": {},
   "outputs": [],
   "source": [
    "work_product_graph = nx.DiGraph()\n",
    "for i in range(0,15):\n",
    "    quantity = np.random.randint(125, 350)\n",
    "    work_product_graph.add_node(\"p_l0_\"+str(i)+\"(\"+str(quantity)+\")\", label=\"p_l0_\"+str(i)+\"(\"+str(quantity)+\")\", type='product_l0', quantity=quantity, status='sufficient')\n",
    "for i in range(0,10):\n",
    "    quantity = np.random.randint(5, 30)\n",
    "    work_product_graph.add_node(\"p_l1_\"+str(i)+\"(\"+str(quantity)+\")\", label=\"p_l1_\"+str(i)+\"(\"+str(quantity)+\")\", type='product_l1', quantity=quantity, status='sufficient')\n",
    "for i in range(0,3):\n",
    "    quantity = np.random.randint(1, 5)\n",
    "    work_product_graph.add_node(\"p_l2_\"+str(i)+\"(\"+str(quantity)+\")\", label=\"p_l2_\"+str(i)+\"(\"+str(quantity)+\")\", type='product_l2', quantity=quantity, status='sufficient')\n",
    "\n",
    "product_l0_nodes = [node for node in work_product_graph.nodes() if 'p_l0' in node]\n",
    "len_l0 = len(product_l0_nodes)\n",
    "product_l1_nodes = [node for node in work_product_graph.nodes() if 'p_l1' in node]\n",
    "len_l1 = len(product_l1_nodes)\n",
    "product_l2_nodes = [node for node in work_product_graph.nodes() if 'p_l2' in node]\n",
    "len_l2 = len(product_l2_nodes)\n",
    "for i in range(0, 100):\n",
    "    random_l0 = np.random.randint(0, len_l0)\n",
    "    random_l1 = np.random.randint(0, len_l1)\n",
    "    random_l2 = np.random.randint(0, len_l2)\n",
    "    if np.random.rand() > 0.75:\n",
    "        w = int(np.random.rand()*10+1)\n",
    "        node_l0 = product_l0_nodes[random_l0]\n",
    "        node_l1 = product_l1_nodes[random_l1]\n",
    "        node_l0_quantity = work_product_graph.nodes[node_l0]['quantity']\n",
    "        node_l1_quantity = work_product_graph.nodes[node_l1]['quantity']\n",
    "        work_product_graph.add_edge(node_l0, node_l1, weight=w, label=str(w), status='ok')\n",
    "        if np.random.rand() > 0.5:\n",
    "            w = int(np.random.rand()*5+1)\n",
    "            node_l1 = product_l1_nodes[random_l1]\n",
    "            node_l2 = product_l2_nodes[random_l2]\n",
    "            node_l1_quantity = work_product_graph.nodes[node_l1]['quantity']\n",
    "            node_l2_quantity = work_product_graph.nodes[node_l2]['quantity']\n",
    "            work_product_graph.add_edge(node_l1, node_l2, weight=w, label=str(w), status='ok')\n",
    "# for every edge\n",
    "for edge in work_product_graph.edges(data=True):\n",
    "    node_1 = edge[0]\n",
    "    node_1_quantity = work_product_graph.nodes[node_1]['quantity']\n",
    "    node_2 = edge[1]\n",
    "    node_2_quantity = work_product_graph.nodes[node_2]['quantity']\n",
    "    edge_weight = edge[2]['weight']\n",
    "    if node_1_quantity < edge_weight*node_2_quantity:\n",
    "        edge[2]['status'] = 'not ok'\n",
    "        work_product_graph.nodes[node_1]['status'] = 'insufficient'\n",
    "        work_product_graph.nodes[node_2]['status'] = 'blocked'\n",
    "\n",
    "#change = True\n",
    "#while change:\n",
    "    change = False\n",
    "    # all the edges that come out from a node with status blocked or insufficient must be not ok\n",
    "    for node in work_product_graph.nodes(data=True):\n",
    "        if node[1]['status'] == 'blocked' or node[1]['status'] == 'insufficient':\n",
    "            for edge in work_product_graph.edges(node[0], data=True):\n",
    "                edge[2]['status'] = 'not ok'\n",
    "            change = True\n",
    "    # all nodes that receive an edge with status not ok must be blocked\n",
    "    for edge in work_product_graph.edges(data=True):\n",
    "        if edge[2]['status'] == 'not ok':\n",
    "            work_product_graph.nodes[edge[1]]['status'] = 'blocked'\n",
    "            change = True\n",
    "# remove nodes not connected\n",
    "nodes_to_remove = [node for node in work_product_graph.nodes() if work_product_graph.degree(node) == 0]\n",
    "work_product_graph.remove_nodes_from(nodes_to_remove)"
   ]
  },
  {
   "cell_type": "code",
   "execution_count": 119,
   "metadata": {},
   "outputs": [
    {
     "name": "stdout",
     "output_type": "stream",
     "text": [
      "graph_analysis/work_products_graph.html\n"
     ]
    },
    {
     "data": {
      "text/html": [
       "\n",
       "        <iframe\n",
       "            width=\"100%\"\n",
       "            height=\"1024px\"\n",
       "            src=\"graph_analysis/work_products_graph.html\"\n",
       "            frameborder=\"0\"\n",
       "            allowfullscreen\n",
       "            \n",
       "        ></iframe>\n",
       "        "
      ],
      "text/plain": [
       "<IPython.lib.display.IFrame at 0x793bf0014760>"
      ]
     },
     "execution_count": 119,
     "metadata": {},
     "output_type": "execute_result"
    }
   ],
   "source": [
    "# create pyvis network\n",
    "nt = Network(height=\"1024px\", width=\"100%\",\n",
    "             notebook=True, directed=True, \n",
    "             neighborhood_highlight=True, select_menu=True, \n",
    "             filter_menu=True, cdn_resources='in_line', bgcolor=\"#f4f4f4\")\n",
    "#nt.from_nx(mrg)\n",
    "node_colors = {'product_l0': '#aad2ff', 'product_l1': '#56a5ff', 'product_l2': '#0579ff'}\n",
    "for node in work_product_graph.nodes(data=True):\n",
    "    node_name = node[0]\n",
    "    node_type = node[1]['type']\n",
    "    node_quantity = node[1]['quantity']\n",
    "    node_color = node_colors[node_type]\n",
    "    node_status = node[1]['status']\n",
    "    if node_status == \"insufficient\":\n",
    "        node_color = \"#db2525\"\n",
    "    if node_status == \"blocked\":\n",
    "        node_color = \"#6b6b6b\"\n",
    "    nt.add_node(node_name, title=node, color=node_color, value=node_quantity)\n",
    "for edge in work_product_graph.edges(data=True):\n",
    "    node_1_type = work_product_graph.nodes[edge[0]]['type']\n",
    "    val = edge[2]['weight']\n",
    "    val = round(val, 2)\n",
    "    label = edge[2]['label']\n",
    "    try :\n",
    "        label = float(label)\n",
    "    except:\n",
    "        label = edge[2]['label']\n",
    "    if isinstance(label, float):\n",
    "        label = round(label, 0)\n",
    "    if edge[2]['status'] == 'not ok':\n",
    "        edge_color = \"#db2525\"\n",
    "    else:\n",
    "        edge_color = node_colors[node_1_type]\n",
    "    nt.add_edge(edge[0], edge[1], \n",
    "                value=val, \n",
    "                weight=val,\n",
    "                title=str(val),\n",
    "                label=str(label),\n",
    "                color=edge_color,\n",
    "    )\n",
    "nt.force_atlas_2based(gravity=-50, overlap=1.0, central_gravity=0.005)\n",
    "nt.show_buttons(filter_=['physics'])#,'nodes'\n",
    "nt.show(\"graph_analysis/work_products_graph.html\")"
   ]
  },
  {
   "cell_type": "code",
   "execution_count": 139,
   "metadata": {},
   "outputs": [
    {
     "data": {
      "text/html": [
       "<div>\n",
       "<style scoped>\n",
       "    .dataframe tbody tr th:only-of-type {\n",
       "        vertical-align: middle;\n",
       "    }\n",
       "\n",
       "    .dataframe tbody tr th {\n",
       "        vertical-align: top;\n",
       "    }\n",
       "\n",
       "    .dataframe thead th {\n",
       "        text-align: right;\n",
       "    }\n",
       "</style>\n",
       "<table border=\"1\" class=\"dataframe\">\n",
       "  <thead>\n",
       "    <tr style=\"text-align: right;\">\n",
       "      <th></th>\n",
       "      <th>p1</th>\n",
       "      <th>p2</th>\n",
       "      <th>work</th>\n",
       "    </tr>\n",
       "  </thead>\n",
       "  <tbody>\n",
       "    <tr>\n",
       "      <th>0</th>\n",
       "      <td>9</td>\n",
       "      <td>12</td>\n",
       "      <td>5</td>\n",
       "    </tr>\n",
       "    <tr>\n",
       "      <th>1</th>\n",
       "      <td>3</td>\n",
       "      <td>14</td>\n",
       "      <td>2</td>\n",
       "    </tr>\n",
       "    <tr>\n",
       "      <th>2</th>\n",
       "      <td>3</td>\n",
       "      <td>11</td>\n",
       "      <td>5</td>\n",
       "    </tr>\n",
       "    <tr>\n",
       "      <th>3</th>\n",
       "      <td>4</td>\n",
       "      <td>11</td>\n",
       "      <td>6</td>\n",
       "    </tr>\n",
       "    <tr>\n",
       "      <th>4</th>\n",
       "      <td>4</td>\n",
       "      <td>11</td>\n",
       "      <td>9</td>\n",
       "    </tr>\n",
       "    <tr>\n",
       "      <th>5</th>\n",
       "      <td>3</td>\n",
       "      <td>14</td>\n",
       "      <td>2</td>\n",
       "    </tr>\n",
       "    <tr>\n",
       "      <th>6</th>\n",
       "      <td>7</td>\n",
       "      <td>11</td>\n",
       "      <td>2</td>\n",
       "    </tr>\n",
       "    <tr>\n",
       "      <th>7</th>\n",
       "      <td>4</td>\n",
       "      <td>10</td>\n",
       "      <td>9</td>\n",
       "    </tr>\n",
       "    <tr>\n",
       "      <th>8</th>\n",
       "      <td>8</td>\n",
       "      <td>14</td>\n",
       "      <td>3</td>\n",
       "    </tr>\n",
       "    <tr>\n",
       "      <th>9</th>\n",
       "      <td>3</td>\n",
       "      <td>10</td>\n",
       "      <td>5</td>\n",
       "    </tr>\n",
       "    <tr>\n",
       "      <th>10</th>\n",
       "      <td>6</td>\n",
       "      <td>12</td>\n",
       "      <td>5</td>\n",
       "    </tr>\n",
       "    <tr>\n",
       "      <th>11</th>\n",
       "      <td>1</td>\n",
       "      <td>12</td>\n",
       "      <td>6</td>\n",
       "    </tr>\n",
       "    <tr>\n",
       "      <th>12</th>\n",
       "      <td>7</td>\n",
       "      <td>13</td>\n",
       "      <td>7</td>\n",
       "    </tr>\n",
       "    <tr>\n",
       "      <th>13</th>\n",
       "      <td>5</td>\n",
       "      <td>11</td>\n",
       "      <td>1</td>\n",
       "    </tr>\n",
       "    <tr>\n",
       "      <th>14</th>\n",
       "      <td>5</td>\n",
       "      <td>12</td>\n",
       "      <td>9</td>\n",
       "    </tr>\n",
       "    <tr>\n",
       "      <th>15</th>\n",
       "      <td>12</td>\n",
       "      <td>17</td>\n",
       "      <td>23</td>\n",
       "    </tr>\n",
       "    <tr>\n",
       "      <th>16</th>\n",
       "      <td>13</td>\n",
       "      <td>16</td>\n",
       "      <td>11</td>\n",
       "    </tr>\n",
       "    <tr>\n",
       "      <th>17</th>\n",
       "      <td>11</td>\n",
       "      <td>15</td>\n",
       "      <td>15</td>\n",
       "    </tr>\n",
       "    <tr>\n",
       "      <th>18</th>\n",
       "      <td>12</td>\n",
       "      <td>15</td>\n",
       "      <td>4</td>\n",
       "    </tr>\n",
       "    <tr>\n",
       "      <th>19</th>\n",
       "      <td>13</td>\n",
       "      <td>17</td>\n",
       "      <td>3</td>\n",
       "    </tr>\n",
       "  </tbody>\n",
       "</table>\n",
       "</div>"
      ],
      "text/plain": [
       "    p1  p2  work\n",
       "0    9  12     5\n",
       "1    3  14     2\n",
       "2    3  11     5\n",
       "3    4  11     6\n",
       "4    4  11     9\n",
       "5    3  14     2\n",
       "6    7  11     2\n",
       "7    4  10     9\n",
       "8    8  14     3\n",
       "9    3  10     5\n",
       "10   6  12     5\n",
       "11   1  12     6\n",
       "12   7  13     7\n",
       "13   5  11     1\n",
       "14   5  12     9\n",
       "15  12  17    23\n",
       "16  13  16    11\n",
       "17  11  15    15\n",
       "18  12  15     4\n",
       "19  13  17     3"
      ]
     },
     "execution_count": 139,
     "metadata": {},
     "output_type": "execute_result"
    }
   ],
   "source": [
    "random_1 = np.random.randint(0, 10)\n",
    "random_2 = np.random.randint(0, 5)\n",
    "random_3 = np.random.randint(0, 3)\n",
    "\n",
    "dict_work = {\"p1\":[], \"p2\":[], \"work\":[]}\n",
    "for i in range(0, 15):\n",
    "    random_1 = np.random.randint(1, 10)\n",
    "    random_2 = np.random.randint(10, 15)\n",
    "    dict_work[\"p1\"].append(random_1)\n",
    "    dict_work[\"p2\"].append(random_2)\n",
    "    work = np.random.randint(1, 10)\n",
    "    dict_work[\"work\"].append(work)\n",
    "for i in range(0, 5):\n",
    "    random_2 = np.random.randint(10, 15)\n",
    "    random_3 = np.random.randint(15, 18)\n",
    "    dict_work[\"p1\"].append(random_2)\n",
    "    dict_work[\"p2\"].append(random_3)\n",
    "    work = np.random.randint(1, 25)\n",
    "    dict_work[\"work\"].append(work)\n",
    "\n",
    "df_work = pd.DataFrame(dict_work)\n",
    "df_work"
   ]
  },
  {
   "cell_type": "code",
   "execution_count": 140,
   "metadata": {},
   "outputs": [
    {
     "data": {
      "text/plain": [
       "[9, 3, 4, 7, 8, 6, 1, 5, 12, 13, 11, 12, 14, 11, 10, 13, 17, 16, 15]"
      ]
     },
     "execution_count": 140,
     "metadata": {},
     "output_type": "execute_result"
    }
   ],
   "source": [
    "entities = list((df_work['p1'].unique().tolist() + df_work['p2'].unique().tolist()))\n",
    "entities"
   ]
  },
  {
   "cell_type": "code",
   "execution_count": 142,
   "metadata": {},
   "outputs": [
    {
     "data": {
      "application/vnd.plotly.v1+json": {
       "config": {
        "plotlyServerURL": "https://plot.ly"
       },
       "data": [
        {
         "link": {
          "arrowlen": 10,
          "color": "#ddc696",
          "source": [
           9,
           3,
           3,
           4,
           4,
           3,
           7,
           4,
           8,
           3,
           6,
           1,
           7,
           5,
           5,
           12,
           13,
           11,
           12,
           13
          ],
          "target": [
           12,
           14,
           11,
           11,
           11,
           14,
           11,
           10,
           14,
           10,
           12,
           12,
           13,
           11,
           12,
           17,
           16,
           15,
           15,
           17
          ],
          "value": [
           5,
           2,
           5,
           6,
           9,
           2,
           2,
           9,
           3,
           5,
           5,
           6,
           7,
           1,
           9,
           23,
           11,
           15,
           4,
           3
          ]
         },
         "node": {
          "label": [
           9,
           3,
           4,
           7,
           8,
           6,
           1,
           5,
           12,
           13,
           11,
           12,
           14,
           11,
           10,
           13,
           17,
           16,
           15
          ],
          "line": {
           "color": "blue",
           "width": 0.5
          },
          "pad": 15,
          "thickness": 15
         },
         "type": "sankey"
        }
       ],
       "layout": {
        "font": {
         "size": 10
        },
        "height": 600,
        "template": {
         "data": {
          "bar": [
           {
            "error_x": {
             "color": "#2a3f5f"
            },
            "error_y": {
             "color": "#2a3f5f"
            },
            "marker": {
             "line": {
              "color": "#E5ECF6",
              "width": 0.5
             },
             "pattern": {
              "fillmode": "overlay",
              "size": 10,
              "solidity": 0.2
             }
            },
            "type": "bar"
           }
          ],
          "barpolar": [
           {
            "marker": {
             "line": {
              "color": "#E5ECF6",
              "width": 0.5
             },
             "pattern": {
              "fillmode": "overlay",
              "size": 10,
              "solidity": 0.2
             }
            },
            "type": "barpolar"
           }
          ],
          "carpet": [
           {
            "aaxis": {
             "endlinecolor": "#2a3f5f",
             "gridcolor": "white",
             "linecolor": "white",
             "minorgridcolor": "white",
             "startlinecolor": "#2a3f5f"
            },
            "baxis": {
             "endlinecolor": "#2a3f5f",
             "gridcolor": "white",
             "linecolor": "white",
             "minorgridcolor": "white",
             "startlinecolor": "#2a3f5f"
            },
            "type": "carpet"
           }
          ],
          "choropleth": [
           {
            "colorbar": {
             "outlinewidth": 0,
             "ticks": ""
            },
            "type": "choropleth"
           }
          ],
          "contour": [
           {
            "colorbar": {
             "outlinewidth": 0,
             "ticks": ""
            },
            "colorscale": [
             [
              0,
              "#0d0887"
             ],
             [
              0.1111111111111111,
              "#46039f"
             ],
             [
              0.2222222222222222,
              "#7201a8"
             ],
             [
              0.3333333333333333,
              "#9c179e"
             ],
             [
              0.4444444444444444,
              "#bd3786"
             ],
             [
              0.5555555555555556,
              "#d8576b"
             ],
             [
              0.6666666666666666,
              "#ed7953"
             ],
             [
              0.7777777777777778,
              "#fb9f3a"
             ],
             [
              0.8888888888888888,
              "#fdca26"
             ],
             [
              1,
              "#f0f921"
             ]
            ],
            "type": "contour"
           }
          ],
          "contourcarpet": [
           {
            "colorbar": {
             "outlinewidth": 0,
             "ticks": ""
            },
            "type": "contourcarpet"
           }
          ],
          "heatmap": [
           {
            "colorbar": {
             "outlinewidth": 0,
             "ticks": ""
            },
            "colorscale": [
             [
              0,
              "#0d0887"
             ],
             [
              0.1111111111111111,
              "#46039f"
             ],
             [
              0.2222222222222222,
              "#7201a8"
             ],
             [
              0.3333333333333333,
              "#9c179e"
             ],
             [
              0.4444444444444444,
              "#bd3786"
             ],
             [
              0.5555555555555556,
              "#d8576b"
             ],
             [
              0.6666666666666666,
              "#ed7953"
             ],
             [
              0.7777777777777778,
              "#fb9f3a"
             ],
             [
              0.8888888888888888,
              "#fdca26"
             ],
             [
              1,
              "#f0f921"
             ]
            ],
            "type": "heatmap"
           }
          ],
          "heatmapgl": [
           {
            "colorbar": {
             "outlinewidth": 0,
             "ticks": ""
            },
            "colorscale": [
             [
              0,
              "#0d0887"
             ],
             [
              0.1111111111111111,
              "#46039f"
             ],
             [
              0.2222222222222222,
              "#7201a8"
             ],
             [
              0.3333333333333333,
              "#9c179e"
             ],
             [
              0.4444444444444444,
              "#bd3786"
             ],
             [
              0.5555555555555556,
              "#d8576b"
             ],
             [
              0.6666666666666666,
              "#ed7953"
             ],
             [
              0.7777777777777778,
              "#fb9f3a"
             ],
             [
              0.8888888888888888,
              "#fdca26"
             ],
             [
              1,
              "#f0f921"
             ]
            ],
            "type": "heatmapgl"
           }
          ],
          "histogram": [
           {
            "marker": {
             "pattern": {
              "fillmode": "overlay",
              "size": 10,
              "solidity": 0.2
             }
            },
            "type": "histogram"
           }
          ],
          "histogram2d": [
           {
            "colorbar": {
             "outlinewidth": 0,
             "ticks": ""
            },
            "colorscale": [
             [
              0,
              "#0d0887"
             ],
             [
              0.1111111111111111,
              "#46039f"
             ],
             [
              0.2222222222222222,
              "#7201a8"
             ],
             [
              0.3333333333333333,
              "#9c179e"
             ],
             [
              0.4444444444444444,
              "#bd3786"
             ],
             [
              0.5555555555555556,
              "#d8576b"
             ],
             [
              0.6666666666666666,
              "#ed7953"
             ],
             [
              0.7777777777777778,
              "#fb9f3a"
             ],
             [
              0.8888888888888888,
              "#fdca26"
             ],
             [
              1,
              "#f0f921"
             ]
            ],
            "type": "histogram2d"
           }
          ],
          "histogram2dcontour": [
           {
            "colorbar": {
             "outlinewidth": 0,
             "ticks": ""
            },
            "colorscale": [
             [
              0,
              "#0d0887"
             ],
             [
              0.1111111111111111,
              "#46039f"
             ],
             [
              0.2222222222222222,
              "#7201a8"
             ],
             [
              0.3333333333333333,
              "#9c179e"
             ],
             [
              0.4444444444444444,
              "#bd3786"
             ],
             [
              0.5555555555555556,
              "#d8576b"
             ],
             [
              0.6666666666666666,
              "#ed7953"
             ],
             [
              0.7777777777777778,
              "#fb9f3a"
             ],
             [
              0.8888888888888888,
              "#fdca26"
             ],
             [
              1,
              "#f0f921"
             ]
            ],
            "type": "histogram2dcontour"
           }
          ],
          "mesh3d": [
           {
            "colorbar": {
             "outlinewidth": 0,
             "ticks": ""
            },
            "type": "mesh3d"
           }
          ],
          "parcoords": [
           {
            "line": {
             "colorbar": {
              "outlinewidth": 0,
              "ticks": ""
             }
            },
            "type": "parcoords"
           }
          ],
          "pie": [
           {
            "automargin": true,
            "type": "pie"
           }
          ],
          "scatter": [
           {
            "fillpattern": {
             "fillmode": "overlay",
             "size": 10,
             "solidity": 0.2
            },
            "type": "scatter"
           }
          ],
          "scatter3d": [
           {
            "line": {
             "colorbar": {
              "outlinewidth": 0,
              "ticks": ""
             }
            },
            "marker": {
             "colorbar": {
              "outlinewidth": 0,
              "ticks": ""
             }
            },
            "type": "scatter3d"
           }
          ],
          "scattercarpet": [
           {
            "marker": {
             "colorbar": {
              "outlinewidth": 0,
              "ticks": ""
             }
            },
            "type": "scattercarpet"
           }
          ],
          "scattergeo": [
           {
            "marker": {
             "colorbar": {
              "outlinewidth": 0,
              "ticks": ""
             }
            },
            "type": "scattergeo"
           }
          ],
          "scattergl": [
           {
            "marker": {
             "colorbar": {
              "outlinewidth": 0,
              "ticks": ""
             }
            },
            "type": "scattergl"
           }
          ],
          "scattermapbox": [
           {
            "marker": {
             "colorbar": {
              "outlinewidth": 0,
              "ticks": ""
             }
            },
            "type": "scattermapbox"
           }
          ],
          "scatterpolar": [
           {
            "marker": {
             "colorbar": {
              "outlinewidth": 0,
              "ticks": ""
             }
            },
            "type": "scatterpolar"
           }
          ],
          "scatterpolargl": [
           {
            "marker": {
             "colorbar": {
              "outlinewidth": 0,
              "ticks": ""
             }
            },
            "type": "scatterpolargl"
           }
          ],
          "scatterternary": [
           {
            "marker": {
             "colorbar": {
              "outlinewidth": 0,
              "ticks": ""
             }
            },
            "type": "scatterternary"
           }
          ],
          "surface": [
           {
            "colorbar": {
             "outlinewidth": 0,
             "ticks": ""
            },
            "colorscale": [
             [
              0,
              "#0d0887"
             ],
             [
              0.1111111111111111,
              "#46039f"
             ],
             [
              0.2222222222222222,
              "#7201a8"
             ],
             [
              0.3333333333333333,
              "#9c179e"
             ],
             [
              0.4444444444444444,
              "#bd3786"
             ],
             [
              0.5555555555555556,
              "#d8576b"
             ],
             [
              0.6666666666666666,
              "#ed7953"
             ],
             [
              0.7777777777777778,
              "#fb9f3a"
             ],
             [
              0.8888888888888888,
              "#fdca26"
             ],
             [
              1,
              "#f0f921"
             ]
            ],
            "type": "surface"
           }
          ],
          "table": [
           {
            "cells": {
             "fill": {
              "color": "#EBF0F8"
             },
             "line": {
              "color": "white"
             }
            },
            "header": {
             "fill": {
              "color": "#C8D4E3"
             },
             "line": {
              "color": "white"
             }
            },
            "type": "table"
           }
          ]
         },
         "layout": {
          "annotationdefaults": {
           "arrowcolor": "#2a3f5f",
           "arrowhead": 0,
           "arrowwidth": 1
          },
          "autotypenumbers": "strict",
          "coloraxis": {
           "colorbar": {
            "outlinewidth": 0,
            "ticks": ""
           }
          },
          "colorscale": {
           "diverging": [
            [
             0,
             "#8e0152"
            ],
            [
             0.1,
             "#c51b7d"
            ],
            [
             0.2,
             "#de77ae"
            ],
            [
             0.3,
             "#f1b6da"
            ],
            [
             0.4,
             "#fde0ef"
            ],
            [
             0.5,
             "#f7f7f7"
            ],
            [
             0.6,
             "#e6f5d0"
            ],
            [
             0.7,
             "#b8e186"
            ],
            [
             0.8,
             "#7fbc41"
            ],
            [
             0.9,
             "#4d9221"
            ],
            [
             1,
             "#276419"
            ]
           ],
           "sequential": [
            [
             0,
             "#0d0887"
            ],
            [
             0.1111111111111111,
             "#46039f"
            ],
            [
             0.2222222222222222,
             "#7201a8"
            ],
            [
             0.3333333333333333,
             "#9c179e"
            ],
            [
             0.4444444444444444,
             "#bd3786"
            ],
            [
             0.5555555555555556,
             "#d8576b"
            ],
            [
             0.6666666666666666,
             "#ed7953"
            ],
            [
             0.7777777777777778,
             "#fb9f3a"
            ],
            [
             0.8888888888888888,
             "#fdca26"
            ],
            [
             1,
             "#f0f921"
            ]
           ],
           "sequentialminus": [
            [
             0,
             "#0d0887"
            ],
            [
             0.1111111111111111,
             "#46039f"
            ],
            [
             0.2222222222222222,
             "#7201a8"
            ],
            [
             0.3333333333333333,
             "#9c179e"
            ],
            [
             0.4444444444444444,
             "#bd3786"
            ],
            [
             0.5555555555555556,
             "#d8576b"
            ],
            [
             0.6666666666666666,
             "#ed7953"
            ],
            [
             0.7777777777777778,
             "#fb9f3a"
            ],
            [
             0.8888888888888888,
             "#fdca26"
            ],
            [
             1,
             "#f0f921"
            ]
           ]
          },
          "colorway": [
           "#636efa",
           "#EF553B",
           "#00cc96",
           "#ab63fa",
           "#FFA15A",
           "#19d3f3",
           "#FF6692",
           "#B6E880",
           "#FF97FF",
           "#FECB52"
          ],
          "font": {
           "color": "#2a3f5f"
          },
          "geo": {
           "bgcolor": "white",
           "lakecolor": "white",
           "landcolor": "#E5ECF6",
           "showlakes": true,
           "showland": true,
           "subunitcolor": "white"
          },
          "hoverlabel": {
           "align": "left"
          },
          "hovermode": "closest",
          "mapbox": {
           "style": "light"
          },
          "paper_bgcolor": "white",
          "plot_bgcolor": "#E5ECF6",
          "polar": {
           "angularaxis": {
            "gridcolor": "white",
            "linecolor": "white",
            "ticks": ""
           },
           "bgcolor": "#E5ECF6",
           "radialaxis": {
            "gridcolor": "white",
            "linecolor": "white",
            "ticks": ""
           }
          },
          "scene": {
           "xaxis": {
            "backgroundcolor": "#E5ECF6",
            "gridcolor": "white",
            "gridwidth": 2,
            "linecolor": "white",
            "showbackground": true,
            "ticks": "",
            "zerolinecolor": "white"
           },
           "yaxis": {
            "backgroundcolor": "#E5ECF6",
            "gridcolor": "white",
            "gridwidth": 2,
            "linecolor": "white",
            "showbackground": true,
            "ticks": "",
            "zerolinecolor": "white"
           },
           "zaxis": {
            "backgroundcolor": "#E5ECF6",
            "gridcolor": "white",
            "gridwidth": 2,
            "linecolor": "white",
            "showbackground": true,
            "ticks": "",
            "zerolinecolor": "white"
           }
          },
          "shapedefaults": {
           "line": {
            "color": "#2a3f5f"
           }
          },
          "ternary": {
           "aaxis": {
            "gridcolor": "white",
            "linecolor": "white",
            "ticks": ""
           },
           "baxis": {
            "gridcolor": "white",
            "linecolor": "white",
            "ticks": ""
           },
           "bgcolor": "#E5ECF6",
           "caxis": {
            "gridcolor": "white",
            "linecolor": "white",
            "ticks": ""
           }
          },
          "title": {
           "x": 0.05
          },
          "xaxis": {
           "automargin": true,
           "gridcolor": "white",
           "linecolor": "white",
           "ticks": "",
           "title": {
            "standoff": 15
           },
           "zerolinecolor": "white",
           "zerolinewidth": 2
          },
          "yaxis": {
           "automargin": true,
           "gridcolor": "white",
           "linecolor": "white",
           "ticks": "",
           "title": {
            "standoff": 15
           },
           "zerolinecolor": "white",
           "zerolinewidth": 2
          }
         }
        },
        "title": {
         "text": "Products work flow"
        },
        "width": 1500
       }
      }
     },
     "metadata": {},
     "output_type": "display_data"
    }
   ],
   "source": [
    "fig = go.Figure(\n",
    "    data=\n",
    "    [\n",
    "      go.Sankey(\n",
    "        #valueformat = \".2%\",\n",
    "        #valuesuffix = \"%\",\n",
    "        #arrangement='snap',\n",
    "        # Define nodes\n",
    "        node = dict(\n",
    "          pad = 15,\n",
    "          thickness = 15,\n",
    "          line = dict(color = \"blue\", width = 0.5),\n",
    "          label = entities,\n",
    "          #align=\"left\",\n",
    "        ),\n",
    "        # Add links\n",
    "        link = dict(\n",
    "          arrowlen=10,\n",
    "          source = df_work['p1'].to_list(),\n",
    "          target =  df_work['p2'].to_list(),\n",
    "          value =  df_work['work'].to_list(),\n",
    "          #label =  df_product['label_percentage'].to_list(),\n",
    "          color =  \"#ddc696\"\n",
    "        )\n",
    "      )\n",
    "    ]\n",
    ")\n",
    "\n",
    "fig.update_layout(title_text=\"Products work flow\",\n",
    "                  font_size=10, height=600, width=1500)\n",
    "fig.write_html('graph_analysis/sankey_work.html')\n",
    "fig.show()"
   ]
  },
  {
   "cell_type": "code",
   "execution_count": null,
   "metadata": {},
   "outputs": [],
   "source": []
  },
  {
   "cell_type": "code",
   "execution_count": null,
   "metadata": {},
   "outputs": [],
   "source": []
  }
 ],
 "metadata": {
  "kernelspec": {
   "display_name": "Python 3",
   "language": "python",
   "name": "python3"
  },
  "language_info": {
   "codemirror_mode": {
    "name": "ipython",
    "version": 3
   },
   "file_extension": ".py",
   "mimetype": "text/x-python",
   "name": "python",
   "nbconvert_exporter": "python",
   "pygments_lexer": "ipython3",
   "version": "3.10.12"
  }
 },
 "nbformat": 4,
 "nbformat_minor": 2
}
