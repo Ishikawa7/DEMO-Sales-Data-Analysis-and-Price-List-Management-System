{
 "cells": [
  {
   "cell_type": "code",
   "execution_count": 203,
   "metadata": {},
   "outputs": [],
   "source": [
    "import pandas as pd\n",
    "import numpy as np\n",
    "import plotly.express as px"
   ]
  },
  {
   "cell_type": "code",
   "execution_count": 204,
   "metadata": {},
   "outputs": [
    {
     "data": {
      "text/html": [
       "<div>\n",
       "<style scoped>\n",
       "    .dataframe tbody tr th:only-of-type {\n",
       "        vertical-align: middle;\n",
       "    }\n",
       "\n",
       "    .dataframe tbody tr th {\n",
       "        vertical-align: top;\n",
       "    }\n",
       "\n",
       "    .dataframe thead th {\n",
       "        text-align: right;\n",
       "    }\n",
       "</style>\n",
       "<table border=\"1\" class=\"dataframe\">\n",
       "  <thead>\n",
       "    <tr style=\"text-align: right;\">\n",
       "      <th></th>\n",
       "      <th>Codice_articolo</th>\n",
       "      <th>Codice_variante</th>\n",
       "      <th>Descrizione</th>\n",
       "      <th>Costo</th>\n",
       "      <th>Data_riferimento</th>\n",
       "      <th>Categoria</th>\n",
       "    </tr>\n",
       "  </thead>\n",
       "  <tbody>\n",
       "    <tr>\n",
       "      <th>0</th>\n",
       "      <td>017.PM419</td>\n",
       "      <td>1</td>\n",
       "      <td></td>\n",
       "      <td>46.52</td>\n",
       "      <td>2023-01-12</td>\n",
       "      <td>Veneziane</td>\n",
       "    </tr>\n",
       "    <tr>\n",
       "      <th>1</th>\n",
       "      <td>017.PM421</td>\n",
       "      <td>1</td>\n",
       "      <td></td>\n",
       "      <td>48.75</td>\n",
       "      <td>2023-01-12</td>\n",
       "      <td>Veneziane</td>\n",
       "    </tr>\n",
       "    <tr>\n",
       "      <th>2</th>\n",
       "      <td>017.PM422</td>\n",
       "      <td>3</td>\n",
       "      <td></td>\n",
       "      <td>46.52</td>\n",
       "      <td>2023-01-12</td>\n",
       "      <td>Veneziane</td>\n",
       "    </tr>\n",
       "    <tr>\n",
       "      <th>3</th>\n",
       "      <td>017.PM424</td>\n",
       "      <td>2</td>\n",
       "      <td></td>\n",
       "      <td>51.80</td>\n",
       "      <td>2023-01-12</td>\n",
       "      <td>Veneziane</td>\n",
       "    </tr>\n",
       "    <tr>\n",
       "      <th>4</th>\n",
       "      <td>017.PM425</td>\n",
       "      <td>1</td>\n",
       "      <td></td>\n",
       "      <td>46.52</td>\n",
       "      <td>2023-01-12</td>\n",
       "      <td>Veneziane</td>\n",
       "    </tr>\n",
       "  </tbody>\n",
       "</table>\n",
       "</div>"
      ],
      "text/plain": [
       "  Codice_articolo  Codice_variante Descrizione  Costo Data_riferimento  \\\n",
       "0       017.PM419                1              46.52       2023-01-12   \n",
       "1       017.PM421                1              48.75       2023-01-12   \n",
       "2       017.PM422                3              46.52       2023-01-12   \n",
       "3       017.PM424                2              51.80       2023-01-12   \n",
       "4       017.PM425                1              46.52       2023-01-12   \n",
       "\n",
       "   Categoria  \n",
       "0  Veneziane  \n",
       "1  Veneziane  \n",
       "2  Veneziane  \n",
       "3  Veneziane  \n",
       "4  Veneziane  "
      ]
     },
     "execution_count": 204,
     "metadata": {},
     "output_type": "execute_result"
    }
   ],
   "source": [
    "df_listino = pd.read_csv('data_demo/art_costi.csv')\n",
    "df_listino[\"Descrizione\"] = df_listino[\"Descrizione\"].fillna(\"\")\n",
    "# remove rows with Costo == 0\n",
    "df_listino = df_listino[df_listino[\"Costo\"] > 0]\n",
    "df_listino.head()"
   ]
  },
  {
   "cell_type": "code",
   "execution_count": 205,
   "metadata": {},
   "outputs": [
    {
     "data": {
      "text/plain": [
       "{'Veneziane': 2,\n",
       " 'Vetri': 1,\n",
       " 'Ante vetro': 1,\n",
       " 'Visive': 3,\n",
       " 'Ante Acciaio': 1,\n",
       " 'Profili Alluminio Flux': 1,\n",
       " 'Profili Alluminio Flux 2': 2,\n",
       " 'Profili Alluminio Kybos': 2,\n",
       " 'MP Acciaio': 3,\n",
       " 'Accessori': 2,\n",
       " 'MP Alluminio': 3,\n",
       " 'Truciolare': 2,\n",
       " 'Coibenti': 1,\n",
       " 'Laminati e altri': 3}"
      ]
     },
     "execution_count": 205,
     "metadata": {},
     "output_type": "execute_result"
    }
   ],
   "source": [
    "df_listino[\"Categoria\"].unique().tolist()\n",
    "dict_multiplicator = {}\n",
    "dict_trend = {}\n",
    "for cat in df_listino[\"Categoria\"].unique().tolist():\n",
    "    # random number between 1 and 4\n",
    "    dict_multiplicator[cat] = np.random.randint(1, 5)\n",
    "    dict_trend[cat] = np.random.choice([0, 1])\n",
    "dict_multiplicator"
   ]
  },
  {
   "cell_type": "code",
   "execution_count": 206,
   "metadata": {},
   "outputs": [],
   "source": [
    "# add storico\n",
    "costo_attuale = df_listino[\"Costo\"].to_list()\n",
    "categories = df_listino[\"Categoria\"].to_list()\n",
    "storico = []\n",
    "vendita = []\n",
    "for i in range(len(df_listino)):\n",
    "    trend_random = dict_trend[categories[i]]\n",
    "    trend_strengh = dict_multiplicator[categories[i]]\n",
    "    storico_single = [costo_attuale[i]]\n",
    "    for j in range(1, 13):\n",
    "        last_value = storico_single[0]\n",
    "        if trend_random == 0:\n",
    "            value = round(last_value + np.random.rand()*last_value*0.01*trend_strengh, 2)\n",
    "            storico_single.insert(0, value)\n",
    "        else:\n",
    "            value = round(last_value - np.random.rand()*last_value*0.01*trend_strengh, 2)\n",
    "            storico_single.insert(0, value)\n",
    "    storico.append(storico_single)\n",
    "for i in range(len(df_listino)):\n",
    "    vendita_singola = []\n",
    "    for j in range(1, np.random.randint(2, 13)):\n",
    "        # random number between 0.9 and 1.9\n",
    "        random_multiplicator = np.random.rand() + 0.9\n",
    "        vendita_singola.append(round(costo_attuale[i]*random_multiplicator, 2))\n",
    "    vendita.append(vendita_singola)"
   ]
  },
  {
   "cell_type": "code",
   "execution_count": 207,
   "metadata": {},
   "outputs": [
    {
     "data": {
      "text/html": [
       "<div>\n",
       "<style scoped>\n",
       "    .dataframe tbody tr th:only-of-type {\n",
       "        vertical-align: middle;\n",
       "    }\n",
       "\n",
       "    .dataframe tbody tr th {\n",
       "        vertical-align: top;\n",
       "    }\n",
       "\n",
       "    .dataframe thead th {\n",
       "        text-align: right;\n",
       "    }\n",
       "</style>\n",
       "<table border=\"1\" class=\"dataframe\">\n",
       "  <thead>\n",
       "    <tr style=\"text-align: right;\">\n",
       "      <th></th>\n",
       "      <th>Codice_articolo</th>\n",
       "      <th>Codice_variante</th>\n",
       "      <th>Descrizione</th>\n",
       "      <th>Costo</th>\n",
       "      <th>Data_riferimento</th>\n",
       "      <th>Categoria</th>\n",
       "      <th>Storico</th>\n",
       "      <th>Vendita</th>\n",
       "    </tr>\n",
       "  </thead>\n",
       "  <tbody>\n",
       "    <tr>\n",
       "      <th>0</th>\n",
       "      <td>017.PM419</td>\n",
       "      <td>1</td>\n",
       "      <td></td>\n",
       "      <td>46.52</td>\n",
       "      <td>2023-01-12</td>\n",
       "      <td>Veneziane</td>\n",
       "      <td>[41.56, 41.6, 42.21, 42.96, 43.3, 43.43, 44.02...</td>\n",
       "      <td>[51.85, 54.1, 44.66, 76.63, 79.36, 78.13, 67.1]</td>\n",
       "    </tr>\n",
       "    <tr>\n",
       "      <th>1</th>\n",
       "      <td>017.PM421</td>\n",
       "      <td>1</td>\n",
       "      <td></td>\n",
       "      <td>48.75</td>\n",
       "      <td>2023-01-12</td>\n",
       "      <td>Veneziane</td>\n",
       "      <td>[42.15, 42.49, 42.62, 43.33, 43.84, 44.45, 45....</td>\n",
       "      <td>[56.39]</td>\n",
       "    </tr>\n",
       "    <tr>\n",
       "      <th>2</th>\n",
       "      <td>017.PM422</td>\n",
       "      <td>3</td>\n",
       "      <td></td>\n",
       "      <td>46.52</td>\n",
       "      <td>2023-01-12</td>\n",
       "      <td>Veneziane</td>\n",
       "      <td>[42.55, 42.7, 43.19, 43.32, 43.77, 44.52, 44.6...</td>\n",
       "      <td>[55.81, 84.51, 61.67, 52.68, 44.01, 68.35, 43....</td>\n",
       "    </tr>\n",
       "    <tr>\n",
       "      <th>3</th>\n",
       "      <td>017.PM424</td>\n",
       "      <td>2</td>\n",
       "      <td></td>\n",
       "      <td>51.80</td>\n",
       "      <td>2023-01-12</td>\n",
       "      <td>Veneziane</td>\n",
       "      <td>[45.93, 46.39, 46.41, 46.57, 46.79, 47.56, 48....</td>\n",
       "      <td>[80.47, 80.16, 50.62, 77.63, 93.69, 93.57, 82....</td>\n",
       "    </tr>\n",
       "    <tr>\n",
       "      <th>4</th>\n",
       "      <td>017.PM425</td>\n",
       "      <td>1</td>\n",
       "      <td></td>\n",
       "      <td>46.52</td>\n",
       "      <td>2023-01-12</td>\n",
       "      <td>Veneziane</td>\n",
       "      <td>[40.35, 40.86, 41.05, 41.79, 42.44, 43.25, 43....</td>\n",
       "      <td>[51.9, 47.7]</td>\n",
       "    </tr>\n",
       "    <tr>\n",
       "      <th>5</th>\n",
       "      <td>017.PM426</td>\n",
       "      <td>1</td>\n",
       "      <td></td>\n",
       "      <td>61.82</td>\n",
       "      <td>2023-01-12</td>\n",
       "      <td>Veneziane</td>\n",
       "      <td>[54.46, 55.11, 55.44, 56.04, 57.15, 57.85, 58....</td>\n",
       "      <td>[102.8, 103.71, 71.47, 81.16, 78.94, 108.25, 1...</td>\n",
       "    </tr>\n",
       "    <tr>\n",
       "      <th>6</th>\n",
       "      <td>017.PM427</td>\n",
       "      <td>1</td>\n",
       "      <td></td>\n",
       "      <td>46.52</td>\n",
       "      <td>2023-01-12</td>\n",
       "      <td>Veneziane</td>\n",
       "      <td>[41.19, 41.41, 41.88, 41.89, 42.46, 42.75, 43....</td>\n",
       "      <td>[61.97, 84.15, 48.95, 50.16, 76.54, 76.03]</td>\n",
       "    </tr>\n",
       "    <tr>\n",
       "      <th>7</th>\n",
       "      <td>017.PM430</td>\n",
       "      <td>1</td>\n",
       "      <td></td>\n",
       "      <td>63.02</td>\n",
       "      <td>2023-01-12</td>\n",
       "      <td>Veneziane</td>\n",
       "      <td>[56.0, 56.68, 56.7, 57.1, 58.1, 58.85, 59.59, ...</td>\n",
       "      <td>[95.38]</td>\n",
       "    </tr>\n",
       "    <tr>\n",
       "      <th>8</th>\n",
       "      <td>017.PM431</td>\n",
       "      <td>1</td>\n",
       "      <td></td>\n",
       "      <td>75.54</td>\n",
       "      <td>2023-01-12</td>\n",
       "      <td>Veneziane</td>\n",
       "      <td>[65.76, 66.09, 66.98, 68.12, 69.43, 70.55, 71....</td>\n",
       "      <td>[119.83, 121.01, 125.65, 108.01, 75.08, 132.11...</td>\n",
       "    </tr>\n",
       "    <tr>\n",
       "      <th>9</th>\n",
       "      <td>017.PM433</td>\n",
       "      <td>1</td>\n",
       "      <td></td>\n",
       "      <td>53.50</td>\n",
       "      <td>2023-01-12</td>\n",
       "      <td>Veneziane</td>\n",
       "      <td>[46.34, 46.57, 47.45, 48.42, 48.9, 49.24, 49.4...</td>\n",
       "      <td>[56.81, 97.57]</td>\n",
       "    </tr>\n",
       "  </tbody>\n",
       "</table>\n",
       "</div>"
      ],
      "text/plain": [
       "  Codice_articolo  Codice_variante Descrizione  Costo Data_riferimento  \\\n",
       "0       017.PM419                1              46.52       2023-01-12   \n",
       "1       017.PM421                1              48.75       2023-01-12   \n",
       "2       017.PM422                3              46.52       2023-01-12   \n",
       "3       017.PM424                2              51.80       2023-01-12   \n",
       "4       017.PM425                1              46.52       2023-01-12   \n",
       "5       017.PM426                1              61.82       2023-01-12   \n",
       "6       017.PM427                1              46.52       2023-01-12   \n",
       "7       017.PM430                1              63.02       2023-01-12   \n",
       "8       017.PM431                1              75.54       2023-01-12   \n",
       "9       017.PM433                1              53.50       2023-01-12   \n",
       "\n",
       "   Categoria                                            Storico  \\\n",
       "0  Veneziane  [41.56, 41.6, 42.21, 42.96, 43.3, 43.43, 44.02...   \n",
       "1  Veneziane  [42.15, 42.49, 42.62, 43.33, 43.84, 44.45, 45....   \n",
       "2  Veneziane  [42.55, 42.7, 43.19, 43.32, 43.77, 44.52, 44.6...   \n",
       "3  Veneziane  [45.93, 46.39, 46.41, 46.57, 46.79, 47.56, 48....   \n",
       "4  Veneziane  [40.35, 40.86, 41.05, 41.79, 42.44, 43.25, 43....   \n",
       "5  Veneziane  [54.46, 55.11, 55.44, 56.04, 57.15, 57.85, 58....   \n",
       "6  Veneziane  [41.19, 41.41, 41.88, 41.89, 42.46, 42.75, 43....   \n",
       "7  Veneziane  [56.0, 56.68, 56.7, 57.1, 58.1, 58.85, 59.59, ...   \n",
       "8  Veneziane  [65.76, 66.09, 66.98, 68.12, 69.43, 70.55, 71....   \n",
       "9  Veneziane  [46.34, 46.57, 47.45, 48.42, 48.9, 49.24, 49.4...   \n",
       "\n",
       "                                             Vendita  \n",
       "0    [51.85, 54.1, 44.66, 76.63, 79.36, 78.13, 67.1]  \n",
       "1                                            [56.39]  \n",
       "2  [55.81, 84.51, 61.67, 52.68, 44.01, 68.35, 43....  \n",
       "3  [80.47, 80.16, 50.62, 77.63, 93.69, 93.57, 82....  \n",
       "4                                       [51.9, 47.7]  \n",
       "5  [102.8, 103.71, 71.47, 81.16, 78.94, 108.25, 1...  \n",
       "6         [61.97, 84.15, 48.95, 50.16, 76.54, 76.03]  \n",
       "7                                            [95.38]  \n",
       "8  [119.83, 121.01, 125.65, 108.01, 75.08, 132.11...  \n",
       "9                                     [56.81, 97.57]  "
      ]
     },
     "execution_count": 207,
     "metadata": {},
     "output_type": "execute_result"
    }
   ],
   "source": [
    "df_listino[\"Storico\"] = storico\n",
    "df_listino[\"Vendita\"] = vendita\n",
    "df_listino.head(10)"
   ]
  },
  {
   "cell_type": "code",
   "execution_count": 208,
   "metadata": {},
   "outputs": [
    {
     "data": {
      "text/plain": [
       "[41.56,\n",
       " 41.6,\n",
       " 42.21,\n",
       " 42.96,\n",
       " 43.3,\n",
       " 43.43,\n",
       " 44.02,\n",
       " 44.27,\n",
       " 44.93,\n",
       " 45.54,\n",
       " 45.81,\n",
       " 46.07,\n",
       " 46.52]"
      ]
     },
     "execution_count": 208,
     "metadata": {},
     "output_type": "execute_result"
    }
   ],
   "source": [
    "storico = df_listino[df_listino[\"Codice_articolo\"]==\"017.PM419\"][\"Storico\"][0]\n",
    "storico"
   ]
  },
  {
   "cell_type": "code",
   "execution_count": 209,
   "metadata": {},
   "outputs": [
    {
     "data": {
      "text/plain": [
       "[51.85,\n",
       " 54.1,\n",
       " 44.66,\n",
       " 76.63,\n",
       " 79.36,\n",
       " 78.13,\n",
       " 67.1,\n",
       " 67.18308726681776,\n",
       " 67.25360224962313,\n",
       " 67.28172299831708,\n",
       " 67.36344580290015,\n",
       " 67.46762335557231,\n",
       " 67.78253360223358]"
      ]
     },
     "execution_count": 209,
     "metadata": {},
     "output_type": "execute_result"
    }
   ],
   "source": [
    "storico_vendita = df_listino[df_listino[\"Codice_articolo\"]==\"017.PM419\"][\"Vendita\"][0]\n",
    "for i in range(len(storico)-len(storico_vendita)):\n",
    "    storico_vendita.append(storico_vendita[-1]+np.random.rand()*storico_vendita[-1]*0.01)\n",
    "storico_vendita"
   ]
  },
  {
   "cell_type": "code",
   "execution_count": 210,
   "metadata": {},
   "outputs": [
    {
     "data": {
      "application/vnd.plotly.v1+json": {
       "config": {
        "plotlyServerURL": "https://plot.ly"
       },
       "data": [
        {
         "hovertemplate": "variable=Storico prezzo listino<br>Mese=%{x}<br>value=%{y}<br>text=%{text}<extra></extra>",
         "legendgroup": "Storico prezzo listino",
         "line": {
          "color": "#636efa",
          "dash": "solid"
         },
         "marker": {
          "symbol": "circle"
         },
         "mode": "lines+markers+text",
         "name": "Storico prezzo listino",
         "orientation": "v",
         "showlegend": true,
         "text": [
          41.56,
          41.6,
          42.21,
          42.96,
          43.3,
          43.43,
          44.02,
          44.27,
          44.93,
          45.54,
          45.81,
          46.07,
          46.52
         ],
         "textposition": "top center",
         "type": "scatter",
         "x": [
          1,
          2,
          3,
          4,
          5,
          6,
          7,
          8,
          9,
          10,
          11,
          12,
          13
         ],
         "xaxis": "x",
         "y": [
          41.56,
          41.6,
          42.21,
          42.96,
          43.3,
          43.43,
          44.02,
          44.27,
          44.93,
          45.54,
          45.81,
          46.07,
          46.52
         ],
         "yaxis": "y"
        },
        {
         "hovertemplate": "variable=Storico prezzo vendita<br>Mese=%{x}<br>value=%{y}<br>text=%{text}<extra></extra>",
         "legendgroup": "Storico prezzo vendita",
         "line": {
          "color": "#EF553B",
          "dash": "solid"
         },
         "marker": {
          "symbol": "circle"
         },
         "mode": "lines+markers+text",
         "name": "Storico prezzo vendita",
         "orientation": "v",
         "showlegend": true,
         "text": [
          41.56,
          41.6,
          42.21,
          42.96,
          43.3,
          43.43,
          44.02,
          44.27,
          44.93,
          45.54,
          45.81,
          46.07,
          46.52
         ],
         "textposition": "top center",
         "type": "scatter",
         "x": [
          1,
          2,
          3,
          4,
          5,
          6,
          7,
          8,
          9,
          10,
          11,
          12,
          13
         ],
         "xaxis": "x",
         "y": [
          51.85,
          54.1,
          44.66,
          76.63,
          79.36,
          78.13,
          67.1,
          67.18308726681776,
          67.25360224962313,
          67.28172299831708,
          67.36344580290015,
          67.46762335557231,
          67.78253360223358
         ],
         "yaxis": "y"
        }
       ],
       "layout": {
        "legend": {
         "title": {
          "text": "variable"
         },
         "tracegroupgap": 0
        },
        "template": {
         "data": {
          "bar": [
           {
            "error_x": {
             "color": "#2a3f5f"
            },
            "error_y": {
             "color": "#2a3f5f"
            },
            "marker": {
             "line": {
              "color": "white",
              "width": 0.5
             },
             "pattern": {
              "fillmode": "overlay",
              "size": 10,
              "solidity": 0.2
             }
            },
            "type": "bar"
           }
          ],
          "barpolar": [
           {
            "marker": {
             "line": {
              "color": "white",
              "width": 0.5
             },
             "pattern": {
              "fillmode": "overlay",
              "size": 10,
              "solidity": 0.2
             }
            },
            "type": "barpolar"
           }
          ],
          "carpet": [
           {
            "aaxis": {
             "endlinecolor": "#2a3f5f",
             "gridcolor": "#C8D4E3",
             "linecolor": "#C8D4E3",
             "minorgridcolor": "#C8D4E3",
             "startlinecolor": "#2a3f5f"
            },
            "baxis": {
             "endlinecolor": "#2a3f5f",
             "gridcolor": "#C8D4E3",
             "linecolor": "#C8D4E3",
             "minorgridcolor": "#C8D4E3",
             "startlinecolor": "#2a3f5f"
            },
            "type": "carpet"
           }
          ],
          "choropleth": [
           {
            "colorbar": {
             "outlinewidth": 0,
             "ticks": ""
            },
            "type": "choropleth"
           }
          ],
          "contour": [
           {
            "colorbar": {
             "outlinewidth": 0,
             "ticks": ""
            },
            "colorscale": [
             [
              0,
              "#0d0887"
             ],
             [
              0.1111111111111111,
              "#46039f"
             ],
             [
              0.2222222222222222,
              "#7201a8"
             ],
             [
              0.3333333333333333,
              "#9c179e"
             ],
             [
              0.4444444444444444,
              "#bd3786"
             ],
             [
              0.5555555555555556,
              "#d8576b"
             ],
             [
              0.6666666666666666,
              "#ed7953"
             ],
             [
              0.7777777777777778,
              "#fb9f3a"
             ],
             [
              0.8888888888888888,
              "#fdca26"
             ],
             [
              1,
              "#f0f921"
             ]
            ],
            "type": "contour"
           }
          ],
          "contourcarpet": [
           {
            "colorbar": {
             "outlinewidth": 0,
             "ticks": ""
            },
            "type": "contourcarpet"
           }
          ],
          "heatmap": [
           {
            "colorbar": {
             "outlinewidth": 0,
             "ticks": ""
            },
            "colorscale": [
             [
              0,
              "#0d0887"
             ],
             [
              0.1111111111111111,
              "#46039f"
             ],
             [
              0.2222222222222222,
              "#7201a8"
             ],
             [
              0.3333333333333333,
              "#9c179e"
             ],
             [
              0.4444444444444444,
              "#bd3786"
             ],
             [
              0.5555555555555556,
              "#d8576b"
             ],
             [
              0.6666666666666666,
              "#ed7953"
             ],
             [
              0.7777777777777778,
              "#fb9f3a"
             ],
             [
              0.8888888888888888,
              "#fdca26"
             ],
             [
              1,
              "#f0f921"
             ]
            ],
            "type": "heatmap"
           }
          ],
          "heatmapgl": [
           {
            "colorbar": {
             "outlinewidth": 0,
             "ticks": ""
            },
            "colorscale": [
             [
              0,
              "#0d0887"
             ],
             [
              0.1111111111111111,
              "#46039f"
             ],
             [
              0.2222222222222222,
              "#7201a8"
             ],
             [
              0.3333333333333333,
              "#9c179e"
             ],
             [
              0.4444444444444444,
              "#bd3786"
             ],
             [
              0.5555555555555556,
              "#d8576b"
             ],
             [
              0.6666666666666666,
              "#ed7953"
             ],
             [
              0.7777777777777778,
              "#fb9f3a"
             ],
             [
              0.8888888888888888,
              "#fdca26"
             ],
             [
              1,
              "#f0f921"
             ]
            ],
            "type": "heatmapgl"
           }
          ],
          "histogram": [
           {
            "marker": {
             "pattern": {
              "fillmode": "overlay",
              "size": 10,
              "solidity": 0.2
             }
            },
            "type": "histogram"
           }
          ],
          "histogram2d": [
           {
            "colorbar": {
             "outlinewidth": 0,
             "ticks": ""
            },
            "colorscale": [
             [
              0,
              "#0d0887"
             ],
             [
              0.1111111111111111,
              "#46039f"
             ],
             [
              0.2222222222222222,
              "#7201a8"
             ],
             [
              0.3333333333333333,
              "#9c179e"
             ],
             [
              0.4444444444444444,
              "#bd3786"
             ],
             [
              0.5555555555555556,
              "#d8576b"
             ],
             [
              0.6666666666666666,
              "#ed7953"
             ],
             [
              0.7777777777777778,
              "#fb9f3a"
             ],
             [
              0.8888888888888888,
              "#fdca26"
             ],
             [
              1,
              "#f0f921"
             ]
            ],
            "type": "histogram2d"
           }
          ],
          "histogram2dcontour": [
           {
            "colorbar": {
             "outlinewidth": 0,
             "ticks": ""
            },
            "colorscale": [
             [
              0,
              "#0d0887"
             ],
             [
              0.1111111111111111,
              "#46039f"
             ],
             [
              0.2222222222222222,
              "#7201a8"
             ],
             [
              0.3333333333333333,
              "#9c179e"
             ],
             [
              0.4444444444444444,
              "#bd3786"
             ],
             [
              0.5555555555555556,
              "#d8576b"
             ],
             [
              0.6666666666666666,
              "#ed7953"
             ],
             [
              0.7777777777777778,
              "#fb9f3a"
             ],
             [
              0.8888888888888888,
              "#fdca26"
             ],
             [
              1,
              "#f0f921"
             ]
            ],
            "type": "histogram2dcontour"
           }
          ],
          "mesh3d": [
           {
            "colorbar": {
             "outlinewidth": 0,
             "ticks": ""
            },
            "type": "mesh3d"
           }
          ],
          "parcoords": [
           {
            "line": {
             "colorbar": {
              "outlinewidth": 0,
              "ticks": ""
             }
            },
            "type": "parcoords"
           }
          ],
          "pie": [
           {
            "automargin": true,
            "type": "pie"
           }
          ],
          "scatter": [
           {
            "fillpattern": {
             "fillmode": "overlay",
             "size": 10,
             "solidity": 0.2
            },
            "type": "scatter"
           }
          ],
          "scatter3d": [
           {
            "line": {
             "colorbar": {
              "outlinewidth": 0,
              "ticks": ""
             }
            },
            "marker": {
             "colorbar": {
              "outlinewidth": 0,
              "ticks": ""
             }
            },
            "type": "scatter3d"
           }
          ],
          "scattercarpet": [
           {
            "marker": {
             "colorbar": {
              "outlinewidth": 0,
              "ticks": ""
             }
            },
            "type": "scattercarpet"
           }
          ],
          "scattergeo": [
           {
            "marker": {
             "colorbar": {
              "outlinewidth": 0,
              "ticks": ""
             }
            },
            "type": "scattergeo"
           }
          ],
          "scattergl": [
           {
            "marker": {
             "colorbar": {
              "outlinewidth": 0,
              "ticks": ""
             }
            },
            "type": "scattergl"
           }
          ],
          "scattermapbox": [
           {
            "marker": {
             "colorbar": {
              "outlinewidth": 0,
              "ticks": ""
             }
            },
            "type": "scattermapbox"
           }
          ],
          "scatterpolar": [
           {
            "marker": {
             "colorbar": {
              "outlinewidth": 0,
              "ticks": ""
             }
            },
            "type": "scatterpolar"
           }
          ],
          "scatterpolargl": [
           {
            "marker": {
             "colorbar": {
              "outlinewidth": 0,
              "ticks": ""
             }
            },
            "type": "scatterpolargl"
           }
          ],
          "scatterternary": [
           {
            "marker": {
             "colorbar": {
              "outlinewidth": 0,
              "ticks": ""
             }
            },
            "type": "scatterternary"
           }
          ],
          "surface": [
           {
            "colorbar": {
             "outlinewidth": 0,
             "ticks": ""
            },
            "colorscale": [
             [
              0,
              "#0d0887"
             ],
             [
              0.1111111111111111,
              "#46039f"
             ],
             [
              0.2222222222222222,
              "#7201a8"
             ],
             [
              0.3333333333333333,
              "#9c179e"
             ],
             [
              0.4444444444444444,
              "#bd3786"
             ],
             [
              0.5555555555555556,
              "#d8576b"
             ],
             [
              0.6666666666666666,
              "#ed7953"
             ],
             [
              0.7777777777777778,
              "#fb9f3a"
             ],
             [
              0.8888888888888888,
              "#fdca26"
             ],
             [
              1,
              "#f0f921"
             ]
            ],
            "type": "surface"
           }
          ],
          "table": [
           {
            "cells": {
             "fill": {
              "color": "#EBF0F8"
             },
             "line": {
              "color": "white"
             }
            },
            "header": {
             "fill": {
              "color": "#C8D4E3"
             },
             "line": {
              "color": "white"
             }
            },
            "type": "table"
           }
          ]
         },
         "layout": {
          "annotationdefaults": {
           "arrowcolor": "#2a3f5f",
           "arrowhead": 0,
           "arrowwidth": 1
          },
          "autotypenumbers": "strict",
          "coloraxis": {
           "colorbar": {
            "outlinewidth": 0,
            "ticks": ""
           }
          },
          "colorscale": {
           "diverging": [
            [
             0,
             "#8e0152"
            ],
            [
             0.1,
             "#c51b7d"
            ],
            [
             0.2,
             "#de77ae"
            ],
            [
             0.3,
             "#f1b6da"
            ],
            [
             0.4,
             "#fde0ef"
            ],
            [
             0.5,
             "#f7f7f7"
            ],
            [
             0.6,
             "#e6f5d0"
            ],
            [
             0.7,
             "#b8e186"
            ],
            [
             0.8,
             "#7fbc41"
            ],
            [
             0.9,
             "#4d9221"
            ],
            [
             1,
             "#276419"
            ]
           ],
           "sequential": [
            [
             0,
             "#0d0887"
            ],
            [
             0.1111111111111111,
             "#46039f"
            ],
            [
             0.2222222222222222,
             "#7201a8"
            ],
            [
             0.3333333333333333,
             "#9c179e"
            ],
            [
             0.4444444444444444,
             "#bd3786"
            ],
            [
             0.5555555555555556,
             "#d8576b"
            ],
            [
             0.6666666666666666,
             "#ed7953"
            ],
            [
             0.7777777777777778,
             "#fb9f3a"
            ],
            [
             0.8888888888888888,
             "#fdca26"
            ],
            [
             1,
             "#f0f921"
            ]
           ],
           "sequentialminus": [
            [
             0,
             "#0d0887"
            ],
            [
             0.1111111111111111,
             "#46039f"
            ],
            [
             0.2222222222222222,
             "#7201a8"
            ],
            [
             0.3333333333333333,
             "#9c179e"
            ],
            [
             0.4444444444444444,
             "#bd3786"
            ],
            [
             0.5555555555555556,
             "#d8576b"
            ],
            [
             0.6666666666666666,
             "#ed7953"
            ],
            [
             0.7777777777777778,
             "#fb9f3a"
            ],
            [
             0.8888888888888888,
             "#fdca26"
            ],
            [
             1,
             "#f0f921"
            ]
           ]
          },
          "colorway": [
           "#636efa",
           "#EF553B",
           "#00cc96",
           "#ab63fa",
           "#FFA15A",
           "#19d3f3",
           "#FF6692",
           "#B6E880",
           "#FF97FF",
           "#FECB52"
          ],
          "font": {
           "color": "#2a3f5f"
          },
          "geo": {
           "bgcolor": "white",
           "lakecolor": "white",
           "landcolor": "white",
           "showlakes": true,
           "showland": true,
           "subunitcolor": "#C8D4E3"
          },
          "hoverlabel": {
           "align": "left"
          },
          "hovermode": "closest",
          "mapbox": {
           "style": "light"
          },
          "paper_bgcolor": "white",
          "plot_bgcolor": "white",
          "polar": {
           "angularaxis": {
            "gridcolor": "#EBF0F8",
            "linecolor": "#EBF0F8",
            "ticks": ""
           },
           "bgcolor": "white",
           "radialaxis": {
            "gridcolor": "#EBF0F8",
            "linecolor": "#EBF0F8",
            "ticks": ""
           }
          },
          "scene": {
           "xaxis": {
            "backgroundcolor": "white",
            "gridcolor": "#DFE8F3",
            "gridwidth": 2,
            "linecolor": "#EBF0F8",
            "showbackground": true,
            "ticks": "",
            "zerolinecolor": "#EBF0F8"
           },
           "yaxis": {
            "backgroundcolor": "white",
            "gridcolor": "#DFE8F3",
            "gridwidth": 2,
            "linecolor": "#EBF0F8",
            "showbackground": true,
            "ticks": "",
            "zerolinecolor": "#EBF0F8"
           },
           "zaxis": {
            "backgroundcolor": "white",
            "gridcolor": "#DFE8F3",
            "gridwidth": 2,
            "linecolor": "#EBF0F8",
            "showbackground": true,
            "ticks": "",
            "zerolinecolor": "#EBF0F8"
           }
          },
          "shapedefaults": {
           "line": {
            "color": "#2a3f5f"
           }
          },
          "ternary": {
           "aaxis": {
            "gridcolor": "#DFE8F3",
            "linecolor": "#A2B1C6",
            "ticks": ""
           },
           "baxis": {
            "gridcolor": "#DFE8F3",
            "linecolor": "#A2B1C6",
            "ticks": ""
           },
           "bgcolor": "white",
           "caxis": {
            "gridcolor": "#DFE8F3",
            "linecolor": "#A2B1C6",
            "ticks": ""
           }
          },
          "title": {
           "x": 0.05
          },
          "xaxis": {
           "automargin": true,
           "gridcolor": "#EBF0F8",
           "linecolor": "#EBF0F8",
           "ticks": "",
           "title": {
            "standoff": 15
           },
           "zerolinecolor": "#EBF0F8",
           "zerolinewidth": 2
          },
          "yaxis": {
           "automargin": true,
           "gridcolor": "#EBF0F8",
           "linecolor": "#EBF0F8",
           "ticks": "",
           "title": {
            "standoff": 15
           },
           "zerolinecolor": "#EBF0F8",
           "zerolinewidth": 2
          }
         }
        },
        "title": {
         "text": "Storico prezzo listino e vendita articolo 017.PM419"
        },
        "xaxis": {
         "anchor": "y",
         "domain": [
          0,
          1
         ],
         "title": {
          "text": "Mese"
         }
        },
        "yaxis": {
         "anchor": "x",
         "domain": [
          0,
          1
         ],
         "title": {
          "text": "value"
         }
        }
       }
      }
     },
     "metadata": {},
     "output_type": "display_data"
    }
   ],
   "source": [
    "fig = px.line(x=list(range(1, 14)), y=[storico, storico_vendita], title=\"Storico prezzo listino e vendita articolo 017.PM419\", markers=True, template=\"plotly_white\", text=storico, labels={\"x\":\"Mese\", \"y\":\"Prezzo\"})\n",
    "fig.update_traces(textposition='top center')\n",
    "newnames = {'wide_variable_0':'Storico prezzo listino', 'wide_variable_1': 'Storico prezzo vendita'}\n",
    "fig.for_each_trace(lambda t: t.update(name = newnames[t.name],\n",
    "                                      legendgroup = newnames[t.name],\n",
    "                                      hovertemplate = t.hovertemplate.replace(t.name, newnames[t.name])\n",
    "                                     )\n",
    "                  )\n",
    "fig.write_html(\"vista_listino/storico_esempio_compared.html\")\n",
    "fig.show()"
   ]
  },
  {
   "cell_type": "code",
   "execution_count": 211,
   "metadata": {},
   "outputs": [
    {
     "data": {
      "application/vnd.plotly.v1+json": {
       "config": {
        "plotlyServerURL": "https://plot.ly"
       },
       "data": [
        {
         "hovertemplate": "Mese=%{x}<br>Prezzo=%{y}<br>text=%{text}<extra></extra>",
         "legendgroup": "",
         "line": {
          "color": "#636efa",
          "dash": "solid"
         },
         "marker": {
          "symbol": "circle"
         },
         "mode": "lines+markers+text",
         "name": "",
         "orientation": "v",
         "showlegend": false,
         "text": [
          41.56,
          41.6,
          42.21,
          42.96,
          43.3,
          43.43,
          44.02,
          44.27,
          44.93,
          45.54,
          45.81,
          46.07,
          46.52
         ],
         "textposition": "top center",
         "type": "scatter",
         "x": [
          1,
          2,
          3,
          4,
          5,
          6,
          7,
          8,
          9,
          10,
          11,
          12,
          13
         ],
         "xaxis": "x",
         "y": [
          41.56,
          41.6,
          42.21,
          42.96,
          43.3,
          43.43,
          44.02,
          44.27,
          44.93,
          45.54,
          45.81,
          46.07,
          46.52
         ],
         "yaxis": "y"
        }
       ],
       "layout": {
        "legend": {
         "tracegroupgap": 0
        },
        "template": {
         "data": {
          "bar": [
           {
            "error_x": {
             "color": "#2a3f5f"
            },
            "error_y": {
             "color": "#2a3f5f"
            },
            "marker": {
             "line": {
              "color": "white",
              "width": 0.5
             },
             "pattern": {
              "fillmode": "overlay",
              "size": 10,
              "solidity": 0.2
             }
            },
            "type": "bar"
           }
          ],
          "barpolar": [
           {
            "marker": {
             "line": {
              "color": "white",
              "width": 0.5
             },
             "pattern": {
              "fillmode": "overlay",
              "size": 10,
              "solidity": 0.2
             }
            },
            "type": "barpolar"
           }
          ],
          "carpet": [
           {
            "aaxis": {
             "endlinecolor": "#2a3f5f",
             "gridcolor": "#C8D4E3",
             "linecolor": "#C8D4E3",
             "minorgridcolor": "#C8D4E3",
             "startlinecolor": "#2a3f5f"
            },
            "baxis": {
             "endlinecolor": "#2a3f5f",
             "gridcolor": "#C8D4E3",
             "linecolor": "#C8D4E3",
             "minorgridcolor": "#C8D4E3",
             "startlinecolor": "#2a3f5f"
            },
            "type": "carpet"
           }
          ],
          "choropleth": [
           {
            "colorbar": {
             "outlinewidth": 0,
             "ticks": ""
            },
            "type": "choropleth"
           }
          ],
          "contour": [
           {
            "colorbar": {
             "outlinewidth": 0,
             "ticks": ""
            },
            "colorscale": [
             [
              0,
              "#0d0887"
             ],
             [
              0.1111111111111111,
              "#46039f"
             ],
             [
              0.2222222222222222,
              "#7201a8"
             ],
             [
              0.3333333333333333,
              "#9c179e"
             ],
             [
              0.4444444444444444,
              "#bd3786"
             ],
             [
              0.5555555555555556,
              "#d8576b"
             ],
             [
              0.6666666666666666,
              "#ed7953"
             ],
             [
              0.7777777777777778,
              "#fb9f3a"
             ],
             [
              0.8888888888888888,
              "#fdca26"
             ],
             [
              1,
              "#f0f921"
             ]
            ],
            "type": "contour"
           }
          ],
          "contourcarpet": [
           {
            "colorbar": {
             "outlinewidth": 0,
             "ticks": ""
            },
            "type": "contourcarpet"
           }
          ],
          "heatmap": [
           {
            "colorbar": {
             "outlinewidth": 0,
             "ticks": ""
            },
            "colorscale": [
             [
              0,
              "#0d0887"
             ],
             [
              0.1111111111111111,
              "#46039f"
             ],
             [
              0.2222222222222222,
              "#7201a8"
             ],
             [
              0.3333333333333333,
              "#9c179e"
             ],
             [
              0.4444444444444444,
              "#bd3786"
             ],
             [
              0.5555555555555556,
              "#d8576b"
             ],
             [
              0.6666666666666666,
              "#ed7953"
             ],
             [
              0.7777777777777778,
              "#fb9f3a"
             ],
             [
              0.8888888888888888,
              "#fdca26"
             ],
             [
              1,
              "#f0f921"
             ]
            ],
            "type": "heatmap"
           }
          ],
          "heatmapgl": [
           {
            "colorbar": {
             "outlinewidth": 0,
             "ticks": ""
            },
            "colorscale": [
             [
              0,
              "#0d0887"
             ],
             [
              0.1111111111111111,
              "#46039f"
             ],
             [
              0.2222222222222222,
              "#7201a8"
             ],
             [
              0.3333333333333333,
              "#9c179e"
             ],
             [
              0.4444444444444444,
              "#bd3786"
             ],
             [
              0.5555555555555556,
              "#d8576b"
             ],
             [
              0.6666666666666666,
              "#ed7953"
             ],
             [
              0.7777777777777778,
              "#fb9f3a"
             ],
             [
              0.8888888888888888,
              "#fdca26"
             ],
             [
              1,
              "#f0f921"
             ]
            ],
            "type": "heatmapgl"
           }
          ],
          "histogram": [
           {
            "marker": {
             "pattern": {
              "fillmode": "overlay",
              "size": 10,
              "solidity": 0.2
             }
            },
            "type": "histogram"
           }
          ],
          "histogram2d": [
           {
            "colorbar": {
             "outlinewidth": 0,
             "ticks": ""
            },
            "colorscale": [
             [
              0,
              "#0d0887"
             ],
             [
              0.1111111111111111,
              "#46039f"
             ],
             [
              0.2222222222222222,
              "#7201a8"
             ],
             [
              0.3333333333333333,
              "#9c179e"
             ],
             [
              0.4444444444444444,
              "#bd3786"
             ],
             [
              0.5555555555555556,
              "#d8576b"
             ],
             [
              0.6666666666666666,
              "#ed7953"
             ],
             [
              0.7777777777777778,
              "#fb9f3a"
             ],
             [
              0.8888888888888888,
              "#fdca26"
             ],
             [
              1,
              "#f0f921"
             ]
            ],
            "type": "histogram2d"
           }
          ],
          "histogram2dcontour": [
           {
            "colorbar": {
             "outlinewidth": 0,
             "ticks": ""
            },
            "colorscale": [
             [
              0,
              "#0d0887"
             ],
             [
              0.1111111111111111,
              "#46039f"
             ],
             [
              0.2222222222222222,
              "#7201a8"
             ],
             [
              0.3333333333333333,
              "#9c179e"
             ],
             [
              0.4444444444444444,
              "#bd3786"
             ],
             [
              0.5555555555555556,
              "#d8576b"
             ],
             [
              0.6666666666666666,
              "#ed7953"
             ],
             [
              0.7777777777777778,
              "#fb9f3a"
             ],
             [
              0.8888888888888888,
              "#fdca26"
             ],
             [
              1,
              "#f0f921"
             ]
            ],
            "type": "histogram2dcontour"
           }
          ],
          "mesh3d": [
           {
            "colorbar": {
             "outlinewidth": 0,
             "ticks": ""
            },
            "type": "mesh3d"
           }
          ],
          "parcoords": [
           {
            "line": {
             "colorbar": {
              "outlinewidth": 0,
              "ticks": ""
             }
            },
            "type": "parcoords"
           }
          ],
          "pie": [
           {
            "automargin": true,
            "type": "pie"
           }
          ],
          "scatter": [
           {
            "fillpattern": {
             "fillmode": "overlay",
             "size": 10,
             "solidity": 0.2
            },
            "type": "scatter"
           }
          ],
          "scatter3d": [
           {
            "line": {
             "colorbar": {
              "outlinewidth": 0,
              "ticks": ""
             }
            },
            "marker": {
             "colorbar": {
              "outlinewidth": 0,
              "ticks": ""
             }
            },
            "type": "scatter3d"
           }
          ],
          "scattercarpet": [
           {
            "marker": {
             "colorbar": {
              "outlinewidth": 0,
              "ticks": ""
             }
            },
            "type": "scattercarpet"
           }
          ],
          "scattergeo": [
           {
            "marker": {
             "colorbar": {
              "outlinewidth": 0,
              "ticks": ""
             }
            },
            "type": "scattergeo"
           }
          ],
          "scattergl": [
           {
            "marker": {
             "colorbar": {
              "outlinewidth": 0,
              "ticks": ""
             }
            },
            "type": "scattergl"
           }
          ],
          "scattermapbox": [
           {
            "marker": {
             "colorbar": {
              "outlinewidth": 0,
              "ticks": ""
             }
            },
            "type": "scattermapbox"
           }
          ],
          "scatterpolar": [
           {
            "marker": {
             "colorbar": {
              "outlinewidth": 0,
              "ticks": ""
             }
            },
            "type": "scatterpolar"
           }
          ],
          "scatterpolargl": [
           {
            "marker": {
             "colorbar": {
              "outlinewidth": 0,
              "ticks": ""
             }
            },
            "type": "scatterpolargl"
           }
          ],
          "scatterternary": [
           {
            "marker": {
             "colorbar": {
              "outlinewidth": 0,
              "ticks": ""
             }
            },
            "type": "scatterternary"
           }
          ],
          "surface": [
           {
            "colorbar": {
             "outlinewidth": 0,
             "ticks": ""
            },
            "colorscale": [
             [
              0,
              "#0d0887"
             ],
             [
              0.1111111111111111,
              "#46039f"
             ],
             [
              0.2222222222222222,
              "#7201a8"
             ],
             [
              0.3333333333333333,
              "#9c179e"
             ],
             [
              0.4444444444444444,
              "#bd3786"
             ],
             [
              0.5555555555555556,
              "#d8576b"
             ],
             [
              0.6666666666666666,
              "#ed7953"
             ],
             [
              0.7777777777777778,
              "#fb9f3a"
             ],
             [
              0.8888888888888888,
              "#fdca26"
             ],
             [
              1,
              "#f0f921"
             ]
            ],
            "type": "surface"
           }
          ],
          "table": [
           {
            "cells": {
             "fill": {
              "color": "#EBF0F8"
             },
             "line": {
              "color": "white"
             }
            },
            "header": {
             "fill": {
              "color": "#C8D4E3"
             },
             "line": {
              "color": "white"
             }
            },
            "type": "table"
           }
          ]
         },
         "layout": {
          "annotationdefaults": {
           "arrowcolor": "#2a3f5f",
           "arrowhead": 0,
           "arrowwidth": 1
          },
          "autotypenumbers": "strict",
          "coloraxis": {
           "colorbar": {
            "outlinewidth": 0,
            "ticks": ""
           }
          },
          "colorscale": {
           "diverging": [
            [
             0,
             "#8e0152"
            ],
            [
             0.1,
             "#c51b7d"
            ],
            [
             0.2,
             "#de77ae"
            ],
            [
             0.3,
             "#f1b6da"
            ],
            [
             0.4,
             "#fde0ef"
            ],
            [
             0.5,
             "#f7f7f7"
            ],
            [
             0.6,
             "#e6f5d0"
            ],
            [
             0.7,
             "#b8e186"
            ],
            [
             0.8,
             "#7fbc41"
            ],
            [
             0.9,
             "#4d9221"
            ],
            [
             1,
             "#276419"
            ]
           ],
           "sequential": [
            [
             0,
             "#0d0887"
            ],
            [
             0.1111111111111111,
             "#46039f"
            ],
            [
             0.2222222222222222,
             "#7201a8"
            ],
            [
             0.3333333333333333,
             "#9c179e"
            ],
            [
             0.4444444444444444,
             "#bd3786"
            ],
            [
             0.5555555555555556,
             "#d8576b"
            ],
            [
             0.6666666666666666,
             "#ed7953"
            ],
            [
             0.7777777777777778,
             "#fb9f3a"
            ],
            [
             0.8888888888888888,
             "#fdca26"
            ],
            [
             1,
             "#f0f921"
            ]
           ],
           "sequentialminus": [
            [
             0,
             "#0d0887"
            ],
            [
             0.1111111111111111,
             "#46039f"
            ],
            [
             0.2222222222222222,
             "#7201a8"
            ],
            [
             0.3333333333333333,
             "#9c179e"
            ],
            [
             0.4444444444444444,
             "#bd3786"
            ],
            [
             0.5555555555555556,
             "#d8576b"
            ],
            [
             0.6666666666666666,
             "#ed7953"
            ],
            [
             0.7777777777777778,
             "#fb9f3a"
            ],
            [
             0.8888888888888888,
             "#fdca26"
            ],
            [
             1,
             "#f0f921"
            ]
           ]
          },
          "colorway": [
           "#636efa",
           "#EF553B",
           "#00cc96",
           "#ab63fa",
           "#FFA15A",
           "#19d3f3",
           "#FF6692",
           "#B6E880",
           "#FF97FF",
           "#FECB52"
          ],
          "font": {
           "color": "#2a3f5f"
          },
          "geo": {
           "bgcolor": "white",
           "lakecolor": "white",
           "landcolor": "white",
           "showlakes": true,
           "showland": true,
           "subunitcolor": "#C8D4E3"
          },
          "hoverlabel": {
           "align": "left"
          },
          "hovermode": "closest",
          "mapbox": {
           "style": "light"
          },
          "paper_bgcolor": "white",
          "plot_bgcolor": "white",
          "polar": {
           "angularaxis": {
            "gridcolor": "#EBF0F8",
            "linecolor": "#EBF0F8",
            "ticks": ""
           },
           "bgcolor": "white",
           "radialaxis": {
            "gridcolor": "#EBF0F8",
            "linecolor": "#EBF0F8",
            "ticks": ""
           }
          },
          "scene": {
           "xaxis": {
            "backgroundcolor": "white",
            "gridcolor": "#DFE8F3",
            "gridwidth": 2,
            "linecolor": "#EBF0F8",
            "showbackground": true,
            "ticks": "",
            "zerolinecolor": "#EBF0F8"
           },
           "yaxis": {
            "backgroundcolor": "white",
            "gridcolor": "#DFE8F3",
            "gridwidth": 2,
            "linecolor": "#EBF0F8",
            "showbackground": true,
            "ticks": "",
            "zerolinecolor": "#EBF0F8"
           },
           "zaxis": {
            "backgroundcolor": "white",
            "gridcolor": "#DFE8F3",
            "gridwidth": 2,
            "linecolor": "#EBF0F8",
            "showbackground": true,
            "ticks": "",
            "zerolinecolor": "#EBF0F8"
           }
          },
          "shapedefaults": {
           "line": {
            "color": "#2a3f5f"
           }
          },
          "ternary": {
           "aaxis": {
            "gridcolor": "#DFE8F3",
            "linecolor": "#A2B1C6",
            "ticks": ""
           },
           "baxis": {
            "gridcolor": "#DFE8F3",
            "linecolor": "#A2B1C6",
            "ticks": ""
           },
           "bgcolor": "white",
           "caxis": {
            "gridcolor": "#DFE8F3",
            "linecolor": "#A2B1C6",
            "ticks": ""
           }
          },
          "title": {
           "x": 0.05
          },
          "xaxis": {
           "automargin": true,
           "gridcolor": "#EBF0F8",
           "linecolor": "#EBF0F8",
           "ticks": "",
           "title": {
            "standoff": 15
           },
           "zerolinecolor": "#EBF0F8",
           "zerolinewidth": 2
          },
          "yaxis": {
           "automargin": true,
           "gridcolor": "#EBF0F8",
           "linecolor": "#EBF0F8",
           "ticks": "",
           "title": {
            "standoff": 15
           },
           "zerolinecolor": "#EBF0F8",
           "zerolinewidth": 2
          }
         }
        },
        "title": {
         "text": "Storico prezzo listino articolo 017.PM419"
        },
        "xaxis": {
         "anchor": "y",
         "domain": [
          0,
          1
         ],
         "title": {
          "text": "Mese"
         }
        },
        "yaxis": {
         "anchor": "x",
         "domain": [
          0,
          1
         ],
         "title": {
          "text": "Prezzo"
         }
        }
       }
      }
     },
     "metadata": {},
     "output_type": "display_data"
    }
   ],
   "source": [
    "fig = px.line(x=list(range(1, 14)), y=storico, title=\"Storico prezzo listino articolo 017.PM419\", markers=True, template=\"plotly_white\", text=storico, labels={\"x\":\"Mese\", \"y\":\"Prezzo\"})\n",
    "fig.update_traces(textposition='top center')\n",
    "fig.write_html(\"vista_listino/storico_esempio.html\")\n",
    "fig.show()"
   ]
  },
  {
   "cell_type": "code",
   "execution_count": 212,
   "metadata": {},
   "outputs": [
    {
     "data": {
      "text/html": [
       "<div>\n",
       "<style scoped>\n",
       "    .dataframe tbody tr th:only-of-type {\n",
       "        vertical-align: middle;\n",
       "    }\n",
       "\n",
       "    .dataframe tbody tr th {\n",
       "        vertical-align: top;\n",
       "    }\n",
       "\n",
       "    .dataframe thead th {\n",
       "        text-align: right;\n",
       "    }\n",
       "</style>\n",
       "<table border=\"1\" class=\"dataframe\">\n",
       "  <thead>\n",
       "    <tr style=\"text-align: right;\">\n",
       "      <th></th>\n",
       "      <th>Codice_articolo</th>\n",
       "      <th>Codice_variante</th>\n",
       "      <th>Descrizione</th>\n",
       "      <th>Costo</th>\n",
       "      <th>Data_riferimento</th>\n",
       "      <th>Categoria</th>\n",
       "      <th>Storico</th>\n",
       "      <th>Vendita</th>\n",
       "      <th>Prezzo_1</th>\n",
       "      <th>Prezzo_2</th>\n",
       "      <th>...</th>\n",
       "      <th>Prezzo_4</th>\n",
       "      <th>Prezzo_5</th>\n",
       "      <th>Prezzo_6</th>\n",
       "      <th>Prezzo_7</th>\n",
       "      <th>Prezzo_8</th>\n",
       "      <th>Prezzo_9</th>\n",
       "      <th>Prezzo_10</th>\n",
       "      <th>Prezzo_11</th>\n",
       "      <th>Prezzo_12</th>\n",
       "      <th>Prezzo_13</th>\n",
       "    </tr>\n",
       "  </thead>\n",
       "  <tbody>\n",
       "    <tr>\n",
       "      <th>0</th>\n",
       "      <td>017.PM419</td>\n",
       "      <td>1</td>\n",
       "      <td></td>\n",
       "      <td>46.52</td>\n",
       "      <td>2023-01-12</td>\n",
       "      <td>Veneziane</td>\n",
       "      <td>[41.56, 41.6, 42.21, 42.96, 43.3, 43.43, 44.02...</td>\n",
       "      <td>[51.85, 54.1, 44.66, 76.63, 79.36, 78.13, 67.1...</td>\n",
       "      <td>41.56</td>\n",
       "      <td>41.60</td>\n",
       "      <td>...</td>\n",
       "      <td>42.96</td>\n",
       "      <td>43.30</td>\n",
       "      <td>43.43</td>\n",
       "      <td>44.02</td>\n",
       "      <td>44.27</td>\n",
       "      <td>44.93</td>\n",
       "      <td>45.54</td>\n",
       "      <td>45.81</td>\n",
       "      <td>46.07</td>\n",
       "      <td>46.52</td>\n",
       "    </tr>\n",
       "    <tr>\n",
       "      <th>1</th>\n",
       "      <td>017.PM421</td>\n",
       "      <td>1</td>\n",
       "      <td></td>\n",
       "      <td>48.75</td>\n",
       "      <td>2023-01-12</td>\n",
       "      <td>Veneziane</td>\n",
       "      <td>[42.15, 42.49, 42.62, 43.33, 43.84, 44.45, 45....</td>\n",
       "      <td>[56.39]</td>\n",
       "      <td>42.15</td>\n",
       "      <td>42.49</td>\n",
       "      <td>...</td>\n",
       "      <td>43.33</td>\n",
       "      <td>43.84</td>\n",
       "      <td>44.45</td>\n",
       "      <td>45.17</td>\n",
       "      <td>46.06</td>\n",
       "      <td>46.61</td>\n",
       "      <td>47.54</td>\n",
       "      <td>48.06</td>\n",
       "      <td>48.37</td>\n",
       "      <td>48.75</td>\n",
       "    </tr>\n",
       "    <tr>\n",
       "      <th>2</th>\n",
       "      <td>017.PM422</td>\n",
       "      <td>3</td>\n",
       "      <td></td>\n",
       "      <td>46.52</td>\n",
       "      <td>2023-01-12</td>\n",
       "      <td>Veneziane</td>\n",
       "      <td>[42.55, 42.7, 43.19, 43.32, 43.77, 44.52, 44.6...</td>\n",
       "      <td>[55.81, 84.51, 61.67, 52.68, 44.01, 68.35, 43....</td>\n",
       "      <td>42.55</td>\n",
       "      <td>42.70</td>\n",
       "      <td>...</td>\n",
       "      <td>43.32</td>\n",
       "      <td>43.77</td>\n",
       "      <td>44.52</td>\n",
       "      <td>44.60</td>\n",
       "      <td>44.80</td>\n",
       "      <td>44.95</td>\n",
       "      <td>45.53</td>\n",
       "      <td>45.70</td>\n",
       "      <td>45.90</td>\n",
       "      <td>46.52</td>\n",
       "    </tr>\n",
       "    <tr>\n",
       "      <th>3</th>\n",
       "      <td>017.PM424</td>\n",
       "      <td>2</td>\n",
       "      <td></td>\n",
       "      <td>51.80</td>\n",
       "      <td>2023-01-12</td>\n",
       "      <td>Veneziane</td>\n",
       "      <td>[45.93, 46.39, 46.41, 46.57, 46.79, 47.56, 48....</td>\n",
       "      <td>[80.47, 80.16, 50.62, 77.63, 93.69, 93.57, 82....</td>\n",
       "      <td>45.93</td>\n",
       "      <td>46.39</td>\n",
       "      <td>...</td>\n",
       "      <td>46.57</td>\n",
       "      <td>46.79</td>\n",
       "      <td>47.56</td>\n",
       "      <td>48.50</td>\n",
       "      <td>48.54</td>\n",
       "      <td>48.79</td>\n",
       "      <td>49.29</td>\n",
       "      <td>50.01</td>\n",
       "      <td>50.99</td>\n",
       "      <td>51.80</td>\n",
       "    </tr>\n",
       "    <tr>\n",
       "      <th>4</th>\n",
       "      <td>017.PM425</td>\n",
       "      <td>1</td>\n",
       "      <td></td>\n",
       "      <td>46.52</td>\n",
       "      <td>2023-01-12</td>\n",
       "      <td>Veneziane</td>\n",
       "      <td>[40.35, 40.86, 41.05, 41.79, 42.44, 43.25, 43....</td>\n",
       "      <td>[51.9, 47.7]</td>\n",
       "      <td>40.35</td>\n",
       "      <td>40.86</td>\n",
       "      <td>...</td>\n",
       "      <td>41.79</td>\n",
       "      <td>42.44</td>\n",
       "      <td>43.25</td>\n",
       "      <td>43.73</td>\n",
       "      <td>44.43</td>\n",
       "      <td>44.99</td>\n",
       "      <td>45.62</td>\n",
       "      <td>45.82</td>\n",
       "      <td>45.95</td>\n",
       "      <td>46.52</td>\n",
       "    </tr>\n",
       "  </tbody>\n",
       "</table>\n",
       "<p>5 rows × 21 columns</p>\n",
       "</div>"
      ],
      "text/plain": [
       "  Codice_articolo  Codice_variante Descrizione  Costo Data_riferimento  \\\n",
       "0       017.PM419                1              46.52       2023-01-12   \n",
       "1       017.PM421                1              48.75       2023-01-12   \n",
       "2       017.PM422                3              46.52       2023-01-12   \n",
       "3       017.PM424                2              51.80       2023-01-12   \n",
       "4       017.PM425                1              46.52       2023-01-12   \n",
       "\n",
       "   Categoria                                            Storico  \\\n",
       "0  Veneziane  [41.56, 41.6, 42.21, 42.96, 43.3, 43.43, 44.02...   \n",
       "1  Veneziane  [42.15, 42.49, 42.62, 43.33, 43.84, 44.45, 45....   \n",
       "2  Veneziane  [42.55, 42.7, 43.19, 43.32, 43.77, 44.52, 44.6...   \n",
       "3  Veneziane  [45.93, 46.39, 46.41, 46.57, 46.79, 47.56, 48....   \n",
       "4  Veneziane  [40.35, 40.86, 41.05, 41.79, 42.44, 43.25, 43....   \n",
       "\n",
       "                                             Vendita  Prezzo_1  Prezzo_2  ...  \\\n",
       "0  [51.85, 54.1, 44.66, 76.63, 79.36, 78.13, 67.1...     41.56     41.60  ...   \n",
       "1                                            [56.39]     42.15     42.49  ...   \n",
       "2  [55.81, 84.51, 61.67, 52.68, 44.01, 68.35, 43....     42.55     42.70  ...   \n",
       "3  [80.47, 80.16, 50.62, 77.63, 93.69, 93.57, 82....     45.93     46.39  ...   \n",
       "4                                       [51.9, 47.7]     40.35     40.86  ...   \n",
       "\n",
       "   Prezzo_4  Prezzo_5  Prezzo_6  Prezzo_7  Prezzo_8  Prezzo_9  Prezzo_10  \\\n",
       "0     42.96     43.30     43.43     44.02     44.27     44.93      45.54   \n",
       "1     43.33     43.84     44.45     45.17     46.06     46.61      47.54   \n",
       "2     43.32     43.77     44.52     44.60     44.80     44.95      45.53   \n",
       "3     46.57     46.79     47.56     48.50     48.54     48.79      49.29   \n",
       "4     41.79     42.44     43.25     43.73     44.43     44.99      45.62   \n",
       "\n",
       "   Prezzo_11  Prezzo_12  Prezzo_13  \n",
       "0      45.81      46.07      46.52  \n",
       "1      48.06      48.37      48.75  \n",
       "2      45.70      45.90      46.52  \n",
       "3      50.01      50.99      51.80  \n",
       "4      45.82      45.95      46.52  \n",
       "\n",
       "[5 rows x 21 columns]"
      ]
     },
     "execution_count": 212,
     "metadata": {},
     "output_type": "execute_result"
    }
   ],
   "source": [
    "# create new columns from storico and vendita\n",
    "df_listino[\"Prezzo_1\"] = [storico[0] for storico in df_listino[\"Storico\"]]\n",
    "df_listino[\"Prezzo_2\"] = [storico[1] for storico in df_listino[\"Storico\"]]\n",
    "df_listino[\"Prezzo_3\"] = [storico[2] for storico in df_listino[\"Storico\"]]\n",
    "df_listino[\"Prezzo_4\"] = [storico[3] for storico in df_listino[\"Storico\"]]\n",
    "df_listino[\"Prezzo_5\"] = [storico[4] for storico in df_listino[\"Storico\"]]\n",
    "df_listino[\"Prezzo_6\"] = [storico[5] for storico in df_listino[\"Storico\"]]\n",
    "df_listino[\"Prezzo_7\"] = [storico[6] for storico in df_listino[\"Storico\"]]\n",
    "df_listino[\"Prezzo_8\"] = [storico[7] for storico in df_listino[\"Storico\"]]\n",
    "df_listino[\"Prezzo_9\"] = [storico[8] for storico in df_listino[\"Storico\"]]\n",
    "df_listino[\"Prezzo_10\"] = [storico[9] for storico in df_listino[\"Storico\"]]\n",
    "df_listino[\"Prezzo_11\"] = [storico[10] for storico in df_listino[\"Storico\"]]\n",
    "df_listino[\"Prezzo_12\"] = [storico[11] for storico in df_listino[\"Storico\"]]\n",
    "df_listino[\"Prezzo_13\"] = [storico[12] for storico in df_listino[\"Storico\"]]\n",
    "\n",
    "df_listino.head()"
   ]
  },
  {
   "cell_type": "code",
   "execution_count": 213,
   "metadata": {},
   "outputs": [
    {
     "name": "stderr",
     "output_type": "stream",
     "text": [
      "/tmp/ipykernel_14832/135249012.py:3: SettingWithCopyWarning:\n",
      "\n",
      "\n",
      "A value is trying to be set on a copy of a slice from a DataFrame.\n",
      "Try using .loc[row_indexer,col_indexer] = value instead\n",
      "\n",
      "See the caveats in the documentation: https://pandas.pydata.org/pandas-docs/stable/user_guide/indexing.html#returning-a-view-versus-a-copy\n",
      "\n",
      "/tmp/ipykernel_14832/135249012.py:4: SettingWithCopyWarning:\n",
      "\n",
      "\n",
      "A value is trying to be set on a copy of a slice from a DataFrame.\n",
      "Try using .loc[row_indexer,col_indexer] = value instead\n",
      "\n",
      "See the caveats in the documentation: https://pandas.pydata.org/pandas-docs/stable/user_guide/indexing.html#returning-a-view-versus-a-copy\n",
      "\n",
      "/tmp/ipykernel_14832/135249012.py:5: SettingWithCopyWarning:\n",
      "\n",
      "\n",
      "A value is trying to be set on a copy of a slice from a DataFrame.\n",
      "Try using .loc[row_indexer,col_indexer] = value instead\n",
      "\n",
      "See the caveats in the documentation: https://pandas.pydata.org/pandas-docs/stable/user_guide/indexing.html#returning-a-view-versus-a-copy\n",
      "\n",
      "/tmp/ipykernel_14832/135249012.py:6: SettingWithCopyWarning:\n",
      "\n",
      "\n",
      "A value is trying to be set on a copy of a slice from a DataFrame.\n",
      "Try using .loc[row_indexer,col_indexer] = value instead\n",
      "\n",
      "See the caveats in the documentation: https://pandas.pydata.org/pandas-docs/stable/user_guide/indexing.html#returning-a-view-versus-a-copy\n",
      "\n",
      "/tmp/ipykernel_14832/135249012.py:7: SettingWithCopyWarning:\n",
      "\n",
      "\n",
      "A value is trying to be set on a copy of a slice from a DataFrame.\n",
      "Try using .loc[row_indexer,col_indexer] = value instead\n",
      "\n",
      "See the caveats in the documentation: https://pandas.pydata.org/pandas-docs/stable/user_guide/indexing.html#returning-a-view-versus-a-copy\n",
      "\n"
     ]
    },
    {
     "data": {
      "text/html": [
       "<div>\n",
       "<style scoped>\n",
       "    .dataframe tbody tr th:only-of-type {\n",
       "        vertical-align: middle;\n",
       "    }\n",
       "\n",
       "    .dataframe tbody tr th {\n",
       "        vertical-align: top;\n",
       "    }\n",
       "\n",
       "    .dataframe thead th {\n",
       "        text-align: right;\n",
       "    }\n",
       "</style>\n",
       "<table border=\"1\" class=\"dataframe\">\n",
       "  <thead>\n",
       "    <tr style=\"text-align: right;\">\n",
       "      <th></th>\n",
       "      <th>Codice_articolo</th>\n",
       "      <th>Categoria</th>\n",
       "      <th>Prezzo_1</th>\n",
       "      <th>Prezzo_2</th>\n",
       "      <th>Prezzo_3</th>\n",
       "      <th>Prezzo_4</th>\n",
       "      <th>Prezzo_5</th>\n",
       "      <th>Prezzo_6</th>\n",
       "      <th>Prezzo_7</th>\n",
       "      <th>Prezzo_8</th>\n",
       "      <th>...</th>\n",
       "      <th>Delta_4</th>\n",
       "      <th>Delta_5</th>\n",
       "      <th>Delta_6</th>\n",
       "      <th>Delta_7</th>\n",
       "      <th>Delta_8</th>\n",
       "      <th>Delta_9</th>\n",
       "      <th>Delta_10</th>\n",
       "      <th>Delta_11</th>\n",
       "      <th>Delta_12</th>\n",
       "      <th>Delta_avg</th>\n",
       "    </tr>\n",
       "  </thead>\n",
       "  <tbody>\n",
       "    <tr>\n",
       "      <th>0</th>\n",
       "      <td>017.PM419</td>\n",
       "      <td>Veneziane</td>\n",
       "      <td>41.56</td>\n",
       "      <td>41.60</td>\n",
       "      <td>42.21</td>\n",
       "      <td>42.96</td>\n",
       "      <td>43.30</td>\n",
       "      <td>43.43</td>\n",
       "      <td>44.02</td>\n",
       "      <td>44.27</td>\n",
       "      <td>...</td>\n",
       "      <td>0.791434</td>\n",
       "      <td>0.300231</td>\n",
       "      <td>1.358508</td>\n",
       "      <td>0.567924</td>\n",
       "      <td>1.490852</td>\n",
       "      <td>1.357667</td>\n",
       "      <td>0.592885</td>\n",
       "      <td>0.567562</td>\n",
       "      <td>0.976774</td>\n",
       "      <td>0.945272</td>\n",
       "    </tr>\n",
       "    <tr>\n",
       "      <th>1</th>\n",
       "      <td>017.PM421</td>\n",
       "      <td>Veneziane</td>\n",
       "      <td>42.15</td>\n",
       "      <td>42.49</td>\n",
       "      <td>42.62</td>\n",
       "      <td>43.33</td>\n",
       "      <td>43.84</td>\n",
       "      <td>44.45</td>\n",
       "      <td>45.17</td>\n",
       "      <td>46.06</td>\n",
       "      <td>...</td>\n",
       "      <td>1.177014</td>\n",
       "      <td>1.391423</td>\n",
       "      <td>1.619798</td>\n",
       "      <td>1.970334</td>\n",
       "      <td>1.194095</td>\n",
       "      <td>1.995280</td>\n",
       "      <td>1.093816</td>\n",
       "      <td>0.645027</td>\n",
       "      <td>0.785611</td>\n",
       "      <td>1.220907</td>\n",
       "    </tr>\n",
       "    <tr>\n",
       "      <th>2</th>\n",
       "      <td>017.PM422</td>\n",
       "      <td>Veneziane</td>\n",
       "      <td>42.55</td>\n",
       "      <td>42.70</td>\n",
       "      <td>43.19</td>\n",
       "      <td>43.32</td>\n",
       "      <td>43.77</td>\n",
       "      <td>44.52</td>\n",
       "      <td>44.60</td>\n",
       "      <td>44.80</td>\n",
       "      <td>...</td>\n",
       "      <td>1.038781</td>\n",
       "      <td>1.713502</td>\n",
       "      <td>0.179695</td>\n",
       "      <td>0.448430</td>\n",
       "      <td>0.334821</td>\n",
       "      <td>1.290323</td>\n",
       "      <td>0.373380</td>\n",
       "      <td>0.437637</td>\n",
       "      <td>1.350763</td>\n",
       "      <td>0.747366</td>\n",
       "    </tr>\n",
       "    <tr>\n",
       "      <th>3</th>\n",
       "      <td>017.PM424</td>\n",
       "      <td>Veneziane</td>\n",
       "      <td>45.93</td>\n",
       "      <td>46.39</td>\n",
       "      <td>46.41</td>\n",
       "      <td>46.57</td>\n",
       "      <td>46.79</td>\n",
       "      <td>47.56</td>\n",
       "      <td>48.50</td>\n",
       "      <td>48.54</td>\n",
       "      <td>...</td>\n",
       "      <td>0.472407</td>\n",
       "      <td>1.645651</td>\n",
       "      <td>1.976451</td>\n",
       "      <td>0.082474</td>\n",
       "      <td>0.515039</td>\n",
       "      <td>1.024800</td>\n",
       "      <td>1.460743</td>\n",
       "      <td>1.959608</td>\n",
       "      <td>1.588547</td>\n",
       "      <td>1.009592</td>\n",
       "    </tr>\n",
       "    <tr>\n",
       "      <th>4</th>\n",
       "      <td>017.PM425</td>\n",
       "      <td>Veneziane</td>\n",
       "      <td>40.35</td>\n",
       "      <td>40.86</td>\n",
       "      <td>41.05</td>\n",
       "      <td>41.79</td>\n",
       "      <td>42.44</td>\n",
       "      <td>43.25</td>\n",
       "      <td>43.73</td>\n",
       "      <td>44.43</td>\n",
       "      <td>...</td>\n",
       "      <td>1.555396</td>\n",
       "      <td>1.908577</td>\n",
       "      <td>1.109827</td>\n",
       "      <td>1.600732</td>\n",
       "      <td>1.260410</td>\n",
       "      <td>1.400311</td>\n",
       "      <td>0.438404</td>\n",
       "      <td>0.283719</td>\n",
       "      <td>1.240479</td>\n",
       "      <td>1.194123</td>\n",
       "    </tr>\n",
       "    <tr>\n",
       "      <th>...</th>\n",
       "      <td>...</td>\n",
       "      <td>...</td>\n",
       "      <td>...</td>\n",
       "      <td>...</td>\n",
       "      <td>...</td>\n",
       "      <td>...</td>\n",
       "      <td>...</td>\n",
       "      <td>...</td>\n",
       "      <td>...</td>\n",
       "      <td>...</td>\n",
       "      <td>...</td>\n",
       "      <td>...</td>\n",
       "      <td>...</td>\n",
       "      <td>...</td>\n",
       "      <td>...</td>\n",
       "      <td>...</td>\n",
       "      <td>...</td>\n",
       "      <td>...</td>\n",
       "      <td>...</td>\n",
       "      <td>...</td>\n",
       "      <td>...</td>\n",
       "    </tr>\n",
       "    <tr>\n",
       "      <th>1508</th>\n",
       "      <td>052.MP.HPL.1</td>\n",
       "      <td>Laminati e altri</td>\n",
       "      <td>7.39</td>\n",
       "      <td>7.31</td>\n",
       "      <td>7.20</td>\n",
       "      <td>7.04</td>\n",
       "      <td>6.87</td>\n",
       "      <td>6.68</td>\n",
       "      <td>6.60</td>\n",
       "      <td>6.58</td>\n",
       "      <td>...</td>\n",
       "      <td>-2.414773</td>\n",
       "      <td>-2.765648</td>\n",
       "      <td>-1.197605</td>\n",
       "      <td>-0.303030</td>\n",
       "      <td>-2.127660</td>\n",
       "      <td>-1.397516</td>\n",
       "      <td>-1.417323</td>\n",
       "      <td>-1.757188</td>\n",
       "      <td>-2.439024</td>\n",
       "      <td>-1.719110</td>\n",
       "    </tr>\n",
       "    <tr>\n",
       "      <th>1509</th>\n",
       "      <td>052.MP.HPL.4</td>\n",
       "      <td>Laminati e altri</td>\n",
       "      <td>16.99</td>\n",
       "      <td>16.73</td>\n",
       "      <td>16.27</td>\n",
       "      <td>16.16</td>\n",
       "      <td>15.70</td>\n",
       "      <td>15.26</td>\n",
       "      <td>15.07</td>\n",
       "      <td>14.94</td>\n",
       "      <td>...</td>\n",
       "      <td>-2.846535</td>\n",
       "      <td>-2.802548</td>\n",
       "      <td>-1.245085</td>\n",
       "      <td>-0.862641</td>\n",
       "      <td>-1.271754</td>\n",
       "      <td>-0.067797</td>\n",
       "      <td>-1.153324</td>\n",
       "      <td>-0.068634</td>\n",
       "      <td>-2.472527</td>\n",
       "      <td>-1.478900</td>\n",
       "    </tr>\n",
       "    <tr>\n",
       "      <th>1510</th>\n",
       "      <td>052.MP.HPL.4</td>\n",
       "      <td>Laminati e altri</td>\n",
       "      <td>17.52</td>\n",
       "      <td>17.02</td>\n",
       "      <td>16.83</td>\n",
       "      <td>16.34</td>\n",
       "      <td>16.27</td>\n",
       "      <td>15.87</td>\n",
       "      <td>15.59</td>\n",
       "      <td>15.31</td>\n",
       "      <td>...</td>\n",
       "      <td>-0.428397</td>\n",
       "      <td>-2.458513</td>\n",
       "      <td>-1.764335</td>\n",
       "      <td>-1.796023</td>\n",
       "      <td>0.000000</td>\n",
       "      <td>-2.547355</td>\n",
       "      <td>-2.278820</td>\n",
       "      <td>-0.754458</td>\n",
       "      <td>-1.865930</td>\n",
       "      <td>-1.731293</td>\n",
       "    </tr>\n",
       "    <tr>\n",
       "      <th>1511</th>\n",
       "      <td>052.MP.HPL.4</td>\n",
       "      <td>Laminati e altri</td>\n",
       "      <td>17.69</td>\n",
       "      <td>17.44</td>\n",
       "      <td>17.05</td>\n",
       "      <td>16.56</td>\n",
       "      <td>16.13</td>\n",
       "      <td>15.86</td>\n",
       "      <td>15.55</td>\n",
       "      <td>15.33</td>\n",
       "      <td>...</td>\n",
       "      <td>-2.596618</td>\n",
       "      <td>-1.673900</td>\n",
       "      <td>-1.954603</td>\n",
       "      <td>-1.414791</td>\n",
       "      <td>-0.717547</td>\n",
       "      <td>-2.496715</td>\n",
       "      <td>-2.560647</td>\n",
       "      <td>-0.345781</td>\n",
       "      <td>-1.457321</td>\n",
       "      <td>-1.811774</td>\n",
       "    </tr>\n",
       "    <tr>\n",
       "      <th>1512</th>\n",
       "      <td>052.MP.MDF</td>\n",
       "      <td>Laminati e altri</td>\n",
       "      <td>7.96</td>\n",
       "      <td>7.88</td>\n",
       "      <td>7.81</td>\n",
       "      <td>7.59</td>\n",
       "      <td>7.40</td>\n",
       "      <td>7.24</td>\n",
       "      <td>7.10</td>\n",
       "      <td>7.00</td>\n",
       "      <td>...</td>\n",
       "      <td>-2.503294</td>\n",
       "      <td>-2.162162</td>\n",
       "      <td>-1.933702</td>\n",
       "      <td>-1.408451</td>\n",
       "      <td>-2.571429</td>\n",
       "      <td>-0.293255</td>\n",
       "      <td>-2.205882</td>\n",
       "      <td>-1.353383</td>\n",
       "      <td>-0.914634</td>\n",
       "      <td>-1.671370</td>\n",
       "    </tr>\n",
       "  </tbody>\n",
       "</table>\n",
       "<p>1510 rows × 28 columns</p>\n",
       "</div>"
      ],
      "text/plain": [
       "     Codice_articolo         Categoria  Prezzo_1  Prezzo_2  Prezzo_3  \\\n",
       "0          017.PM419         Veneziane     41.56     41.60     42.21   \n",
       "1          017.PM421         Veneziane     42.15     42.49     42.62   \n",
       "2          017.PM422         Veneziane     42.55     42.70     43.19   \n",
       "3          017.PM424         Veneziane     45.93     46.39     46.41   \n",
       "4          017.PM425         Veneziane     40.35     40.86     41.05   \n",
       "...              ...               ...       ...       ...       ...   \n",
       "1508    052.MP.HPL.1  Laminati e altri      7.39      7.31      7.20   \n",
       "1509    052.MP.HPL.4  Laminati e altri     16.99     16.73     16.27   \n",
       "1510    052.MP.HPL.4  Laminati e altri     17.52     17.02     16.83   \n",
       "1511    052.MP.HPL.4  Laminati e altri     17.69     17.44     17.05   \n",
       "1512      052.MP.MDF  Laminati e altri      7.96      7.88      7.81   \n",
       "\n",
       "      Prezzo_4  Prezzo_5  Prezzo_6  Prezzo_7  Prezzo_8  ...   Delta_4  \\\n",
       "0        42.96     43.30     43.43     44.02     44.27  ...  0.791434   \n",
       "1        43.33     43.84     44.45     45.17     46.06  ...  1.177014   \n",
       "2        43.32     43.77     44.52     44.60     44.80  ...  1.038781   \n",
       "3        46.57     46.79     47.56     48.50     48.54  ...  0.472407   \n",
       "4        41.79     42.44     43.25     43.73     44.43  ...  1.555396   \n",
       "...        ...       ...       ...       ...       ...  ...       ...   \n",
       "1508      7.04      6.87      6.68      6.60      6.58  ... -2.414773   \n",
       "1509     16.16     15.70     15.26     15.07     14.94  ... -2.846535   \n",
       "1510     16.34     16.27     15.87     15.59     15.31  ... -0.428397   \n",
       "1511     16.56     16.13     15.86     15.55     15.33  ... -2.596618   \n",
       "1512      7.59      7.40      7.24      7.10      7.00  ... -2.503294   \n",
       "\n",
       "       Delta_5   Delta_6   Delta_7   Delta_8   Delta_9  Delta_10  Delta_11  \\\n",
       "0     0.300231  1.358508  0.567924  1.490852  1.357667  0.592885  0.567562   \n",
       "1     1.391423  1.619798  1.970334  1.194095  1.995280  1.093816  0.645027   \n",
       "2     1.713502  0.179695  0.448430  0.334821  1.290323  0.373380  0.437637   \n",
       "3     1.645651  1.976451  0.082474  0.515039  1.024800  1.460743  1.959608   \n",
       "4     1.908577  1.109827  1.600732  1.260410  1.400311  0.438404  0.283719   \n",
       "...        ...       ...       ...       ...       ...       ...       ...   \n",
       "1508 -2.765648 -1.197605 -0.303030 -2.127660 -1.397516 -1.417323 -1.757188   \n",
       "1509 -2.802548 -1.245085 -0.862641 -1.271754 -0.067797 -1.153324 -0.068634   \n",
       "1510 -2.458513 -1.764335 -1.796023  0.000000 -2.547355 -2.278820 -0.754458   \n",
       "1511 -1.673900 -1.954603 -1.414791 -0.717547 -2.496715 -2.560647 -0.345781   \n",
       "1512 -2.162162 -1.933702 -1.408451 -2.571429 -0.293255 -2.205882 -1.353383   \n",
       "\n",
       "      Delta_12  Delta_avg  \n",
       "0     0.976774   0.945272  \n",
       "1     0.785611   1.220907  \n",
       "2     1.350763   0.747366  \n",
       "3     1.588547   1.009592  \n",
       "4     1.240479   1.194123  \n",
       "...        ...        ...  \n",
       "1508 -2.439024  -1.719110  \n",
       "1509 -2.472527  -1.478900  \n",
       "1510 -1.865930  -1.731293  \n",
       "1511 -1.457321  -1.811774  \n",
       "1512 -0.914634  -1.671370  \n",
       "\n",
       "[1510 rows x 28 columns]"
      ]
     },
     "execution_count": 213,
     "metadata": {},
     "output_type": "execute_result"
    }
   ],
   "source": [
    "df_listino_storico = df_listino[[\"Codice_articolo\", \"Categoria\", \"Prezzo_1\", \"Prezzo_2\", \"Prezzo_3\", \"Prezzo_4\", \"Prezzo_5\", \"Prezzo_6\", \"Prezzo_7\", \"Prezzo_8\", \"Prezzo_9\", \"Prezzo_10\", \"Prezzo_11\", \"Prezzo_12\", \"Prezzo_13\"]]\n",
    "#calculate deltas percentace between prices\n",
    "df_listino_storico[\"Delta_1\"] = 100 * (df_listino_storico[\"Prezzo_2\"] - df_listino_storico[\"Prezzo_1\"])/df_listino_storico[\"Prezzo_1\"]\n",
    "df_listino_storico[\"Delta_2\"] = 100 * (df_listino_storico[\"Prezzo_3\"] - df_listino_storico[\"Prezzo_2\"])/df_listino_storico[\"Prezzo_2\"]\n",
    "df_listino_storico[\"Delta_3\"] = 100 * (df_listino_storico[\"Prezzo_4\"] - df_listino_storico[\"Prezzo_3\"])/df_listino_storico[\"Prezzo_3\"]\n",
    "df_listino_storico[\"Delta_4\"] = 100 * (df_listino_storico[\"Prezzo_5\"] - df_listino_storico[\"Prezzo_4\"])/df_listino_storico[\"Prezzo_4\"]\n",
    "df_listino_storico[\"Delta_5\"] = 100 * (df_listino_storico[\"Prezzo_6\"] - df_listino_storico[\"Prezzo_5\"])/df_listino_storico[\"Prezzo_5\"]\n",
    "df_listino_storico[\"Delta_6\"] = 100 * (df_listino_storico[\"Prezzo_7\"] - df_listino_storico[\"Prezzo_6\"])/df_listino_storico[\"Prezzo_6\"]\n",
    "df_listino_storico[\"Delta_7\"] = 100 * (df_listino_storico[\"Prezzo_8\"] - df_listino_storico[\"Prezzo_7\"])/df_listino_storico[\"Prezzo_7\"]\n",
    "df_listino_storico[\"Delta_8\"] = 100 * (df_listino_storico[\"Prezzo_9\"] - df_listino_storico[\"Prezzo_8\"])/df_listino_storico[\"Prezzo_8\"]\n",
    "df_listino_storico[\"Delta_9\"] = 100 * (df_listino_storico[\"Prezzo_10\"] - df_listino_storico[\"Prezzo_9\"])/df_listino_storico[\"Prezzo_9\"]\n",
    "df_listino_storico[\"Delta_10\"] = 100 * (df_listino_storico[\"Prezzo_11\"] - df_listino_storico[\"Prezzo_10\"])/df_listino_storico[\"Prezzo_10\"]\n",
    "df_listino_storico[\"Delta_11\"] = 100 * (df_listino_storico[\"Prezzo_12\"] - df_listino_storico[\"Prezzo_11\"])/df_listino_storico[\"Prezzo_11\"]\n",
    "df_listino_storico[\"Delta_12\"] = 100 * (df_listino_storico[\"Prezzo_13\"] - df_listino_storico[\"Prezzo_12\"])/df_listino_storico[\"Prezzo_12\"]\n",
    "# average of deltas\n",
    "df_listino_storico[\"Delta_avg\"] = df_listino_storico[[\"Delta_1\", \"Delta_2\", \"Delta_3\", \"Delta_4\", \"Delta_5\", \"Delta_6\", \"Delta_7\", \"Delta_8\", \"Delta_9\", \"Delta_10\", \"Delta_11\", \"Delta_12\"]].mean(axis=1)\n",
    "df_listino.to_csv('vista_listino/df_listino.csv', index=False)\n",
    "df_listino_storico"
   ]
  },
  {
   "cell_type": "code",
   "execution_count": 214,
   "metadata": {},
   "outputs": [
    {
     "data": {
      "text/html": [
       "<div>\n",
       "<style scoped>\n",
       "    .dataframe tbody tr th:only-of-type {\n",
       "        vertical-align: middle;\n",
       "    }\n",
       "\n",
       "    .dataframe tbody tr th {\n",
       "        vertical-align: top;\n",
       "    }\n",
       "\n",
       "    .dataframe thead th {\n",
       "        text-align: right;\n",
       "    }\n",
       "</style>\n",
       "<table border=\"1\" class=\"dataframe\">\n",
       "  <thead>\n",
       "    <tr style=\"text-align: right;\">\n",
       "      <th></th>\n",
       "      <th>PC1</th>\n",
       "      <th>PC2</th>\n",
       "      <th>Codice_articolo</th>\n",
       "      <th>Categoria</th>\n",
       "    </tr>\n",
       "  </thead>\n",
       "  <tbody>\n",
       "    <tr>\n",
       "      <th>0</th>\n",
       "      <td>-1.457658</td>\n",
       "      <td>1.781372</td>\n",
       "      <td>017.PM419</td>\n",
       "      <td>Veneziane</td>\n",
       "    </tr>\n",
       "    <tr>\n",
       "      <th>1</th>\n",
       "      <td>-1.703087</td>\n",
       "      <td>2.883228</td>\n",
       "      <td>017.PM421</td>\n",
       "      <td>Veneziane</td>\n",
       "    </tr>\n",
       "    <tr>\n",
       "      <th>2</th>\n",
       "      <td>-1.485527</td>\n",
       "      <td>0.856942</td>\n",
       "      <td>017.PM422</td>\n",
       "      <td>Veneziane</td>\n",
       "    </tr>\n",
       "    <tr>\n",
       "      <th>3</th>\n",
       "      <td>-2.064622</td>\n",
       "      <td>1.638996</td>\n",
       "      <td>017.PM424</td>\n",
       "      <td>Veneziane</td>\n",
       "    </tr>\n",
       "    <tr>\n",
       "      <th>4</th>\n",
       "      <td>-2.037284</td>\n",
       "      <td>2.492168</td>\n",
       "      <td>017.PM425</td>\n",
       "      <td>Veneziane</td>\n",
       "    </tr>\n",
       "    <tr>\n",
       "      <th>...</th>\n",
       "      <td>...</td>\n",
       "      <td>...</td>\n",
       "      <td>...</td>\n",
       "      <td>...</td>\n",
       "    </tr>\n",
       "    <tr>\n",
       "      <th>1505</th>\n",
       "      <td>5.131191</td>\n",
       "      <td>-5.218398</td>\n",
       "      <td>052.MP.HPL.1</td>\n",
       "      <td>Laminati e altri</td>\n",
       "    </tr>\n",
       "    <tr>\n",
       "      <th>1506</th>\n",
       "      <td>4.816932</td>\n",
       "      <td>-4.366258</td>\n",
       "      <td>052.MP.HPL.1</td>\n",
       "      <td>Laminati e altri</td>\n",
       "    </tr>\n",
       "    <tr>\n",
       "      <th>1507</th>\n",
       "      <td>4.686027</td>\n",
       "      <td>-5.660175</td>\n",
       "      <td>052.MP.HPL.1</td>\n",
       "      <td>Laminati e altri</td>\n",
       "    </tr>\n",
       "    <tr>\n",
       "      <th>1508</th>\n",
       "      <td>4.452217</td>\n",
       "      <td>-6.167483</td>\n",
       "      <td>052.MP.HPL.1</td>\n",
       "      <td>Laminati e altri</td>\n",
       "    </tr>\n",
       "    <tr>\n",
       "      <th>1509</th>\n",
       "      <td>3.821253</td>\n",
       "      <td>-6.058276</td>\n",
       "      <td>052.MP.HPL.4</td>\n",
       "      <td>Laminati e altri</td>\n",
       "    </tr>\n",
       "  </tbody>\n",
       "</table>\n",
       "<p>1510 rows × 4 columns</p>\n",
       "</div>"
      ],
      "text/plain": [
       "           PC1       PC2 Codice_articolo         Categoria\n",
       "0    -1.457658  1.781372       017.PM419         Veneziane\n",
       "1    -1.703087  2.883228       017.PM421         Veneziane\n",
       "2    -1.485527  0.856942       017.PM422         Veneziane\n",
       "3    -2.064622  1.638996       017.PM424         Veneziane\n",
       "4    -2.037284  2.492168       017.PM425         Veneziane\n",
       "...        ...       ...             ...               ...\n",
       "1505  5.131191 -5.218398    052.MP.HPL.1  Laminati e altri\n",
       "1506  4.816932 -4.366258    052.MP.HPL.1  Laminati e altri\n",
       "1507  4.686027 -5.660175    052.MP.HPL.1  Laminati e altri\n",
       "1508  4.452217 -6.167483    052.MP.HPL.1  Laminati e altri\n",
       "1509  3.821253 -6.058276    052.MP.HPL.4  Laminati e altri\n",
       "\n",
       "[1510 rows x 4 columns]"
      ]
     },
     "execution_count": 214,
     "metadata": {},
     "output_type": "execute_result"
    }
   ],
   "source": [
    "# use pca to reduce dimensionality\n",
    "from sklearn.decomposition import PCA\n",
    "pca = PCA(n_components=2)\n",
    "pca.fit(df_listino_storico.iloc[:, 15:])\n",
    "pca.explained_variance_ratio_\n",
    "X_pca = pca.transform(df_listino_storico.iloc[:, 15:])\n",
    "X_pca.shape\n",
    "df_pca = pd.DataFrame(X_pca, columns=[\"PC1\", \"PC2\"])\n",
    "df_pca[\"Codice_articolo\"] = df_listino_storico[\"Codice_articolo\"]\n",
    "df_pca[\"Categoria\"] = df_listino_storico[\"Categoria\"]\n",
    "df_pca"
   ]
  },
  {
   "cell_type": "code",
   "execution_count": 215,
   "metadata": {},
   "outputs": [
    {
     "data": {
      "application/vnd.plotly.v1+json": {
       "config": {
        "plotlyServerURL": "https://plot.ly"
       },
       "data": [
        {
         "hovertemplate": "Categoria=Veneziane<br>PC1=%{x}<br>PC2=%{y}<extra></extra>",
         "legendgroup": "Veneziane",
         "marker": {
          "color": "#636efa",
          "symbol": "circle"
         },
         "mode": "markers",
         "name": "Veneziane",
         "showlegend": true,
         "type": "scattergl",
         "x": [
          -1.4576578634227193,
          -1.7030873500219674,
          -1.4855267370151162,
          -2.0646221153924866,
          -2.0372842414430377,
          -1.103762658989555,
          -0.982291779042595,
          -1.5985594111437251,
          -1.8385243817622923,
          -1.8061324801385448,
          -2.0010410405479955,
          -1.6300524929371345,
          -1.7362955542239298,
          -1.0955813517252055,
          -1.594018492777063,
          -2.194335115695898,
          -2.1607359652062597,
          -1.6434011961116246,
          -0.8812655630779352,
          -0.82619747286954,
          -2.6297754211664652,
          -2.6026644967196044,
          -1.1890407271447185,
          -2.0515274740705105,
          -2.5106527696562093,
          -1.6180938755658252
         ],
         "xaxis": "x",
         "y": [
          1.7813721192815344,
          2.8832280172936,
          0.8569423936359934,
          1.6389962154091078,
          2.492167751629122,
          2.6319943738083817,
          2.5177706723021296,
          1.9063551260791782,
          2.491477174054028,
          2.7097905691442117,
          1.2017551744777812,
          2.302242784289111,
          2.687755509810995,
          1.5405739331265764,
          1.2155808167697726,
          1.3798952040401893,
          1.354294742734386,
          2.8107119017259685,
          1.8224554142740712,
          1.3424788216892296,
          2.541587104911726,
          1.874148025407675,
          3.6587099705792525,
          1.0129480353031344,
          1.723972593605688,
          2.662082156099964
         ],
         "yaxis": "y"
        },
        {
         "hovertemplate": "Categoria=Vetri<br>PC1=%{x}<br>PC2=%{y}<extra></extra>",
         "legendgroup": "Vetri",
         "marker": {
          "color": "#EF553B",
          "symbol": "circle"
         },
         "mode": "markers",
         "name": "Vetri",
         "showlegend": true,
         "type": "scattergl",
         "x": [
          1.493835088448034,
          1.4518238122523763,
          1.244975977745464,
          1.5459090108882576,
          1.3109847512370245,
          1.720368414049386,
          1.30867272203175,
          1.8602712012970026,
          1.7465274262305928,
          1.463423867984336,
          2.06970355939087,
          1.707242986938195,
          1.937048080242084,
          1.3913404369498577,
          1.7312034407321581,
          1.6561520452290592,
          1.928848719135008,
          1.4002593587936132,
          1.4691059933540567,
          1.6255906292956896,
          2.350222975862007,
          1.6311494989411506,
          1.8541979996248494,
          2.2672869499069916,
          1.9807113325889383,
          1.9594681900102142,
          1.7954558349591816,
          1.1571997167781394,
          1.8806890348082,
          2.0759464988293925,
          1.838426631198523,
          1.5868601049796938,
          1.6958751570810542,
          2.0622177477952266,
          2.0968951967124503,
          1.548615643372908,
          2.2398963601649915,
          1.4634886651688266,
          1.3135330329397354,
          2.2415711754358303,
          2.086455668862978,
          1.5062080473991313,
          1.680276428085227,
          1.7882763263178756,
          1.3090790014929596,
          2.168953202754892,
          1.3644365982531557,
          1.8413760450839252,
          2.010747028674029,
          1.8606036142192088,
          1.8771384641997744,
          1.5404292169157663,
          2.1105084762723005,
          1.8759850269409353,
          1.6992361421608693,
          1.3474242078912904,
          1.9214111726568974,
          1.9136353372217565,
          2.1365645289834894,
          2.054354360592702,
          1.8801928003593293,
          1.4862015558301378,
          2.2590988490637933,
          1.5034102346159446,
          1.7767546295110714,
          1.9875253506465875,
          1.7386244183545114,
          1.7310845263499386,
          1.684428412948957,
          1.765557395147607,
          1.56344448420059,
          1.6210912042898629,
          1.9168019880688005,
          2.12767616358544,
          2.227297752052743,
          1.5689913828574273,
          1.7926208554813021,
          1.4312313859681476,
          1.8233752884474757,
          2.0219535556489903,
          2.1286983563355144,
          1.947601856370516,
          1.4715530696205354,
          1.8647909231323294,
          2.1832448710246615,
          1.6456826438190737,
          1.814654790278822,
          1.6981498367842784,
          1.5878237107199613,
          1.4452075129611706,
          1.8153412436968694,
          1.9025710658832922,
          1.552768725851481,
          1.6711988054313809,
          1.3940894247411977,
          1.740185656626784,
          1.8311281718315238,
          2.125474748033796,
          1.7550827165927365,
          1.6863056089112638,
          1.1947766433264562,
          2.072688127807091,
          1.4566644698951055,
          2.213577807754051,
          2.049306921031825,
          1.954347529104753,
          1.6716472978362769,
          2.053267001269898,
          1.4817117033220428,
          2.1572737727586038,
          1.4629164387000437,
          1.9220135177211501,
          2.2539025370244503,
          1.2823394035209679,
          1.222035107388043,
          1.7915745933810259,
          1.2834434274750115,
          1.9905725081944714,
          1.9390428004561802,
          2.312213450110915,
          1.6734952764150877,
          2.203638690007839,
          1.4990374417734462,
          1.4297234861805783,
          1.8692520927645828,
          1.5017105440135383,
          1.5319596925683023,
          2.1013769243226212,
          1.4299953669835994,
          1.487114442010436,
          1.3420644460569724,
          1.2731387793317943,
          1.3206661579417334,
          1.7566033770584288,
          2.0003123104245373,
          1.77965227504994,
          1.7502985535526132,
          1.7803862904818955,
          1.7046662734688502,
          2.0175814216158225,
          2.095934455131291,
          1.3992853154516058,
          1.800140245450969,
          2.2680330439106426,
          1.2507564730105964,
          2.0255249690566934,
          2.190632646933275,
          1.534947269696925,
          2.220952887553615,
          1.890923363657842,
          1.610180654591309,
          2.2040204661194003,
          1.781694286853223,
          1.905043101118328,
          1.5960856448388943,
          1.9232233673237975,
          1.5693735587484,
          2.394935996751049,
          1.3304646863627683,
          1.8935787951867347,
          2.0263638398627983,
          1.7633231352426635,
          1.9776328429563677,
          1.863678968414741,
          1.8320267178404417,
          1.5566766607922415,
          2.1388161810680852,
          1.8399995495369195,
          1.9831144231786964,
          2.445997247804562,
          1.8352239299066755,
          2.1343122234016016,
          2.223050659989178,
          1.9920217700878395,
          1.5062073153730562,
          2.0329760003128214,
          1.3638670668947128,
          1.6204425133886156,
          1.532173866397864,
          1.4953898437018929,
          1.7608068041285518,
          2.1634915381961917,
          2.127008638167307,
          1.5033334293004132,
          1.1767325340251868,
          2.0163344156902427,
          1.8718524548466102,
          2.167129297571777,
          2.060001830302628,
          1.638092338260807,
          1.520059486408894,
          1.9704286828979123,
          1.6605529436432518,
          1.7465913333588592,
          2.1559807402127102,
          1.8433102546079134,
          1.254705117237714,
          1.8155096218490692,
          1.8391418930511045,
          1.5609026249656108,
          1.882472292564482,
          1.6526715386662059,
          1.9821123315650422,
          1.9720327254049577,
          1.7996572879953316,
          1.7341024911728897,
          1.8717760344992187,
          1.454092450834786,
          1.8828644092734659,
          1.6679581255772058,
          2.115361826130598,
          1.350158716533873,
          1.9948292338320135,
          1.5520150307633438,
          1.716973141728706,
          2.424088523422407,
          1.9261716390187011,
          2.029693349137564,
          1.4345498358561193,
          2.060048166771606,
          1.9020300228634621,
          1.8383093293289483,
          1.5753151651852406,
          2.070493994204941,
          1.3122493506394248,
          1.7223382361514694,
          1.5392904712288629,
          1.5134125149914144,
          1.4238046326096194,
          2.2083296328415534,
          1.2091062101854757,
          1.7632843858036498,
          1.8854788120360184,
          1.7019184742141307,
          1.929527526964188,
          2.1316319731986773,
          1.841804410520668,
          1.694130800833743,
          1.2186235991974785,
          1.8289515097523987,
          2.274594004491032,
          1.8250285985347579,
          2.198180063175632,
          1.9392277926719799,
          2.0610165318179523,
          1.6348399402787153,
          1.9463630395722287,
          1.6503863822652574,
          1.8189479092571872,
          1.5956459364449376,
          1.7121420533146385,
          2.2923843191287703,
          1.4988052985468616,
          1.4947745949539823,
          1.9868578921942703,
          1.4998021195618036,
          2.058929333108121,
          1.7828384649883848,
          2.263388454751214,
          1.3054250808630006,
          2.3430026902979644,
          2.344303892551733,
          1.8462506084041614,
          1.5781947166138979,
          2.207976950792527,
          1.549725670513097,
          1.3330564727719354,
          1.3873687549467528,
          2.2879625341147865,
          1.7906219729665913,
          1.8802114506588041,
          1.7036809104799002,
          1.8735463103685888,
          1.8088405142313968,
          1.7690746028489934,
          1.5042220044044285,
          1.4629041045060265,
          2.121551024903345,
          1.6771866498574264,
          1.6706123047432666,
          1.778530080441226,
          1.5445658312474735,
          2.1468515895759883,
          2.2243881555615914,
          1.6628587933673653,
          2.0621144131532083,
          1.276466084928992,
          1.8589446708705386,
          1.9518178284123,
          1.7279299584142145,
          1.458507259992288,
          1.8898931433331048,
          2.043083786408553,
          1.9386240114257782,
          2.349796423428997,
          1.6210130715190545,
          2.1923739085492233,
          2.0781625835377846,
          2.151807411788612,
          1.507484489148621,
          1.4418361953443408,
          1.54430426813083,
          1.5200156437175227,
          1.819671926459174,
          1.1120770422005941,
          1.968355608528537,
          1.4486272908360356,
          1.3382535256849517,
          2.0092599076001534,
          1.6364792408399071,
          2.1150399156812605,
          1.663133267678829,
          1.4554275599281157,
          1.9473022182435038,
          2.2057008667699356,
          1.3891562971769331,
          1.4703373370788102,
          1.7603326653471376,
          2.136693499172595,
          1.9599328161160476,
          2.0746535514357234,
          2.2960264006023534,
          2.00937697483765,
          2.2182686988786764,
          1.7895525973407065,
          1.8224155304127914,
          1.859213926323452,
          1.5445943532077242,
          1.65645573537383,
          2.202908933493748,
          1.3840117157638236,
          1.58908148994011,
          1.721134579091247,
          2.1289150471817293,
          1.5520798524678718,
          2.0276969552586204,
          2.1932242110233395,
          1.4745007637927072,
          1.690941832731313,
          2.1581494131744545,
          1.588125255736011,
          2.334808765787673,
          2.234469585433723,
          1.886250047556934,
          2.0155673600690744,
          1.6684385544147025,
          1.8698858933470144,
          2.0507678986483557,
          2.156675703327606,
          1.8989417232975099,
          1.6106751984448366,
          1.7779940391173523,
          1.8551838124322635,
          1.4583488114831866,
          1.514352347696482,
          1.5511378264540792,
          1.7957062919055051,
          1.567089068774743,
          1.7970311212061596,
          2.013317357169697,
          1.9519462763212938,
          1.439415989559442,
          1.5409439745677698,
          1.6850010869439993,
          2.16011069566985,
          1.9862523715345024,
          1.4523289583844448,
          1.954992414804035,
          1.6487432361403636,
          2.1929662524681452,
          1.6830637296895958,
          1.3495907872480741,
          1.6981231686860874,
          1.8131217641756252,
          2.197385287451361,
          1.7721133903669672,
          1.2788662892430163,
          2.343106032938295,
          2.2901932862095347,
          1.515457630009667,
          1.434881211474049,
          1.3227107861503895,
          1.7595040490291018,
          1.5011527976602144,
          1.9102904009612975,
          1.3872346227326355,
          1.8742539824054494,
          1.5993338225782554,
          1.401693660603746,
          2.239373484312251,
          1.7454246277245073,
          2.059256512742237,
          1.9768787369581529,
          1.4694620307601995,
          2.29539163419048,
          1.8236871295325052,
          1.8073598019479578,
          1.6977612016705346,
          2.1449057945468026,
          1.5344203339361882,
          2.0811967419684505,
          1.8153052642202647,
          1.5702613415159028,
          1.8727808883672634,
          1.532150453737552,
          1.9047000812639328,
          1.8752579335690864,
          2.3004343556633584,
          2.1677203069661353,
          1.6076839631545454,
          1.167258853325707,
          1.8888162872088503,
          1.8843599890766691,
          1.9134031982701882,
          1.6699131940445475,
          1.5920929683811407,
          2.0749833794903485,
          1.3372844408752185,
          1.3122463341633417,
          1.743668900160637,
          1.9591248325417463,
          1.5263411529882407,
          1.6951033120581356,
          1.4444871566293231,
          2.3183345141818954,
          1.365743373140196,
          2.0942612769744344,
          1.700156764011612,
          2.149095970457687,
          1.5112940680531572,
          2.1435512257889435,
          1.5068232369839722,
          1.5550219877608404,
          1.405832003037168,
          1.4903191599140508,
          1.6845538587669244,
          1.461728339334984,
          1.6371532806872364,
          1.5639140205167126,
          1.7498704680957056,
          1.4650938104006739,
          1.6142014371898514,
          1.890133268959839,
          1.5591515151679252,
          2.0457354189772747,
          1.4614787127215625,
          1.7069511942431468,
          2.323147539556503,
          1.7404878087892166,
          1.915404495853048,
          1.5620655865769824,
          2.1118714245622514,
          1.6311731189803986,
          1.9769215039877746,
          2.1005006793485093,
          1.7122524438373938,
          1.7470149701184874,
          1.7038457831534375,
          1.878760896382755,
          2.079114841295886,
          2.0798823837330858,
          2.157372480256978,
          1.5940538256566381,
          2.1312768597712584,
          1.5820380781908248,
          1.9235755547613278,
          1.8740035188613382,
          2.180007069735596,
          1.366617426330835,
          1.626594755362587,
          1.5118326570046912,
          1.8302247421928248,
          2.0187059207017004,
          1.1988733116035097,
          1.396825683697265,
          1.9332688978166779,
          1.838084129738964,
          1.6829316422364484,
          2.2966865578481404,
          1.7260050727388971,
          2.109267838442079,
          1.9986213547263838,
          1.9834362274697688,
          2.206205169356695,
          1.5370001784377545,
          1.4318290316718305,
          1.884828131184161,
          1.7107156590219341,
          1.283011857706351,
          1.9707858265469793,
          1.8621863900990292,
          2.0953888210444562,
          2.102556383741079,
          1.5844374179490974,
          1.6485921842993863,
          1.7514062946062356,
          1.6401290627414566,
          1.4381464234349566,
          1.6653654024721682,
          2.072274751450411,
          1.8111919829658827,
          1.4376953823646277,
          1.872975601107868,
          1.534264945187363,
          1.9546801738896111,
          2.28731239224138,
          1.9492349530205157,
          2.36133234720565,
          2.2453999296835914,
          1.798785843494554,
          1.6279845889060176,
          1.8463107265089687,
          1.424642193502206,
          1.7393535813675238,
          1.5380376483273006,
          1.7289585785611976,
          2.0556536687584934,
          1.9274790228070322,
          1.6483807508918067,
          1.3525874984731037,
          1.9712817344488514,
          1.811877402265684,
          1.4295594560112797,
          1.883901643255394,
          2.218418695449789,
          2.2783926297525094,
          1.8308700443128303,
          1.4487505339675923,
          2.2749825250166875,
          2.277504232028615,
          2.1733638509116084,
          1.5705231382523417,
          1.8133203107410714,
          2.129980009564078,
          1.373078852754827,
          1.3001214994301453,
          2.1261904807667156,
          1.9540326396057799,
          2.191951525661879,
          2.0022791125653048,
          1.8733840115104843,
          1.9460336624835362,
          1.9404405721208309,
          1.6247365458858838,
          1.4120281505275978,
          2.096293310533823,
          1.5272936980658727,
          1.8902076004569361,
          1.6046916144197572,
          2.0220844995473666,
          1.8110771317386012
         ],
         "xaxis": "x",
         "y": [
          -2.042271399136063,
          -2.276679648085245,
          -2.1239296182596097,
          -2.6497045376702015,
          -2.2272860217133945,
          -2.198955308778156,
          -2.219006377788403,
          -2.247698236485324,
          -2.0559643562758048,
          -2.7430867473721614,
          -2.328331991398487,
          -2.1688414686232935,
          -1.4290153036699895,
          -2.42326139056898,
          -2.5195651468031945,
          -2.1915622255265426,
          -2.1304481767399666,
          -2.3010984650016546,
          -1.9804221432779694,
          -2.6208264556532956,
          -2.328729035059309,
          -2.033898908355486,
          -2.0939245515138176,
          -2.2162322555597647,
          -2.1098121217739174,
          -2.199220422199471,
          -1.8342833230885427,
          -2.000361284216183,
          -1.7834222900755046,
          -2.342843537066597,
          -2.0533322502748113,
          -2.0214604558724747,
          -2.2871131617018343,
          -2.162615154443316,
          -2.3937002751403496,
          -1.927878112745716,
          -2.3075141565307393,
          -2.0134695367544166,
          -2.0872490868875326,
          -2.316157735607737,
          -2.110519947409131,
          -2.071856579566806,
          -2.542126235964249,
          -2.067347778420052,
          -2.3694555281180674,
          -2.3984869975755503,
          -2.4149607631800993,
          -1.7721131688978091,
          -1.893733595056457,
          -2.3981647483091235,
          -1.8563302695675958,
          -2.4914693322342822,
          -1.9925427907742461,
          -2.867258134527227,
          -2.147645403939963,
          -2.31578082979181,
          -2.4009143760296303,
          -2.52629663228606,
          -1.91206488736045,
          -2.1438525801677524,
          -2.1556064322116524,
          -2.5064897762235003,
          -2.4969866175416846,
          -1.964167926705826,
          -2.340067846445679,
          -2.123364370362203,
          -2.2455179565630785,
          -2.0815718221943893,
          -2.5497528625439365,
          -2.0192309266400827,
          -2.403021959491854,
          -2.687392800520954,
          -2.389453908648041,
          -2.0361039265604988,
          -2.5627273952288165,
          -2.559725531289072,
          -2.8119517275418717,
          -1.9370000374876697,
          -1.7310762989898172,
          -1.9222685443956198,
          -2.320958276745955,
          -2.605992601064433,
          -2.3240047532200006,
          -2.1187098506409052,
          -2.601531088083663,
          -1.8766623072050321,
          -2.574646939117256,
          -2.295080397219445,
          -2.4657924473195068,
          -2.261705380377973,
          -2.7203055454808824,
          -2.3513193932730814,
          -2.0844438354517534,
          -2.3732125770843653,
          -2.5788760511163176,
          -2.6870926112422793,
          -2.180941091494046,
          -1.8857362251258616,
          -1.7078177600937567,
          -2.554050604030434,
          -1.9440711161603983,
          -2.7657768156118414,
          -2.5809833438781546,
          -2.388622735528312,
          -1.987682374878496,
          -1.4695671681529936,
          -2.2281162510657273,
          -1.8547990253715765,
          -2.346096891676748,
          -2.395214768494171,
          -2.1546629238887647,
          -2.1098272206907156,
          -2.3419615929044912,
          -2.3031893396367833,
          -2.009037689221683,
          -2.8107607988394205,
          -2.047740531553471,
          -1.7040664972610802,
          -1.5873359892276409,
          -2.4822357975563505,
          -2.8132308764914997,
          -2.3638329083270873,
          -2.832013091416535,
          -2.3681881822457083,
          -2.418982630356585,
          -1.6695455544954112,
          -2.17952500338922,
          -2.5438536059380445,
          -2.5129031169220433,
          -1.9268075813015577,
          -2.152248754386832,
          -1.8438803271136373,
          -1.8110255750767283,
          -2.580417203010327,
          -1.987795054125746,
          -2.200901061053356,
          -1.982161606123248,
          -2.202492522685234,
          -2.1645127245134215,
          -2.1981158600742825,
          -2.1360756733625403,
          -2.4138372896589835,
          -2.1033837027447113,
          -2.08490597712584,
          -2.055271374472813,
          -1.710004454478351,
          -2.619962245904246,
          -2.185650746049292,
          -2.5509746091019077,
          -2.325199205307041,
          -2.5186477820352557,
          -2.6503910677613587,
          -2.7857368323132903,
          -2.5060581904301955,
          -2.1891309225328754,
          -2.117098814857386,
          -2.417722766403796,
          -2.3981269720962826,
          -1.9807896402911986,
          -2.1886700793162843,
          -2.220195944881454,
          -2.1618797792535323,
          -2.3899997249870877,
          -2.1124151162399274,
          -2.9087925890507935,
          -2.3866664032128946,
          -1.9170281399592128,
          -2.5378147158731115,
          -2.257467524738158,
          -2.5217381335381144,
          -2.041368033848737,
          -1.9061388829040828,
          -2.411469111382458,
          -2.427731892779467,
          -2.4065828338673434,
          -2.672720718626602,
          -2.352671566249151,
          -2.093627846819614,
          -2.562931847534913,
          -2.6738818294211395,
          -2.092917755009884,
          -2.41160299313194,
          -2.033086950160433,
          -2.6691416097844556,
          -1.9012378598402293,
          -2.0502369742439646,
          -2.1917839140988677,
          -1.9863815344588336,
          -1.8699923791749673,
          -2.4412386493365195,
          -2.7366049843022617,
          -2.0031003070791424,
          -2.0558588351815534,
          -2.5549660651768966,
          -2.1154400705636847,
          -2.498630151363943,
          -1.9444125153199456,
          -2.5619893763271104,
          -2.0561915668611337,
          -1.9575309774990455,
          -2.014651689751886,
          -2.4745422490291777,
          -2.113841398128494,
          -2.5239401959707917,
          -2.183545451551583,
          -2.087357393562967,
          -2.105694552587235,
          -2.1401777274598563,
          -1.960333061846527,
          -2.219591901173924,
          -1.8433963928799568,
          -1.8839415314637766,
          -2.4000613398509563,
          -2.0836368598679407,
          -2.153461624311735,
          -2.4666312106168684,
          -2.411571290030191,
          -2.3750517962596036,
          -2.5282006887911113,
          -3.027001800511049,
          -2.496955189345339,
          -2.489352740587834,
          -2.4329322006078615,
          -2.9061340309473103,
          -2.083174611233898,
          -1.7705991034914013,
          -2.6339697612913984,
          -2.6937364368854797,
          -2.644969824022174,
          -2.2284730513681574,
          -1.952941522447366,
          -2.156627630057675,
          -2.1650853140107578,
          -2.1175418601626985,
          -2.276136759669228,
          -2.041538839817349,
          -2.886792125844535,
          -2.423273503467278,
          -2.00314671720287,
          -2.000599042848525,
          -2.483460419185473,
          -2.162396909819334,
          -2.2135835147250233,
          -2.094042387714396,
          -2.447980585094663,
          -2.5750772529610066,
          -2.7507377337558223,
          -1.8849467388856567,
          -2.295380312381334,
          -2.6259356656880235,
          -2.039370040270281,
          -2.2917707125247198,
          -2.5345122172758936,
          -2.6713147282757794,
          -1.8366942036489988,
          -1.9557617177493571,
          -2.4410454525378444,
          -2.3536589817523708,
          -2.364998478064382,
          -2.0661439599198754,
          -2.559172484907005,
          -2.5592192004646113,
          -1.3530581514019142,
          -2.584048008339534,
          -2.0863080435822208,
          -2.3703275849283485,
          -2.133594191003021,
          -2.2656199094383194,
          -2.4259571584131967,
          -2.2297718203625494,
          -1.8677901122389342,
          -2.159629035305825,
          -2.1369388693127727,
          -2.125572382110272,
          -2.4642316306953735,
          -2.694629963979947,
          -1.866285510576151,
          -2.309526971038874,
          -1.8061546308920122,
          -2.0816660187585754,
          -2.0520769125754663,
          -2.213446484558525,
          -1.938232057606062,
          -1.9821419819365478,
          -1.9177454110221595,
          -2.4533444511785665,
          -2.1411966865146455,
          -2.681151976680168,
          -1.895514482574455,
          -2.5101804898371762,
          -1.859319086885909,
          -2.174955425555943,
          -1.6827779799928717,
          -1.7223738709522443,
          -2.4334695289558983,
          -2.1045617786813127,
          -1.9059148417128244,
          -2.635588328601295,
          -2.526018771537216,
          -1.9726042092888014,
          -2.1070691603189817,
          -2.3571962837507283,
          -2.2955987851441493,
          -2.2979690005741418,
          -1.8889044739588379,
          -1.9361049661048306,
          -2.707485231520838,
          -1.7124596898211712,
          -2.321915615589542,
          -1.8514013548566894,
          -2.1495606436445414,
          -2.3527650842776917,
          -2.287774392709468,
          -1.7368085913248077,
          -2.0830303111751816,
          -2.2684348465374287,
          -2.468095044783203,
          -2.588153088183415,
          -2.60411185002592,
          -2.429673845596937,
          -2.238633595320919,
          -2.365691601607912,
          -2.18472900675803,
          -2.1219087731709756,
          -2.1198318525220827,
          -2.982818145324451,
          -2.499664248539378,
          -2.2058577172941862,
          -2.320823087209683,
          -2.189808455810608,
          -2.1784814214129575,
          -2.890284088733375,
          -2.6286304780744496,
          -2.6981572956795863,
          -2.1909383174616863,
          -1.9464638977983135,
          -2.9635276833653603,
          -2.7697650950150527,
          -2.176207133283184,
          -2.3267251279075176,
          -2.4592974491967636,
          -2.680341553200416,
          -2.2940290221080746,
          -2.242510398261837,
          -2.409257305367781,
          -2.437603829955998,
          -1.693930119476898,
          -1.9176258741873986,
          -2.6084935235426134,
          -2.851488839356173,
          -2.0790509330133875,
          -2.1940241069215776,
          -2.456674074134619,
          -2.076014621970349,
          -2.646159955921489,
          -2.2974698349592457,
          -2.0236078799477752,
          -2.773650057889818,
          -2.535579041176893,
          -1.5411304821382972,
          -2.9091634217791214,
          -1.885124325129743,
          -2.1298972339159965,
          -2.4776402086906737,
          -2.04134288644295,
          -2.1961952954369903,
          -1.9859460016983654,
          -1.973405890293602,
          -2.1006564946565995,
          -2.191863074761216,
          -2.332122228914167,
          -2.099917481567756,
          -1.7823653142663591,
          -2.863034828677994,
          -2.2768828402908445,
          -1.4590961113828367,
          -2.0056921464316653,
          -2.700340611611781,
          -2.501661382824798,
          -1.9937280134695565,
          -2.3807906109865526,
          -2.183396608964106,
          -2.226393042704116,
          -2.0225177776361383,
          -1.621225766055471,
          -2.374526008451537,
          -2.8567038986212987,
          -2.2910303038222724,
          -2.5918160969308484,
          -2.2873602192441895,
          -2.177232681943927,
          -1.698370502198924,
          -2.3494400521345993,
          -2.050840872539958,
          -2.19334150007831,
          -1.9009324181105214,
          -2.4039555644184247,
          -2.8406932099320055,
          -2.060687733117616,
          -2.2070187971614934,
          -1.8285461065454858,
          -1.8761327934982297,
          -2.4519314005212633,
          -2.486459482224135,
          -2.597584897892476,
          -1.785577567873534,
          -2.2608707428019055,
          -2.206387623902947,
          -2.192197188217258,
          -2.3060411038638096,
          -1.8660075008632133,
          -2.1331587185009733,
          -1.8915908684566003,
          -2.425053293162243,
          -2.6958749536961095,
          -2.1165235634644706,
          -2.2744245906460763,
          -1.9648804637542203,
          -1.822440860638752,
          -1.8586336679678754,
          -2.538748304189301,
          -2.5838677164248818,
          -1.977320804424613,
          -2.304057855740389,
          -2.4061472077921646,
          -2.3489086681536184,
          -2.6304930299446574,
          -2.2199575785431254,
          -1.9592875800913632,
          -2.002865699075628,
          -2.2611799164626567,
          -1.8850054858151,
          -2.6433888959580267,
          -2.4973425978016333,
          -2.6993111181874134,
          -2.6367459316661126,
          -2.5224127555134155,
          -2.51963856953364,
          -2.129130007774343,
          -2.155087530576607,
          -2.428342624619462,
          -2.037162347992788,
          -2.176126434801409,
          -2.2228638040830986,
          -2.1247061768568436,
          -2.629527260964794,
          -2.4755341164818288,
          -2.485462682134611,
          -2.131311592394124,
          -2.662650815541386,
          -2.338519665720635,
          -2.3970281957016573,
          -1.9707283347857703,
          -2.3841992000076435,
          -1.7358199528808942,
          -2.0637865475593387,
          -2.149103047789301,
          -2.6826790692773095,
          -2.2537628366456293,
          -2.8507046132110707,
          -2.63651886587122,
          -2.0816951566679243,
          -2.2030387174730683,
          -2.0195532196309514,
          -2.9220403127149694,
          -2.044085127951976,
          -2.4550943380531325,
          -2.3495374296492724,
          -1.8658488474438861,
          -2.282533701472556,
          -2.3236023689084373,
          -2.2434011982090687,
          -2.699051723040214,
          -2.1012241213233884,
          -2.3667387068347434,
          -2.1746209628170488,
          -1.7319778137869302,
          -2.0958838196591008,
          -2.31356309593078,
          -1.8806919550175882,
          -2.708202146805453,
          -2.0142662426459514,
          -1.6609375335170262,
          -2.5180465989238545,
          -2.0647929004985413,
          -2.5611030561363024,
          -1.5231534778082525,
          -2.58972494697458,
          -2.087666279838745,
          -2.051700519247159,
          -2.1072605994436073,
          -2.9917315147264882,
          -2.266302276525261,
          -1.9637092622951928,
          -1.911322306668105,
          -1.943833299441544,
          -2.527675541013568,
          -2.2510452816222375,
          -2.053102876739237,
          -2.1942488062639023,
          -1.98475229265776,
          -2.2518718647220584,
          -1.9249132375880482,
          -2.056588973109238,
          -2.3307084535007268,
          -2.1875876604267357,
          -2.106280367049072,
          -2.368742146833586,
          -2.2940305110805492,
          -1.8513525901478631,
          -2.0740013853734776,
          -1.9614626584496926,
          -2.4346153138076514,
          -2.449235515054549,
          -2.707903803039466,
          -2.4240434508419324,
          -2.045153510639321,
          -2.0558274433297727,
          -2.762554759049182,
          -2.4212684517439005,
          -2.3999286488373515,
          -2.453738851144817,
          -1.9502224962802464,
          -2.6437436518300688,
          -2.1919919677122777,
          -2.617329257157849,
          -2.494298249692125,
          -2.5738406239405514,
          -2.1065839810371587,
          -2.2664918771029416,
          -2.270156619374615,
          -1.9758265386509704,
          -2.281717567064784,
          -2.5969056779212543,
          -2.5227023613562105,
          -2.001839855248237,
          -2.3641427819043384,
          -2.055305513534685,
          -1.9590493562207825,
          -2.515637884450451,
          -1.6351090336694403,
          -1.9814553274798365,
          -1.7975434478472463,
          -2.5635573157081746,
          -2.162504749684551,
          -2.28916705543484,
          -1.8726328591601538,
          -2.5830902080742324,
          -2.3431347292784737,
          -2.55991878430125,
          -1.9967230164129954
         ],
         "yaxis": "y"
        },
        {
         "hovertemplate": "Categoria=Ante vetro<br>PC1=%{x}<br>PC2=%{y}<extra></extra>",
         "legendgroup": "Ante vetro",
         "marker": {
          "color": "#00cc96",
          "symbol": "circle"
         },
         "mode": "markers",
         "name": "Ante vetro",
         "showlegend": true,
         "type": "scattergl",
         "x": [
          2.060011208036054,
          1.858374014376307,
          2.186607037746712,
          1.7656032255050316,
          1.3911913137278622,
          2.1900633591076657,
          1.9315404527724769,
          1.9162048973288428,
          1.9132913403350613,
          1.4189301310505709,
          1.279812608190483,
          1.6722685992659339,
          1.6455835599254778,
          2.1857628549275003,
          2.0521042631391246,
          2.1028929035539465,
          1.851824159816426,
          1.4562152816366967,
          2.1084763789127225,
          1.9290602602087459,
          1.787198766169989,
          1.324256040447158,
          1.585988656164822,
          1.3140617976955742,
          1.3019203404553428,
          1.3988649474544368,
          1.5720647273862702,
          1.927468409477364,
          2.0704160196051045,
          2.209090957840742,
          2.011960747333329,
          2.1283544257279776,
          2.0554770491652268,
          2.0735028454781426,
          1.6075714633009395,
          1.6497251875625074,
          1.489122590740016,
          2.409140229575549,
          1.320682744733964,
          2.0139655692389873,
          1.7581510298354501,
          2.0333391671085477,
          1.4927355075444182
         ],
         "xaxis": "x",
         "y": [
          -2.150344959892976,
          -2.04133837675059,
          -2.103340625194907,
          -2.614975491377973,
          -1.9750765188132449,
          -2.1725091662051326,
          -2.2352615693412656,
          -1.5721264763400256,
          -2.8152756482186723,
          -2.412850578924,
          -2.002896286753857,
          -2.2780000809673866,
          -2.142940193264298,
          -1.9301938915808379,
          -2.025962418932897,
          -2.3859108927074413,
          -2.395435671346697,
          -2.53495844962551,
          -1.9019631287340086,
          -2.4514651750928724,
          -2.1078052231914737,
          -2.331548059795141,
          -2.4989299383723584,
          -2.222971949707967,
          -1.9549008007838098,
          -2.53122038317031,
          -1.879262174914678,
          -2.496717749233701,
          -2.509230074826413,
          -2.294937628139195,
          -2.5657669690802885,
          -2.229415895179486,
          -1.6600847500006117,
          -2.4746984077024727,
          -2.7669266778264268,
          -1.6547111966751242,
          -2.1410498629158896,
          -2.8169046429379554,
          -2.380064957070485,
          -1.975324341686615,
          -2.5544142962816294,
          -2.338356463077394,
          -2.0953523013066238
         ],
         "yaxis": "y"
        },
        {
         "hovertemplate": "Categoria=Visive<br>PC1=%{x}<br>PC2=%{y}<extra></extra>",
         "legendgroup": "Visive",
         "marker": {
          "color": "#ab63fa",
          "symbol": "circle"
         },
         "mode": "markers",
         "name": "Visive",
         "showlegend": true,
         "type": "scattergl",
         "x": [
          -3.383377713629288,
          -3.779628257530477,
          -1.9389920869096107,
          -2.0765877718624783,
          -4.00109653163194,
          -0.6259756837182825,
          -2.6817475302179106,
          -1.0927417711538936,
          -1.0695913600347031,
          -1.6718459925455418,
          -1.7359910668048288,
          -3.5891464050322712,
          -2.353598622138945,
          -2.591218025779466,
          -3.186341927689784,
          -1.8174475835872554,
          -1.5131949306407684,
          -2.9261491358009013,
          -2.205684953700882,
          -3.2359521317612017,
          -2.903561935160026,
          -2.0714518002244815,
          -1.887460339651084,
          -2.2450502467596767,
          -2.369423555838351,
          -3.1738431913584133,
          -3.953864802641975,
          -2.359849991422817,
          -1.5398784346886478,
          -1.7443589224195901
         ],
         "xaxis": "x",
         "y": [
          1.9903726944172637,
          2.5874727736637033,
          1.5501023903210551,
          3.10911048965724,
          2.9512955895612887,
          2.2711382795024786,
          2.9129195563228016,
          1.3329837898488655,
          3.0197113394996453,
          3.8310911873935303,
          4.1122723286542024,
          4.068542727990811,
          4.7446389515668805,
          3.455073435520759,
          2.6373553283998117,
          2.9508911884394013,
          2.1750951659398723,
          2.911340583359396,
          2.8108814808904907,
          3.1000604566555356,
          4.263996669504332,
          4.237635151719024,
          4.0715088139800475,
          3.87034590791709,
          3.380965492783464,
          4.544797187498298,
          2.5287821867288667,
          4.087648840026771,
          3.757259696980977,
          3.6051891103441323
         ],
         "yaxis": "y"
        },
        {
         "hovertemplate": "Categoria=Ante Acciaio<br>PC1=%{x}<br>PC2=%{y}<extra></extra>",
         "legendgroup": "Ante Acciaio",
         "marker": {
          "color": "#FFA15A",
          "symbol": "circle"
         },
         "mode": "markers",
         "name": "Ante Acciaio",
         "showlegend": true,
         "type": "scattergl",
         "x": [
          -0.7476896515923215,
          -0.3356793081593357,
          -0.4616899115426838,
          -0.014167074257132881,
          -0.4911172392166961,
          -0.7186722887546797,
          -0.27969211799908245,
          -0.20504264989533233,
          -0.3313843914073082,
          -0.4473556531551871,
          -0.1794060655115047,
          -0.4842506500018723,
          -0.1796472731716587,
          -0.4091060058170144,
          -0.3386193261177591,
          -0.38802062402003307,
          -0.22097727379177293,
          -0.2444309339924782,
          -0.6591533639045499,
          -0.5902018218917818,
          -0.06215843694450709
         ],
         "xaxis": "x",
         "y": [
          0.2350391148944172,
          0.5422520250359969,
          0.7585411062556947,
          0.6690370658123497,
          0.9015086374873043,
          0.4482139300560788,
          0.5268791795126166,
          1.046692982839021,
          0.8387984566518712,
          0.6205435840998162,
          0.772698901651178,
          0.17836410248587947,
          0.7982333471217365,
          0.13391082656225553,
          0.796597631941575,
          0.39948708748161504,
          0.9806589950695549,
          0.8214324868564051,
          0.2783728722787073,
          0.04870149898484742,
          0.6551095993482635
         ],
         "yaxis": "y"
        },
        {
         "hovertemplate": "Categoria=Profili Alluminio Flux<br>PC1=%{x}<br>PC2=%{y}<extra></extra>",
         "legendgroup": "Profili Alluminio Flux",
         "marker": {
          "color": "#19d3f3",
          "symbol": "circle"
         },
         "mode": "markers",
         "name": "Profili Alluminio Flux",
         "showlegend": true,
         "type": "scattergl",
         "x": [
          -0.1530464997787179,
          -0.507198110986763,
          -1.0233905335619615,
          -0.4376210449983727,
          -0.2294941850927078,
          -0.04070179919481154,
          -0.7453574222977873,
          -0.18178909430272405,
          -0.4456551685171363,
          -0.5030934439092262,
          -0.6379942794893814,
          -0.117559906668158,
          -0.05887807341739807,
          -0.4367893246405637,
          -0.3469351564719167,
          -0.3951528409837297,
          -0.202016319675347,
          -1.3871126532505944,
          -0.16770339631467704,
          -0.36629838085638,
          -0.46622146926967273,
          -0.7203912357241574,
          -0.017359412967373953,
          -0.5512975558906127,
          -0.5554880511827757,
          -0.588437772591655,
          -0.29186481800957204
         ],
         "xaxis": "x",
         "y": [
          -0.3922448988035011,
          1.2017496187323504,
          0.9088387944737408,
          -1.283221295834768,
          -0.024544732786459873,
          0.5373589796495114,
          0.6127790750753701,
          0.2279509705958281,
          0.6237656655019264,
          1.1940235796201306,
          0.6355028100034847,
          0.5113347221496626,
          0.6903868488775925,
          0.44453046022170867,
          0.11171957632649265,
          0.7718769725181779,
          0.462028990763267,
          0.6643304033947843,
          0.9279789381799798,
          1.0263467935799782,
          0.5292481056603586,
          0.6970306050706954,
          0.6186569900497919,
          0.4598909002135822,
          0.31774478141966284,
          1.0721817857345193,
          0.9137302524576384
         ],
         "yaxis": "y"
        },
        {
         "hovertemplate": "Categoria=Profili Alluminio Flux 2<br>PC1=%{x}<br>PC2=%{y}<extra></extra>",
         "legendgroup": "Profili Alluminio Flux 2",
         "marker": {
          "color": "#FF6692",
          "symbol": "circle"
         },
         "mode": "markers",
         "name": "Profili Alluminio Flux 2",
         "showlegend": true,
         "type": "scattergl",
         "x": [
          2.2116735047022305,
          2.0416815730309525,
          3.7844061651654846,
          2.947082208512606,
          2.4019090917345887,
          2.957329038457192,
          2.9565444316527305,
          2.0142642620357534,
          3.2880419147380193,
          2.906043311580686,
          3.44449508186489,
          2.406310889442845
         ],
         "xaxis": "x",
         "y": [
          -3.158554026123189,
          -3.5992923749638526,
          -5.245279809660283,
          -3.8678370345548254,
          -3.589010672422487,
          -3.0319635327546868,
          -4.5703356406935365,
          -4.301743174229739,
          -3.100253042212321,
          -3.168567487094574,
          -2.824052871397158,
          -4.228517152929455
         ],
         "yaxis": "y"
        },
        {
         "hovertemplate": "Categoria=Profili Alluminio Kybos<br>PC1=%{x}<br>PC2=%{y}<extra></extra>",
         "legendgroup": "Profili Alluminio Kybos",
         "marker": {
          "color": "#B6E880",
          "symbol": "circle"
         },
         "mode": "markers",
         "name": "Profili Alluminio Kybos",
         "showlegend": true,
         "type": "scattergl",
         "x": [
          -1.1809099740820754,
          -2.462274650798606,
          -0.6416703469963464,
          -2.077054089963352,
          -1.7321915263606917,
          -0.7648314820035367,
          -1.805001280068479,
          -2.7400769393351827,
          -1.9286637408610867,
          -2.744578441469142,
          -1.62069709295301,
          -0.908304915562602,
          -1.616427417403603,
          -1.8047202614336821,
          -0.8517174676261435,
          -1.903488234593785,
          -2.6786428952708397,
          -2.642046860591843,
          -0.07050546092262518,
          -1.7578240963874554,
          -1.3556215475633193,
          -2.2572799832939823,
          -0.8833878675998308,
          -0.6970175455449353,
          -2.4369239970751764,
          -1.6520012585387753,
          -1.895521634007424,
          -2.20353599195584,
          -0.8356974192989178
         ],
         "xaxis": "x",
         "y": [
          2.7385171791855534,
          1.788885128619773,
          1.8090415920237835,
          1.4462888716135387,
          1.8934230823105433,
          2.5438529937434264,
          1.921548654861995,
          2.3222109277245644,
          2.497137740540459,
          2.7257902105621676,
          2.1790139442785383,
          2.800312517242379,
          2.2718560046283742,
          0.03517542522204155,
          2.0400861810175672,
          2.1467062900768985,
          2.484184073024909,
          2.8866789723796598,
          1.282265852575869,
          2.359585317662688,
          1.9473911340631127,
          2.257656249206135,
          2.1728208557791153,
          2.3009199515935332,
          1.841628292914484,
          1.1042887499568368,
          2.262118270921468,
          1.8180749071097462,
          1.5835432286478994
         ],
         "yaxis": "y"
        },
        {
         "hovertemplate": "Categoria=MP Acciaio<br>PC1=%{x}<br>PC2=%{y}<extra></extra>",
         "legendgroup": "MP Acciaio",
         "marker": {
          "color": "#FF97FF",
          "symbol": "circle"
         },
         "mode": "markers",
         "name": "MP Acciaio",
         "showlegend": true,
         "type": "scattergl",
         "x": [
          -2.5322340373578993,
          -4.234973166773071,
          -1.5599129467113657,
          -2.5383573855978807,
          -2.6808707379971675,
          -2.9452541803533903,
          -2.242402645013317,
          -3.3767958339394197,
          -3.075713125345899,
          -2.5376910217299917,
          -2.941207093110803,
          -1.5386996359178642,
          -2.0886288023946826,
          -2.822697315553316,
          -2.1024425052768425,
          -1.1364008457120467,
          -3.661283206429673,
          -4.133601417950284,
          -0.18455385600790278,
          -2.2364542401616276,
          -3.2337331185743787,
          -4.536931194946981,
          -4.238600844824911,
          -1.1286001682492337,
          -3.949177602096094,
          -3.214852534666664,
          -1.9630907184953421,
          -3.3808099757790426,
          -2.690956376085623,
          -2.5245106431131696,
          -1.805584529935105,
          -2.5340088971351746,
          -3.975875120917985,
          -2.392796785722881,
          -2.939564771842308,
          -1.6819719024014903,
          -4.668848290419353,
          -2.093388244027087,
          -3.2134708476369456,
          -3.383269813343103,
          -3.2345157669997593,
          -1.1276251538029844,
          -2.3754519329986072,
          -2.9290339339913882,
          -4.834537419121071,
          -3.5251224346572925,
          -3.3710931148111993,
          -3.6784100320146336,
          -2.8246315041689942,
          -4.676833230577591,
          -1.7375674676495036,
          -3.050437573793438,
          -1.772125806464683,
          -0.8000291191870613,
          -3.042947517561935,
          -1.7705618777837535,
          -3.047805400866157,
          -3.3755858727264254,
          -1.7763296541388018,
          -2.2789913683002676,
          -4.137978116251367,
          -3.2823360043552356,
          -3.159343075758748,
          -4.58823230802447,
          -3.0324314163373214,
          -3.2595969666869045,
          -3.0488627545662554,
          -2.8168358319189837,
          -1.9706640368500754,
          -3.0442674008733546,
          -3.1711434316280847,
          -2.7146296601594715,
          -2.2997639873556586,
          -3.3888150448250833,
          -1.5191063114863104,
          -4.292319644099953,
          -1.6457283929614237,
          -2.2961688352404552,
          -2.0768074812998623,
          -2.6053150909864997,
          -0.6977176649799904,
          -3.9419228499595835,
          -1.4383120431417824,
          -3.2946695153329273,
          -3.2002064914770436,
          -1.2072679404063948,
          -3.3765696290630123,
          -2.453079105060086,
          -2.1733327605804247,
          -3.040747183931136,
          -1.3120651890695487,
          -2.6136232719055643,
          -3.699816435976961,
          -2.9362764299400625,
          -3.4866874874178215,
          -2.8391927407211224,
          -3.700235009312375,
          -3.7043761699323277,
          -2.065640844315305,
          -3.714481806530098,
          -4.038139259731944,
          -1.9642087688216077,
          -1.5523004782161562,
          -2.2920180918719897,
          -2.9346965497087782,
          -4.284367306090285,
          -1.1104820868165084,
          -3.366920464094921,
          -3.820077351488395,
          -2.122421483673156,
          -3.0368572634252926,
          -2.930261041457392,
          -4.052460020200764,
          -3.1405113771348128,
          -3.159249404422918,
          -3.7097145771703195,
          -2.4304379242587624,
          -3.8154161290361124,
          -2.7084726917752175,
          -3.59494626765937,
          -2.9370580852002277,
          -3.3758465754678424,
          -3.4029333890970115,
          -3.5815926259401336,
          -2.9331817717399606,
          -1.9595986882012857,
          -3.815760354184448,
          -3.171062245500915,
          -2.7184736820546496,
          -3.809336789334904,
          -3.807942438368752,
          -1.9527692066429643,
          -1.2126289384670554,
          -4.165280175651634,
          -1.8500526090904053,
          -2.707300778531636,
          -3.2674279532364756,
          -2.948118765224172,
          -2.6009727138205134,
          -3.259454179415259,
          -3.2563465298700804,
          -2.067211373249843,
          -3.1447317099019503,
          -1.2183061990439632,
          -3.2527255835366318,
          -2.3432399756715916,
          -3.6068225603186588,
          -2.266079946407273,
          -2.425462312978119,
          -2.6536859547261558,
          -2.1479215325893533,
          -2.488260450634461,
          -2.0468130776276556,
          -2.9584861286248496,
          -2.968811445603834,
          -3.0287377576353998,
          -3.582386378246604,
          -3.3982315452493523
         ],
         "xaxis": "x",
         "y": [
          4.314756768797898,
          2.937065051340035,
          4.601868809086002,
          4.3065900351274315,
          4.661938932821558,
          2.5904798719993067,
          3.5952471477368655,
          3.6369929479182064,
          2.9059484701367837,
          4.3235637045226785,
          2.572906678201843,
          1.879614787351146,
          3.2275469000600676,
          5.011670482341141,
          3.2621705127885714,
          3.5768873957385154,
          4.329941239928195,
          5.474098015143044,
          1.2641314058515334,
          3.5737388671723553,
          3.2799739573563675,
          3.6822886450334784,
          2.9552371758400264,
          3.5531186819596545,
          2.2593033551734005,
          3.2480644889002726,
          2.9346659743028,
          3.6434146638024543,
          4.677344418824579,
          1.5658845704818043,
          2.53668838851651,
          4.294344383347205,
          5.087456149833827,
          3.9532186692970854,
          2.5841453736326567,
          2.238390683506711,
          4.002174698879203,
          3.2372769868276814,
          3.2375426659329816,
          3.6534733315110923,
          3.283894208695704,
          3.5578077019628864,
          3.9242818085889,
          2.5428784922612055,
          4.402978816943245,
          3.990265222880736,
          3.6236142263655418,
          4.38018618624478,
          5.001749169638607,
          4.017320903563677,
          2.98225550719563,
          4.09564121105006,
          5.111107741031324,
          2.755569474674022,
          4.087944791035192,
          5.113303919226112,
          4.097476123556112,
          2.775447717102211,
          5.113102717490504,
          2.2256288031882026,
          2.4928753758032047,
          4.659078383577962,
          4.370610483068791,
          3.5965316739742863,
          1.9523197336824127,
          2.503951637282245,
          4.09173066921272,
          3.530789137990667,
          3.5501819188570827,
          1.9757121999914204,
          4.398198997898224,
          3.2796825155280205,
          4.356636715806678,
          2.812362770292652,
          2.4625153832430815,
          5.020210854838488,
          2.7621259388507724,
          4.353988937486329,
          1.735259262141133,
          3.025159837302926,
          2.510962828134704,
          4.159525688387657,
          4.306915113413859,
          4.7683121990817545,
          3.1459012445776575,
          1.7046009600245629,
          4.960694494387537,
          5.434599274588177,
          4.048736593920112,
          1.975902835485389,
          3.9942091725209603,
          0.935002084845421,
          3.5791071772518364,
          3.823345323368331,
          3.049576066934659,
          2.274514500085221,
          2.9557683126939596,
          3.5798866948487498,
          3.780674193835342,
          1.4584982382409448,
          2.2632513696807433,
          1.4623161092973005,
          4.574280218608776,
          4.336731057243831,
          3.822867330335883,
          4.995008936017784,
          3.5040471887986278,
          2.769927959308979,
          3.8637437703776487,
          5.9640314096511595,
          4.076577024340164,
          3.8156236842126536,
          4.428809139257951,
          2.225873816453948,
          4.370525139621704,
          3.590053545008699,
          4.663869926151825,
          3.8560451329619645,
          3.2705398758630744,
          3.316415156098446,
          1.717907508169198,
          2.7880902696819283,
          4.95750643005838,
          3.2863143643757455,
          3.811980682528867,
          3.52106080320172,
          3.845700946432554,
          4.399493386879347,
          3.295766092008945,
          3.8406613309593594,
          1.6882746927034225,
          3.5072483266161867,
          3.76335834580208,
          4.704541758790985,
          3.26362939980197,
          3.2730350793176544,
          2.521131128882394,
          3.85499029711352,
          3.011729135300727,
          2.4952418504666483,
          2.4934852802070475,
          1.70747498665466,
          2.217546422942781,
          3.772329830541197,
          2.487561683380354,
          3.8075659404959645,
          3.350340108540341,
          3.632669703787894,
          4.042945734871976,
          3.697595896865913,
          4.253281216039359,
          4.194622766804325,
          2.22100610342685,
          2.679136315240048,
          1.861939683779816,
          1.9532003306811858,
          3.2841421649679545,
          4.932538923622493
         ],
         "yaxis": "y"
        },
        {
         "hovertemplate": "Categoria=Accessori<br>PC1=%{x}<br>PC2=%{y}<extra></extra>",
         "legendgroup": "Accessori",
         "marker": {
          "color": "#FECB52",
          "symbol": "circle"
         },
         "mode": "markers",
         "name": "Accessori",
         "showlegend": true,
         "type": "scattergl",
         "x": [
          -0.4163107707137123,
          -2.829198001307895,
          -1.4942794962141275,
          -1.9224722397150569,
          33.448191413609536,
          -16.166070007319576,
          -18.97442442737217,
          -0.25206162702155716,
          30.63983699355695,
          -32.080078387617604,
          16.130005823285227,
          3.4924109330485584,
          -13.357715587266988,
          3.8434552355551426,
          10.045237913171281,
          6.300765353101149,
          22.214773733399166,
          10.045237913171281,
          4.116489693060248,
          6.612804733106992,
          -13.451327401268735,
          2.1242382668690927,
          8.500642982142352,
          -3.411460349580732,
          -18.412753543361656,
          -2.124297907056613,
          0.6840565129959677,
          0.6840565129959677,
          -1.2607414695331458,
          -1.280086512228485,
          -1.1161706793454387,
          -1.3023021642366652,
          -0.2429841710194085,
          -1.0758455902369828,
          0.6840565129959677,
          -2.0161818313641553,
          -2.181153578564432,
          -1.9517620164001217,
          -0.22565850578657404,
          -0.23254010955532795,
          -0.23658877071992163,
          -1.7477868418998483,
          -0.2831917888506961,
          -1.5389813754749848,
          -2.3365143055775115,
          -1.9487263626642193,
          -1.9499092362701795,
          -1.55046518174619,
          -1.7295723115764865,
          -1.8064117575170395,
          -1.078095008077895,
          -1.6538774156593505,
          -0.923004031891091,
          -2.5140018743888732,
          -1.407249305386315,
          -0.44388085901443347,
          -1.702158452561355,
          -0.9074468687554738,
          -1.2274957857763078,
          -0.9056955998471522,
          -0.7545991344931456,
          -1.0866380380826839,
          -1.5035201763245838,
          -0.9994290898090686,
          -1.6002399031830952,
          -1.0584365667804794,
          -1.5817876422771675,
          -0.7956970380126499,
          -1.35305268479791,
          -1.6094946434609811,
          -1.9788866886502854,
          -0.7567666226968499,
          -1.3351987582188907,
          -2.0364791126379553,
          -1.2283294915450031,
          -0.3685716369158753,
          -0.5532705962522158,
          -2.244776330576384,
          -0.6688058462681097,
          -1.9572795474084508,
          -1.7470167789888027,
          -2.733714511371593,
          -1.6731364076429163,
          -1.9628546317233304,
          -1.347732724037192,
          -1.42435289288667,
          -0.966616213111013,
          -1.957875879979466,
          -2.1512416749568586,
          -0.5600890858946762,
          -0.5462701853127735,
          -0.5418880131944293,
          -0.33698154168430483,
          0.603817815280192,
          -0.9317216300842462,
          -1.9478820696534933,
          0.028038683920057792,
          -0.30133100281196,
          0.08906915367556921,
          -2.0134543307799344,
          -8.489901259175822,
          -2.0642818243899654,
          -1.1856023673517204,
          -0.8172510264355684,
          -16.166070007319576,
          -11.017420237223162,
          -2.8111167818874288,
          -1.5956302278083245,
          0.2154623383358921,
          0.6840565129959677,
          8.173001633136215,
          -1.2741503723920558,
          10.045237913171281,
          -1.998859069067817,
          -2.327374521115359,
          -0.2903351555828038,
          -1.9044001492746907,
          4.896588143074862,
          35.3204276936446,
          -1.408508170613314,
          -1.0040357966811515,
          -2.241332249025682,
          -0.7822389872170552,
          -1.852019209956143,
          -32.080078387617604,
          -0.5020039394013334,
          -1.4843565906981437,
          -2.1195397519768773,
          -1.0596500854653277,
          -1.2055075430612765,
          -1.1138886306245634,
          -2.43633728706247,
          -0.9976874021272975,
          -2.9564029204055435,
          -0.9980679764952604,
          -1.9171521008685983,
          -2.111827991975926,
          0.42194343379106725,
          -2.082505436002878,
          -0.7823243387235836,
          -1.2883157140505588,
          -1.691103699026857,
          35.3204276936446,
          -2.0717600027023533,
          -0.19355424327046794,
          3.6796345610520733,
          5.130617678079236,
          13.555680938237007,
          -1.9569346605360276,
          -0.9617606571996922,
          -0.9902188512371256,
          43.74549095380237,
          -2.397995551958167,
          -1.6380521903997607,
          -1.2256250794646895,
          -2.054527560110504,
          -1.196381609744643,
          16.130005823285227,
          -9.613243027196871,
          -0.6552425311807987,
          10.045237913171281,
          -17.102188147337124,
          3.8434552355551426,
          -2.3728285407754406,
          -1.0616373133295118,
          -1.7289995121904687,
          -1.1564071540774634,
          -1.8431546327577832,
          -1.3515858222886614,
          -16.166070007319576,
          -2.28309848061502,
          -3.595340698512736,
          -1.1827773375331214,
          -0.6278090750759262,
          -1.0677565513541214,
          -1.9646405186221843,
          -1.3086317264083196,
          -1.7424247382050826,
          -1.82743495403548,
          -1.7596389993451276,
          -1.5417397156154222,
          0.6840565129959677,
          -1.8067128297137802,
          -2.441007888307228,
          0.004089392562480854,
          -0.9417308652080275,
          -1.6398046698023552,
          -0.4956332011378531,
          -1.0113769505850005,
          -2.3710469549066766,
          -0.9069195569293872,
          -1.0886788011052346,
          -1.6780747553589872,
          -2.3047040783894155,
          -0.5780913753550957,
          -2.5923569770653967,
          0.2689101089458984,
          -1.276110114238241,
          -0.735809995762012,
          -0.9865591961927355,
          -2.5255405539089164,
          -2.021159231481032,
          -1.8445447888170485,
          -0.6093661082358283,
          -2.5342889133925235,
          -1.5965327993024847,
          -1.6311363729835178,
          -1.5697895896054452,
          -1.2413410893146548,
          -2.5538757879165,
          -2.365294244616294,
          -2.1039056722931213,
          -1.8212444449544656,
          -1.7843901233645643,
          -2.7332947146390056,
          -1.420750301441699,
          -2.216561540248831,
          -2.307385191894677,
          -2.416608161213681,
          -2.5719890093307596,
          -0.8036394101386035,
          -1.4319173708405137,
          -1.3869505379980864,
          -1.51009199091124,
          -2.734333596992221,
          -2.11114798162543,
          -1.3087726556786858,
          -0.3765006082670378,
          -1.9200881915003154,
          -2.3732315899078964,
          -2.6906461222741545,
          -1.7328923954122641,
          -0.5460685208224915,
          -2.6113397970342493,
          -0.3298735095994145,
          -1.2040913280716998,
          -1.6238208720204073,
          -2.367299800690001,
          -0.881662066095437,
          -1.6815022588273871,
          -2.1180648505427375,
          -0.9699718305283308,
          -1.1089664546103775,
          -0.8789313645292832,
          -2.6704920187858034,
          -1.8714133915916698,
          -1.9275707210292201,
          -8.677124887179332,
          0.6840565129959677,
          -25.527251407494894,
          17.53418303331151,
          -0.5892160792531054,
          -1.7932594948050669,
          -2.3775049228033382,
          -1.146519512305401,
          -1.6562388370478607,
          -2.418147538501852,
          -3.0744831530769203,
          -4.516599820434762,
          -3.06041604707415,
          4.428529073066094,
          -1.6562388370478607,
          3.3586797701889144,
          -1.7079143589246788,
          -1.3047794745534014,
          -2.2999101679728686,
          -1.7093609259918143,
          -1.7882668940583315,
          -2.141902841127244,
          -1.1879208141761641,
          -1.6601386145343306,
          -1.4702925404336475,
          -1.608715396069034,
          -0.7454129234674012,
          -2.435680534697777,
          -2.1404092386092866,
          -1.9370742790531201,
          -3.247963676298355,
          -1.4434847143166036,
          -1.1776693798009248,
          -1.8206694953495628,
          -2.6342036992787867,
          -1.9104772430613068,
          -1.3610797159696946,
          -1.6170458244173749,
          -0.8416035566976519,
          -0.6235767878509887,
          -1.3331026845494087,
          -1.497950843316371,
          -0.7474120484994033,
          -1.2572096484506492,
          -0.07661295617530682,
          0.6840565129959677,
          3.3392279646820526,
          -12.398194493749015,
          0.7776683269977235,
          0.05997775298427363,
          -0.9835979379954476,
          -1.5936067095852082,
          -2.047298834090881,
          -1.8474213988117485,
          -1.9683986879186528,
          -1.801284442811017,
          -1.7232615023506577,
          -1.243171592779863,
          -2.1242732270127043,
          -0.8784171016807857,
          -0.647453096006743,
          -2.793360262348553,
          -0.9645287178222003,
          -2.124611024413496,
          -1.9937205938364588,
          -1.1771862798769088,
          -1.0762213407114145,
          -2.278179941837585,
          -2.7573159892406607,
          -1.6768536169744095,
          -0.44336841336213734,
          -0.8029476480978122,
          -1.5700673513468035,
          0.5065240385350832,
          -0.39607980240887625,
          -0.14317078621117701,
          -2.4388745480415945,
          -0.8237790518410965,
          -2.5847721100243763,
          -0.5851928772977523,
          -4.397727675670623,
          4.931692573325522,
          4.931692573325522,
          -2.1811538291585313,
          -2.461619006198772,
          -1.992210294170344,
          -2.2958153538267805,
          11.730250565202823,
          22.214773733399166,
          6.033303027381861,
          -0.7201206970303198,
          1.3081352730076583,
          1.60046690269734,
          21.746714663390406,
          4.662558608070472,
          -32.080078387617604,
          -0.7413925804389763,
          0.6840565129959677,
          0.6840565129959677,
          0.6840565129959677,
          -11.017420237223162,
          0.6840565129959677,
          -1.690167620137682,
          -1.6299799403983386,
          0.6840565129959677,
          0.6840565129959677,
          -1.504883028140294,
          -1.2150706613063036,
          -1.329539331834717,
          -0.7986139458195143,
          -0.9862543742571294,
          -1.6562388370478607,
          -0.9723580076690781,
          -2.4317359369294755,
          -1.9429237435358102,
          -2.0845824472915244,
          -2.3099694796375227,
          -1.761117563808383,
          -1.9162716537193973,
          -0.7173745165401058,
          -0.8781952623724809,
          -1.7210727572727658,
          1.308135273007651,
          0.6840565129959677,
          0.6840565129959677,
          -2.751297520069658,
          -2.31574655493456,
          -1.2992312264345143,
          0.8469250715068338,
          -1.3532293626233223,
          -2.1555018450571994,
          -1.1342729934275966,
          -1.3249401337577837,
          -2.4134941063456545,
          -1.7929896270669374,
          -1.0158548353869288,
          -1.9546697513969125,
          -1.8549842182527871,
          -1.165619852469949,
          -2.3728949775859194,
          -1.5406786686180225,
          -2.053716290812337,
          -1.4542627193501063,
          -2.56030021959343,
          -0.6060484094568946,
          -1.3972708287227564,
          -0.9097372964397508,
          -1.3545323705065784,
          -2.0112347375921575,
          -1.3806330206812252,
          -2.488639030267199,
          -2.1083479437667134,
          -2.2939920713795443,
          2.1818455370240204,
          -1.9162716537193973,
          -1.9162716537193973,
          -1.9162716537193973,
          -2.43633728706247,
          -0.35607475369017827,
          -2.43633728706247,
          -0.9289470513419253,
          -1.2557055045415013,
          -0.5178860451501522,
          -2.3634083848354543,
          -1.0609891420488313,
          -3.201995620266829,
          -1.3828368221014222,
          -0.6545878571635838,
          -1.9620105744987502,
          -0.9384890034298421,
          -0.9015374406166564,
          -2.0486033973578244,
          -2.4708388148045413,
          -2.2030498948418162,
          -3.532603953265262
         ],
         "xaxis": "x",
         "y": [
          1.8219004809421426,
          2.1331100883809424,
          1.9840323177991674,
          1.914742314084742,
          11.799427598210288,
          -7.355667564411236,
          -8.439918233993588,
          -1.2115804367779164,
          10.715176928627942,
          -13.49975469204456,
          5.1132151357857945,
          0.2340871226652154,
          -6.271416894828888,
          0.369618456363013,
          2.7640053516907037,
          1.3183377922475659,
          7.462424919880885,
          2.7640053516907037,
          0.47503171590573845,
          1.4388100888678266,
          -6.307558583814964,
          -0.2941375625159291,
          2.1676674834204097,
          -2.4313624400580642,
          -8.223068100077121,
          -1.9344142164994815,
          -0.850163546917135,
          -0.850163546917135,
          2.1029910430862495,
          3.04383627724376,
          -1.5451960274186425,
          1.4995757280861293,
          0.9447222759043105,
          -1.5296272998554055,
          -0.850163546917135,
          -0.20136243071483295,
          1.529467917585499,
          0.7107731129033584,
          1.3708061478225289,
          1.367207529142882,
          1.3672969794202334,
          0.43690711561571505,
          1.5006835807844079,
          1.5579454918354487,
          1.924779939614496,
          2.667822096126459,
          1.9122808771600028,
          3.11828828390801,
          1.5083291259225182,
          1.516001783005531,
          2.523482198737197,
          1.8534601835571352,
          2.0640032452382977,
          1.910084750882816,
          1.9870850467328982,
          1.447971319723585,
          3.0089973909762366,
          2.539407939139459,
          0.9121922555267334,
          2.921280061310926,
          1.0030347768206012,
          2.00200837898102,
          2.268710592262525,
          2.0234190547887003,
          1.9464588819841295,
          1.1980634089853883,
          2.8886926087144693,
          2.172149384944791,
          2.124065629856656,
          2.16495657337505,
          1.7081001632567072,
          0.7646079124547043,
          0.9844451470231148,
          0.471158208212233,
          2.9756354825526032,
          1.210100394684251,
          1.6329189155514336,
          1.2216601972569059,
          1.4120604994559476,
          2.011011007767265,
          2.9324928805719925,
          2.9101349103902856,
          2.2450877651895413,
          0.639194427043043,
          3.2568245832905522,
          2.2051972591018263,
          2.1983793704454335,
          2.5687715832723557,
          1.6858556584482594,
          1.013913110216422,
          -1.3251686021627314,
          2.1296354382136373,
          1.6234534136716612,
          -0.881142137476626,
          2.6975290814758273,
          1.72670283988003,
          -0.1454993227082148,
          -1.230602378349539,
          -0.2002470931544108,
          1.2324857325880385,
          -4.39204906755281,
          2.2409968172802808,
          2.1525712589943464,
          2.663269192915877,
          -7.355667564411236,
          -5.367874670176928,
          1.1312244945517014,
          0.9952296467777375,
          -0.31342353555502084,
          -0.850163546917135,
          2.041171571969134,
          3.6215895400853655,
          2.7640053516907037,
          2.112006908524698,
          1.9174550830558568,
          1.5174794042643198,
          1.1544254653338422,
          0.7762124574563937,
          12.522261377931857,
          2.1098431326827067,
          1.9248398651325171,
          0.8738746147978677,
          2.7112722416184862,
          2.2433580922162046,
          -13.49975469204456,
          1.9639740459487547,
          1.9977964487935125,
          2.296851488967243,
          1.797382843398911,
          2.166619810679775,
          2.3657925040861953,
          -2.0548865131197482,
          2.4855285867558283,
          -2.255673674153517,
          2.7594415373907673,
          2.0998642860403947,
          2.5564666604468727,
          -0.9513602760781513,
          2.1351445052940807,
          1.984801279701396,
          3.948746262057096,
          1.7035246598591516,
          12.522261377931857,
          1.1480066563482854,
          -1.1889918811616198,
          0.3063705006373753,
          0.866566679921586,
          4.119318688668637,
          1.9764198991705448,
          2.9693445136633163,
          2.8545369801236657,
          15.775013386678904,
          1.678081782576092,
          0.778405735897497,
          1.7887715551517034,
          2.87114073106574,
          1.673148335010881,
          5.1132151357857945,
          -4.825749335385755,
          2.01173992312979,
          2.7640053516907037,
          -7.717084454272026,
          0.369618456363013,
          1.8980101375088678,
          2.486139406922282,
          1.4513322981004115,
          2.299961778922096,
          1.9506538330098369,
          3.328551452558976,
          -7.355667564411236,
          1.7369991306904338,
          -2.502355043423571,
          0.7724997887766761,
          0.012994741944201775,
          1.7956634486028225,
          1.7676655946121653,
          2.9690265316497424,
          2.3064128856165675,
          1.5327653404832615,
          3.291911020245587,
          2.880751435357601,
          -0.850163546917135,
          2.5407256268635288,
          1.5916984244897625,
          0.7969619649230034,
          2.816769029117638,
          1.5099975529119722,
          1.3139767119534764,
          0.6095684802016469,
          1.8474836986631251,
          1.3330183194234249,
          1.9136583704706107,
          2.221974878256248,
          2.009462871845202,
          2.2150575427150283,
          -2.1151226614298806,
          0.1456908747732605,
          2.205104281488728,
          1.164014543333895,
          1.5334059518949636,
          2.7201063669324186,
          2.3151684332514693,
          4.102708716110197,
          2.293475871947216,
          1.6666993861457233,
          1.9561702920863022,
          1.9583932030301145,
          0.7755413205630817,
          2.386979173396883,
          2.791075312266369,
          1.2492567788772422,
          1.6842238647311294,
          2.6803556852712807,
          0.30898120802525586,
          2.228335081537973,
          2.700464427683693,
          1.4712270451804124,
          1.4978951763705577,
          1.4851630551946375,
          1.6905529358436868,
          2.2071288640558935,
          1.0001516246048432,
          2.119948158516781,
          1.0608451254704383,
          1.72288611112801,
          2.515148352331588,
          2.483090766062651,
          1.5233031262715113,
          1.455238280577649,
          0.9584369407026361,
          1.8094940058685318,
          0.577274253322339,
          2.1340789830599265,
          2.188719918930442,
          1.0563001880861405,
          1.4361255885626458,
          2.5233398349462566,
          2.123063676030633,
          1.8971688862036933,
          1.6044714258476236,
          2.021079546615211,
          1.647174405348655,
          2.6769510316446903,
          2.7012682211585233,
          2.0069823541381546,
          2.220053005722981,
          1.8972110849633557,
          -4.464332445524969,
          -0.850163546917135,
          -10.969836463019076,
          5.655340470576966,
          2.2370365823846274,
          1.7072188888325337,
          2.96262491244039,
          1.8878577874840463,
          -1.7537057715690947,
          1.921901899874105,
          3.3741154714147212,
          -2.8580351572548235,
          -2.2958311063602674,
          0.5955040125260005,
          -1.7537057715690947,
          0.18245613839939026,
          1.9784882937293824,
          2.216445144707112,
          3.407388642659711,
          1.2238742968355605,
          2.015664978875516,
          2.2887082538377967,
          1.8690279638082907,
          3.018576020101982,
          2.554876234292175,
          1.156714419112727,
          0.7954728367165527,
          3.0387211932904092,
          2.322988290830574,
          -1.8621308385273299,
          2.8331667026928256,
          -1.6715655693280074,
          2.2601757771402964,
          1.9917513986646105,
          2.1253973384765805,
          1.8961692691373984,
          2.2586893351548847,
          2.342415946663812,
          2.533932440829864,
          1.4838461829026275,
          2.131620444286609,
          1.9176347920620898,
          1.7473036334445686,
          2.179593296099961,
          0.995631386976354,
          -0.850163546917135,
          0.17494617705163212,
          -5.900964582721583,
          -0.8140218579310556,
          -1.0911081401576601,
          1.950844505775784,
          2.22435890516926,
          2.069829861038164,
          2.059368719123321,
          2.8070054023997426,
          2.057956082127235,
          2.461509665060573,
          1.539911282806216,
          2.367451706261904,
          1.5911818791752168,
          1.3975784504799427,
          2.36670207213356,
          2.0955899530478206,
          2.771168009832294,
          0.2783270304625806,
          1.6736671590749308,
          2.5085783676166096,
          1.7081363287654006,
          2.3989317385564366,
          2.224724063234501,
          1.8864285966849152,
          2.6990525622547787,
          4.631951767982953,
          1.1778034625611293,
          -1.2671830352180395,
          1.1695563174118315,
          2.994486644975091,
          0.9776242113754143,
          2.6151905128535526,
          1.69569489261547,
          -2.8121409490185303,
          0.7897655908261741,
          0.7897655908261741,
          1.2414761540206853,
          1.588341718855396,
          1.851892958141498,
          2.2744465583577447,
          3.4145557534401085,
          7.462424919880885,
          1.2150758237159156,
          -1.392288881708307,
          -0.6092189536766113,
          -0.49635543368499946,
          7.281716474950495,
          0.6858582349911951,
          -13.49975469204456,
          2.612770604460403,
          -0.850163546917135,
          -0.850163546917135,
          -0.850163546917135,
          -5.367874670176928,
          -0.850163546917135,
          1.2073591331551035,
          1.6281280321631484,
          -0.850163546917135,
          -0.850163546917135,
          0.9032923886183604,
          1.7226744782145986,
          1.3033698501417124,
          1.6371729997001931,
          1.7139067738667255,
          -1.7537057715690947,
          2.336815357561044,
          2.3485128211206336,
          1.4363843621194594,
          1.4518584827796004,
          1.4198135561207963,
          2.074721614305284,
          -1.8540993520859792,
          2.559183312289717,
          1.04939272954733,
          2.141656695642078,
          -0.6092189536766142,
          -0.850163546917135,
          -0.850163546917135,
          2.180291723397401,
          2.3821945420663795,
          3.1940916947882463,
          0.4619681983139446,
          -0.43860532561954174,
          -1.9464614461615084,
          3.5620641270920466,
          3.174236408973082,
          1.86952180634952,
          2.1487493427820468,
          2.2745015143263787,
          1.5218781224650484,
          1.6911542777156554,
          2.6451459431700477,
          1.454219710654174,
          2.5786837168497962,
          1.7592706120149946,
          2.2093313048128924,
          1.6514395419560508,
          0.5188859203156506,
          3.14620924428488,
          1.9608783701037753,
          1.7906908510503516,
          1.403282309755457,
          2.1554907946071196,
          1.7888425052745227,
          2.0684624762963506,
          2.3659096582948447,
          -0.27189652313987983,
          -1.8540993520859792,
          -1.8540993520859792,
          -1.8540993520859792,
          -2.0548865131197482,
          -1.2517378689846725,
          -2.0548865131197482,
          -1.472912649446483,
          1.8807710374076207,
          1.7043891296171696,
          1.3746312107020835,
          1.377490799066903,
          0.6743996902736714,
          2.3372662383796308,
          2.4052906299896004,
          1.8954160069352992,
          2.20641374048191,
          2.1247490625278203,
          1.2757511081517705,
          3.0116839225452434,
          5.816960628132622,
          1.6403148042911009
         ],
         "yaxis": "y"
        },
        {
         "hovertemplate": "Categoria=MP Alluminio<br>PC1=%{x}<br>PC2=%{y}<extra></extra>",
         "legendgroup": "MP Alluminio",
         "marker": {
          "color": "#EF553B",
          "symbol": "circle"
         },
         "mode": "markers",
         "name": "MP Alluminio",
         "showlegend": true,
         "type": "scattergl",
         "x": [
          -1.7306905987418746,
          -2.0450586920624936,
          -3.89512196121557,
          -2.2226376458582378,
          -3.227971590935122,
          -1.5121760679074385,
          -2.0105876165498686,
          -1.4180177180221192,
          -1.5085170559165988
         ],
         "xaxis": "x",
         "y": [
          3.5037270526236446,
          3.506795340432697,
          4.104313097097092,
          3.325875716633734,
          4.275518721118627,
          4.11144684936143,
          1.746564376849745,
          2.1193755852464844,
          2.448567894627846
         ],
         "yaxis": "y"
        },
        {
         "hovertemplate": "Categoria=Truciolare<br>PC1=%{x}<br>PC2=%{y}<extra></extra>",
         "legendgroup": "Truciolare",
         "marker": {
          "color": "#00cc96",
          "symbol": "circle"
         },
         "mode": "markers",
         "name": "Truciolare",
         "showlegend": true,
         "type": "scattergl",
         "x": [
          -0.43863320297321823,
          -2.399162128307616,
          -1.5068621582386525,
          -1.513598806188142,
          -1.4169461390934477,
          -0.5715354785757348,
          -1.815061111516784,
          -0.6822086281924253,
          -0.9485018027112111,
          -1.8723941390757821,
          -1.4767132608555236,
          -1.6914810946520453,
          -1.3902991111167433,
          -1.5053827323789135,
          -2.4408406147270187,
          -1.5865998070004335,
          -0.8472196108762313,
          -1.1798248497333237,
          -1.0731900021587588,
          -1.2242623562355834,
          -1.983567494781814,
          -0.8955152248278967,
          -1.0182053467624952,
          -0.5542070303151008,
          -1.3525751502034868,
          -1.0456121993204042,
          -1.3294925708779086,
          -1.3799217370919232,
          -1.7982584420410164,
          -2.4479555749882085,
          -0.4462985523942267,
          -1.0860311114955568,
          -0.5654407819032239,
          -1.4473647989632308,
          -1.485946565873546,
          -0.771904133810112,
          -2.3650743369918006,
          -0.5777434271626795,
          -1.3488202211003073,
          -0.9737528524559761,
          -1.8046164396579931,
          -1.732187620789796,
          -1.5467659115116463,
          -0.9892428686848529,
          -1.133632265892013,
          -2.037114903560608,
          -2.368659367929553,
          -0.5022726616618887,
          -1.2443270268170548,
          -0.3674164613952023,
          -0.9097501033620912,
          -1.022324156676928,
          -2.1121517031730597,
          -2.209371591594138,
          -1.6986764206423024,
          -1.939102632222499,
          -1.8866498128008804,
          -2.2324269449520098,
          -1.9368470597821648,
          -2.0574709557329607,
          -1.6435407416190613,
          -1.7564141192008464,
          -2.0736742624569877,
          -1.4790845204852971,
          -2.23857959047361,
          -0.9336908176540406,
          -1.4734444158573108,
          -1.9042381526644436,
          -2.354194141258927,
          -2.3265728506446495,
          -2.3067394316237,
          -1.9000707738753235,
          -0.5204592033481489,
          -1.3054438537081192,
          -1.0432602755490026,
          -2.7382246422286443,
          -2.0430307553556286,
          -2.0897928872598603,
          -2.0824734300713468,
          -1.5859004424331615,
          -1.640852934924497,
          -2.152731672680385,
          -1.789612798387466,
          -1.9279267648544662,
          -2.0977142582972967,
          -2.0534652943413936,
          -2.3184969044819237,
          -0.7035622119170214,
          -1.8122585270507798,
          -1.8122585270507798,
          2.5562927930310306,
          -1.8122585270507827,
          -0.6925878105592101,
          1.8073982810170106,
          -1.3219109298987235,
          0.7138420901783499,
          -1.39742970421947,
          1.1184153299640998,
          -1.2751050228978558,
          -0.7561252408771577,
          -0.7201206970303272,
          0.7197181564252055,
          0.6902973005960735,
          -3.437872295260967,
          -3.4394587542953983,
          -2.915736749889653,
          -3.5284751170829107,
          -1.2470214786973393,
          1.8073982810170106,
          2.2258981553777963,
          -0.07596818139922734,
          0.2672503199094026,
          -3.8688391514048313,
          0.6840565129959677,
          -0.7561252408771577,
          0.09898267548501058,
          0.7182509818104554,
          -2.9739101346089516,
          -0.133193270359439,
          0.2672503199094026,
          -0.15788498040538795,
          0.2675375763122204,
          0.6840565129959677,
          -2.0935041620260746,
          -0.16220513620618787,
          -0.15233524498455214,
          -1.8389458798999028,
          -2.0824055452557815,
          0.21920052245267774,
          -2.4813032930662344,
          -2.049033605353966,
          -1.1408570854227673,
          0.3771530368577742,
          -1.4992292223855688,
          -0.366229987219214,
          -0.9716926951096492,
          0.21425982481146402,
          -2.772216515066195,
          -1.5362364602168914,
          0.28620630348850906,
          0.4567135361345814,
          -1.0372904325766565,
          0.5904446989942185,
          0.28620630348850906,
          -0.26438599033391097,
          2.129265581386978,
          1.8745634301417367,
          2.0947270241092655
         ],
         "xaxis": "x",
         "y": [
          1.4909909853572667,
          1.9393519480424883,
          2.138107330104813,
          2.936855100630066,
          1.1364421636079778,
          1.8136252904129075,
          1.7119693097416977,
          0.9227558671973888,
          2.726147611484278,
          2.3204401329779034,
          1.3626873748869743,
          1.8904990165606608,
          1.757048136197254,
          2.062131326382134,
          1.8281203955248533,
          2.769257784844255,
          2.847056589324177,
          3.101112804785072,
          2.854591868337074,
          2.538455138602716,
          1.7298197955289216,
          1.9781375283344167,
          2.776983007707151,
          1.0977006470253414,
          3.475545249779436,
          2.9411461045597473,
          1.564149114362475,
          3.1276978286746275,
          1.3050288947913777,
          1.9592262272092413,
          1.9026514792373554,
          1.565387853536079,
          1.076113689600771,
          2.0422344608115988,
          0.6019451750589926,
          2.731709701914454,
          1.91126340685385,
          2.1747078064763503,
          2.6525637419478203,
          2.233367499815052,
          2.529987265831746,
          2.3594401523395345,
          0.2757783666026932,
          2.003670921447043,
          2.557597707224004,
          2.168971448384783,
          2.0613011775155545,
          1.637078746173539,
          2.46456870460524,
          1.242998673356866,
          2.0358914390590432,
          2.221150536752553,
          1.4430787322457357,
          1.6347391628632566,
          1.6927971950510032,
          0.7075659525142745,
          1.6199528270312453,
          2.4649086966638767,
          2.2726510822497112,
          2.066172092542715,
          2.87899020928579,
          2.8366087998825296,
          1.3122960130219192,
          2.2790099418438237,
          1.4488647989874233,
          1.716669470330664,
          2.1807436228574746,
          2.028533626981387,
          1.9666814113985007,
          2.091189182343904,
          1.4288990197811056,
          1.4794341166774847,
          1.6029701034584385,
          2.435909050524791,
          1.7472801642767388,
          2.1417158991213188,
          2.299282522247513,
          1.9641184881409426,
          2.4905286552324197,
          2.4508619288149585,
          0.6963659758165515,
          2.5301928637837223,
          1.5978223519375307,
          1.71656905257118,
          0.8042697980795088,
          1.5886314133352408,
          2.061927892915613,
          2.478185541070929,
          -1.8139419198792242,
          -1.8139419198792242,
          -0.12732976719556724,
          -1.8139419198792255,
          -1.3816589731829878,
          -0.4164632790841924,
          -1.6246283109045219,
          -0.8386639186033804,
          -1.6537846314311078,
          -0.6824661100217323,
          -1.606557466411486,
          -1.406189531318341,
          -1.39228888170831,
          -0.8363952844462486,
          -0.847754100984734,
          -0.18504136092647822,
          0.9384077846335734,
          1.7443659252452743,
          -2.4765395512906574,
          -1.5957149597156661,
          -0.4164632790841924,
          -0.2548886694993687,
          1.0025864937459792,
          0.16416336241827464,
          1.9853145998026445,
          -0.850163546917135,
          -1.406189531318341,
          -1.076049103080125,
          1.1224929805833177,
          -1.065008033331639,
          1.1388568228362388,
          0.16416336241827464,
          1.188963472759422,
          0.1625696800201155,
          -0.850163546917135,
          -1.0318952234044811,
          1.2051096542078643,
          1.182879270034402,
          1.02154265970715,
          0.9905691618419862,
          0.288497248181488,
          2.5885849233571774,
          1.546644823095956,
          3.5879769632057643,
          -0.10785684667148339,
          1.278634990226583,
          1.7063604967362047,
          3.1785047516017735,
          0.29143948666918723,
          2.5795202982017527,
          2.386952150370922,
          -1.0037657251079712,
          -0.9379362201690342,
          1.5941963690312517,
          -0.8863052359032119,
          -1.0037657251079712,
          0.07319580390089696,
          -2.275621961125399,
          -2.4304512630137904,
          -1.6687612949764639
         ],
         "yaxis": "y"
        },
        {
         "hovertemplate": "Categoria=Coibenti<br>PC1=%{x}<br>PC2=%{y}<extra></extra>",
         "legendgroup": "Coibenti",
         "marker": {
          "color": "#ab63fa",
          "symbol": "circle"
         },
         "mode": "markers",
         "name": "Coibenti",
         "showlegend": true,
         "type": "scattergl",
         "x": [
          1.7880820214860593,
          1.4767224475486687,
          1.244204809639385,
          1.7876473163868787,
          1.76363950342293,
          1.8500248622518618,
          1.4033502562879492,
          1.2220150208214595,
          2.293530321285339,
          1.8524218637051686,
          1.6326601700605066,
          2.1929940312997513,
          4.671007829094102,
          4.088543909685519,
          3.7956345333193133
         ],
         "xaxis": "x",
         "y": [
          -2.320504644503347,
          -2.773085280883577,
          -2.213863977134383,
          -2.593180220917534,
          -1.9525535843953556,
          -2.408489574296643,
          -2.132640985878963,
          -2.1567814154036764,
          -2.090711000096169,
          -2.148559084273992,
          -1.6033368775228423,
          -2.3996500440616644,
          -5.368313582142741,
          -6.578375842699555,
          -5.617563469461639
         ],
         "yaxis": "y"
        },
        {
         "hovertemplate": "Categoria=Laminati e altri<br>PC1=%{x}<br>PC2=%{y}<extra></extra>",
         "legendgroup": "Laminati e altri",
         "marker": {
          "color": "#FFA15A",
          "symbol": "circle"
         },
         "mode": "markers",
         "name": "Laminati e altri",
         "showlegend": true,
         "type": "scattergl",
         "x": [
          3.950537964416013,
          4.129288432402893,
          3.8160273516274357,
          5.643829894758367,
          4.585032582351351,
          2.980058768474868,
          3.7082201047051457,
          2.96205532438347,
          5.7797376969207805,
          3.322766888909835,
          3.7229709599958114,
          5.131191017813009,
          4.8169318430655785,
          4.686026955622789,
          4.452216830455647,
          3.8212534208437496
         ],
         "xaxis": "x",
         "y": [
          -2.9866055068156,
          -3.8416264918041003,
          -5.724142555628947,
          -5.317002521500349,
          -5.1548841203397,
          -5.2840445005636365,
          -3.5346799575702206,
          -5.069532332777363,
          -6.794353933204802,
          -4.649651428936491,
          -6.04389214410797,
          -5.2183979406956595,
          -4.366257883610438,
          -5.660174581744272,
          -6.167482751299141,
          -6.058275642286825
         ],
         "yaxis": "y"
        }
       ],
       "layout": {
        "legend": {
         "title": {
          "text": "Categoria"
         },
         "tracegroupgap": 0
        },
        "template": {
         "data": {
          "bar": [
           {
            "error_x": {
             "color": "#2a3f5f"
            },
            "error_y": {
             "color": "#2a3f5f"
            },
            "marker": {
             "line": {
              "color": "white",
              "width": 0.5
             },
             "pattern": {
              "fillmode": "overlay",
              "size": 10,
              "solidity": 0.2
             }
            },
            "type": "bar"
           }
          ],
          "barpolar": [
           {
            "marker": {
             "line": {
              "color": "white",
              "width": 0.5
             },
             "pattern": {
              "fillmode": "overlay",
              "size": 10,
              "solidity": 0.2
             }
            },
            "type": "barpolar"
           }
          ],
          "carpet": [
           {
            "aaxis": {
             "endlinecolor": "#2a3f5f",
             "gridcolor": "#C8D4E3",
             "linecolor": "#C8D4E3",
             "minorgridcolor": "#C8D4E3",
             "startlinecolor": "#2a3f5f"
            },
            "baxis": {
             "endlinecolor": "#2a3f5f",
             "gridcolor": "#C8D4E3",
             "linecolor": "#C8D4E3",
             "minorgridcolor": "#C8D4E3",
             "startlinecolor": "#2a3f5f"
            },
            "type": "carpet"
           }
          ],
          "choropleth": [
           {
            "colorbar": {
             "outlinewidth": 0,
             "ticks": ""
            },
            "type": "choropleth"
           }
          ],
          "contour": [
           {
            "colorbar": {
             "outlinewidth": 0,
             "ticks": ""
            },
            "colorscale": [
             [
              0,
              "#0d0887"
             ],
             [
              0.1111111111111111,
              "#46039f"
             ],
             [
              0.2222222222222222,
              "#7201a8"
             ],
             [
              0.3333333333333333,
              "#9c179e"
             ],
             [
              0.4444444444444444,
              "#bd3786"
             ],
             [
              0.5555555555555556,
              "#d8576b"
             ],
             [
              0.6666666666666666,
              "#ed7953"
             ],
             [
              0.7777777777777778,
              "#fb9f3a"
             ],
             [
              0.8888888888888888,
              "#fdca26"
             ],
             [
              1,
              "#f0f921"
             ]
            ],
            "type": "contour"
           }
          ],
          "contourcarpet": [
           {
            "colorbar": {
             "outlinewidth": 0,
             "ticks": ""
            },
            "type": "contourcarpet"
           }
          ],
          "heatmap": [
           {
            "colorbar": {
             "outlinewidth": 0,
             "ticks": ""
            },
            "colorscale": [
             [
              0,
              "#0d0887"
             ],
             [
              0.1111111111111111,
              "#46039f"
             ],
             [
              0.2222222222222222,
              "#7201a8"
             ],
             [
              0.3333333333333333,
              "#9c179e"
             ],
             [
              0.4444444444444444,
              "#bd3786"
             ],
             [
              0.5555555555555556,
              "#d8576b"
             ],
             [
              0.6666666666666666,
              "#ed7953"
             ],
             [
              0.7777777777777778,
              "#fb9f3a"
             ],
             [
              0.8888888888888888,
              "#fdca26"
             ],
             [
              1,
              "#f0f921"
             ]
            ],
            "type": "heatmap"
           }
          ],
          "heatmapgl": [
           {
            "colorbar": {
             "outlinewidth": 0,
             "ticks": ""
            },
            "colorscale": [
             [
              0,
              "#0d0887"
             ],
             [
              0.1111111111111111,
              "#46039f"
             ],
             [
              0.2222222222222222,
              "#7201a8"
             ],
             [
              0.3333333333333333,
              "#9c179e"
             ],
             [
              0.4444444444444444,
              "#bd3786"
             ],
             [
              0.5555555555555556,
              "#d8576b"
             ],
             [
              0.6666666666666666,
              "#ed7953"
             ],
             [
              0.7777777777777778,
              "#fb9f3a"
             ],
             [
              0.8888888888888888,
              "#fdca26"
             ],
             [
              1,
              "#f0f921"
             ]
            ],
            "type": "heatmapgl"
           }
          ],
          "histogram": [
           {
            "marker": {
             "pattern": {
              "fillmode": "overlay",
              "size": 10,
              "solidity": 0.2
             }
            },
            "type": "histogram"
           }
          ],
          "histogram2d": [
           {
            "colorbar": {
             "outlinewidth": 0,
             "ticks": ""
            },
            "colorscale": [
             [
              0,
              "#0d0887"
             ],
             [
              0.1111111111111111,
              "#46039f"
             ],
             [
              0.2222222222222222,
              "#7201a8"
             ],
             [
              0.3333333333333333,
              "#9c179e"
             ],
             [
              0.4444444444444444,
              "#bd3786"
             ],
             [
              0.5555555555555556,
              "#d8576b"
             ],
             [
              0.6666666666666666,
              "#ed7953"
             ],
             [
              0.7777777777777778,
              "#fb9f3a"
             ],
             [
              0.8888888888888888,
              "#fdca26"
             ],
             [
              1,
              "#f0f921"
             ]
            ],
            "type": "histogram2d"
           }
          ],
          "histogram2dcontour": [
           {
            "colorbar": {
             "outlinewidth": 0,
             "ticks": ""
            },
            "colorscale": [
             [
              0,
              "#0d0887"
             ],
             [
              0.1111111111111111,
              "#46039f"
             ],
             [
              0.2222222222222222,
              "#7201a8"
             ],
             [
              0.3333333333333333,
              "#9c179e"
             ],
             [
              0.4444444444444444,
              "#bd3786"
             ],
             [
              0.5555555555555556,
              "#d8576b"
             ],
             [
              0.6666666666666666,
              "#ed7953"
             ],
             [
              0.7777777777777778,
              "#fb9f3a"
             ],
             [
              0.8888888888888888,
              "#fdca26"
             ],
             [
              1,
              "#f0f921"
             ]
            ],
            "type": "histogram2dcontour"
           }
          ],
          "mesh3d": [
           {
            "colorbar": {
             "outlinewidth": 0,
             "ticks": ""
            },
            "type": "mesh3d"
           }
          ],
          "parcoords": [
           {
            "line": {
             "colorbar": {
              "outlinewidth": 0,
              "ticks": ""
             }
            },
            "type": "parcoords"
           }
          ],
          "pie": [
           {
            "automargin": true,
            "type": "pie"
           }
          ],
          "scatter": [
           {
            "fillpattern": {
             "fillmode": "overlay",
             "size": 10,
             "solidity": 0.2
            },
            "type": "scatter"
           }
          ],
          "scatter3d": [
           {
            "line": {
             "colorbar": {
              "outlinewidth": 0,
              "ticks": ""
             }
            },
            "marker": {
             "colorbar": {
              "outlinewidth": 0,
              "ticks": ""
             }
            },
            "type": "scatter3d"
           }
          ],
          "scattercarpet": [
           {
            "marker": {
             "colorbar": {
              "outlinewidth": 0,
              "ticks": ""
             }
            },
            "type": "scattercarpet"
           }
          ],
          "scattergeo": [
           {
            "marker": {
             "colorbar": {
              "outlinewidth": 0,
              "ticks": ""
             }
            },
            "type": "scattergeo"
           }
          ],
          "scattergl": [
           {
            "marker": {
             "colorbar": {
              "outlinewidth": 0,
              "ticks": ""
             }
            },
            "type": "scattergl"
           }
          ],
          "scattermapbox": [
           {
            "marker": {
             "colorbar": {
              "outlinewidth": 0,
              "ticks": ""
             }
            },
            "type": "scattermapbox"
           }
          ],
          "scatterpolar": [
           {
            "marker": {
             "colorbar": {
              "outlinewidth": 0,
              "ticks": ""
             }
            },
            "type": "scatterpolar"
           }
          ],
          "scatterpolargl": [
           {
            "marker": {
             "colorbar": {
              "outlinewidth": 0,
              "ticks": ""
             }
            },
            "type": "scatterpolargl"
           }
          ],
          "scatterternary": [
           {
            "marker": {
             "colorbar": {
              "outlinewidth": 0,
              "ticks": ""
             }
            },
            "type": "scatterternary"
           }
          ],
          "surface": [
           {
            "colorbar": {
             "outlinewidth": 0,
             "ticks": ""
            },
            "colorscale": [
             [
              0,
              "#0d0887"
             ],
             [
              0.1111111111111111,
              "#46039f"
             ],
             [
              0.2222222222222222,
              "#7201a8"
             ],
             [
              0.3333333333333333,
              "#9c179e"
             ],
             [
              0.4444444444444444,
              "#bd3786"
             ],
             [
              0.5555555555555556,
              "#d8576b"
             ],
             [
              0.6666666666666666,
              "#ed7953"
             ],
             [
              0.7777777777777778,
              "#fb9f3a"
             ],
             [
              0.8888888888888888,
              "#fdca26"
             ],
             [
              1,
              "#f0f921"
             ]
            ],
            "type": "surface"
           }
          ],
          "table": [
           {
            "cells": {
             "fill": {
              "color": "#EBF0F8"
             },
             "line": {
              "color": "white"
             }
            },
            "header": {
             "fill": {
              "color": "#C8D4E3"
             },
             "line": {
              "color": "white"
             }
            },
            "type": "table"
           }
          ]
         },
         "layout": {
          "annotationdefaults": {
           "arrowcolor": "#2a3f5f",
           "arrowhead": 0,
           "arrowwidth": 1
          },
          "autotypenumbers": "strict",
          "coloraxis": {
           "colorbar": {
            "outlinewidth": 0,
            "ticks": ""
           }
          },
          "colorscale": {
           "diverging": [
            [
             0,
             "#8e0152"
            ],
            [
             0.1,
             "#c51b7d"
            ],
            [
             0.2,
             "#de77ae"
            ],
            [
             0.3,
             "#f1b6da"
            ],
            [
             0.4,
             "#fde0ef"
            ],
            [
             0.5,
             "#f7f7f7"
            ],
            [
             0.6,
             "#e6f5d0"
            ],
            [
             0.7,
             "#b8e186"
            ],
            [
             0.8,
             "#7fbc41"
            ],
            [
             0.9,
             "#4d9221"
            ],
            [
             1,
             "#276419"
            ]
           ],
           "sequential": [
            [
             0,
             "#0d0887"
            ],
            [
             0.1111111111111111,
             "#46039f"
            ],
            [
             0.2222222222222222,
             "#7201a8"
            ],
            [
             0.3333333333333333,
             "#9c179e"
            ],
            [
             0.4444444444444444,
             "#bd3786"
            ],
            [
             0.5555555555555556,
             "#d8576b"
            ],
            [
             0.6666666666666666,
             "#ed7953"
            ],
            [
             0.7777777777777778,
             "#fb9f3a"
            ],
            [
             0.8888888888888888,
             "#fdca26"
            ],
            [
             1,
             "#f0f921"
            ]
           ],
           "sequentialminus": [
            [
             0,
             "#0d0887"
            ],
            [
             0.1111111111111111,
             "#46039f"
            ],
            [
             0.2222222222222222,
             "#7201a8"
            ],
            [
             0.3333333333333333,
             "#9c179e"
            ],
            [
             0.4444444444444444,
             "#bd3786"
            ],
            [
             0.5555555555555556,
             "#d8576b"
            ],
            [
             0.6666666666666666,
             "#ed7953"
            ],
            [
             0.7777777777777778,
             "#fb9f3a"
            ],
            [
             0.8888888888888888,
             "#fdca26"
            ],
            [
             1,
             "#f0f921"
            ]
           ]
          },
          "colorway": [
           "#636efa",
           "#EF553B",
           "#00cc96",
           "#ab63fa",
           "#FFA15A",
           "#19d3f3",
           "#FF6692",
           "#B6E880",
           "#FF97FF",
           "#FECB52"
          ],
          "font": {
           "color": "#2a3f5f"
          },
          "geo": {
           "bgcolor": "white",
           "lakecolor": "white",
           "landcolor": "white",
           "showlakes": true,
           "showland": true,
           "subunitcolor": "#C8D4E3"
          },
          "hoverlabel": {
           "align": "left"
          },
          "hovermode": "closest",
          "mapbox": {
           "style": "light"
          },
          "paper_bgcolor": "white",
          "plot_bgcolor": "white",
          "polar": {
           "angularaxis": {
            "gridcolor": "#EBF0F8",
            "linecolor": "#EBF0F8",
            "ticks": ""
           },
           "bgcolor": "white",
           "radialaxis": {
            "gridcolor": "#EBF0F8",
            "linecolor": "#EBF0F8",
            "ticks": ""
           }
          },
          "scene": {
           "xaxis": {
            "backgroundcolor": "white",
            "gridcolor": "#DFE8F3",
            "gridwidth": 2,
            "linecolor": "#EBF0F8",
            "showbackground": true,
            "ticks": "",
            "zerolinecolor": "#EBF0F8"
           },
           "yaxis": {
            "backgroundcolor": "white",
            "gridcolor": "#DFE8F3",
            "gridwidth": 2,
            "linecolor": "#EBF0F8",
            "showbackground": true,
            "ticks": "",
            "zerolinecolor": "#EBF0F8"
           },
           "zaxis": {
            "backgroundcolor": "white",
            "gridcolor": "#DFE8F3",
            "gridwidth": 2,
            "linecolor": "#EBF0F8",
            "showbackground": true,
            "ticks": "",
            "zerolinecolor": "#EBF0F8"
           }
          },
          "shapedefaults": {
           "line": {
            "color": "#2a3f5f"
           }
          },
          "ternary": {
           "aaxis": {
            "gridcolor": "#DFE8F3",
            "linecolor": "#A2B1C6",
            "ticks": ""
           },
           "baxis": {
            "gridcolor": "#DFE8F3",
            "linecolor": "#A2B1C6",
            "ticks": ""
           },
           "bgcolor": "white",
           "caxis": {
            "gridcolor": "#DFE8F3",
            "linecolor": "#A2B1C6",
            "ticks": ""
           }
          },
          "title": {
           "x": 0.05
          },
          "xaxis": {
           "automargin": true,
           "gridcolor": "#EBF0F8",
           "linecolor": "#EBF0F8",
           "ticks": "",
           "title": {
            "standoff": 15
           },
           "zerolinecolor": "#EBF0F8",
           "zerolinewidth": 2
          },
          "yaxis": {
           "automargin": true,
           "gridcolor": "#EBF0F8",
           "linecolor": "#EBF0F8",
           "ticks": "",
           "title": {
            "standoff": 15
           },
           "zerolinecolor": "#EBF0F8",
           "zerolinewidth": 2
          }
         }
        },
        "title": {
         "text": "Clustering storico listino"
        },
        "xaxis": {
         "anchor": "y",
         "domain": [
          0,
          1
         ],
         "title": {
          "text": "PC1"
         }
        },
        "yaxis": {
         "anchor": "x",
         "domain": [
          0,
          1
         ],
         "title": {
          "text": "PC2"
         }
        }
       }
      }
     },
     "metadata": {},
     "output_type": "display_data"
    }
   ],
   "source": [
    "# clustering storico listino\n",
    "fig = px.scatter(df_pca, x=\"PC1\", y=\"PC2\", color=\"Categoria\", template=\"plotly_white\", title=\"Clustering storico listino\")\n",
    "fig.write_html(\"vista_listino/clustering_storico_listino.html\")\n",
    "fig.show()"
   ]
  },
  {
   "cell_type": "code",
   "execution_count": 216,
   "metadata": {},
   "outputs": [
    {
     "data": {
      "text/html": [
       "<div>\n",
       "<style scoped>\n",
       "    .dataframe tbody tr th:only-of-type {\n",
       "        vertical-align: middle;\n",
       "    }\n",
       "\n",
       "    .dataframe tbody tr th {\n",
       "        vertical-align: top;\n",
       "    }\n",
       "\n",
       "    .dataframe thead th {\n",
       "        text-align: right;\n",
       "    }\n",
       "</style>\n",
       "<table border=\"1\" class=\"dataframe\">\n",
       "  <thead>\n",
       "    <tr style=\"text-align: right;\">\n",
       "      <th></th>\n",
       "      <th>Delta_avg</th>\n",
       "    </tr>\n",
       "    <tr>\n",
       "      <th>Categoria</th>\n",
       "      <th></th>\n",
       "    </tr>\n",
       "  </thead>\n",
       "  <tbody>\n",
       "    <tr>\n",
       "      <th>MP Acciaio</th>\n",
       "      <td>1.54</td>\n",
       "    </tr>\n",
       "    <tr>\n",
       "      <th>MP Alluminio</th>\n",
       "      <td>1.54</td>\n",
       "    </tr>\n",
       "    <tr>\n",
       "      <th>Visive</th>\n",
       "      <td>1.42</td>\n",
       "    </tr>\n",
       "    <tr>\n",
       "      <th>Veneziane</th>\n",
       "      <td>1.04</td>\n",
       "    </tr>\n",
       "    <tr>\n",
       "      <th>Profili Alluminio Kybos</th>\n",
       "      <td>1.03</td>\n",
       "    </tr>\n",
       "    <tr>\n",
       "      <th>Truciolare</th>\n",
       "      <td>0.78</td>\n",
       "    </tr>\n",
       "    <tr>\n",
       "      <th>Accessori</th>\n",
       "      <td>0.72</td>\n",
       "    </tr>\n",
       "    <tr>\n",
       "      <th>Ante Acciaio</th>\n",
       "      <td>0.50</td>\n",
       "    </tr>\n",
       "    <tr>\n",
       "      <th>Profili Alluminio Flux</th>\n",
       "      <td>0.49</td>\n",
       "    </tr>\n",
       "    <tr>\n",
       "      <th>Coibenti</th>\n",
       "      <td>-0.48</td>\n",
       "    </tr>\n",
       "    <tr>\n",
       "      <th>Vetri</th>\n",
       "      <td>-0.50</td>\n",
       "    </tr>\n",
       "    <tr>\n",
       "      <th>Ante vetro</th>\n",
       "      <td>-0.50</td>\n",
       "    </tr>\n",
       "    <tr>\n",
       "      <th>Profili Alluminio Flux 2</th>\n",
       "      <td>-0.99</td>\n",
       "    </tr>\n",
       "    <tr>\n",
       "      <th>Laminati e altri</th>\n",
       "      <td>-1.56</td>\n",
       "    </tr>\n",
       "  </tbody>\n",
       "</table>\n",
       "</div>"
      ],
      "text/plain": [
       "                          Delta_avg\n",
       "Categoria                          \n",
       "MP Acciaio                     1.54\n",
       "MP Alluminio                   1.54\n",
       "Visive                         1.42\n",
       "Veneziane                      1.04\n",
       "Profili Alluminio Kybos        1.03\n",
       "Truciolare                     0.78\n",
       "Accessori                      0.72\n",
       "Ante Acciaio                   0.50\n",
       "Profili Alluminio Flux         0.49\n",
       "Coibenti                      -0.48\n",
       "Vetri                         -0.50\n",
       "Ante vetro                    -0.50\n",
       "Profili Alluminio Flux 2      -0.99\n",
       "Laminati e altri              -1.56"
      ]
     },
     "execution_count": 216,
     "metadata": {},
     "output_type": "execute_result"
    }
   ],
   "source": [
    "df_mean_deltas = df_listino_storico.groupby(\"Categoria\").agg({\"Delta_avg\":\"mean\"}).sort_values(by=\"Delta_avg\", ascending=False)\n",
    "# apply rounding to 2 decimal places\n",
    "df_mean_deltas[\"Delta_avg\"] = df_mean_deltas[\"Delta_avg\"].apply(lambda x: round(x, 2))\n",
    "df_mean_deltas.to_csv('vista_listino/df_mean_deltas.csv')\n",
    "df_mean_deltas"
   ]
  },
  {
   "cell_type": "code",
   "execution_count": 217,
   "metadata": {},
   "outputs": [
    {
     "data": {
      "application/vnd.plotly.v1+json": {
       "config": {
        "plotlyServerURL": "https://plot.ly"
       },
       "data": [
        {
         "alignmentgroup": "True",
         "hovertemplate": "Categoria=%{x}<br>Differenza media=%{marker.color}<extra></extra>",
         "legendgroup": "",
         "marker": {
          "color": [
           1.54,
           1.54,
           1.42,
           1.04,
           1.03,
           0.78,
           0.72,
           0.5,
           0.49,
           -0.48,
           -0.5,
           -0.5,
           -0.99,
           -1.56
          ],
          "coloraxis": "coloraxis",
          "pattern": {
           "shape": ""
          }
         },
         "name": "",
         "offsetgroup": "",
         "orientation": "v",
         "showlegend": false,
         "text": [
          1.54,
          1.54,
          1.42,
          1.04,
          1.03,
          0.78,
          0.72,
          0.5,
          0.49,
          -0.48,
          -0.5,
          -0.5,
          -0.99,
          -1.56
         ],
         "textposition": "auto",
         "type": "bar",
         "x": [
          "MP Acciaio",
          "MP Alluminio",
          "Visive",
          "Veneziane",
          "Profili Alluminio Kybos",
          "Truciolare",
          "Accessori",
          "Ante Acciaio",
          "Profili Alluminio Flux",
          "Coibenti",
          "Vetri",
          "Ante vetro",
          "Profili Alluminio Flux 2",
          "Laminati e altri"
         ],
         "xaxis": "x",
         "y": [
          1.54,
          1.54,
          1.42,
          1.04,
          1.03,
          0.78,
          0.72,
          0.5,
          0.49,
          -0.48,
          -0.5,
          -0.5,
          -0.99,
          -1.56
         ],
         "yaxis": "y"
        }
       ],
       "layout": {
        "barmode": "relative",
        "coloraxis": {
         "colorbar": {
          "title": {
           "text": "Differenza media"
          }
         },
         "colorscale": [
          [
           0,
           "#440154"
          ],
          [
           0.1111111111111111,
           "#482878"
          ],
          [
           0.2222222222222222,
           "#3e4989"
          ],
          [
           0.3333333333333333,
           "#31688e"
          ],
          [
           0.4444444444444444,
           "#26828e"
          ],
          [
           0.5555555555555556,
           "#1f9e89"
          ],
          [
           0.6666666666666666,
           "#35b779"
          ],
          [
           0.7777777777777778,
           "#6ece58"
          ],
          [
           0.8888888888888888,
           "#b5de2b"
          ],
          [
           1,
           "#fde725"
          ]
         ]
        },
        "legend": {
         "tracegroupgap": 0
        },
        "template": {
         "data": {
          "bar": [
           {
            "error_x": {
             "color": "#2a3f5f"
            },
            "error_y": {
             "color": "#2a3f5f"
            },
            "marker": {
             "line": {
              "color": "white",
              "width": 0.5
             },
             "pattern": {
              "fillmode": "overlay",
              "size": 10,
              "solidity": 0.2
             }
            },
            "type": "bar"
           }
          ],
          "barpolar": [
           {
            "marker": {
             "line": {
              "color": "white",
              "width": 0.5
             },
             "pattern": {
              "fillmode": "overlay",
              "size": 10,
              "solidity": 0.2
             }
            },
            "type": "barpolar"
           }
          ],
          "carpet": [
           {
            "aaxis": {
             "endlinecolor": "#2a3f5f",
             "gridcolor": "#C8D4E3",
             "linecolor": "#C8D4E3",
             "minorgridcolor": "#C8D4E3",
             "startlinecolor": "#2a3f5f"
            },
            "baxis": {
             "endlinecolor": "#2a3f5f",
             "gridcolor": "#C8D4E3",
             "linecolor": "#C8D4E3",
             "minorgridcolor": "#C8D4E3",
             "startlinecolor": "#2a3f5f"
            },
            "type": "carpet"
           }
          ],
          "choropleth": [
           {
            "colorbar": {
             "outlinewidth": 0,
             "ticks": ""
            },
            "type": "choropleth"
           }
          ],
          "contour": [
           {
            "colorbar": {
             "outlinewidth": 0,
             "ticks": ""
            },
            "colorscale": [
             [
              0,
              "#0d0887"
             ],
             [
              0.1111111111111111,
              "#46039f"
             ],
             [
              0.2222222222222222,
              "#7201a8"
             ],
             [
              0.3333333333333333,
              "#9c179e"
             ],
             [
              0.4444444444444444,
              "#bd3786"
             ],
             [
              0.5555555555555556,
              "#d8576b"
             ],
             [
              0.6666666666666666,
              "#ed7953"
             ],
             [
              0.7777777777777778,
              "#fb9f3a"
             ],
             [
              0.8888888888888888,
              "#fdca26"
             ],
             [
              1,
              "#f0f921"
             ]
            ],
            "type": "contour"
           }
          ],
          "contourcarpet": [
           {
            "colorbar": {
             "outlinewidth": 0,
             "ticks": ""
            },
            "type": "contourcarpet"
           }
          ],
          "heatmap": [
           {
            "colorbar": {
             "outlinewidth": 0,
             "ticks": ""
            },
            "colorscale": [
             [
              0,
              "#0d0887"
             ],
             [
              0.1111111111111111,
              "#46039f"
             ],
             [
              0.2222222222222222,
              "#7201a8"
             ],
             [
              0.3333333333333333,
              "#9c179e"
             ],
             [
              0.4444444444444444,
              "#bd3786"
             ],
             [
              0.5555555555555556,
              "#d8576b"
             ],
             [
              0.6666666666666666,
              "#ed7953"
             ],
             [
              0.7777777777777778,
              "#fb9f3a"
             ],
             [
              0.8888888888888888,
              "#fdca26"
             ],
             [
              1,
              "#f0f921"
             ]
            ],
            "type": "heatmap"
           }
          ],
          "heatmapgl": [
           {
            "colorbar": {
             "outlinewidth": 0,
             "ticks": ""
            },
            "colorscale": [
             [
              0,
              "#0d0887"
             ],
             [
              0.1111111111111111,
              "#46039f"
             ],
             [
              0.2222222222222222,
              "#7201a8"
             ],
             [
              0.3333333333333333,
              "#9c179e"
             ],
             [
              0.4444444444444444,
              "#bd3786"
             ],
             [
              0.5555555555555556,
              "#d8576b"
             ],
             [
              0.6666666666666666,
              "#ed7953"
             ],
             [
              0.7777777777777778,
              "#fb9f3a"
             ],
             [
              0.8888888888888888,
              "#fdca26"
             ],
             [
              1,
              "#f0f921"
             ]
            ],
            "type": "heatmapgl"
           }
          ],
          "histogram": [
           {
            "marker": {
             "pattern": {
              "fillmode": "overlay",
              "size": 10,
              "solidity": 0.2
             }
            },
            "type": "histogram"
           }
          ],
          "histogram2d": [
           {
            "colorbar": {
             "outlinewidth": 0,
             "ticks": ""
            },
            "colorscale": [
             [
              0,
              "#0d0887"
             ],
             [
              0.1111111111111111,
              "#46039f"
             ],
             [
              0.2222222222222222,
              "#7201a8"
             ],
             [
              0.3333333333333333,
              "#9c179e"
             ],
             [
              0.4444444444444444,
              "#bd3786"
             ],
             [
              0.5555555555555556,
              "#d8576b"
             ],
             [
              0.6666666666666666,
              "#ed7953"
             ],
             [
              0.7777777777777778,
              "#fb9f3a"
             ],
             [
              0.8888888888888888,
              "#fdca26"
             ],
             [
              1,
              "#f0f921"
             ]
            ],
            "type": "histogram2d"
           }
          ],
          "histogram2dcontour": [
           {
            "colorbar": {
             "outlinewidth": 0,
             "ticks": ""
            },
            "colorscale": [
             [
              0,
              "#0d0887"
             ],
             [
              0.1111111111111111,
              "#46039f"
             ],
             [
              0.2222222222222222,
              "#7201a8"
             ],
             [
              0.3333333333333333,
              "#9c179e"
             ],
             [
              0.4444444444444444,
              "#bd3786"
             ],
             [
              0.5555555555555556,
              "#d8576b"
             ],
             [
              0.6666666666666666,
              "#ed7953"
             ],
             [
              0.7777777777777778,
              "#fb9f3a"
             ],
             [
              0.8888888888888888,
              "#fdca26"
             ],
             [
              1,
              "#f0f921"
             ]
            ],
            "type": "histogram2dcontour"
           }
          ],
          "mesh3d": [
           {
            "colorbar": {
             "outlinewidth": 0,
             "ticks": ""
            },
            "type": "mesh3d"
           }
          ],
          "parcoords": [
           {
            "line": {
             "colorbar": {
              "outlinewidth": 0,
              "ticks": ""
             }
            },
            "type": "parcoords"
           }
          ],
          "pie": [
           {
            "automargin": true,
            "type": "pie"
           }
          ],
          "scatter": [
           {
            "fillpattern": {
             "fillmode": "overlay",
             "size": 10,
             "solidity": 0.2
            },
            "type": "scatter"
           }
          ],
          "scatter3d": [
           {
            "line": {
             "colorbar": {
              "outlinewidth": 0,
              "ticks": ""
             }
            },
            "marker": {
             "colorbar": {
              "outlinewidth": 0,
              "ticks": ""
             }
            },
            "type": "scatter3d"
           }
          ],
          "scattercarpet": [
           {
            "marker": {
             "colorbar": {
              "outlinewidth": 0,
              "ticks": ""
             }
            },
            "type": "scattercarpet"
           }
          ],
          "scattergeo": [
           {
            "marker": {
             "colorbar": {
              "outlinewidth": 0,
              "ticks": ""
             }
            },
            "type": "scattergeo"
           }
          ],
          "scattergl": [
           {
            "marker": {
             "colorbar": {
              "outlinewidth": 0,
              "ticks": ""
             }
            },
            "type": "scattergl"
           }
          ],
          "scattermapbox": [
           {
            "marker": {
             "colorbar": {
              "outlinewidth": 0,
              "ticks": ""
             }
            },
            "type": "scattermapbox"
           }
          ],
          "scatterpolar": [
           {
            "marker": {
             "colorbar": {
              "outlinewidth": 0,
              "ticks": ""
             }
            },
            "type": "scatterpolar"
           }
          ],
          "scatterpolargl": [
           {
            "marker": {
             "colorbar": {
              "outlinewidth": 0,
              "ticks": ""
             }
            },
            "type": "scatterpolargl"
           }
          ],
          "scatterternary": [
           {
            "marker": {
             "colorbar": {
              "outlinewidth": 0,
              "ticks": ""
             }
            },
            "type": "scatterternary"
           }
          ],
          "surface": [
           {
            "colorbar": {
             "outlinewidth": 0,
             "ticks": ""
            },
            "colorscale": [
             [
              0,
              "#0d0887"
             ],
             [
              0.1111111111111111,
              "#46039f"
             ],
             [
              0.2222222222222222,
              "#7201a8"
             ],
             [
              0.3333333333333333,
              "#9c179e"
             ],
             [
              0.4444444444444444,
              "#bd3786"
             ],
             [
              0.5555555555555556,
              "#d8576b"
             ],
             [
              0.6666666666666666,
              "#ed7953"
             ],
             [
              0.7777777777777778,
              "#fb9f3a"
             ],
             [
              0.8888888888888888,
              "#fdca26"
             ],
             [
              1,
              "#f0f921"
             ]
            ],
            "type": "surface"
           }
          ],
          "table": [
           {
            "cells": {
             "fill": {
              "color": "#EBF0F8"
             },
             "line": {
              "color": "white"
             }
            },
            "header": {
             "fill": {
              "color": "#C8D4E3"
             },
             "line": {
              "color": "white"
             }
            },
            "type": "table"
           }
          ]
         },
         "layout": {
          "annotationdefaults": {
           "arrowcolor": "#2a3f5f",
           "arrowhead": 0,
           "arrowwidth": 1
          },
          "autotypenumbers": "strict",
          "coloraxis": {
           "colorbar": {
            "outlinewidth": 0,
            "ticks": ""
           }
          },
          "colorscale": {
           "diverging": [
            [
             0,
             "#8e0152"
            ],
            [
             0.1,
             "#c51b7d"
            ],
            [
             0.2,
             "#de77ae"
            ],
            [
             0.3,
             "#f1b6da"
            ],
            [
             0.4,
             "#fde0ef"
            ],
            [
             0.5,
             "#f7f7f7"
            ],
            [
             0.6,
             "#e6f5d0"
            ],
            [
             0.7,
             "#b8e186"
            ],
            [
             0.8,
             "#7fbc41"
            ],
            [
             0.9,
             "#4d9221"
            ],
            [
             1,
             "#276419"
            ]
           ],
           "sequential": [
            [
             0,
             "#0d0887"
            ],
            [
             0.1111111111111111,
             "#46039f"
            ],
            [
             0.2222222222222222,
             "#7201a8"
            ],
            [
             0.3333333333333333,
             "#9c179e"
            ],
            [
             0.4444444444444444,
             "#bd3786"
            ],
            [
             0.5555555555555556,
             "#d8576b"
            ],
            [
             0.6666666666666666,
             "#ed7953"
            ],
            [
             0.7777777777777778,
             "#fb9f3a"
            ],
            [
             0.8888888888888888,
             "#fdca26"
            ],
            [
             1,
             "#f0f921"
            ]
           ],
           "sequentialminus": [
            [
             0,
             "#0d0887"
            ],
            [
             0.1111111111111111,
             "#46039f"
            ],
            [
             0.2222222222222222,
             "#7201a8"
            ],
            [
             0.3333333333333333,
             "#9c179e"
            ],
            [
             0.4444444444444444,
             "#bd3786"
            ],
            [
             0.5555555555555556,
             "#d8576b"
            ],
            [
             0.6666666666666666,
             "#ed7953"
            ],
            [
             0.7777777777777778,
             "#fb9f3a"
            ],
            [
             0.8888888888888888,
             "#fdca26"
            ],
            [
             1,
             "#f0f921"
            ]
           ]
          },
          "colorway": [
           "#636efa",
           "#EF553B",
           "#00cc96",
           "#ab63fa",
           "#FFA15A",
           "#19d3f3",
           "#FF6692",
           "#B6E880",
           "#FF97FF",
           "#FECB52"
          ],
          "font": {
           "color": "#2a3f5f"
          },
          "geo": {
           "bgcolor": "white",
           "lakecolor": "white",
           "landcolor": "white",
           "showlakes": true,
           "showland": true,
           "subunitcolor": "#C8D4E3"
          },
          "hoverlabel": {
           "align": "left"
          },
          "hovermode": "closest",
          "mapbox": {
           "style": "light"
          },
          "paper_bgcolor": "white",
          "plot_bgcolor": "white",
          "polar": {
           "angularaxis": {
            "gridcolor": "#EBF0F8",
            "linecolor": "#EBF0F8",
            "ticks": ""
           },
           "bgcolor": "white",
           "radialaxis": {
            "gridcolor": "#EBF0F8",
            "linecolor": "#EBF0F8",
            "ticks": ""
           }
          },
          "scene": {
           "xaxis": {
            "backgroundcolor": "white",
            "gridcolor": "#DFE8F3",
            "gridwidth": 2,
            "linecolor": "#EBF0F8",
            "showbackground": true,
            "ticks": "",
            "zerolinecolor": "#EBF0F8"
           },
           "yaxis": {
            "backgroundcolor": "white",
            "gridcolor": "#DFE8F3",
            "gridwidth": 2,
            "linecolor": "#EBF0F8",
            "showbackground": true,
            "ticks": "",
            "zerolinecolor": "#EBF0F8"
           },
           "zaxis": {
            "backgroundcolor": "white",
            "gridcolor": "#DFE8F3",
            "gridwidth": 2,
            "linecolor": "#EBF0F8",
            "showbackground": true,
            "ticks": "",
            "zerolinecolor": "#EBF0F8"
           }
          },
          "shapedefaults": {
           "line": {
            "color": "#2a3f5f"
           }
          },
          "ternary": {
           "aaxis": {
            "gridcolor": "#DFE8F3",
            "linecolor": "#A2B1C6",
            "ticks": ""
           },
           "baxis": {
            "gridcolor": "#DFE8F3",
            "linecolor": "#A2B1C6",
            "ticks": ""
           },
           "bgcolor": "white",
           "caxis": {
            "gridcolor": "#DFE8F3",
            "linecolor": "#A2B1C6",
            "ticks": ""
           }
          },
          "title": {
           "x": 0.05
          },
          "xaxis": {
           "automargin": true,
           "gridcolor": "#EBF0F8",
           "linecolor": "#EBF0F8",
           "ticks": "",
           "title": {
            "standoff": 15
           },
           "zerolinecolor": "#EBF0F8",
           "zerolinewidth": 2
          },
          "yaxis": {
           "automargin": true,
           "gridcolor": "#EBF0F8",
           "linecolor": "#EBF0F8",
           "ticks": "",
           "title": {
            "standoff": 15
           },
           "zerolinecolor": "#EBF0F8",
           "zerolinewidth": 2
          }
         }
        },
        "title": {
         "text": "Differenza media tra prezzi"
        },
        "xaxis": {
         "anchor": "y",
         "domain": [
          0,
          1
         ],
         "title": {
          "text": "Categoria"
         }
        },
        "yaxis": {
         "anchor": "x",
         "domain": [
          0,
          1
         ],
         "title": {
          "text": "Differenza media"
         }
        }
       }
      }
     },
     "metadata": {},
     "output_type": "display_data"
    }
   ],
   "source": [
    "fig = px.bar(df_mean_deltas, x=df_mean_deltas.index, y=\"Delta_avg\", template=\"plotly_white\", \n",
    "             title=\"Differenza media tra prezzi\",\n",
    "             labels={\"Delta_avg\":\"Differenza media\", \"Categoria\":\"Categoria\"}, color=\"Delta_avg\", \n",
    "             color_continuous_scale=px.colors.sequential.Viridis, text=\"Delta_avg\")\n",
    "fig.write_html(\"vista_listino/delta_media_prezzi.html\")\n",
    "fig.show()"
   ]
  },
  {
   "cell_type": "code",
   "execution_count": 218,
   "metadata": {},
   "outputs": [
    {
     "data": {
      "text/plain": [
       "[51.85,\n",
       " 54.1,\n",
       " 44.66,\n",
       " 76.63,\n",
       " 79.36,\n",
       " 78.13,\n",
       " 67.1,\n",
       " 67.18308726681776,\n",
       " 67.25360224962313,\n",
       " 67.28172299831708,\n",
       " 67.36344580290015,\n",
       " 67.46762335557231,\n",
       " 67.78253360223358]"
      ]
     },
     "execution_count": 218,
     "metadata": {},
     "output_type": "execute_result"
    }
   ],
   "source": [
    "storico_vendita = df_listino[df_listino[\"Codice_articolo\"]==\"017.PM419\"][\"Vendita\"][0].copy()\n",
    "storico_vendita"
   ]
  },
  {
   "cell_type": "code",
   "execution_count": 219,
   "metadata": {},
   "outputs": [
    {
     "data": {
      "text/plain": [
       "[5.33,\n",
       " 7.58,\n",
       " -1.86,\n",
       " 30.11,\n",
       " 32.84,\n",
       " 31.61,\n",
       " 20.58,\n",
       " 20.66,\n",
       " 20.73,\n",
       " 20.76,\n",
       " 20.84,\n",
       " 20.95,\n",
       " 21.26]"
      ]
     },
     "execution_count": 219,
     "metadata": {},
     "output_type": "execute_result"
    }
   ],
   "source": [
    "for i in range(len(storico_vendita)):\n",
    "    storico_vendita[i] = round(storico_vendita[i] - df_listino[df_listino[\"Codice_articolo\"]==\"017.PM419\"][\"Costo\"].values[0], 2)\n",
    "storico_vendita"
   ]
  },
  {
   "cell_type": "code",
   "execution_count": 220,
   "metadata": {},
   "outputs": [
    {
     "data": {
      "application/vnd.plotly.v1+json": {
       "config": {
        "plotlyServerURL": "https://plot.ly"
       },
       "data": [
        {
         "alignmentgroup": "True",
         "hovertemplate": "vendita=%{x}<br>Discostamento=%{y}<br>text=%{text}<br>color=%{marker.color}<extra></extra>",
         "legendgroup": "",
         "marker": {
          "color": [
           5.33,
           7.58,
           -1.86,
           30.11,
           32.84,
           31.61,
           20.58,
           20.66,
           20.73,
           20.76,
           20.84,
           20.95,
           21.26
          ],
          "coloraxis": "coloraxis",
          "pattern": {
           "shape": ""
          }
         },
         "name": "",
         "offsetgroup": "",
         "orientation": "v",
         "showlegend": false,
         "text": [
          5.33,
          7.58,
          -1.86,
          30.11,
          32.84,
          31.61,
          20.58,
          20.66,
          20.73,
          20.76,
          20.84,
          20.95,
          21.26
         ],
         "textposition": "outside",
         "type": "bar",
         "x": [
          1,
          2,
          3,
          4,
          5,
          6,
          7,
          8,
          9,
          10,
          11,
          12,
          13
         ],
         "xaxis": "x",
         "y": [
          5.33,
          7.58,
          -1.86,
          30.11,
          32.84,
          31.61,
          20.58,
          20.66,
          20.73,
          20.76,
          20.84,
          20.95,
          21.26
         ],
         "yaxis": "y"
        }
       ],
       "layout": {
        "barmode": "relative",
        "coloraxis": {
         "colorbar": {
          "title": {
           "text": "color"
          }
         },
         "colorscale": [
          [
           0,
           "rgb(103,0,31)"
          ],
          [
           0.1,
           "rgb(178,24,43)"
          ],
          [
           0.2,
           "rgb(214,96,77)"
          ],
          [
           0.3,
           "rgb(244,165,130)"
          ],
          [
           0.4,
           "rgb(253,219,199)"
          ],
          [
           0.5,
           "rgb(247,247,247)"
          ],
          [
           0.6,
           "rgb(209,229,240)"
          ],
          [
           0.7,
           "rgb(146,197,222)"
          ],
          [
           0.8,
           "rgb(67,147,195)"
          ],
          [
           0.9,
           "rgb(33,102,172)"
          ],
          [
           1,
           "rgb(5,48,97)"
          ]
         ]
        },
        "legend": {
         "tracegroupgap": 0
        },
        "template": {
         "data": {
          "bar": [
           {
            "error_x": {
             "color": "#2a3f5f"
            },
            "error_y": {
             "color": "#2a3f5f"
            },
            "marker": {
             "line": {
              "color": "white",
              "width": 0.5
             },
             "pattern": {
              "fillmode": "overlay",
              "size": 10,
              "solidity": 0.2
             }
            },
            "type": "bar"
           }
          ],
          "barpolar": [
           {
            "marker": {
             "line": {
              "color": "white",
              "width": 0.5
             },
             "pattern": {
              "fillmode": "overlay",
              "size": 10,
              "solidity": 0.2
             }
            },
            "type": "barpolar"
           }
          ],
          "carpet": [
           {
            "aaxis": {
             "endlinecolor": "#2a3f5f",
             "gridcolor": "#C8D4E3",
             "linecolor": "#C8D4E3",
             "minorgridcolor": "#C8D4E3",
             "startlinecolor": "#2a3f5f"
            },
            "baxis": {
             "endlinecolor": "#2a3f5f",
             "gridcolor": "#C8D4E3",
             "linecolor": "#C8D4E3",
             "minorgridcolor": "#C8D4E3",
             "startlinecolor": "#2a3f5f"
            },
            "type": "carpet"
           }
          ],
          "choropleth": [
           {
            "colorbar": {
             "outlinewidth": 0,
             "ticks": ""
            },
            "type": "choropleth"
           }
          ],
          "contour": [
           {
            "colorbar": {
             "outlinewidth": 0,
             "ticks": ""
            },
            "colorscale": [
             [
              0,
              "#0d0887"
             ],
             [
              0.1111111111111111,
              "#46039f"
             ],
             [
              0.2222222222222222,
              "#7201a8"
             ],
             [
              0.3333333333333333,
              "#9c179e"
             ],
             [
              0.4444444444444444,
              "#bd3786"
             ],
             [
              0.5555555555555556,
              "#d8576b"
             ],
             [
              0.6666666666666666,
              "#ed7953"
             ],
             [
              0.7777777777777778,
              "#fb9f3a"
             ],
             [
              0.8888888888888888,
              "#fdca26"
             ],
             [
              1,
              "#f0f921"
             ]
            ],
            "type": "contour"
           }
          ],
          "contourcarpet": [
           {
            "colorbar": {
             "outlinewidth": 0,
             "ticks": ""
            },
            "type": "contourcarpet"
           }
          ],
          "heatmap": [
           {
            "colorbar": {
             "outlinewidth": 0,
             "ticks": ""
            },
            "colorscale": [
             [
              0,
              "#0d0887"
             ],
             [
              0.1111111111111111,
              "#46039f"
             ],
             [
              0.2222222222222222,
              "#7201a8"
             ],
             [
              0.3333333333333333,
              "#9c179e"
             ],
             [
              0.4444444444444444,
              "#bd3786"
             ],
             [
              0.5555555555555556,
              "#d8576b"
             ],
             [
              0.6666666666666666,
              "#ed7953"
             ],
             [
              0.7777777777777778,
              "#fb9f3a"
             ],
             [
              0.8888888888888888,
              "#fdca26"
             ],
             [
              1,
              "#f0f921"
             ]
            ],
            "type": "heatmap"
           }
          ],
          "heatmapgl": [
           {
            "colorbar": {
             "outlinewidth": 0,
             "ticks": ""
            },
            "colorscale": [
             [
              0,
              "#0d0887"
             ],
             [
              0.1111111111111111,
              "#46039f"
             ],
             [
              0.2222222222222222,
              "#7201a8"
             ],
             [
              0.3333333333333333,
              "#9c179e"
             ],
             [
              0.4444444444444444,
              "#bd3786"
             ],
             [
              0.5555555555555556,
              "#d8576b"
             ],
             [
              0.6666666666666666,
              "#ed7953"
             ],
             [
              0.7777777777777778,
              "#fb9f3a"
             ],
             [
              0.8888888888888888,
              "#fdca26"
             ],
             [
              1,
              "#f0f921"
             ]
            ],
            "type": "heatmapgl"
           }
          ],
          "histogram": [
           {
            "marker": {
             "pattern": {
              "fillmode": "overlay",
              "size": 10,
              "solidity": 0.2
             }
            },
            "type": "histogram"
           }
          ],
          "histogram2d": [
           {
            "colorbar": {
             "outlinewidth": 0,
             "ticks": ""
            },
            "colorscale": [
             [
              0,
              "#0d0887"
             ],
             [
              0.1111111111111111,
              "#46039f"
             ],
             [
              0.2222222222222222,
              "#7201a8"
             ],
             [
              0.3333333333333333,
              "#9c179e"
             ],
             [
              0.4444444444444444,
              "#bd3786"
             ],
             [
              0.5555555555555556,
              "#d8576b"
             ],
             [
              0.6666666666666666,
              "#ed7953"
             ],
             [
              0.7777777777777778,
              "#fb9f3a"
             ],
             [
              0.8888888888888888,
              "#fdca26"
             ],
             [
              1,
              "#f0f921"
             ]
            ],
            "type": "histogram2d"
           }
          ],
          "histogram2dcontour": [
           {
            "colorbar": {
             "outlinewidth": 0,
             "ticks": ""
            },
            "colorscale": [
             [
              0,
              "#0d0887"
             ],
             [
              0.1111111111111111,
              "#46039f"
             ],
             [
              0.2222222222222222,
              "#7201a8"
             ],
             [
              0.3333333333333333,
              "#9c179e"
             ],
             [
              0.4444444444444444,
              "#bd3786"
             ],
             [
              0.5555555555555556,
              "#d8576b"
             ],
             [
              0.6666666666666666,
              "#ed7953"
             ],
             [
              0.7777777777777778,
              "#fb9f3a"
             ],
             [
              0.8888888888888888,
              "#fdca26"
             ],
             [
              1,
              "#f0f921"
             ]
            ],
            "type": "histogram2dcontour"
           }
          ],
          "mesh3d": [
           {
            "colorbar": {
             "outlinewidth": 0,
             "ticks": ""
            },
            "type": "mesh3d"
           }
          ],
          "parcoords": [
           {
            "line": {
             "colorbar": {
              "outlinewidth": 0,
              "ticks": ""
             }
            },
            "type": "parcoords"
           }
          ],
          "pie": [
           {
            "automargin": true,
            "type": "pie"
           }
          ],
          "scatter": [
           {
            "fillpattern": {
             "fillmode": "overlay",
             "size": 10,
             "solidity": 0.2
            },
            "type": "scatter"
           }
          ],
          "scatter3d": [
           {
            "line": {
             "colorbar": {
              "outlinewidth": 0,
              "ticks": ""
             }
            },
            "marker": {
             "colorbar": {
              "outlinewidth": 0,
              "ticks": ""
             }
            },
            "type": "scatter3d"
           }
          ],
          "scattercarpet": [
           {
            "marker": {
             "colorbar": {
              "outlinewidth": 0,
              "ticks": ""
             }
            },
            "type": "scattercarpet"
           }
          ],
          "scattergeo": [
           {
            "marker": {
             "colorbar": {
              "outlinewidth": 0,
              "ticks": ""
             }
            },
            "type": "scattergeo"
           }
          ],
          "scattergl": [
           {
            "marker": {
             "colorbar": {
              "outlinewidth": 0,
              "ticks": ""
             }
            },
            "type": "scattergl"
           }
          ],
          "scattermapbox": [
           {
            "marker": {
             "colorbar": {
              "outlinewidth": 0,
              "ticks": ""
             }
            },
            "type": "scattermapbox"
           }
          ],
          "scatterpolar": [
           {
            "marker": {
             "colorbar": {
              "outlinewidth": 0,
              "ticks": ""
             }
            },
            "type": "scatterpolar"
           }
          ],
          "scatterpolargl": [
           {
            "marker": {
             "colorbar": {
              "outlinewidth": 0,
              "ticks": ""
             }
            },
            "type": "scatterpolargl"
           }
          ],
          "scatterternary": [
           {
            "marker": {
             "colorbar": {
              "outlinewidth": 0,
              "ticks": ""
             }
            },
            "type": "scatterternary"
           }
          ],
          "surface": [
           {
            "colorbar": {
             "outlinewidth": 0,
             "ticks": ""
            },
            "colorscale": [
             [
              0,
              "#0d0887"
             ],
             [
              0.1111111111111111,
              "#46039f"
             ],
             [
              0.2222222222222222,
              "#7201a8"
             ],
             [
              0.3333333333333333,
              "#9c179e"
             ],
             [
              0.4444444444444444,
              "#bd3786"
             ],
             [
              0.5555555555555556,
              "#d8576b"
             ],
             [
              0.6666666666666666,
              "#ed7953"
             ],
             [
              0.7777777777777778,
              "#fb9f3a"
             ],
             [
              0.8888888888888888,
              "#fdca26"
             ],
             [
              1,
              "#f0f921"
             ]
            ],
            "type": "surface"
           }
          ],
          "table": [
           {
            "cells": {
             "fill": {
              "color": "#EBF0F8"
             },
             "line": {
              "color": "white"
             }
            },
            "header": {
             "fill": {
              "color": "#C8D4E3"
             },
             "line": {
              "color": "white"
             }
            },
            "type": "table"
           }
          ]
         },
         "layout": {
          "annotationdefaults": {
           "arrowcolor": "#2a3f5f",
           "arrowhead": 0,
           "arrowwidth": 1
          },
          "autotypenumbers": "strict",
          "coloraxis": {
           "colorbar": {
            "outlinewidth": 0,
            "ticks": ""
           }
          },
          "colorscale": {
           "diverging": [
            [
             0,
             "#8e0152"
            ],
            [
             0.1,
             "#c51b7d"
            ],
            [
             0.2,
             "#de77ae"
            ],
            [
             0.3,
             "#f1b6da"
            ],
            [
             0.4,
             "#fde0ef"
            ],
            [
             0.5,
             "#f7f7f7"
            ],
            [
             0.6,
             "#e6f5d0"
            ],
            [
             0.7,
             "#b8e186"
            ],
            [
             0.8,
             "#7fbc41"
            ],
            [
             0.9,
             "#4d9221"
            ],
            [
             1,
             "#276419"
            ]
           ],
           "sequential": [
            [
             0,
             "#0d0887"
            ],
            [
             0.1111111111111111,
             "#46039f"
            ],
            [
             0.2222222222222222,
             "#7201a8"
            ],
            [
             0.3333333333333333,
             "#9c179e"
            ],
            [
             0.4444444444444444,
             "#bd3786"
            ],
            [
             0.5555555555555556,
             "#d8576b"
            ],
            [
             0.6666666666666666,
             "#ed7953"
            ],
            [
             0.7777777777777778,
             "#fb9f3a"
            ],
            [
             0.8888888888888888,
             "#fdca26"
            ],
            [
             1,
             "#f0f921"
            ]
           ],
           "sequentialminus": [
            [
             0,
             "#0d0887"
            ],
            [
             0.1111111111111111,
             "#46039f"
            ],
            [
             0.2222222222222222,
             "#7201a8"
            ],
            [
             0.3333333333333333,
             "#9c179e"
            ],
            [
             0.4444444444444444,
             "#bd3786"
            ],
            [
             0.5555555555555556,
             "#d8576b"
            ],
            [
             0.6666666666666666,
             "#ed7953"
            ],
            [
             0.7777777777777778,
             "#fb9f3a"
            ],
            [
             0.8888888888888888,
             "#fdca26"
            ],
            [
             1,
             "#f0f921"
            ]
           ]
          },
          "colorway": [
           "#636efa",
           "#EF553B",
           "#00cc96",
           "#ab63fa",
           "#FFA15A",
           "#19d3f3",
           "#FF6692",
           "#B6E880",
           "#FF97FF",
           "#FECB52"
          ],
          "font": {
           "color": "#2a3f5f"
          },
          "geo": {
           "bgcolor": "white",
           "lakecolor": "white",
           "landcolor": "white",
           "showlakes": true,
           "showland": true,
           "subunitcolor": "#C8D4E3"
          },
          "hoverlabel": {
           "align": "left"
          },
          "hovermode": "closest",
          "mapbox": {
           "style": "light"
          },
          "paper_bgcolor": "white",
          "plot_bgcolor": "white",
          "polar": {
           "angularaxis": {
            "gridcolor": "#EBF0F8",
            "linecolor": "#EBF0F8",
            "ticks": ""
           },
           "bgcolor": "white",
           "radialaxis": {
            "gridcolor": "#EBF0F8",
            "linecolor": "#EBF0F8",
            "ticks": ""
           }
          },
          "scene": {
           "xaxis": {
            "backgroundcolor": "white",
            "gridcolor": "#DFE8F3",
            "gridwidth": 2,
            "linecolor": "#EBF0F8",
            "showbackground": true,
            "ticks": "",
            "zerolinecolor": "#EBF0F8"
           },
           "yaxis": {
            "backgroundcolor": "white",
            "gridcolor": "#DFE8F3",
            "gridwidth": 2,
            "linecolor": "#EBF0F8",
            "showbackground": true,
            "ticks": "",
            "zerolinecolor": "#EBF0F8"
           },
           "zaxis": {
            "backgroundcolor": "white",
            "gridcolor": "#DFE8F3",
            "gridwidth": 2,
            "linecolor": "#EBF0F8",
            "showbackground": true,
            "ticks": "",
            "zerolinecolor": "#EBF0F8"
           }
          },
          "shapedefaults": {
           "line": {
            "color": "#2a3f5f"
           }
          },
          "ternary": {
           "aaxis": {
            "gridcolor": "#DFE8F3",
            "linecolor": "#A2B1C6",
            "ticks": ""
           },
           "baxis": {
            "gridcolor": "#DFE8F3",
            "linecolor": "#A2B1C6",
            "ticks": ""
           },
           "bgcolor": "white",
           "caxis": {
            "gridcolor": "#DFE8F3",
            "linecolor": "#A2B1C6",
            "ticks": ""
           }
          },
          "title": {
           "x": 0.05
          },
          "xaxis": {
           "automargin": true,
           "gridcolor": "#EBF0F8",
           "linecolor": "#EBF0F8",
           "ticks": "",
           "title": {
            "standoff": 15
           },
           "zerolinecolor": "#EBF0F8",
           "zerolinewidth": 2
          },
          "yaxis": {
           "automargin": true,
           "gridcolor": "#EBF0F8",
           "linecolor": "#EBF0F8",
           "ticks": "",
           "title": {
            "standoff": 15
           },
           "zerolinecolor": "#EBF0F8",
           "zerolinewidth": 2
          }
         }
        },
        "title": {
         "text": "Storico discostamento articolo 017.PM419"
        },
        "xaxis": {
         "anchor": "y",
         "domain": [
          0,
          1
         ],
         "title": {
          "text": "vendita"
         }
        },
        "yaxis": {
         "anchor": "x",
         "domain": [
          0,
          1
         ],
         "title": {
          "text": "Discostamento"
         }
        }
       }
      }
     },
     "metadata": {},
     "output_type": "display_data"
    }
   ],
   "source": [
    "fig = px.bar(x=list(range(1, len(storico_vendita)+1)), y=storico_vendita, title=\"Storico discostamento articolo 017.PM419\", \n",
    "             template=\"plotly_white\", text=storico_vendita, labels={\"x\":\"vendita\", \"y\":\"Discostamento\"},\n",
    "             color=storico_vendita, color_continuous_scale=px.colors.sequential.RdBu)\n",
    "fig.update_traces(textposition='outside')\n",
    "fig.write_html(\"vista_listino/storico_vendita_esempio.html\")\n",
    "fig.show()"
   ]
  },
  {
   "cell_type": "code",
   "execution_count": 221,
   "metadata": {},
   "outputs": [
    {
     "data": {
      "text/html": [
       "<div>\n",
       "<style scoped>\n",
       "    .dataframe tbody tr th:only-of-type {\n",
       "        vertical-align: middle;\n",
       "    }\n",
       "\n",
       "    .dataframe tbody tr th {\n",
       "        vertical-align: top;\n",
       "    }\n",
       "\n",
       "    .dataframe thead th {\n",
       "        text-align: right;\n",
       "    }\n",
       "</style>\n",
       "<table border=\"1\" class=\"dataframe\">\n",
       "  <thead>\n",
       "    <tr style=\"text-align: right;\">\n",
       "      <th></th>\n",
       "      <th>Codice_articolo</th>\n",
       "      <th>Codice_variante</th>\n",
       "      <th>Descrizione</th>\n",
       "      <th>Costo</th>\n",
       "      <th>Data_riferimento</th>\n",
       "      <th>Categoria</th>\n",
       "      <th>Storico</th>\n",
       "      <th>Vendita</th>\n",
       "      <th>Prezzo_1</th>\n",
       "      <th>Prezzo_2</th>\n",
       "      <th>...</th>\n",
       "      <th>Prezzo_5</th>\n",
       "      <th>Prezzo_6</th>\n",
       "      <th>Prezzo_7</th>\n",
       "      <th>Prezzo_8</th>\n",
       "      <th>Prezzo_9</th>\n",
       "      <th>Prezzo_10</th>\n",
       "      <th>Prezzo_11</th>\n",
       "      <th>Prezzo_12</th>\n",
       "      <th>Prezzo_13</th>\n",
       "      <th>media_discostamento</th>\n",
       "    </tr>\n",
       "  </thead>\n",
       "  <tbody>\n",
       "    <tr>\n",
       "      <th>0</th>\n",
       "      <td>017.PM419</td>\n",
       "      <td>1</td>\n",
       "      <td></td>\n",
       "      <td>46.52</td>\n",
       "      <td>2023-01-12</td>\n",
       "      <td>Veneziane</td>\n",
       "      <td>[41.56, 41.6, 42.21, 42.96, 43.3, 43.43, 44.02...</td>\n",
       "      <td>[51.85, 54.1, 44.66, 76.63, 79.36, 78.13, 67.1...</td>\n",
       "      <td>41.56</td>\n",
       "      <td>41.60</td>\n",
       "      <td>...</td>\n",
       "      <td>43.30</td>\n",
       "      <td>43.43</td>\n",
       "      <td>44.02</td>\n",
       "      <td>44.27</td>\n",
       "      <td>44.93</td>\n",
       "      <td>45.54</td>\n",
       "      <td>45.81</td>\n",
       "      <td>46.07</td>\n",
       "      <td>46.52</td>\n",
       "      <td>19.34</td>\n",
       "    </tr>\n",
       "    <tr>\n",
       "      <th>1</th>\n",
       "      <td>017.PM421</td>\n",
       "      <td>1</td>\n",
       "      <td></td>\n",
       "      <td>48.75</td>\n",
       "      <td>2023-01-12</td>\n",
       "      <td>Veneziane</td>\n",
       "      <td>[42.15, 42.49, 42.62, 43.33, 43.84, 44.45, 45....</td>\n",
       "      <td>[56.39]</td>\n",
       "      <td>42.15</td>\n",
       "      <td>42.49</td>\n",
       "      <td>...</td>\n",
       "      <td>43.84</td>\n",
       "      <td>44.45</td>\n",
       "      <td>45.17</td>\n",
       "      <td>46.06</td>\n",
       "      <td>46.61</td>\n",
       "      <td>47.54</td>\n",
       "      <td>48.06</td>\n",
       "      <td>48.37</td>\n",
       "      <td>48.75</td>\n",
       "      <td>7.64</td>\n",
       "    </tr>\n",
       "    <tr>\n",
       "      <th>2</th>\n",
       "      <td>017.PM422</td>\n",
       "      <td>3</td>\n",
       "      <td></td>\n",
       "      <td>46.52</td>\n",
       "      <td>2023-01-12</td>\n",
       "      <td>Veneziane</td>\n",
       "      <td>[42.55, 42.7, 43.19, 43.32, 43.77, 44.52, 44.6...</td>\n",
       "      <td>[55.81, 84.51, 61.67, 52.68, 44.01, 68.35, 43....</td>\n",
       "      <td>42.55</td>\n",
       "      <td>42.70</td>\n",
       "      <td>...</td>\n",
       "      <td>43.77</td>\n",
       "      <td>44.52</td>\n",
       "      <td>44.60</td>\n",
       "      <td>44.80</td>\n",
       "      <td>44.95</td>\n",
       "      <td>45.53</td>\n",
       "      <td>45.70</td>\n",
       "      <td>45.90</td>\n",
       "      <td>46.52</td>\n",
       "      <td>13.39</td>\n",
       "    </tr>\n",
       "    <tr>\n",
       "      <th>3</th>\n",
       "      <td>017.PM424</td>\n",
       "      <td>2</td>\n",
       "      <td></td>\n",
       "      <td>51.80</td>\n",
       "      <td>2023-01-12</td>\n",
       "      <td>Veneziane</td>\n",
       "      <td>[45.93, 46.39, 46.41, 46.57, 46.79, 47.56, 48....</td>\n",
       "      <td>[80.47, 80.16, 50.62, 77.63, 93.69, 93.57, 82....</td>\n",
       "      <td>45.93</td>\n",
       "      <td>46.39</td>\n",
       "      <td>...</td>\n",
       "      <td>46.79</td>\n",
       "      <td>47.56</td>\n",
       "      <td>48.50</td>\n",
       "      <td>48.54</td>\n",
       "      <td>48.79</td>\n",
       "      <td>49.29</td>\n",
       "      <td>50.01</td>\n",
       "      <td>50.99</td>\n",
       "      <td>51.80</td>\n",
       "      <td>28.83</td>\n",
       "    </tr>\n",
       "    <tr>\n",
       "      <th>4</th>\n",
       "      <td>017.PM425</td>\n",
       "      <td>1</td>\n",
       "      <td></td>\n",
       "      <td>46.52</td>\n",
       "      <td>2023-01-12</td>\n",
       "      <td>Veneziane</td>\n",
       "      <td>[40.35, 40.86, 41.05, 41.79, 42.44, 43.25, 43....</td>\n",
       "      <td>[51.9, 47.7]</td>\n",
       "      <td>40.35</td>\n",
       "      <td>40.86</td>\n",
       "      <td>...</td>\n",
       "      <td>42.44</td>\n",
       "      <td>43.25</td>\n",
       "      <td>43.73</td>\n",
       "      <td>44.43</td>\n",
       "      <td>44.99</td>\n",
       "      <td>45.62</td>\n",
       "      <td>45.82</td>\n",
       "      <td>45.95</td>\n",
       "      <td>46.52</td>\n",
       "      <td>3.28</td>\n",
       "    </tr>\n",
       "  </tbody>\n",
       "</table>\n",
       "<p>5 rows × 22 columns</p>\n",
       "</div>"
      ],
      "text/plain": [
       "  Codice_articolo  Codice_variante Descrizione  Costo Data_riferimento  \\\n",
       "0       017.PM419                1              46.52       2023-01-12   \n",
       "1       017.PM421                1              48.75       2023-01-12   \n",
       "2       017.PM422                3              46.52       2023-01-12   \n",
       "3       017.PM424                2              51.80       2023-01-12   \n",
       "4       017.PM425                1              46.52       2023-01-12   \n",
       "\n",
       "   Categoria                                            Storico  \\\n",
       "0  Veneziane  [41.56, 41.6, 42.21, 42.96, 43.3, 43.43, 44.02...   \n",
       "1  Veneziane  [42.15, 42.49, 42.62, 43.33, 43.84, 44.45, 45....   \n",
       "2  Veneziane  [42.55, 42.7, 43.19, 43.32, 43.77, 44.52, 44.6...   \n",
       "3  Veneziane  [45.93, 46.39, 46.41, 46.57, 46.79, 47.56, 48....   \n",
       "4  Veneziane  [40.35, 40.86, 41.05, 41.79, 42.44, 43.25, 43....   \n",
       "\n",
       "                                             Vendita  Prezzo_1  Prezzo_2  ...  \\\n",
       "0  [51.85, 54.1, 44.66, 76.63, 79.36, 78.13, 67.1...     41.56     41.60  ...   \n",
       "1                                            [56.39]     42.15     42.49  ...   \n",
       "2  [55.81, 84.51, 61.67, 52.68, 44.01, 68.35, 43....     42.55     42.70  ...   \n",
       "3  [80.47, 80.16, 50.62, 77.63, 93.69, 93.57, 82....     45.93     46.39  ...   \n",
       "4                                       [51.9, 47.7]     40.35     40.86  ...   \n",
       "\n",
       "   Prezzo_5  Prezzo_6  Prezzo_7  Prezzo_8  Prezzo_9  Prezzo_10  Prezzo_11  \\\n",
       "0     43.30     43.43     44.02     44.27     44.93      45.54      45.81   \n",
       "1     43.84     44.45     45.17     46.06     46.61      47.54      48.06   \n",
       "2     43.77     44.52     44.60     44.80     44.95      45.53      45.70   \n",
       "3     46.79     47.56     48.50     48.54     48.79      49.29      50.01   \n",
       "4     42.44     43.25     43.73     44.43     44.99      45.62      45.82   \n",
       "\n",
       "   Prezzo_12  Prezzo_13  media_discostamento  \n",
       "0      46.07      46.52                19.34  \n",
       "1      48.37      48.75                 7.64  \n",
       "2      45.90      46.52                13.39  \n",
       "3      50.99      51.80                28.83  \n",
       "4      45.95      46.52                 3.28  \n",
       "\n",
       "[5 rows x 22 columns]"
      ]
     },
     "execution_count": 221,
     "metadata": {},
     "output_type": "execute_result"
    }
   ],
   "source": [
    "df_listino[\"media_discostamento\"] = df_listino[\"Vendita\"].apply(lambda x: np.mean(x))\n",
    "df_listino[\"media_discostamento\"] = df_listino[\"media_discostamento\"] - df_listino[\"Costo\"]\n",
    "df_listino[\"media_discostamento\"] = df_listino[\"media_discostamento\"].apply(lambda x: round(x, 2))\n",
    "df_listino.head()"
   ]
  },
  {
   "cell_type": "code",
   "execution_count": 224,
   "metadata": {},
   "outputs": [
    {
     "data": {
      "text/html": [
       "<div>\n",
       "<style scoped>\n",
       "    .dataframe tbody tr th:only-of-type {\n",
       "        vertical-align: middle;\n",
       "    }\n",
       "\n",
       "    .dataframe tbody tr th {\n",
       "        vertical-align: top;\n",
       "    }\n",
       "\n",
       "    .dataframe thead th {\n",
       "        text-align: right;\n",
       "    }\n",
       "</style>\n",
       "<table border=\"1\" class=\"dataframe\">\n",
       "  <thead>\n",
       "    <tr style=\"text-align: right;\">\n",
       "      <th></th>\n",
       "      <th>Codice_articolo</th>\n",
       "      <th>Categoria</th>\n",
       "      <th>media_discostamento</th>\n",
       "    </tr>\n",
       "  </thead>\n",
       "  <tbody>\n",
       "    <tr>\n",
       "      <th>1354</th>\n",
       "      <td>017.PM051</td>\n",
       "      <td>Truciolare</td>\n",
       "      <td>-56.92</td>\n",
       "    </tr>\n",
       "    <tr>\n",
       "      <th>604</th>\n",
       "      <td>017.PM107.011</td>\n",
       "      <td>Ante vetro</td>\n",
       "      <td>-13.61</td>\n",
       "    </tr>\n",
       "    <tr>\n",
       "      <th>1410</th>\n",
       "      <td>017.PM055.H</td>\n",
       "      <td>Truciolare</td>\n",
       "      <td>-2.15</td>\n",
       "    </tr>\n",
       "    <tr>\n",
       "      <th>505</th>\n",
       "      <td>090.VST33</td>\n",
       "      <td>Vetri</td>\n",
       "      <td>-1.78</td>\n",
       "    </tr>\n",
       "    <tr>\n",
       "      <th>334</th>\n",
       "      <td>017.PM152</td>\n",
       "      <td>Vetri</td>\n",
       "      <td>-1.31</td>\n",
       "    </tr>\n",
       "    <tr>\n",
       "      <th>11</th>\n",
       "      <td>017.PM414</td>\n",
       "      <td>Veneziane</td>\n",
       "      <td>-0.97</td>\n",
       "    </tr>\n",
       "    <tr>\n",
       "      <th>521</th>\n",
       "      <td>090.VST33</td>\n",
       "      <td>Vetri</td>\n",
       "      <td>-0.70</td>\n",
       "    </tr>\n",
       "    <tr>\n",
       "      <th>218</th>\n",
       "      <td>017.PM152</td>\n",
       "      <td>Vetri</td>\n",
       "      <td>-0.59</td>\n",
       "    </tr>\n",
       "    <tr>\n",
       "      <th>1329</th>\n",
       "      <td>052.MP.LA.AL.10</td>\n",
       "      <td>MP Alluminio</td>\n",
       "      <td>-0.28</td>\n",
       "    </tr>\n",
       "    <tr>\n",
       "      <th>1185</th>\n",
       "      <td>052.MP.LA.PR.08</td>\n",
       "      <td>Accessori</td>\n",
       "      <td>-0.20</td>\n",
       "    </tr>\n",
       "    <tr>\n",
       "      <th>1078</th>\n",
       "      <td>017.PM601</td>\n",
       "      <td>Accessori</td>\n",
       "      <td>-0.16</td>\n",
       "    </tr>\n",
       "    <tr>\n",
       "      <th>405</th>\n",
       "      <td>090.VSO33</td>\n",
       "      <td>Vetri</td>\n",
       "      <td>-0.12</td>\n",
       "    </tr>\n",
       "    <tr>\n",
       "      <th>870</th>\n",
       "      <td>017.PM006</td>\n",
       "      <td>MP Acciaio</td>\n",
       "      <td>-0.08</td>\n",
       "    </tr>\n",
       "    <tr>\n",
       "      <th>1425</th>\n",
       "      <td>017.PM056</td>\n",
       "      <td>Truciolare</td>\n",
       "      <td>-0.01</td>\n",
       "    </tr>\n",
       "  </tbody>\n",
       "</table>\n",
       "</div>"
      ],
      "text/plain": [
       "      Codice_articolo     Categoria  media_discostamento\n",
       "1354        017.PM051    Truciolare               -56.92\n",
       "604     017.PM107.011    Ante vetro               -13.61\n",
       "1410      017.PM055.H    Truciolare                -2.15\n",
       "505         090.VST33         Vetri                -1.78\n",
       "334         017.PM152         Vetri                -1.31\n",
       "11          017.PM414     Veneziane                -0.97\n",
       "521         090.VST33         Vetri                -0.70\n",
       "218         017.PM152         Vetri                -0.59\n",
       "1329  052.MP.LA.AL.10  MP Alluminio                -0.28\n",
       "1185  052.MP.LA.PR.08     Accessori                -0.20\n",
       "1078        017.PM601     Accessori                -0.16\n",
       "405         090.VSO33         Vetri                -0.12\n",
       "870         017.PM006    MP Acciaio                -0.08\n",
       "1425        017.PM056    Truciolare                -0.01"
      ]
     },
     "execution_count": 224,
     "metadata": {},
     "output_type": "execute_result"
    }
   ],
   "source": [
    "df_listino[df_listino[\"media_discostamento\"] < 0 ].sort_values(by = \"media_discostamento\")[[\"Codice_articolo\", \"Categoria\", \"media_discostamento\"]]#.to_csv('vista_listino/discostamenti_negativi.csv', index=False)"
   ]
  },
  {
   "cell_type": "code",
   "execution_count": null,
   "metadata": {},
   "outputs": [],
   "source": []
  },
  {
   "cell_type": "code",
   "execution_count": null,
   "metadata": {},
   "outputs": [],
   "source": []
  },
  {
   "cell_type": "code",
   "execution_count": null,
   "metadata": {},
   "outputs": [],
   "source": []
  },
  {
   "cell_type": "code",
   "execution_count": null,
   "metadata": {},
   "outputs": [],
   "source": []
  },
  {
   "cell_type": "code",
   "execution_count": null,
   "metadata": {},
   "outputs": [],
   "source": []
  },
  {
   "cell_type": "code",
   "execution_count": null,
   "metadata": {},
   "outputs": [],
   "source": []
  },
  {
   "cell_type": "code",
   "execution_count": null,
   "metadata": {},
   "outputs": [],
   "source": []
  },
  {
   "cell_type": "code",
   "execution_count": null,
   "metadata": {},
   "outputs": [],
   "source": []
  }
 ],
 "metadata": {
  "kernelspec": {
   "display_name": "Python 3",
   "language": "python",
   "name": "python3"
  },
  "language_info": {
   "codemirror_mode": {
    "name": "ipython",
    "version": 3
   },
   "file_extension": ".py",
   "mimetype": "text/x-python",
   "name": "python",
   "nbconvert_exporter": "python",
   "pygments_lexer": "ipython3",
   "version": "3.10.12"
  }
 },
 "nbformat": 4,
 "nbformat_minor": 2
}
