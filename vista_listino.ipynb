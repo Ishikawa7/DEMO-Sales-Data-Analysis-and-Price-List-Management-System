{
 "cells": [
  {
   "cell_type": "code",
   "execution_count": 124,
   "metadata": {},
   "outputs": [],
   "source": [
    "import pandas as pd\n",
    "import numpy as np\n",
    "import plotly.express as px"
   ]
  },
  {
   "cell_type": "code",
   "execution_count": 125,
   "metadata": {},
   "outputs": [
    {
     "data": {
      "text/html": [
       "<div>\n",
       "<style scoped>\n",
       "    .dataframe tbody tr th:only-of-type {\n",
       "        vertical-align: middle;\n",
       "    }\n",
       "\n",
       "    .dataframe tbody tr th {\n",
       "        vertical-align: top;\n",
       "    }\n",
       "\n",
       "    .dataframe thead th {\n",
       "        text-align: right;\n",
       "    }\n",
       "</style>\n",
       "<table border=\"1\" class=\"dataframe\">\n",
       "  <thead>\n",
       "    <tr style=\"text-align: right;\">\n",
       "      <th></th>\n",
       "      <th>Codice_articolo</th>\n",
       "      <th>Codice_variante</th>\n",
       "      <th>Descrizione</th>\n",
       "      <th>Costo</th>\n",
       "      <th>Data_riferimento</th>\n",
       "      <th>Categoria</th>\n",
       "    </tr>\n",
       "  </thead>\n",
       "  <tbody>\n",
       "    <tr>\n",
       "      <th>0</th>\n",
       "      <td>017.PM419</td>\n",
       "      <td>1</td>\n",
       "      <td></td>\n",
       "      <td>46.52</td>\n",
       "      <td>2023-01-12</td>\n",
       "      <td>Veneziane</td>\n",
       "    </tr>\n",
       "    <tr>\n",
       "      <th>1</th>\n",
       "      <td>017.PM421</td>\n",
       "      <td>1</td>\n",
       "      <td></td>\n",
       "      <td>48.75</td>\n",
       "      <td>2023-01-12</td>\n",
       "      <td>Veneziane</td>\n",
       "    </tr>\n",
       "    <tr>\n",
       "      <th>2</th>\n",
       "      <td>017.PM422</td>\n",
       "      <td>3</td>\n",
       "      <td></td>\n",
       "      <td>46.52</td>\n",
       "      <td>2023-01-12</td>\n",
       "      <td>Veneziane</td>\n",
       "    </tr>\n",
       "    <tr>\n",
       "      <th>3</th>\n",
       "      <td>017.PM424</td>\n",
       "      <td>2</td>\n",
       "      <td></td>\n",
       "      <td>51.80</td>\n",
       "      <td>2023-01-12</td>\n",
       "      <td>Veneziane</td>\n",
       "    </tr>\n",
       "    <tr>\n",
       "      <th>4</th>\n",
       "      <td>017.PM425</td>\n",
       "      <td>1</td>\n",
       "      <td></td>\n",
       "      <td>46.52</td>\n",
       "      <td>2023-01-12</td>\n",
       "      <td>Veneziane</td>\n",
       "    </tr>\n",
       "  </tbody>\n",
       "</table>\n",
       "</div>"
      ],
      "text/plain": [
       "  Codice_articolo  Codice_variante Descrizione  Costo Data_riferimento  \\\n",
       "0       017.PM419                1              46.52       2023-01-12   \n",
       "1       017.PM421                1              48.75       2023-01-12   \n",
       "2       017.PM422                3              46.52       2023-01-12   \n",
       "3       017.PM424                2              51.80       2023-01-12   \n",
       "4       017.PM425                1              46.52       2023-01-12   \n",
       "\n",
       "   Categoria  \n",
       "0  Veneziane  \n",
       "1  Veneziane  \n",
       "2  Veneziane  \n",
       "3  Veneziane  \n",
       "4  Veneziane  "
      ]
     },
     "execution_count": 125,
     "metadata": {},
     "output_type": "execute_result"
    }
   ],
   "source": [
    "df_listino = pd.read_csv('data_demo/art_costi.csv')\n",
    "df_listino[\"Descrizione\"] = df_listino[\"Descrizione\"].fillna(\"\")\n",
    "# remove rows with Costo == 0\n",
    "df_listino = df_listino[df_listino[\"Costo\"] > 0]\n",
    "df_listino.head()"
   ]
  },
  {
   "cell_type": "code",
   "execution_count": 126,
   "metadata": {},
   "outputs": [
    {
     "data": {
      "text/plain": [
       "{'Veneziane': 3,\n",
       " 'Vetri': 3,\n",
       " 'Ante vetro': 2,\n",
       " 'Visive': 3,\n",
       " 'Ante Acciaio': 2,\n",
       " 'Profili Alluminio Flux': 2,\n",
       " 'Profili Alluminio Flux 2': 2,\n",
       " 'Profili Alluminio Kybos': 4,\n",
       " 'MP Acciaio': 1,\n",
       " 'Accessori': 2,\n",
       " 'MP Alluminio': 3,\n",
       " 'Truciolare': 4,\n",
       " 'Coibenti': 4,\n",
       " 'Laminati e altri': 3}"
      ]
     },
     "execution_count": 126,
     "metadata": {},
     "output_type": "execute_result"
    }
   ],
   "source": [
    "df_listino[\"Categoria\"].unique().tolist()\n",
    "dict_multiplicator = {}\n",
    "dict_trend = {}\n",
    "for cat in df_listino[\"Categoria\"].unique().tolist():\n",
    "    # random number between 1 and 4\n",
    "    dict_multiplicator[cat] = np.random.randint(1, 5)\n",
    "    dict_trend[cat] = np.random.choice([0, 1])\n",
    "dict_multiplicator"
   ]
  },
  {
   "cell_type": "code",
   "execution_count": 127,
   "metadata": {},
   "outputs": [],
   "source": [
    "# add storico\n",
    "costo_attuale = df_listino[\"Costo\"].to_list()\n",
    "categories = df_listino[\"Categoria\"].to_list()\n",
    "storico = []\n",
    "vendita = []\n",
    "for i in range(len(df_listino)):\n",
    "    trend_random = dict_trend[categories[i]]\n",
    "    trend_strengh = dict_multiplicator[categories[i]]\n",
    "    storico_single = [costo_attuale[i]]\n",
    "    for j in range(1, 13):\n",
    "        last_value = storico_single[0]\n",
    "        if trend_random == 0:\n",
    "            value = round(last_value + np.random.rand()*last_value*0.01*trend_strengh, 2)\n",
    "            storico_single.insert(0, value)\n",
    "        else:\n",
    "            value = round(last_value - np.random.rand()*last_value*0.01*trend_strengh, 2)\n",
    "            storico_single.insert(0, value)\n",
    "    storico.append(storico_single)\n",
    "for i in range(len(df_listino)):\n",
    "    vendita_singola = []\n",
    "    for j in range(1, np.random.randint(2, 13)):\n",
    "        # random number between 0.9 and 1.9\n",
    "        random_multiplicator = np.random.rand() + 0.9\n",
    "        vendita_singola.append(round(costo_attuale[i]*random_multiplicator, 2))\n",
    "    vendita.append(vendita_singola)"
   ]
  },
  {
   "cell_type": "code",
   "execution_count": 128,
   "metadata": {},
   "outputs": [
    {
     "data": {
      "text/html": [
       "<div>\n",
       "<style scoped>\n",
       "    .dataframe tbody tr th:only-of-type {\n",
       "        vertical-align: middle;\n",
       "    }\n",
       "\n",
       "    .dataframe tbody tr th {\n",
       "        vertical-align: top;\n",
       "    }\n",
       "\n",
       "    .dataframe thead th {\n",
       "        text-align: right;\n",
       "    }\n",
       "</style>\n",
       "<table border=\"1\" class=\"dataframe\">\n",
       "  <thead>\n",
       "    <tr style=\"text-align: right;\">\n",
       "      <th></th>\n",
       "      <th>Codice_articolo</th>\n",
       "      <th>Codice_variante</th>\n",
       "      <th>Descrizione</th>\n",
       "      <th>Costo</th>\n",
       "      <th>Data_riferimento</th>\n",
       "      <th>Categoria</th>\n",
       "      <th>Storico</th>\n",
       "      <th>Vendita</th>\n",
       "    </tr>\n",
       "  </thead>\n",
       "  <tbody>\n",
       "    <tr>\n",
       "      <th>0</th>\n",
       "      <td>017.PM419</td>\n",
       "      <td>1</td>\n",
       "      <td></td>\n",
       "      <td>46.52</td>\n",
       "      <td>2023-01-12</td>\n",
       "      <td>Veneziane</td>\n",
       "      <td>[54.77, 53.52, 52.73, 52.54, 51.16, 51.02, 50....</td>\n",
       "      <td>[83.36, 80.55, 82.61, 57.03, 47.5, 57.51, 86.8...</td>\n",
       "    </tr>\n",
       "    <tr>\n",
       "      <th>1</th>\n",
       "      <td>017.PM421</td>\n",
       "      <td>1</td>\n",
       "      <td></td>\n",
       "      <td>48.75</td>\n",
       "      <td>2023-01-12</td>\n",
       "      <td>Veneziane</td>\n",
       "      <td>[59.61, 58.81, 57.25, 55.73, 55.52, 55.03, 53....</td>\n",
       "      <td>[87.6, 80.11, 86.4, 78.17, 76.77, 45.5, 91.64,...</td>\n",
       "    </tr>\n",
       "    <tr>\n",
       "      <th>2</th>\n",
       "      <td>017.PM422</td>\n",
       "      <td>3</td>\n",
       "      <td></td>\n",
       "      <td>46.52</td>\n",
       "      <td>2023-01-12</td>\n",
       "      <td>Veneziane</td>\n",
       "      <td>[56.56, 55.83, 55.05, 54.76, 53.36, 52.24, 52....</td>\n",
       "      <td>[52.68, 52.01, 57.63]</td>\n",
       "    </tr>\n",
       "    <tr>\n",
       "      <th>3</th>\n",
       "      <td>017.PM424</td>\n",
       "      <td>2</td>\n",
       "      <td></td>\n",
       "      <td>51.80</td>\n",
       "      <td>2023-01-12</td>\n",
       "      <td>Veneziane</td>\n",
       "      <td>[63.6, 61.8, 60.77, 60.25, 58.76, 57.81, 56.28...</td>\n",
       "      <td>[67.89, 61.62, 77.74, 97.53, 50.93, 77.55, 62....</td>\n",
       "    </tr>\n",
       "    <tr>\n",
       "      <th>4</th>\n",
       "      <td>017.PM425</td>\n",
       "      <td>1</td>\n",
       "      <td></td>\n",
       "      <td>46.52</td>\n",
       "      <td>2023-01-12</td>\n",
       "      <td>Veneziane</td>\n",
       "      <td>[54.46, 54.26, 53.77, 53.56, 52.41, 52.23, 51....</td>\n",
       "      <td>[53.66, 57.03, 80.53, 50.62]</td>\n",
       "    </tr>\n",
       "    <tr>\n",
       "      <th>5</th>\n",
       "      <td>017.PM426</td>\n",
       "      <td>1</td>\n",
       "      <td></td>\n",
       "      <td>61.82</td>\n",
       "      <td>2023-01-12</td>\n",
       "      <td>Veneziane</td>\n",
       "      <td>[73.0, 72.33, 70.39, 69.68, 68.57, 68.05, 66.6...</td>\n",
       "      <td>[115.38, 103.9, 113.46, 99.34, 106.07, 76.16, ...</td>\n",
       "    </tr>\n",
       "    <tr>\n",
       "      <th>6</th>\n",
       "      <td>017.PM427</td>\n",
       "      <td>1</td>\n",
       "      <td></td>\n",
       "      <td>46.52</td>\n",
       "      <td>2023-01-12</td>\n",
       "      <td>Veneziane</td>\n",
       "      <td>[54.62, 53.73, 53.54, 52.64, 51.23, 50.51, 49....</td>\n",
       "      <td>[85.69]</td>\n",
       "    </tr>\n",
       "    <tr>\n",
       "      <th>7</th>\n",
       "      <td>017.PM430</td>\n",
       "      <td>1</td>\n",
       "      <td></td>\n",
       "      <td>63.02</td>\n",
       "      <td>2023-01-12</td>\n",
       "      <td>Veneziane</td>\n",
       "      <td>[77.75, 77.3, 75.11, 73.57, 72.42, 70.98, 70.4...</td>\n",
       "      <td>[109.97, 113.12, 100.58, 72.93, 95.66, 92.27]</td>\n",
       "    </tr>\n",
       "    <tr>\n",
       "      <th>8</th>\n",
       "      <td>017.PM431</td>\n",
       "      <td>1</td>\n",
       "      <td></td>\n",
       "      <td>75.54</td>\n",
       "      <td>2023-01-12</td>\n",
       "      <td>Veneziane</td>\n",
       "      <td>[87.38, 86.8, 86.22, 85.82, 84.28, 82.9, 81.2,...</td>\n",
       "      <td>[100.04, 112.37, 142.23, 85.37, 88.5, 89.14, 1...</td>\n",
       "    </tr>\n",
       "    <tr>\n",
       "      <th>9</th>\n",
       "      <td>017.PM433</td>\n",
       "      <td>1</td>\n",
       "      <td></td>\n",
       "      <td>53.50</td>\n",
       "      <td>2023-01-12</td>\n",
       "      <td>Veneziane</td>\n",
       "      <td>[66.56, 66.0, 65.63, 64.51, 62.93, 61.54, 60.0...</td>\n",
       "      <td>[73.06, 78.33, 82.98, 73.88, 83.25, 68.43, 93....</td>\n",
       "    </tr>\n",
       "  </tbody>\n",
       "</table>\n",
       "</div>"
      ],
      "text/plain": [
       "  Codice_articolo  Codice_variante Descrizione  Costo Data_riferimento  \\\n",
       "0       017.PM419                1              46.52       2023-01-12   \n",
       "1       017.PM421                1              48.75       2023-01-12   \n",
       "2       017.PM422                3              46.52       2023-01-12   \n",
       "3       017.PM424                2              51.80       2023-01-12   \n",
       "4       017.PM425                1              46.52       2023-01-12   \n",
       "5       017.PM426                1              61.82       2023-01-12   \n",
       "6       017.PM427                1              46.52       2023-01-12   \n",
       "7       017.PM430                1              63.02       2023-01-12   \n",
       "8       017.PM431                1              75.54       2023-01-12   \n",
       "9       017.PM433                1              53.50       2023-01-12   \n",
       "\n",
       "   Categoria                                            Storico  \\\n",
       "0  Veneziane  [54.77, 53.52, 52.73, 52.54, 51.16, 51.02, 50....   \n",
       "1  Veneziane  [59.61, 58.81, 57.25, 55.73, 55.52, 55.03, 53....   \n",
       "2  Veneziane  [56.56, 55.83, 55.05, 54.76, 53.36, 52.24, 52....   \n",
       "3  Veneziane  [63.6, 61.8, 60.77, 60.25, 58.76, 57.81, 56.28...   \n",
       "4  Veneziane  [54.46, 54.26, 53.77, 53.56, 52.41, 52.23, 51....   \n",
       "5  Veneziane  [73.0, 72.33, 70.39, 69.68, 68.57, 68.05, 66.6...   \n",
       "6  Veneziane  [54.62, 53.73, 53.54, 52.64, 51.23, 50.51, 49....   \n",
       "7  Veneziane  [77.75, 77.3, 75.11, 73.57, 72.42, 70.98, 70.4...   \n",
       "8  Veneziane  [87.38, 86.8, 86.22, 85.82, 84.28, 82.9, 81.2,...   \n",
       "9  Veneziane  [66.56, 66.0, 65.63, 64.51, 62.93, 61.54, 60.0...   \n",
       "\n",
       "                                             Vendita  \n",
       "0  [83.36, 80.55, 82.61, 57.03, 47.5, 57.51, 86.8...  \n",
       "1  [87.6, 80.11, 86.4, 78.17, 76.77, 45.5, 91.64,...  \n",
       "2                              [52.68, 52.01, 57.63]  \n",
       "3  [67.89, 61.62, 77.74, 97.53, 50.93, 77.55, 62....  \n",
       "4                       [53.66, 57.03, 80.53, 50.62]  \n",
       "5  [115.38, 103.9, 113.46, 99.34, 106.07, 76.16, ...  \n",
       "6                                            [85.69]  \n",
       "7      [109.97, 113.12, 100.58, 72.93, 95.66, 92.27]  \n",
       "8  [100.04, 112.37, 142.23, 85.37, 88.5, 89.14, 1...  \n",
       "9  [73.06, 78.33, 82.98, 73.88, 83.25, 68.43, 93....  "
      ]
     },
     "execution_count": 128,
     "metadata": {},
     "output_type": "execute_result"
    }
   ],
   "source": [
    "df_listino[\"Storico\"] = storico\n",
    "df_listino[\"Vendita\"] = vendita\n",
    "df_listino.head(10)"
   ]
  },
  {
   "cell_type": "code",
   "execution_count": 162,
   "metadata": {},
   "outputs": [
    {
     "data": {
      "text/plain": [
       "[54.77,\n",
       " 53.52,\n",
       " 52.73,\n",
       " 52.54,\n",
       " 51.16,\n",
       " 51.02,\n",
       " 50.51,\n",
       " 50.42,\n",
       " 49.04,\n",
       " 48.98,\n",
       " 47.7,\n",
       " 46.54,\n",
       " 46.52]"
      ]
     },
     "execution_count": 162,
     "metadata": {},
     "output_type": "execute_result"
    }
   ],
   "source": [
    "storico = df_listino[df_listino[\"Codice_articolo\"]==\"017.PM419\"][\"Storico\"][0]\n",
    "storico"
   ]
  },
  {
   "cell_type": "code",
   "execution_count": 167,
   "metadata": {},
   "outputs": [
    {
     "data": {
      "text/plain": [
       "[47.5,\n",
       " 57.51,\n",
       " 86.82,\n",
       " 64.17,\n",
       " 83.93,\n",
       " 59.39,\n",
       " 64.29,\n",
       " 65.29,\n",
       " 73.29,\n",
       " 65.29,\n",
       " 73.29,\n",
       " 65.29,\n",
       " 73.29]"
      ]
     },
     "execution_count": 167,
     "metadata": {},
     "output_type": "execute_result"
    }
   ],
   "source": [
    "storico_vendita = df_listino[df_listino[\"Codice_articolo\"]==\"017.PM419\"][\"Vendita\"][0]\n",
    "storico_vendita.pop(0)\n",
    "storico_vendita.pop(0)\n",
    "storico_vendita"
   ]
  },
  {
   "cell_type": "code",
   "execution_count": 171,
   "metadata": {},
   "outputs": [
    {
     "data": {
      "application/vnd.plotly.v1+json": {
       "config": {
        "plotlyServerURL": "https://plot.ly"
       },
       "data": [
        {
         "hovertemplate": "variable=Storico prezzo listino<br>Mese=%{x}<br>value=%{y}<br>text=%{text}<extra></extra>",
         "legendgroup": "Storico prezzo listino",
         "line": {
          "color": "#636efa",
          "dash": "solid"
         },
         "marker": {
          "symbol": "circle"
         },
         "mode": "lines+markers+text",
         "name": "Storico prezzo listino",
         "orientation": "v",
         "showlegend": true,
         "text": [
          54.77,
          53.52,
          52.73,
          52.54,
          51.16,
          51.02,
          50.51,
          50.42,
          49.04,
          48.98,
          47.7,
          46.54,
          46.52
         ],
         "textposition": "top center",
         "type": "scatter",
         "x": [
          1,
          2,
          3,
          4,
          5,
          6,
          7,
          8,
          9,
          10,
          11,
          12,
          13
         ],
         "xaxis": "x",
         "y": [
          54.77,
          53.52,
          52.73,
          52.54,
          51.16,
          51.02,
          50.51,
          50.42,
          49.04,
          48.98,
          47.7,
          46.54,
          46.52
         ],
         "yaxis": "y"
        },
        {
         "hovertemplate": "variable=Storico prezzo vendita<br>Mese=%{x}<br>value=%{y}<br>text=%{text}<extra></extra>",
         "legendgroup": "Storico prezzo vendita",
         "line": {
          "color": "#EF553B",
          "dash": "solid"
         },
         "marker": {
          "symbol": "circle"
         },
         "mode": "lines+markers+text",
         "name": "Storico prezzo vendita",
         "orientation": "v",
         "showlegend": true,
         "text": [
          54.77,
          53.52,
          52.73,
          52.54,
          51.16,
          51.02,
          50.51,
          50.42,
          49.04,
          48.98,
          47.7,
          46.54,
          46.52
         ],
         "textposition": "top center",
         "type": "scatter",
         "x": [
          1,
          2,
          3,
          4,
          5,
          6,
          7,
          8,
          9,
          10,
          11,
          12,
          13
         ],
         "xaxis": "x",
         "y": [
          47.5,
          57.51,
          86.82,
          64.17,
          83.93,
          59.39,
          64.29,
          65.29,
          73.29,
          65.29,
          73.29,
          65.29,
          73.29
         ],
         "yaxis": "y"
        }
       ],
       "layout": {
        "legend": {
         "title": {
          "text": "variable"
         },
         "tracegroupgap": 0
        },
        "template": {
         "data": {
          "bar": [
           {
            "error_x": {
             "color": "#2a3f5f"
            },
            "error_y": {
             "color": "#2a3f5f"
            },
            "marker": {
             "line": {
              "color": "white",
              "width": 0.5
             },
             "pattern": {
              "fillmode": "overlay",
              "size": 10,
              "solidity": 0.2
             }
            },
            "type": "bar"
           }
          ],
          "barpolar": [
           {
            "marker": {
             "line": {
              "color": "white",
              "width": 0.5
             },
             "pattern": {
              "fillmode": "overlay",
              "size": 10,
              "solidity": 0.2
             }
            },
            "type": "barpolar"
           }
          ],
          "carpet": [
           {
            "aaxis": {
             "endlinecolor": "#2a3f5f",
             "gridcolor": "#C8D4E3",
             "linecolor": "#C8D4E3",
             "minorgridcolor": "#C8D4E3",
             "startlinecolor": "#2a3f5f"
            },
            "baxis": {
             "endlinecolor": "#2a3f5f",
             "gridcolor": "#C8D4E3",
             "linecolor": "#C8D4E3",
             "minorgridcolor": "#C8D4E3",
             "startlinecolor": "#2a3f5f"
            },
            "type": "carpet"
           }
          ],
          "choropleth": [
           {
            "colorbar": {
             "outlinewidth": 0,
             "ticks": ""
            },
            "type": "choropleth"
           }
          ],
          "contour": [
           {
            "colorbar": {
             "outlinewidth": 0,
             "ticks": ""
            },
            "colorscale": [
             [
              0,
              "#0d0887"
             ],
             [
              0.1111111111111111,
              "#46039f"
             ],
             [
              0.2222222222222222,
              "#7201a8"
             ],
             [
              0.3333333333333333,
              "#9c179e"
             ],
             [
              0.4444444444444444,
              "#bd3786"
             ],
             [
              0.5555555555555556,
              "#d8576b"
             ],
             [
              0.6666666666666666,
              "#ed7953"
             ],
             [
              0.7777777777777778,
              "#fb9f3a"
             ],
             [
              0.8888888888888888,
              "#fdca26"
             ],
             [
              1,
              "#f0f921"
             ]
            ],
            "type": "contour"
           }
          ],
          "contourcarpet": [
           {
            "colorbar": {
             "outlinewidth": 0,
             "ticks": ""
            },
            "type": "contourcarpet"
           }
          ],
          "heatmap": [
           {
            "colorbar": {
             "outlinewidth": 0,
             "ticks": ""
            },
            "colorscale": [
             [
              0,
              "#0d0887"
             ],
             [
              0.1111111111111111,
              "#46039f"
             ],
             [
              0.2222222222222222,
              "#7201a8"
             ],
             [
              0.3333333333333333,
              "#9c179e"
             ],
             [
              0.4444444444444444,
              "#bd3786"
             ],
             [
              0.5555555555555556,
              "#d8576b"
             ],
             [
              0.6666666666666666,
              "#ed7953"
             ],
             [
              0.7777777777777778,
              "#fb9f3a"
             ],
             [
              0.8888888888888888,
              "#fdca26"
             ],
             [
              1,
              "#f0f921"
             ]
            ],
            "type": "heatmap"
           }
          ],
          "heatmapgl": [
           {
            "colorbar": {
             "outlinewidth": 0,
             "ticks": ""
            },
            "colorscale": [
             [
              0,
              "#0d0887"
             ],
             [
              0.1111111111111111,
              "#46039f"
             ],
             [
              0.2222222222222222,
              "#7201a8"
             ],
             [
              0.3333333333333333,
              "#9c179e"
             ],
             [
              0.4444444444444444,
              "#bd3786"
             ],
             [
              0.5555555555555556,
              "#d8576b"
             ],
             [
              0.6666666666666666,
              "#ed7953"
             ],
             [
              0.7777777777777778,
              "#fb9f3a"
             ],
             [
              0.8888888888888888,
              "#fdca26"
             ],
             [
              1,
              "#f0f921"
             ]
            ],
            "type": "heatmapgl"
           }
          ],
          "histogram": [
           {
            "marker": {
             "pattern": {
              "fillmode": "overlay",
              "size": 10,
              "solidity": 0.2
             }
            },
            "type": "histogram"
           }
          ],
          "histogram2d": [
           {
            "colorbar": {
             "outlinewidth": 0,
             "ticks": ""
            },
            "colorscale": [
             [
              0,
              "#0d0887"
             ],
             [
              0.1111111111111111,
              "#46039f"
             ],
             [
              0.2222222222222222,
              "#7201a8"
             ],
             [
              0.3333333333333333,
              "#9c179e"
             ],
             [
              0.4444444444444444,
              "#bd3786"
             ],
             [
              0.5555555555555556,
              "#d8576b"
             ],
             [
              0.6666666666666666,
              "#ed7953"
             ],
             [
              0.7777777777777778,
              "#fb9f3a"
             ],
             [
              0.8888888888888888,
              "#fdca26"
             ],
             [
              1,
              "#f0f921"
             ]
            ],
            "type": "histogram2d"
           }
          ],
          "histogram2dcontour": [
           {
            "colorbar": {
             "outlinewidth": 0,
             "ticks": ""
            },
            "colorscale": [
             [
              0,
              "#0d0887"
             ],
             [
              0.1111111111111111,
              "#46039f"
             ],
             [
              0.2222222222222222,
              "#7201a8"
             ],
             [
              0.3333333333333333,
              "#9c179e"
             ],
             [
              0.4444444444444444,
              "#bd3786"
             ],
             [
              0.5555555555555556,
              "#d8576b"
             ],
             [
              0.6666666666666666,
              "#ed7953"
             ],
             [
              0.7777777777777778,
              "#fb9f3a"
             ],
             [
              0.8888888888888888,
              "#fdca26"
             ],
             [
              1,
              "#f0f921"
             ]
            ],
            "type": "histogram2dcontour"
           }
          ],
          "mesh3d": [
           {
            "colorbar": {
             "outlinewidth": 0,
             "ticks": ""
            },
            "type": "mesh3d"
           }
          ],
          "parcoords": [
           {
            "line": {
             "colorbar": {
              "outlinewidth": 0,
              "ticks": ""
             }
            },
            "type": "parcoords"
           }
          ],
          "pie": [
           {
            "automargin": true,
            "type": "pie"
           }
          ],
          "scatter": [
           {
            "fillpattern": {
             "fillmode": "overlay",
             "size": 10,
             "solidity": 0.2
            },
            "type": "scatter"
           }
          ],
          "scatter3d": [
           {
            "line": {
             "colorbar": {
              "outlinewidth": 0,
              "ticks": ""
             }
            },
            "marker": {
             "colorbar": {
              "outlinewidth": 0,
              "ticks": ""
             }
            },
            "type": "scatter3d"
           }
          ],
          "scattercarpet": [
           {
            "marker": {
             "colorbar": {
              "outlinewidth": 0,
              "ticks": ""
             }
            },
            "type": "scattercarpet"
           }
          ],
          "scattergeo": [
           {
            "marker": {
             "colorbar": {
              "outlinewidth": 0,
              "ticks": ""
             }
            },
            "type": "scattergeo"
           }
          ],
          "scattergl": [
           {
            "marker": {
             "colorbar": {
              "outlinewidth": 0,
              "ticks": ""
             }
            },
            "type": "scattergl"
           }
          ],
          "scattermapbox": [
           {
            "marker": {
             "colorbar": {
              "outlinewidth": 0,
              "ticks": ""
             }
            },
            "type": "scattermapbox"
           }
          ],
          "scatterpolar": [
           {
            "marker": {
             "colorbar": {
              "outlinewidth": 0,
              "ticks": ""
             }
            },
            "type": "scatterpolar"
           }
          ],
          "scatterpolargl": [
           {
            "marker": {
             "colorbar": {
              "outlinewidth": 0,
              "ticks": ""
             }
            },
            "type": "scatterpolargl"
           }
          ],
          "scatterternary": [
           {
            "marker": {
             "colorbar": {
              "outlinewidth": 0,
              "ticks": ""
             }
            },
            "type": "scatterternary"
           }
          ],
          "surface": [
           {
            "colorbar": {
             "outlinewidth": 0,
             "ticks": ""
            },
            "colorscale": [
             [
              0,
              "#0d0887"
             ],
             [
              0.1111111111111111,
              "#46039f"
             ],
             [
              0.2222222222222222,
              "#7201a8"
             ],
             [
              0.3333333333333333,
              "#9c179e"
             ],
             [
              0.4444444444444444,
              "#bd3786"
             ],
             [
              0.5555555555555556,
              "#d8576b"
             ],
             [
              0.6666666666666666,
              "#ed7953"
             ],
             [
              0.7777777777777778,
              "#fb9f3a"
             ],
             [
              0.8888888888888888,
              "#fdca26"
             ],
             [
              1,
              "#f0f921"
             ]
            ],
            "type": "surface"
           }
          ],
          "table": [
           {
            "cells": {
             "fill": {
              "color": "#EBF0F8"
             },
             "line": {
              "color": "white"
             }
            },
            "header": {
             "fill": {
              "color": "#C8D4E3"
             },
             "line": {
              "color": "white"
             }
            },
            "type": "table"
           }
          ]
         },
         "layout": {
          "annotationdefaults": {
           "arrowcolor": "#2a3f5f",
           "arrowhead": 0,
           "arrowwidth": 1
          },
          "autotypenumbers": "strict",
          "coloraxis": {
           "colorbar": {
            "outlinewidth": 0,
            "ticks": ""
           }
          },
          "colorscale": {
           "diverging": [
            [
             0,
             "#8e0152"
            ],
            [
             0.1,
             "#c51b7d"
            ],
            [
             0.2,
             "#de77ae"
            ],
            [
             0.3,
             "#f1b6da"
            ],
            [
             0.4,
             "#fde0ef"
            ],
            [
             0.5,
             "#f7f7f7"
            ],
            [
             0.6,
             "#e6f5d0"
            ],
            [
             0.7,
             "#b8e186"
            ],
            [
             0.8,
             "#7fbc41"
            ],
            [
             0.9,
             "#4d9221"
            ],
            [
             1,
             "#276419"
            ]
           ],
           "sequential": [
            [
             0,
             "#0d0887"
            ],
            [
             0.1111111111111111,
             "#46039f"
            ],
            [
             0.2222222222222222,
             "#7201a8"
            ],
            [
             0.3333333333333333,
             "#9c179e"
            ],
            [
             0.4444444444444444,
             "#bd3786"
            ],
            [
             0.5555555555555556,
             "#d8576b"
            ],
            [
             0.6666666666666666,
             "#ed7953"
            ],
            [
             0.7777777777777778,
             "#fb9f3a"
            ],
            [
             0.8888888888888888,
             "#fdca26"
            ],
            [
             1,
             "#f0f921"
            ]
           ],
           "sequentialminus": [
            [
             0,
             "#0d0887"
            ],
            [
             0.1111111111111111,
             "#46039f"
            ],
            [
             0.2222222222222222,
             "#7201a8"
            ],
            [
             0.3333333333333333,
             "#9c179e"
            ],
            [
             0.4444444444444444,
             "#bd3786"
            ],
            [
             0.5555555555555556,
             "#d8576b"
            ],
            [
             0.6666666666666666,
             "#ed7953"
            ],
            [
             0.7777777777777778,
             "#fb9f3a"
            ],
            [
             0.8888888888888888,
             "#fdca26"
            ],
            [
             1,
             "#f0f921"
            ]
           ]
          },
          "colorway": [
           "#636efa",
           "#EF553B",
           "#00cc96",
           "#ab63fa",
           "#FFA15A",
           "#19d3f3",
           "#FF6692",
           "#B6E880",
           "#FF97FF",
           "#FECB52"
          ],
          "font": {
           "color": "#2a3f5f"
          },
          "geo": {
           "bgcolor": "white",
           "lakecolor": "white",
           "landcolor": "white",
           "showlakes": true,
           "showland": true,
           "subunitcolor": "#C8D4E3"
          },
          "hoverlabel": {
           "align": "left"
          },
          "hovermode": "closest",
          "mapbox": {
           "style": "light"
          },
          "paper_bgcolor": "white",
          "plot_bgcolor": "white",
          "polar": {
           "angularaxis": {
            "gridcolor": "#EBF0F8",
            "linecolor": "#EBF0F8",
            "ticks": ""
           },
           "bgcolor": "white",
           "radialaxis": {
            "gridcolor": "#EBF0F8",
            "linecolor": "#EBF0F8",
            "ticks": ""
           }
          },
          "scene": {
           "xaxis": {
            "backgroundcolor": "white",
            "gridcolor": "#DFE8F3",
            "gridwidth": 2,
            "linecolor": "#EBF0F8",
            "showbackground": true,
            "ticks": "",
            "zerolinecolor": "#EBF0F8"
           },
           "yaxis": {
            "backgroundcolor": "white",
            "gridcolor": "#DFE8F3",
            "gridwidth": 2,
            "linecolor": "#EBF0F8",
            "showbackground": true,
            "ticks": "",
            "zerolinecolor": "#EBF0F8"
           },
           "zaxis": {
            "backgroundcolor": "white",
            "gridcolor": "#DFE8F3",
            "gridwidth": 2,
            "linecolor": "#EBF0F8",
            "showbackground": true,
            "ticks": "",
            "zerolinecolor": "#EBF0F8"
           }
          },
          "shapedefaults": {
           "line": {
            "color": "#2a3f5f"
           }
          },
          "ternary": {
           "aaxis": {
            "gridcolor": "#DFE8F3",
            "linecolor": "#A2B1C6",
            "ticks": ""
           },
           "baxis": {
            "gridcolor": "#DFE8F3",
            "linecolor": "#A2B1C6",
            "ticks": ""
           },
           "bgcolor": "white",
           "caxis": {
            "gridcolor": "#DFE8F3",
            "linecolor": "#A2B1C6",
            "ticks": ""
           }
          },
          "title": {
           "x": 0.05
          },
          "xaxis": {
           "automargin": true,
           "gridcolor": "#EBF0F8",
           "linecolor": "#EBF0F8",
           "ticks": "",
           "title": {
            "standoff": 15
           },
           "zerolinecolor": "#EBF0F8",
           "zerolinewidth": 2
          },
          "yaxis": {
           "automargin": true,
           "gridcolor": "#EBF0F8",
           "linecolor": "#EBF0F8",
           "ticks": "",
           "title": {
            "standoff": 15
           },
           "zerolinecolor": "#EBF0F8",
           "zerolinewidth": 2
          }
         }
        },
        "title": {
         "text": "Storico prezzo listino e vendita articolo 017.PM419"
        },
        "xaxis": {
         "anchor": "y",
         "domain": [
          0,
          1
         ],
         "title": {
          "text": "Mese"
         }
        },
        "yaxis": {
         "anchor": "x",
         "domain": [
          0,
          1
         ],
         "title": {
          "text": "value"
         }
        }
       }
      }
     },
     "metadata": {},
     "output_type": "display_data"
    }
   ],
   "source": [
    "fig = px.line(x=list(range(1, 14)), y=[storico, storico_vendita], title=\"Storico prezzo listino e vendita articolo 017.PM419\", markers=True, template=\"plotly_white\", text=storico, labels={\"x\":\"Mese\", \"y\":\"Prezzo\"})\n",
    "fig.update_traces(textposition='top center')\n",
    "newnames = {'wide_variable_0':'Storico prezzo listino', 'wide_variable_1': 'Storico prezzo vendita'}\n",
    "fig.for_each_trace(lambda t: t.update(name = newnames[t.name],\n",
    "                                      legendgroup = newnames[t.name],\n",
    "                                      hovertemplate = t.hovertemplate.replace(t.name, newnames[t.name])\n",
    "                                     )\n",
    "                  )\n",
    "fig.write_html(\"vista_listino/storico_esempio_compared.html\")\n",
    "fig.show()"
   ]
  },
  {
   "cell_type": "code",
   "execution_count": 130,
   "metadata": {},
   "outputs": [
    {
     "data": {
      "application/vnd.plotly.v1+json": {
       "config": {
        "plotlyServerURL": "https://plot.ly"
       },
       "data": [
        {
         "hovertemplate": "Mese=%{x}<br>Prezzo=%{y}<br>text=%{text}<extra></extra>",
         "legendgroup": "",
         "line": {
          "color": "#636efa",
          "dash": "solid"
         },
         "marker": {
          "symbol": "circle"
         },
         "mode": "lines+markers+text",
         "name": "",
         "orientation": "v",
         "showlegend": false,
         "text": [
          54.77,
          53.52,
          52.73,
          52.54,
          51.16,
          51.02,
          50.51,
          50.42,
          49.04,
          48.98,
          47.7,
          46.54,
          46.52
         ],
         "textposition": "top center",
         "type": "scatter",
         "x": [
          1,
          2,
          3,
          4,
          5,
          6,
          7,
          8,
          9,
          10,
          11,
          12,
          13
         ],
         "xaxis": "x",
         "y": [
          54.77,
          53.52,
          52.73,
          52.54,
          51.16,
          51.02,
          50.51,
          50.42,
          49.04,
          48.98,
          47.7,
          46.54,
          46.52
         ],
         "yaxis": "y"
        }
       ],
       "layout": {
        "legend": {
         "tracegroupgap": 0
        },
        "template": {
         "data": {
          "bar": [
           {
            "error_x": {
             "color": "#2a3f5f"
            },
            "error_y": {
             "color": "#2a3f5f"
            },
            "marker": {
             "line": {
              "color": "white",
              "width": 0.5
             },
             "pattern": {
              "fillmode": "overlay",
              "size": 10,
              "solidity": 0.2
             }
            },
            "type": "bar"
           }
          ],
          "barpolar": [
           {
            "marker": {
             "line": {
              "color": "white",
              "width": 0.5
             },
             "pattern": {
              "fillmode": "overlay",
              "size": 10,
              "solidity": 0.2
             }
            },
            "type": "barpolar"
           }
          ],
          "carpet": [
           {
            "aaxis": {
             "endlinecolor": "#2a3f5f",
             "gridcolor": "#C8D4E3",
             "linecolor": "#C8D4E3",
             "minorgridcolor": "#C8D4E3",
             "startlinecolor": "#2a3f5f"
            },
            "baxis": {
             "endlinecolor": "#2a3f5f",
             "gridcolor": "#C8D4E3",
             "linecolor": "#C8D4E3",
             "minorgridcolor": "#C8D4E3",
             "startlinecolor": "#2a3f5f"
            },
            "type": "carpet"
           }
          ],
          "choropleth": [
           {
            "colorbar": {
             "outlinewidth": 0,
             "ticks": ""
            },
            "type": "choropleth"
           }
          ],
          "contour": [
           {
            "colorbar": {
             "outlinewidth": 0,
             "ticks": ""
            },
            "colorscale": [
             [
              0,
              "#0d0887"
             ],
             [
              0.1111111111111111,
              "#46039f"
             ],
             [
              0.2222222222222222,
              "#7201a8"
             ],
             [
              0.3333333333333333,
              "#9c179e"
             ],
             [
              0.4444444444444444,
              "#bd3786"
             ],
             [
              0.5555555555555556,
              "#d8576b"
             ],
             [
              0.6666666666666666,
              "#ed7953"
             ],
             [
              0.7777777777777778,
              "#fb9f3a"
             ],
             [
              0.8888888888888888,
              "#fdca26"
             ],
             [
              1,
              "#f0f921"
             ]
            ],
            "type": "contour"
           }
          ],
          "contourcarpet": [
           {
            "colorbar": {
             "outlinewidth": 0,
             "ticks": ""
            },
            "type": "contourcarpet"
           }
          ],
          "heatmap": [
           {
            "colorbar": {
             "outlinewidth": 0,
             "ticks": ""
            },
            "colorscale": [
             [
              0,
              "#0d0887"
             ],
             [
              0.1111111111111111,
              "#46039f"
             ],
             [
              0.2222222222222222,
              "#7201a8"
             ],
             [
              0.3333333333333333,
              "#9c179e"
             ],
             [
              0.4444444444444444,
              "#bd3786"
             ],
             [
              0.5555555555555556,
              "#d8576b"
             ],
             [
              0.6666666666666666,
              "#ed7953"
             ],
             [
              0.7777777777777778,
              "#fb9f3a"
             ],
             [
              0.8888888888888888,
              "#fdca26"
             ],
             [
              1,
              "#f0f921"
             ]
            ],
            "type": "heatmap"
           }
          ],
          "heatmapgl": [
           {
            "colorbar": {
             "outlinewidth": 0,
             "ticks": ""
            },
            "colorscale": [
             [
              0,
              "#0d0887"
             ],
             [
              0.1111111111111111,
              "#46039f"
             ],
             [
              0.2222222222222222,
              "#7201a8"
             ],
             [
              0.3333333333333333,
              "#9c179e"
             ],
             [
              0.4444444444444444,
              "#bd3786"
             ],
             [
              0.5555555555555556,
              "#d8576b"
             ],
             [
              0.6666666666666666,
              "#ed7953"
             ],
             [
              0.7777777777777778,
              "#fb9f3a"
             ],
             [
              0.8888888888888888,
              "#fdca26"
             ],
             [
              1,
              "#f0f921"
             ]
            ],
            "type": "heatmapgl"
           }
          ],
          "histogram": [
           {
            "marker": {
             "pattern": {
              "fillmode": "overlay",
              "size": 10,
              "solidity": 0.2
             }
            },
            "type": "histogram"
           }
          ],
          "histogram2d": [
           {
            "colorbar": {
             "outlinewidth": 0,
             "ticks": ""
            },
            "colorscale": [
             [
              0,
              "#0d0887"
             ],
             [
              0.1111111111111111,
              "#46039f"
             ],
             [
              0.2222222222222222,
              "#7201a8"
             ],
             [
              0.3333333333333333,
              "#9c179e"
             ],
             [
              0.4444444444444444,
              "#bd3786"
             ],
             [
              0.5555555555555556,
              "#d8576b"
             ],
             [
              0.6666666666666666,
              "#ed7953"
             ],
             [
              0.7777777777777778,
              "#fb9f3a"
             ],
             [
              0.8888888888888888,
              "#fdca26"
             ],
             [
              1,
              "#f0f921"
             ]
            ],
            "type": "histogram2d"
           }
          ],
          "histogram2dcontour": [
           {
            "colorbar": {
             "outlinewidth": 0,
             "ticks": ""
            },
            "colorscale": [
             [
              0,
              "#0d0887"
             ],
             [
              0.1111111111111111,
              "#46039f"
             ],
             [
              0.2222222222222222,
              "#7201a8"
             ],
             [
              0.3333333333333333,
              "#9c179e"
             ],
             [
              0.4444444444444444,
              "#bd3786"
             ],
             [
              0.5555555555555556,
              "#d8576b"
             ],
             [
              0.6666666666666666,
              "#ed7953"
             ],
             [
              0.7777777777777778,
              "#fb9f3a"
             ],
             [
              0.8888888888888888,
              "#fdca26"
             ],
             [
              1,
              "#f0f921"
             ]
            ],
            "type": "histogram2dcontour"
           }
          ],
          "mesh3d": [
           {
            "colorbar": {
             "outlinewidth": 0,
             "ticks": ""
            },
            "type": "mesh3d"
           }
          ],
          "parcoords": [
           {
            "line": {
             "colorbar": {
              "outlinewidth": 0,
              "ticks": ""
             }
            },
            "type": "parcoords"
           }
          ],
          "pie": [
           {
            "automargin": true,
            "type": "pie"
           }
          ],
          "scatter": [
           {
            "fillpattern": {
             "fillmode": "overlay",
             "size": 10,
             "solidity": 0.2
            },
            "type": "scatter"
           }
          ],
          "scatter3d": [
           {
            "line": {
             "colorbar": {
              "outlinewidth": 0,
              "ticks": ""
             }
            },
            "marker": {
             "colorbar": {
              "outlinewidth": 0,
              "ticks": ""
             }
            },
            "type": "scatter3d"
           }
          ],
          "scattercarpet": [
           {
            "marker": {
             "colorbar": {
              "outlinewidth": 0,
              "ticks": ""
             }
            },
            "type": "scattercarpet"
           }
          ],
          "scattergeo": [
           {
            "marker": {
             "colorbar": {
              "outlinewidth": 0,
              "ticks": ""
             }
            },
            "type": "scattergeo"
           }
          ],
          "scattergl": [
           {
            "marker": {
             "colorbar": {
              "outlinewidth": 0,
              "ticks": ""
             }
            },
            "type": "scattergl"
           }
          ],
          "scattermapbox": [
           {
            "marker": {
             "colorbar": {
              "outlinewidth": 0,
              "ticks": ""
             }
            },
            "type": "scattermapbox"
           }
          ],
          "scatterpolar": [
           {
            "marker": {
             "colorbar": {
              "outlinewidth": 0,
              "ticks": ""
             }
            },
            "type": "scatterpolar"
           }
          ],
          "scatterpolargl": [
           {
            "marker": {
             "colorbar": {
              "outlinewidth": 0,
              "ticks": ""
             }
            },
            "type": "scatterpolargl"
           }
          ],
          "scatterternary": [
           {
            "marker": {
             "colorbar": {
              "outlinewidth": 0,
              "ticks": ""
             }
            },
            "type": "scatterternary"
           }
          ],
          "surface": [
           {
            "colorbar": {
             "outlinewidth": 0,
             "ticks": ""
            },
            "colorscale": [
             [
              0,
              "#0d0887"
             ],
             [
              0.1111111111111111,
              "#46039f"
             ],
             [
              0.2222222222222222,
              "#7201a8"
             ],
             [
              0.3333333333333333,
              "#9c179e"
             ],
             [
              0.4444444444444444,
              "#bd3786"
             ],
             [
              0.5555555555555556,
              "#d8576b"
             ],
             [
              0.6666666666666666,
              "#ed7953"
             ],
             [
              0.7777777777777778,
              "#fb9f3a"
             ],
             [
              0.8888888888888888,
              "#fdca26"
             ],
             [
              1,
              "#f0f921"
             ]
            ],
            "type": "surface"
           }
          ],
          "table": [
           {
            "cells": {
             "fill": {
              "color": "#EBF0F8"
             },
             "line": {
              "color": "white"
             }
            },
            "header": {
             "fill": {
              "color": "#C8D4E3"
             },
             "line": {
              "color": "white"
             }
            },
            "type": "table"
           }
          ]
         },
         "layout": {
          "annotationdefaults": {
           "arrowcolor": "#2a3f5f",
           "arrowhead": 0,
           "arrowwidth": 1
          },
          "autotypenumbers": "strict",
          "coloraxis": {
           "colorbar": {
            "outlinewidth": 0,
            "ticks": ""
           }
          },
          "colorscale": {
           "diverging": [
            [
             0,
             "#8e0152"
            ],
            [
             0.1,
             "#c51b7d"
            ],
            [
             0.2,
             "#de77ae"
            ],
            [
             0.3,
             "#f1b6da"
            ],
            [
             0.4,
             "#fde0ef"
            ],
            [
             0.5,
             "#f7f7f7"
            ],
            [
             0.6,
             "#e6f5d0"
            ],
            [
             0.7,
             "#b8e186"
            ],
            [
             0.8,
             "#7fbc41"
            ],
            [
             0.9,
             "#4d9221"
            ],
            [
             1,
             "#276419"
            ]
           ],
           "sequential": [
            [
             0,
             "#0d0887"
            ],
            [
             0.1111111111111111,
             "#46039f"
            ],
            [
             0.2222222222222222,
             "#7201a8"
            ],
            [
             0.3333333333333333,
             "#9c179e"
            ],
            [
             0.4444444444444444,
             "#bd3786"
            ],
            [
             0.5555555555555556,
             "#d8576b"
            ],
            [
             0.6666666666666666,
             "#ed7953"
            ],
            [
             0.7777777777777778,
             "#fb9f3a"
            ],
            [
             0.8888888888888888,
             "#fdca26"
            ],
            [
             1,
             "#f0f921"
            ]
           ],
           "sequentialminus": [
            [
             0,
             "#0d0887"
            ],
            [
             0.1111111111111111,
             "#46039f"
            ],
            [
             0.2222222222222222,
             "#7201a8"
            ],
            [
             0.3333333333333333,
             "#9c179e"
            ],
            [
             0.4444444444444444,
             "#bd3786"
            ],
            [
             0.5555555555555556,
             "#d8576b"
            ],
            [
             0.6666666666666666,
             "#ed7953"
            ],
            [
             0.7777777777777778,
             "#fb9f3a"
            ],
            [
             0.8888888888888888,
             "#fdca26"
            ],
            [
             1,
             "#f0f921"
            ]
           ]
          },
          "colorway": [
           "#636efa",
           "#EF553B",
           "#00cc96",
           "#ab63fa",
           "#FFA15A",
           "#19d3f3",
           "#FF6692",
           "#B6E880",
           "#FF97FF",
           "#FECB52"
          ],
          "font": {
           "color": "#2a3f5f"
          },
          "geo": {
           "bgcolor": "white",
           "lakecolor": "white",
           "landcolor": "white",
           "showlakes": true,
           "showland": true,
           "subunitcolor": "#C8D4E3"
          },
          "hoverlabel": {
           "align": "left"
          },
          "hovermode": "closest",
          "mapbox": {
           "style": "light"
          },
          "paper_bgcolor": "white",
          "plot_bgcolor": "white",
          "polar": {
           "angularaxis": {
            "gridcolor": "#EBF0F8",
            "linecolor": "#EBF0F8",
            "ticks": ""
           },
           "bgcolor": "white",
           "radialaxis": {
            "gridcolor": "#EBF0F8",
            "linecolor": "#EBF0F8",
            "ticks": ""
           }
          },
          "scene": {
           "xaxis": {
            "backgroundcolor": "white",
            "gridcolor": "#DFE8F3",
            "gridwidth": 2,
            "linecolor": "#EBF0F8",
            "showbackground": true,
            "ticks": "",
            "zerolinecolor": "#EBF0F8"
           },
           "yaxis": {
            "backgroundcolor": "white",
            "gridcolor": "#DFE8F3",
            "gridwidth": 2,
            "linecolor": "#EBF0F8",
            "showbackground": true,
            "ticks": "",
            "zerolinecolor": "#EBF0F8"
           },
           "zaxis": {
            "backgroundcolor": "white",
            "gridcolor": "#DFE8F3",
            "gridwidth": 2,
            "linecolor": "#EBF0F8",
            "showbackground": true,
            "ticks": "",
            "zerolinecolor": "#EBF0F8"
           }
          },
          "shapedefaults": {
           "line": {
            "color": "#2a3f5f"
           }
          },
          "ternary": {
           "aaxis": {
            "gridcolor": "#DFE8F3",
            "linecolor": "#A2B1C6",
            "ticks": ""
           },
           "baxis": {
            "gridcolor": "#DFE8F3",
            "linecolor": "#A2B1C6",
            "ticks": ""
           },
           "bgcolor": "white",
           "caxis": {
            "gridcolor": "#DFE8F3",
            "linecolor": "#A2B1C6",
            "ticks": ""
           }
          },
          "title": {
           "x": 0.05
          },
          "xaxis": {
           "automargin": true,
           "gridcolor": "#EBF0F8",
           "linecolor": "#EBF0F8",
           "ticks": "",
           "title": {
            "standoff": 15
           },
           "zerolinecolor": "#EBF0F8",
           "zerolinewidth": 2
          },
          "yaxis": {
           "automargin": true,
           "gridcolor": "#EBF0F8",
           "linecolor": "#EBF0F8",
           "ticks": "",
           "title": {
            "standoff": 15
           },
           "zerolinecolor": "#EBF0F8",
           "zerolinewidth": 2
          }
         }
        },
        "title": {
         "text": "Storico prezzo listino articolo 017.PM419"
        },
        "xaxis": {
         "anchor": "y",
         "domain": [
          0,
          1
         ],
         "title": {
          "text": "Mese"
         }
        },
        "yaxis": {
         "anchor": "x",
         "domain": [
          0,
          1
         ],
         "title": {
          "text": "Prezzo"
         }
        }
       }
      }
     },
     "metadata": {},
     "output_type": "display_data"
    }
   ],
   "source": [
    "fig = px.line(x=list(range(1, 14)), y=storico, title=\"Storico prezzo listino articolo 017.PM419\", markers=True, template=\"plotly_white\", text=storico, labels={\"x\":\"Mese\", \"y\":\"Prezzo\"})\n",
    "fig.update_traces(textposition='top center')\n",
    "fig.write_html(\"vista_listino/storico_esempio.html\")\n",
    "fig.show()"
   ]
  },
  {
   "cell_type": "code",
   "execution_count": 131,
   "metadata": {},
   "outputs": [
    {
     "data": {
      "text/html": [
       "<div>\n",
       "<style scoped>\n",
       "    .dataframe tbody tr th:only-of-type {\n",
       "        vertical-align: middle;\n",
       "    }\n",
       "\n",
       "    .dataframe tbody tr th {\n",
       "        vertical-align: top;\n",
       "    }\n",
       "\n",
       "    .dataframe thead th {\n",
       "        text-align: right;\n",
       "    }\n",
       "</style>\n",
       "<table border=\"1\" class=\"dataframe\">\n",
       "  <thead>\n",
       "    <tr style=\"text-align: right;\">\n",
       "      <th></th>\n",
       "      <th>Codice_articolo</th>\n",
       "      <th>Codice_variante</th>\n",
       "      <th>Descrizione</th>\n",
       "      <th>Costo</th>\n",
       "      <th>Data_riferimento</th>\n",
       "      <th>Categoria</th>\n",
       "      <th>Storico</th>\n",
       "      <th>Vendita</th>\n",
       "      <th>Prezzo_1</th>\n",
       "      <th>Prezzo_2</th>\n",
       "      <th>...</th>\n",
       "      <th>Prezzo_4</th>\n",
       "      <th>Prezzo_5</th>\n",
       "      <th>Prezzo_6</th>\n",
       "      <th>Prezzo_7</th>\n",
       "      <th>Prezzo_8</th>\n",
       "      <th>Prezzo_9</th>\n",
       "      <th>Prezzo_10</th>\n",
       "      <th>Prezzo_11</th>\n",
       "      <th>Prezzo_12</th>\n",
       "      <th>Prezzo_13</th>\n",
       "    </tr>\n",
       "  </thead>\n",
       "  <tbody>\n",
       "    <tr>\n",
       "      <th>0</th>\n",
       "      <td>017.PM419</td>\n",
       "      <td>1</td>\n",
       "      <td></td>\n",
       "      <td>46.52</td>\n",
       "      <td>2023-01-12</td>\n",
       "      <td>Veneziane</td>\n",
       "      <td>[54.77, 53.52, 52.73, 52.54, 51.16, 51.02, 50....</td>\n",
       "      <td>[83.36, 80.55, 82.61, 57.03, 47.5, 57.51, 86.8...</td>\n",
       "      <td>54.77</td>\n",
       "      <td>53.52</td>\n",
       "      <td>...</td>\n",
       "      <td>52.54</td>\n",
       "      <td>51.16</td>\n",
       "      <td>51.02</td>\n",
       "      <td>50.51</td>\n",
       "      <td>50.42</td>\n",
       "      <td>49.04</td>\n",
       "      <td>48.98</td>\n",
       "      <td>47.70</td>\n",
       "      <td>46.54</td>\n",
       "      <td>46.52</td>\n",
       "    </tr>\n",
       "    <tr>\n",
       "      <th>1</th>\n",
       "      <td>017.PM421</td>\n",
       "      <td>1</td>\n",
       "      <td></td>\n",
       "      <td>48.75</td>\n",
       "      <td>2023-01-12</td>\n",
       "      <td>Veneziane</td>\n",
       "      <td>[59.61, 58.81, 57.25, 55.73, 55.52, 55.03, 53....</td>\n",
       "      <td>[87.6, 80.11, 86.4, 78.17, 76.77, 45.5, 91.64,...</td>\n",
       "      <td>59.61</td>\n",
       "      <td>58.81</td>\n",
       "      <td>...</td>\n",
       "      <td>55.73</td>\n",
       "      <td>55.52</td>\n",
       "      <td>55.03</td>\n",
       "      <td>53.55</td>\n",
       "      <td>52.54</td>\n",
       "      <td>51.04</td>\n",
       "      <td>49.91</td>\n",
       "      <td>49.58</td>\n",
       "      <td>49.45</td>\n",
       "      <td>48.75</td>\n",
       "    </tr>\n",
       "    <tr>\n",
       "      <th>2</th>\n",
       "      <td>017.PM422</td>\n",
       "      <td>3</td>\n",
       "      <td></td>\n",
       "      <td>46.52</td>\n",
       "      <td>2023-01-12</td>\n",
       "      <td>Veneziane</td>\n",
       "      <td>[56.56, 55.83, 55.05, 54.76, 53.36, 52.24, 52....</td>\n",
       "      <td>[52.68, 52.01, 57.63]</td>\n",
       "      <td>56.56</td>\n",
       "      <td>55.83</td>\n",
       "      <td>...</td>\n",
       "      <td>54.76</td>\n",
       "      <td>53.36</td>\n",
       "      <td>52.24</td>\n",
       "      <td>52.09</td>\n",
       "      <td>50.87</td>\n",
       "      <td>50.02</td>\n",
       "      <td>49.29</td>\n",
       "      <td>48.03</td>\n",
       "      <td>46.67</td>\n",
       "      <td>46.52</td>\n",
       "    </tr>\n",
       "    <tr>\n",
       "      <th>3</th>\n",
       "      <td>017.PM424</td>\n",
       "      <td>2</td>\n",
       "      <td></td>\n",
       "      <td>51.80</td>\n",
       "      <td>2023-01-12</td>\n",
       "      <td>Veneziane</td>\n",
       "      <td>[63.6, 61.8, 60.77, 60.25, 58.76, 57.81, 56.28...</td>\n",
       "      <td>[67.89, 61.62, 77.74, 97.53, 50.93, 77.55, 62....</td>\n",
       "      <td>63.60</td>\n",
       "      <td>61.80</td>\n",
       "      <td>...</td>\n",
       "      <td>60.25</td>\n",
       "      <td>58.76</td>\n",
       "      <td>57.81</td>\n",
       "      <td>56.28</td>\n",
       "      <td>55.65</td>\n",
       "      <td>55.03</td>\n",
       "      <td>54.85</td>\n",
       "      <td>54.33</td>\n",
       "      <td>52.92</td>\n",
       "      <td>51.80</td>\n",
       "    </tr>\n",
       "    <tr>\n",
       "      <th>4</th>\n",
       "      <td>017.PM425</td>\n",
       "      <td>1</td>\n",
       "      <td></td>\n",
       "      <td>46.52</td>\n",
       "      <td>2023-01-12</td>\n",
       "      <td>Veneziane</td>\n",
       "      <td>[54.46, 54.26, 53.77, 53.56, 52.41, 52.23, 51....</td>\n",
       "      <td>[53.66, 57.03, 80.53, 50.62]</td>\n",
       "      <td>54.46</td>\n",
       "      <td>54.26</td>\n",
       "      <td>...</td>\n",
       "      <td>53.56</td>\n",
       "      <td>52.41</td>\n",
       "      <td>52.23</td>\n",
       "      <td>51.71</td>\n",
       "      <td>50.51</td>\n",
       "      <td>50.01</td>\n",
       "      <td>48.55</td>\n",
       "      <td>47.81</td>\n",
       "      <td>47.14</td>\n",
       "      <td>46.52</td>\n",
       "    </tr>\n",
       "  </tbody>\n",
       "</table>\n",
       "<p>5 rows × 21 columns</p>\n",
       "</div>"
      ],
      "text/plain": [
       "  Codice_articolo  Codice_variante Descrizione  Costo Data_riferimento  \\\n",
       "0       017.PM419                1              46.52       2023-01-12   \n",
       "1       017.PM421                1              48.75       2023-01-12   \n",
       "2       017.PM422                3              46.52       2023-01-12   \n",
       "3       017.PM424                2              51.80       2023-01-12   \n",
       "4       017.PM425                1              46.52       2023-01-12   \n",
       "\n",
       "   Categoria                                            Storico  \\\n",
       "0  Veneziane  [54.77, 53.52, 52.73, 52.54, 51.16, 51.02, 50....   \n",
       "1  Veneziane  [59.61, 58.81, 57.25, 55.73, 55.52, 55.03, 53....   \n",
       "2  Veneziane  [56.56, 55.83, 55.05, 54.76, 53.36, 52.24, 52....   \n",
       "3  Veneziane  [63.6, 61.8, 60.77, 60.25, 58.76, 57.81, 56.28...   \n",
       "4  Veneziane  [54.46, 54.26, 53.77, 53.56, 52.41, 52.23, 51....   \n",
       "\n",
       "                                             Vendita  Prezzo_1  Prezzo_2  ...  \\\n",
       "0  [83.36, 80.55, 82.61, 57.03, 47.5, 57.51, 86.8...     54.77     53.52  ...   \n",
       "1  [87.6, 80.11, 86.4, 78.17, 76.77, 45.5, 91.64,...     59.61     58.81  ...   \n",
       "2                              [52.68, 52.01, 57.63]     56.56     55.83  ...   \n",
       "3  [67.89, 61.62, 77.74, 97.53, 50.93, 77.55, 62....     63.60     61.80  ...   \n",
       "4                       [53.66, 57.03, 80.53, 50.62]     54.46     54.26  ...   \n",
       "\n",
       "   Prezzo_4  Prezzo_5  Prezzo_6  Prezzo_7  Prezzo_8  Prezzo_9  Prezzo_10  \\\n",
       "0     52.54     51.16     51.02     50.51     50.42     49.04      48.98   \n",
       "1     55.73     55.52     55.03     53.55     52.54     51.04      49.91   \n",
       "2     54.76     53.36     52.24     52.09     50.87     50.02      49.29   \n",
       "3     60.25     58.76     57.81     56.28     55.65     55.03      54.85   \n",
       "4     53.56     52.41     52.23     51.71     50.51     50.01      48.55   \n",
       "\n",
       "   Prezzo_11  Prezzo_12  Prezzo_13  \n",
       "0      47.70      46.54      46.52  \n",
       "1      49.58      49.45      48.75  \n",
       "2      48.03      46.67      46.52  \n",
       "3      54.33      52.92      51.80  \n",
       "4      47.81      47.14      46.52  \n",
       "\n",
       "[5 rows x 21 columns]"
      ]
     },
     "execution_count": 131,
     "metadata": {},
     "output_type": "execute_result"
    }
   ],
   "source": [
    "# create new columns from storico and vendita\n",
    "df_listino[\"Prezzo_1\"] = [storico[0] for storico in df_listino[\"Storico\"]]\n",
    "df_listino[\"Prezzo_2\"] = [storico[1] for storico in df_listino[\"Storico\"]]\n",
    "df_listino[\"Prezzo_3\"] = [storico[2] for storico in df_listino[\"Storico\"]]\n",
    "df_listino[\"Prezzo_4\"] = [storico[3] for storico in df_listino[\"Storico\"]]\n",
    "df_listino[\"Prezzo_5\"] = [storico[4] for storico in df_listino[\"Storico\"]]\n",
    "df_listino[\"Prezzo_6\"] = [storico[5] for storico in df_listino[\"Storico\"]]\n",
    "df_listino[\"Prezzo_7\"] = [storico[6] for storico in df_listino[\"Storico\"]]\n",
    "df_listino[\"Prezzo_8\"] = [storico[7] for storico in df_listino[\"Storico\"]]\n",
    "df_listino[\"Prezzo_9\"] = [storico[8] for storico in df_listino[\"Storico\"]]\n",
    "df_listino[\"Prezzo_10\"] = [storico[9] for storico in df_listino[\"Storico\"]]\n",
    "df_listino[\"Prezzo_11\"] = [storico[10] for storico in df_listino[\"Storico\"]]\n",
    "df_listino[\"Prezzo_12\"] = [storico[11] for storico in df_listino[\"Storico\"]]\n",
    "df_listino[\"Prezzo_13\"] = [storico[12] for storico in df_listino[\"Storico\"]]\n",
    "\n",
    "df_listino.head()"
   ]
  },
  {
   "cell_type": "code",
   "execution_count": 132,
   "metadata": {},
   "outputs": [
    {
     "name": "stderr",
     "output_type": "stream",
     "text": [
      "/tmp/ipykernel_14832/679170332.py:3: SettingWithCopyWarning:\n",
      "\n",
      "\n",
      "A value is trying to be set on a copy of a slice from a DataFrame.\n",
      "Try using .loc[row_indexer,col_indexer] = value instead\n",
      "\n",
      "See the caveats in the documentation: https://pandas.pydata.org/pandas-docs/stable/user_guide/indexing.html#returning-a-view-versus-a-copy\n",
      "\n",
      "/tmp/ipykernel_14832/679170332.py:4: SettingWithCopyWarning:\n",
      "\n",
      "\n",
      "A value is trying to be set on a copy of a slice from a DataFrame.\n",
      "Try using .loc[row_indexer,col_indexer] = value instead\n",
      "\n",
      "See the caveats in the documentation: https://pandas.pydata.org/pandas-docs/stable/user_guide/indexing.html#returning-a-view-versus-a-copy\n",
      "\n",
      "/tmp/ipykernel_14832/679170332.py:5: SettingWithCopyWarning:\n",
      "\n",
      "\n",
      "A value is trying to be set on a copy of a slice from a DataFrame.\n",
      "Try using .loc[row_indexer,col_indexer] = value instead\n",
      "\n",
      "See the caveats in the documentation: https://pandas.pydata.org/pandas-docs/stable/user_guide/indexing.html#returning-a-view-versus-a-copy\n",
      "\n",
      "/tmp/ipykernel_14832/679170332.py:6: SettingWithCopyWarning:\n",
      "\n",
      "\n",
      "A value is trying to be set on a copy of a slice from a DataFrame.\n",
      "Try using .loc[row_indexer,col_indexer] = value instead\n",
      "\n",
      "See the caveats in the documentation: https://pandas.pydata.org/pandas-docs/stable/user_guide/indexing.html#returning-a-view-versus-a-copy\n",
      "\n",
      "/tmp/ipykernel_14832/679170332.py:7: SettingWithCopyWarning:\n",
      "\n",
      "\n",
      "A value is trying to be set on a copy of a slice from a DataFrame.\n",
      "Try using .loc[row_indexer,col_indexer] = value instead\n",
      "\n",
      "See the caveats in the documentation: https://pandas.pydata.org/pandas-docs/stable/user_guide/indexing.html#returning-a-view-versus-a-copy\n",
      "\n"
     ]
    },
    {
     "data": {
      "text/html": [
       "<div>\n",
       "<style scoped>\n",
       "    .dataframe tbody tr th:only-of-type {\n",
       "        vertical-align: middle;\n",
       "    }\n",
       "\n",
       "    .dataframe tbody tr th {\n",
       "        vertical-align: top;\n",
       "    }\n",
       "\n",
       "    .dataframe thead th {\n",
       "        text-align: right;\n",
       "    }\n",
       "</style>\n",
       "<table border=\"1\" class=\"dataframe\">\n",
       "  <thead>\n",
       "    <tr style=\"text-align: right;\">\n",
       "      <th></th>\n",
       "      <th>Codice_articolo</th>\n",
       "      <th>Categoria</th>\n",
       "      <th>Prezzo_1</th>\n",
       "      <th>Prezzo_2</th>\n",
       "      <th>Prezzo_3</th>\n",
       "      <th>Prezzo_4</th>\n",
       "      <th>Prezzo_5</th>\n",
       "      <th>Prezzo_6</th>\n",
       "      <th>Prezzo_7</th>\n",
       "      <th>Prezzo_8</th>\n",
       "      <th>...</th>\n",
       "      <th>Delta_4</th>\n",
       "      <th>Delta_5</th>\n",
       "      <th>Delta_6</th>\n",
       "      <th>Delta_7</th>\n",
       "      <th>Delta_8</th>\n",
       "      <th>Delta_9</th>\n",
       "      <th>Delta_10</th>\n",
       "      <th>Delta_11</th>\n",
       "      <th>Delta_12</th>\n",
       "      <th>Delta_avg</th>\n",
       "    </tr>\n",
       "  </thead>\n",
       "  <tbody>\n",
       "    <tr>\n",
       "      <th>0</th>\n",
       "      <td>017.PM419</td>\n",
       "      <td>Veneziane</td>\n",
       "      <td>54.77</td>\n",
       "      <td>53.52</td>\n",
       "      <td>52.73</td>\n",
       "      <td>52.54</td>\n",
       "      <td>51.16</td>\n",
       "      <td>51.02</td>\n",
       "      <td>50.51</td>\n",
       "      <td>50.42</td>\n",
       "      <td>...</td>\n",
       "      <td>-2.626570</td>\n",
       "      <td>-0.273651</td>\n",
       "      <td>-0.999608</td>\n",
       "      <td>-0.178183</td>\n",
       "      <td>-2.737009</td>\n",
       "      <td>-0.122349</td>\n",
       "      <td>-2.613312</td>\n",
       "      <td>-2.431866</td>\n",
       "      <td>-0.042974</td>\n",
       "      <td>-1.345350</td>\n",
       "    </tr>\n",
       "    <tr>\n",
       "      <th>1</th>\n",
       "      <td>017.PM421</td>\n",
       "      <td>Veneziane</td>\n",
       "      <td>59.61</td>\n",
       "      <td>58.81</td>\n",
       "      <td>57.25</td>\n",
       "      <td>55.73</td>\n",
       "      <td>55.52</td>\n",
       "      <td>55.03</td>\n",
       "      <td>53.55</td>\n",
       "      <td>52.54</td>\n",
       "      <td>...</td>\n",
       "      <td>-0.376817</td>\n",
       "      <td>-0.882565</td>\n",
       "      <td>-2.689442</td>\n",
       "      <td>-1.886088</td>\n",
       "      <td>-2.854968</td>\n",
       "      <td>-2.213950</td>\n",
       "      <td>-0.661190</td>\n",
       "      <td>-0.262203</td>\n",
       "      <td>-1.415571</td>\n",
       "      <td>-1.657707</td>\n",
       "    </tr>\n",
       "    <tr>\n",
       "      <th>2</th>\n",
       "      <td>017.PM422</td>\n",
       "      <td>Veneziane</td>\n",
       "      <td>56.56</td>\n",
       "      <td>55.83</td>\n",
       "      <td>55.05</td>\n",
       "      <td>54.76</td>\n",
       "      <td>53.36</td>\n",
       "      <td>52.24</td>\n",
       "      <td>52.09</td>\n",
       "      <td>50.87</td>\n",
       "      <td>...</td>\n",
       "      <td>-2.556611</td>\n",
       "      <td>-2.098951</td>\n",
       "      <td>-0.287136</td>\n",
       "      <td>-2.342100</td>\n",
       "      <td>-1.670926</td>\n",
       "      <td>-1.459416</td>\n",
       "      <td>-2.556299</td>\n",
       "      <td>-2.831564</td>\n",
       "      <td>-0.321406</td>\n",
       "      <td>-1.611580</td>\n",
       "    </tr>\n",
       "    <tr>\n",
       "      <th>3</th>\n",
       "      <td>017.PM424</td>\n",
       "      <td>Veneziane</td>\n",
       "      <td>63.60</td>\n",
       "      <td>61.80</td>\n",
       "      <td>60.77</td>\n",
       "      <td>60.25</td>\n",
       "      <td>58.76</td>\n",
       "      <td>57.81</td>\n",
       "      <td>56.28</td>\n",
       "      <td>55.65</td>\n",
       "      <td>...</td>\n",
       "      <td>-2.473029</td>\n",
       "      <td>-1.616746</td>\n",
       "      <td>-2.646601</td>\n",
       "      <td>-1.119403</td>\n",
       "      <td>-1.114106</td>\n",
       "      <td>-0.327094</td>\n",
       "      <td>-0.948040</td>\n",
       "      <td>-2.595251</td>\n",
       "      <td>-2.116402</td>\n",
       "      <td>-1.692434</td>\n",
       "    </tr>\n",
       "    <tr>\n",
       "      <th>4</th>\n",
       "      <td>017.PM425</td>\n",
       "      <td>Veneziane</td>\n",
       "      <td>54.46</td>\n",
       "      <td>54.26</td>\n",
       "      <td>53.77</td>\n",
       "      <td>53.56</td>\n",
       "      <td>52.41</td>\n",
       "      <td>52.23</td>\n",
       "      <td>51.71</td>\n",
       "      <td>50.51</td>\n",
       "      <td>...</td>\n",
       "      <td>-2.147125</td>\n",
       "      <td>-0.343446</td>\n",
       "      <td>-0.995596</td>\n",
       "      <td>-2.320634</td>\n",
       "      <td>-0.989903</td>\n",
       "      <td>-2.919416</td>\n",
       "      <td>-1.524202</td>\n",
       "      <td>-1.401380</td>\n",
       "      <td>-1.315231</td>\n",
       "      <td>-1.301482</td>\n",
       "    </tr>\n",
       "    <tr>\n",
       "      <th>...</th>\n",
       "      <td>...</td>\n",
       "      <td>...</td>\n",
       "      <td>...</td>\n",
       "      <td>...</td>\n",
       "      <td>...</td>\n",
       "      <td>...</td>\n",
       "      <td>...</td>\n",
       "      <td>...</td>\n",
       "      <td>...</td>\n",
       "      <td>...</td>\n",
       "      <td>...</td>\n",
       "      <td>...</td>\n",
       "      <td>...</td>\n",
       "      <td>...</td>\n",
       "      <td>...</td>\n",
       "      <td>...</td>\n",
       "      <td>...</td>\n",
       "      <td>...</td>\n",
       "      <td>...</td>\n",
       "      <td>...</td>\n",
       "      <td>...</td>\n",
       "    </tr>\n",
       "    <tr>\n",
       "      <th>1508</th>\n",
       "      <td>052.MP.HPL.1</td>\n",
       "      <td>Laminati e altri</td>\n",
       "      <td>7.17</td>\n",
       "      <td>6.99</td>\n",
       "      <td>6.87</td>\n",
       "      <td>6.76</td>\n",
       "      <td>6.63</td>\n",
       "      <td>6.44</td>\n",
       "      <td>6.38</td>\n",
       "      <td>6.34</td>\n",
       "      <td>...</td>\n",
       "      <td>-1.923077</td>\n",
       "      <td>-2.865762</td>\n",
       "      <td>-0.931677</td>\n",
       "      <td>-0.626959</td>\n",
       "      <td>-1.577287</td>\n",
       "      <td>-0.801282</td>\n",
       "      <td>-2.261712</td>\n",
       "      <td>-0.495868</td>\n",
       "      <td>-0.332226</td>\n",
       "      <td>-1.470351</td>\n",
       "    </tr>\n",
       "    <tr>\n",
       "      <th>1509</th>\n",
       "      <td>052.MP.HPL.4</td>\n",
       "      <td>Laminati e altri</td>\n",
       "      <td>16.53</td>\n",
       "      <td>16.47</td>\n",
       "      <td>16.00</td>\n",
       "      <td>15.84</td>\n",
       "      <td>15.79</td>\n",
       "      <td>15.67</td>\n",
       "      <td>15.44</td>\n",
       "      <td>15.10</td>\n",
       "      <td>...</td>\n",
       "      <td>-0.315657</td>\n",
       "      <td>-0.759975</td>\n",
       "      <td>-1.467773</td>\n",
       "      <td>-2.202073</td>\n",
       "      <td>-2.317881</td>\n",
       "      <td>-0.542373</td>\n",
       "      <td>-0.749830</td>\n",
       "      <td>-0.892857</td>\n",
       "      <td>-1.593902</td>\n",
       "      <td>-1.254914</td>\n",
       "    </tr>\n",
       "    <tr>\n",
       "      <th>1510</th>\n",
       "      <td>052.MP.HPL.4</td>\n",
       "      <td>Laminati e altri</td>\n",
       "      <td>16.84</td>\n",
       "      <td>16.62</td>\n",
       "      <td>16.39</td>\n",
       "      <td>16.32</td>\n",
       "      <td>16.09</td>\n",
       "      <td>15.79</td>\n",
       "      <td>15.59</td>\n",
       "      <td>15.39</td>\n",
       "      <td>...</td>\n",
       "      <td>-1.409314</td>\n",
       "      <td>-1.864512</td>\n",
       "      <td>-1.266624</td>\n",
       "      <td>-1.282874</td>\n",
       "      <td>-2.729045</td>\n",
       "      <td>-1.402806</td>\n",
       "      <td>-2.100271</td>\n",
       "      <td>-0.484429</td>\n",
       "      <td>-1.251739</td>\n",
       "      <td>-1.409083</td>\n",
       "    </tr>\n",
       "    <tr>\n",
       "      <th>1511</th>\n",
       "      <td>052.MP.HPL.4</td>\n",
       "      <td>Laminati e altri</td>\n",
       "      <td>16.71</td>\n",
       "      <td>16.42</td>\n",
       "      <td>16.10</td>\n",
       "      <td>15.71</td>\n",
       "      <td>15.54</td>\n",
       "      <td>15.47</td>\n",
       "      <td>15.38</td>\n",
       "      <td>15.31</td>\n",
       "      <td>...</td>\n",
       "      <td>-1.082113</td>\n",
       "      <td>-0.450450</td>\n",
       "      <td>-0.581771</td>\n",
       "      <td>-0.455137</td>\n",
       "      <td>-2.612671</td>\n",
       "      <td>-0.938967</td>\n",
       "      <td>-1.624915</td>\n",
       "      <td>-1.376462</td>\n",
       "      <td>-0.907188</td>\n",
       "      <td>-1.344697</td>\n",
       "    </tr>\n",
       "    <tr>\n",
       "      <th>1512</th>\n",
       "      <td>052.MP.MDF</td>\n",
       "      <td>Laminati e altri</td>\n",
       "      <td>7.88</td>\n",
       "      <td>7.75</td>\n",
       "      <td>7.58</td>\n",
       "      <td>7.55</td>\n",
       "      <td>7.45</td>\n",
       "      <td>7.41</td>\n",
       "      <td>7.21</td>\n",
       "      <td>7.01</td>\n",
       "      <td>...</td>\n",
       "      <td>-1.324503</td>\n",
       "      <td>-0.536913</td>\n",
       "      <td>-2.699055</td>\n",
       "      <td>-2.773925</td>\n",
       "      <td>-2.853067</td>\n",
       "      <td>-0.293686</td>\n",
       "      <td>-1.472754</td>\n",
       "      <td>-1.793722</td>\n",
       "      <td>-1.065449</td>\n",
       "      <td>-1.587679</td>\n",
       "    </tr>\n",
       "  </tbody>\n",
       "</table>\n",
       "<p>1510 rows × 28 columns</p>\n",
       "</div>"
      ],
      "text/plain": [
       "     Codice_articolo         Categoria  Prezzo_1  Prezzo_2  Prezzo_3  \\\n",
       "0          017.PM419         Veneziane     54.77     53.52     52.73   \n",
       "1          017.PM421         Veneziane     59.61     58.81     57.25   \n",
       "2          017.PM422         Veneziane     56.56     55.83     55.05   \n",
       "3          017.PM424         Veneziane     63.60     61.80     60.77   \n",
       "4          017.PM425         Veneziane     54.46     54.26     53.77   \n",
       "...              ...               ...       ...       ...       ...   \n",
       "1508    052.MP.HPL.1  Laminati e altri      7.17      6.99      6.87   \n",
       "1509    052.MP.HPL.4  Laminati e altri     16.53     16.47     16.00   \n",
       "1510    052.MP.HPL.4  Laminati e altri     16.84     16.62     16.39   \n",
       "1511    052.MP.HPL.4  Laminati e altri     16.71     16.42     16.10   \n",
       "1512      052.MP.MDF  Laminati e altri      7.88      7.75      7.58   \n",
       "\n",
       "      Prezzo_4  Prezzo_5  Prezzo_6  Prezzo_7  Prezzo_8  ...   Delta_4  \\\n",
       "0        52.54     51.16     51.02     50.51     50.42  ... -2.626570   \n",
       "1        55.73     55.52     55.03     53.55     52.54  ... -0.376817   \n",
       "2        54.76     53.36     52.24     52.09     50.87  ... -2.556611   \n",
       "3        60.25     58.76     57.81     56.28     55.65  ... -2.473029   \n",
       "4        53.56     52.41     52.23     51.71     50.51  ... -2.147125   \n",
       "...        ...       ...       ...       ...       ...  ...       ...   \n",
       "1508      6.76      6.63      6.44      6.38      6.34  ... -1.923077   \n",
       "1509     15.84     15.79     15.67     15.44     15.10  ... -0.315657   \n",
       "1510     16.32     16.09     15.79     15.59     15.39  ... -1.409314   \n",
       "1511     15.71     15.54     15.47     15.38     15.31  ... -1.082113   \n",
       "1512      7.55      7.45      7.41      7.21      7.01  ... -1.324503   \n",
       "\n",
       "       Delta_5   Delta_6   Delta_7   Delta_8   Delta_9  Delta_10  Delta_11  \\\n",
       "0    -0.273651 -0.999608 -0.178183 -2.737009 -0.122349 -2.613312 -2.431866   \n",
       "1    -0.882565 -2.689442 -1.886088 -2.854968 -2.213950 -0.661190 -0.262203   \n",
       "2    -2.098951 -0.287136 -2.342100 -1.670926 -1.459416 -2.556299 -2.831564   \n",
       "3    -1.616746 -2.646601 -1.119403 -1.114106 -0.327094 -0.948040 -2.595251   \n",
       "4    -0.343446 -0.995596 -2.320634 -0.989903 -2.919416 -1.524202 -1.401380   \n",
       "...        ...       ...       ...       ...       ...       ...       ...   \n",
       "1508 -2.865762 -0.931677 -0.626959 -1.577287 -0.801282 -2.261712 -0.495868   \n",
       "1509 -0.759975 -1.467773 -2.202073 -2.317881 -0.542373 -0.749830 -0.892857   \n",
       "1510 -1.864512 -1.266624 -1.282874 -2.729045 -1.402806 -2.100271 -0.484429   \n",
       "1511 -0.450450 -0.581771 -0.455137 -2.612671 -0.938967 -1.624915 -1.376462   \n",
       "1512 -0.536913 -2.699055 -2.773925 -2.853067 -0.293686 -1.472754 -1.793722   \n",
       "\n",
       "      Delta_12  Delta_avg  \n",
       "0    -0.042974  -1.345350  \n",
       "1    -1.415571  -1.657707  \n",
       "2    -0.321406  -1.611580  \n",
       "3    -2.116402  -1.692434  \n",
       "4    -1.315231  -1.301482  \n",
       "...        ...        ...  \n",
       "1508 -0.332226  -1.470351  \n",
       "1509 -1.593902  -1.254914  \n",
       "1510 -1.251739  -1.409083  \n",
       "1511 -0.907188  -1.344697  \n",
       "1512 -1.065449  -1.587679  \n",
       "\n",
       "[1510 rows x 28 columns]"
      ]
     },
     "execution_count": 132,
     "metadata": {},
     "output_type": "execute_result"
    }
   ],
   "source": [
    "df_listino_storico = df_listino[[\"Codice_articolo\", \"Categoria\", \"Prezzo_1\", \"Prezzo_2\", \"Prezzo_3\", \"Prezzo_4\", \"Prezzo_5\", \"Prezzo_6\", \"Prezzo_7\", \"Prezzo_8\", \"Prezzo_9\", \"Prezzo_10\", \"Prezzo_11\", \"Prezzo_12\", \"Prezzo_13\"]]\n",
    "#calculate deltas percentace between prices\n",
    "df_listino_storico[\"Delta_1\"] = 100 * (df_listino_storico[\"Prezzo_2\"] - df_listino_storico[\"Prezzo_1\"])/df_listino_storico[\"Prezzo_1\"]\n",
    "df_listino_storico[\"Delta_2\"] = 100 * (df_listino_storico[\"Prezzo_3\"] - df_listino_storico[\"Prezzo_2\"])/df_listino_storico[\"Prezzo_2\"]\n",
    "df_listino_storico[\"Delta_3\"] = 100 * (df_listino_storico[\"Prezzo_4\"] - df_listino_storico[\"Prezzo_3\"])/df_listino_storico[\"Prezzo_3\"]\n",
    "df_listino_storico[\"Delta_4\"] = 100 * (df_listino_storico[\"Prezzo_5\"] - df_listino_storico[\"Prezzo_4\"])/df_listino_storico[\"Prezzo_4\"]\n",
    "df_listino_storico[\"Delta_5\"] = 100 * (df_listino_storico[\"Prezzo_6\"] - df_listino_storico[\"Prezzo_5\"])/df_listino_storico[\"Prezzo_5\"]\n",
    "df_listino_storico[\"Delta_6\"] = 100 * (df_listino_storico[\"Prezzo_7\"] - df_listino_storico[\"Prezzo_6\"])/df_listino_storico[\"Prezzo_6\"]\n",
    "df_listino_storico[\"Delta_7\"] = 100 * (df_listino_storico[\"Prezzo_8\"] - df_listino_storico[\"Prezzo_7\"])/df_listino_storico[\"Prezzo_7\"]\n",
    "df_listino_storico[\"Delta_8\"] = 100 * (df_listino_storico[\"Prezzo_9\"] - df_listino_storico[\"Prezzo_8\"])/df_listino_storico[\"Prezzo_8\"]\n",
    "df_listino_storico[\"Delta_9\"] = 100 * (df_listino_storico[\"Prezzo_10\"] - df_listino_storico[\"Prezzo_9\"])/df_listino_storico[\"Prezzo_9\"]\n",
    "df_listino_storico[\"Delta_10\"] = 100 * (df_listino_storico[\"Prezzo_11\"] - df_listino_storico[\"Prezzo_10\"])/df_listino_storico[\"Prezzo_10\"]\n",
    "df_listino_storico[\"Delta_11\"] = 100 * (df_listino_storico[\"Prezzo_12\"] - df_listino_storico[\"Prezzo_11\"])/df_listino_storico[\"Prezzo_11\"]\n",
    "df_listino_storico[\"Delta_12\"] = 100 * (df_listino_storico[\"Prezzo_13\"] - df_listino_storico[\"Prezzo_12\"])/df_listino_storico[\"Prezzo_12\"]\n",
    "# average of deltas\n",
    "df_listino_storico[\"Delta_avg\"] = df_listino_storico[[\"Delta_1\", \"Delta_2\", \"Delta_3\", \"Delta_4\", \"Delta_5\", \"Delta_6\", \"Delta_7\", \"Delta_8\", \"Delta_9\", \"Delta_10\", \"Delta_11\", \"Delta_12\"]].mean(axis=1)\n",
    "df_listino_storico"
   ]
  },
  {
   "cell_type": "code",
   "execution_count": 133,
   "metadata": {},
   "outputs": [
    {
     "data": {
      "text/html": [
       "<div>\n",
       "<style scoped>\n",
       "    .dataframe tbody tr th:only-of-type {\n",
       "        vertical-align: middle;\n",
       "    }\n",
       "\n",
       "    .dataframe tbody tr th {\n",
       "        vertical-align: top;\n",
       "    }\n",
       "\n",
       "    .dataframe thead th {\n",
       "        text-align: right;\n",
       "    }\n",
       "</style>\n",
       "<table border=\"1\" class=\"dataframe\">\n",
       "  <thead>\n",
       "    <tr style=\"text-align: right;\">\n",
       "      <th></th>\n",
       "      <th>PC1</th>\n",
       "      <th>PC2</th>\n",
       "      <th>Codice_articolo</th>\n",
       "      <th>Categoria</th>\n",
       "    </tr>\n",
       "  </thead>\n",
       "  <tbody>\n",
       "    <tr>\n",
       "      <th>0</th>\n",
       "      <td>5.928076</td>\n",
       "      <td>-5.697126</td>\n",
       "      <td>017.PM419</td>\n",
       "      <td>Veneziane</td>\n",
       "    </tr>\n",
       "    <tr>\n",
       "      <th>1</th>\n",
       "      <td>7.439029</td>\n",
       "      <td>-5.372726</td>\n",
       "      <td>017.PM421</td>\n",
       "      <td>Veneziane</td>\n",
       "    </tr>\n",
       "    <tr>\n",
       "      <th>2</th>\n",
       "      <td>6.724478</td>\n",
       "      <td>-6.218789</td>\n",
       "      <td>017.PM422</td>\n",
       "      <td>Veneziane</td>\n",
       "    </tr>\n",
       "    <tr>\n",
       "      <th>3</th>\n",
       "      <td>7.960392</td>\n",
       "      <td>-4.868792</td>\n",
       "      <td>017.PM424</td>\n",
       "      <td>Veneziane</td>\n",
       "    </tr>\n",
       "    <tr>\n",
       "      <th>4</th>\n",
       "      <td>6.539415</td>\n",
       "      <td>-4.437427</td>\n",
       "      <td>017.PM425</td>\n",
       "      <td>Veneziane</td>\n",
       "    </tr>\n",
       "    <tr>\n",
       "      <th>...</th>\n",
       "      <td>...</td>\n",
       "      <td>...</td>\n",
       "      <td>...</td>\n",
       "      <td>...</td>\n",
       "    </tr>\n",
       "    <tr>\n",
       "      <th>1505</th>\n",
       "      <td>6.385784</td>\n",
       "      <td>-5.800855</td>\n",
       "      <td>052.MP.HPL.1</td>\n",
       "      <td>Laminati e altri</td>\n",
       "    </tr>\n",
       "    <tr>\n",
       "      <th>1506</th>\n",
       "      <td>6.595235</td>\n",
       "      <td>-4.074051</td>\n",
       "      <td>052.MP.HPL.1</td>\n",
       "      <td>Laminati e altri</td>\n",
       "    </tr>\n",
       "    <tr>\n",
       "      <th>1507</th>\n",
       "      <td>6.768319</td>\n",
       "      <td>-4.828845</td>\n",
       "      <td>052.MP.HPL.1</td>\n",
       "      <td>Laminati e altri</td>\n",
       "    </tr>\n",
       "    <tr>\n",
       "      <th>1508</th>\n",
       "      <td>6.414594</td>\n",
       "      <td>-4.937049</td>\n",
       "      <td>052.MP.HPL.1</td>\n",
       "      <td>Laminati e altri</td>\n",
       "    </tr>\n",
       "    <tr>\n",
       "      <th>1509</th>\n",
       "      <td>7.092315</td>\n",
       "      <td>-5.489861</td>\n",
       "      <td>052.MP.HPL.4</td>\n",
       "      <td>Laminati e altri</td>\n",
       "    </tr>\n",
       "  </tbody>\n",
       "</table>\n",
       "<p>1510 rows × 4 columns</p>\n",
       "</div>"
      ],
      "text/plain": [
       "           PC1       PC2 Codice_articolo         Categoria\n",
       "0     5.928076 -5.697126       017.PM419         Veneziane\n",
       "1     7.439029 -5.372726       017.PM421         Veneziane\n",
       "2     6.724478 -6.218789       017.PM422         Veneziane\n",
       "3     7.960392 -4.868792       017.PM424         Veneziane\n",
       "4     6.539415 -4.437427       017.PM425         Veneziane\n",
       "...        ...       ...             ...               ...\n",
       "1505  6.385784 -5.800855    052.MP.HPL.1  Laminati e altri\n",
       "1506  6.595235 -4.074051    052.MP.HPL.1  Laminati e altri\n",
       "1507  6.768319 -4.828845    052.MP.HPL.1  Laminati e altri\n",
       "1508  6.414594 -4.937049    052.MP.HPL.1  Laminati e altri\n",
       "1509  7.092315 -5.489861    052.MP.HPL.4  Laminati e altri\n",
       "\n",
       "[1510 rows x 4 columns]"
      ]
     },
     "execution_count": 133,
     "metadata": {},
     "output_type": "execute_result"
    }
   ],
   "source": [
    "# use pca to reduce dimensionality\n",
    "from sklearn.decomposition import PCA\n",
    "pca = PCA(n_components=2)\n",
    "pca.fit(df_listino_storico.iloc[:, 15:])\n",
    "pca.explained_variance_ratio_\n",
    "X_pca = pca.transform(df_listino_storico.iloc[:, 15:])\n",
    "X_pca.shape\n",
    "df_pca = pd.DataFrame(X_pca, columns=[\"PC1\", \"PC2\"])\n",
    "df_pca[\"Codice_articolo\"] = df_listino_storico[\"Codice_articolo\"]\n",
    "df_pca[\"Categoria\"] = df_listino_storico[\"Categoria\"]\n",
    "df_pca"
   ]
  },
  {
   "cell_type": "code",
   "execution_count": 134,
   "metadata": {},
   "outputs": [
    {
     "data": {
      "application/vnd.plotly.v1+json": {
       "config": {
        "plotlyServerURL": "https://plot.ly"
       },
       "data": [
        {
         "hovertemplate": "Categoria=Veneziane<br>PC1=%{x}<br>PC2=%{y}<extra></extra>",
         "legendgroup": "Veneziane",
         "marker": {
          "color": "#636efa",
          "symbol": "circle"
         },
         "mode": "markers",
         "name": "Veneziane",
         "showlegend": true,
         "type": "scattergl",
         "x": [
          5.928075554564071,
          7.439028578032517,
          6.724477852414194,
          7.9603924817764495,
          6.539414999961701,
          6.526208724497139,
          6.235203911999543,
          7.423686952917968,
          5.845844569298299,
          8.616267550626867,
          6.947357720533802,
          7.684358893638142,
          9.143727060120002,
          7.701752152703865,
          6.964989517026101,
          6.849196735572835,
          8.646387059057542,
          6.541730332738758,
          8.356645439604229,
          8.875969569191584,
          6.914722287619986,
          6.524513618278415,
          6.793928883363793,
          6.76436864482863,
          6.960279277725942,
          7.303344207021786
         ],
         "xaxis": "x",
         "y": [
          -5.697125945912442,
          -5.372725645364941,
          -6.218788976702721,
          -4.86879236582964,
          -4.437426669502392,
          -4.928455695429155,
          -5.047408649993406,
          -5.92520285483955,
          -4.843462613640898,
          -4.596736815643878,
          -6.36304455133516,
          -5.799857561715337,
          -5.092109569863851,
          -4.5747569107277855,
          -3.989337362690422,
          -5.042406061458347,
          -5.544655410333467,
          -5.987757149919847,
          -4.637627527058259,
          -6.305415620424188,
          -4.853877840480068,
          -5.398177815249141,
          -5.742414680694982,
          -4.893421039491595,
          -5.645571880033687,
          -4.655318078356164
         ],
         "yaxis": "y"
        },
        {
         "hovertemplate": "Categoria=Vetri<br>PC1=%{x}<br>PC2=%{y}<extra></extra>",
         "legendgroup": "Vetri",
         "marker": {
          "color": "#EF553B",
          "symbol": "circle"
         },
         "mode": "markers",
         "name": "Vetri",
         "showlegend": true,
         "type": "scattergl",
         "x": [
          -1.545600302898184,
          -0.9061306427495265,
          -4.076358992890139,
          -1.7911834330960814,
          -2.34041332383297,
          -1.761471805615596,
          -1.124762059830593,
          -0.5712572050183691,
          -1.3186748916434454,
          -1.9493104746404495,
          -2.7391313708338405,
          0.07819767370241673,
          -1.6404740183353856,
          -2.418498179836971,
          -2.2385835107354137,
          -0.9804373517156637,
          -1.9606944171648253,
          -0.8087627770356621,
          -3.1381885250264885,
          -3.6629785879194845,
          -1.3644233202420448,
          -1.3767914290245173,
          -0.09043666889417125,
          -1.9111258049708328,
          -2.7665937260813926,
          -0.40013279828036574,
          -1.1990415900602018,
          -3.2214455160059337,
          -2.233031373426314,
          -2.7488914989472124,
          -3.187984099087964,
          -1.7803893322675977,
          -3.772115026991332,
          -2.9488955904008645,
          -2.028671364751546,
          -2.808606789236767,
          -0.9372908020493462,
          -1.8718124380640537,
          -2.3561039521011446,
          -2.129663765924777,
          -1.8494975754778205,
          -1.6480943805156747,
          -2.895328482021868,
          -1.4638500070432168,
          -0.7571596749148872,
          -1.0904470451688428,
          -1.659099826888872,
          -2.7859485876209433,
          -1.7641504259531504,
          -2.6153905516786304,
          -2.1294603657061106,
          -1.216873110338357,
          -2.4061707265656405,
          -2.7697447027796267,
          -2.3034490534160286,
          -1.6839409633759992,
          -1.9028553052610826,
          -1.180428633078591,
          -2.36564160859783,
          -3.7449468542385858,
          -0.7166387105382589,
          -2.8247857330869763,
          0.7198377449488593,
          -0.2955296685505897,
          -3.178587457912047,
          -2.8397126004487725,
          -1.2295781880955052,
          -2.1784743308845185,
          -1.273211640571291,
          -3.0134061321136674,
          -3.11763246063696,
          -0.3467689152072497,
          -2.97864002826356,
          -0.41266796897403174,
          -3.1536835564996957,
          -3.042899729539501,
          -1.9541224083449833,
          -2.4445401553135353,
          -1.7124954215259294,
          -1.5745552888926166,
          -0.9681370949553825,
          -2.384406490229058,
          -1.8497934289197069,
          -1.507380599904632,
          -2.1568181645080986,
          -1.8866494873373172,
          -1.6864494101352678,
          -0.9919393053810127,
          -1.2572387094851891,
          -0.9647228665451032,
          -1.595913842840669,
          -1.7065823023315922,
          -2.5673158572593096,
          -1.7632155721376463,
          -2.853236288302965,
          -2.464020081520605,
          -2.111268110942485,
          -1.3937277157055992,
          -2.3735705517981835,
          -1.0429591020025777,
          -1.4404848475550116,
          -1.121003996778193,
          -1.7626808621987664,
          -1.2280674681539618,
          -1.6988126409990842,
          -1.8899267460601725,
          -2.418831717089983,
          -1.657230651223861,
          -1.6470897739587977,
          -1.8191355442276793,
          -1.3689219764821419,
          -2.5423235434850557,
          -3.6196428893923436,
          -3.3873067103924446,
          -1.7699163559742905,
          -2.97737929114847,
          -2.12307213491227,
          -2.3168924634768078,
          -1.9582346344884045,
          -1.658977558957756,
          -2.157730178469626,
          -1.2074087404391647,
          -0.5447572550949902,
          -2.741917651178916,
          -3.4993873498502444,
          -3.1808048151323995,
          -2.492802464887138,
          -1.1839432104949357,
          -0.4345191995913023,
          -1.57180773033937,
          -2.5205444853776067,
          -1.038812997087262,
          -1.4699960632490507,
          -1.6431980417600154,
          -0.6759520173009602,
          -2.4004327592015495,
          -2.5412510653282894,
          -1.4727730934168304,
          -2.3632913512524025,
          -2.295970033481157,
          -2.448346680985967,
          -2.4716425640716277,
          -2.7064401772377646,
          -3.6459203418088015,
          -0.40567121996747735,
          -1.2953825036234554,
          -2.4181137238740638,
          -1.8539536500384899,
          -1.9601592315316738,
          0.5545214685500698,
          -2.3254286943824227,
          -1.9383137977811362,
          -2.7532870414354416,
          -3.023746294530236,
          -3.057505313444296,
          -2.1877206926062134,
          -0.5672746616938575,
          -1.8224591792912554,
          -1.095901001404909,
          -2.891203208212987,
          -0.838114756836724,
          -1.3643209262360827,
          -1.4212867139416587,
          -2.8496829843362605,
          -2.778889310229688,
          -0.6268170582077959,
          -2.9396930539394655,
          -3.6861297077393678,
          -1.9751302941096556,
          -1.3221484870152322,
          -2.3179858141726943,
          -3.350016260540706,
          -0.9416888016073439,
          -1.277906486586846,
          -1.780104509236683,
          -1.4041967268943125,
          -0.6620519837622434,
          -4.261952516132457,
          -3.616924196294082,
          -3.175798336729488,
          -1.8795118400164692,
          -1.68513429658654,
          -1.2729114316051804,
          -2.1226634415865635,
          -3.216123320603708,
          -2.0726387349981086,
          -1.9378461578839756,
          -1.0702694341734544,
          -1.3103515125344662,
          -0.6677218261224971,
          -3.5899603868018395,
          -0.5386578172972861,
          -0.552186558900319,
          -2.4314702244781685,
          -2.8424884062408897,
          -1.5117807110334618,
          -2.0328119607347697,
          -3.342664402549122,
          -0.9231507012338667,
          -1.4459542902439182,
          -0.6619303164423378,
          -0.15223559248218638,
          -1.4536793427180255,
          -1.553496195641848,
          -1.4660794231019354,
          -0.8029723105473975,
          -1.2001201698494575,
          -1.6714447865378748,
          -1.8413571505183923,
          -3.1900865895671187,
          -0.5011277357784139,
          -2.613745549950217,
          -1.8279215084751095,
          -3.41809168971946,
          -1.3520875805966264,
          -0.6574358447562577,
          -2.2329167882351273,
          -2.818327263339027,
          0.07242041504614054,
          -1.5898572742036345,
          -1.4726681995302358,
          -0.11217994914331333,
          -0.543241916175114,
          -2.682334140603598,
          -1.993621860365829,
          -1.4816267289133127,
          -0.935169916208328,
          -2.9366461826547114,
          -1.8974570912113737,
          -0.9576994054477866,
          -1.8184593937925255,
          -0.5866584666039092,
          -1.0071232356446984,
          -3.2999902688010456,
          -3.0284327992842015,
          -2.70873724902755,
          -2.7027431516937397,
          -3.5260847695968223,
          -2.8574023291555504,
          -2.2330372498623348,
          -1.045959433531786,
          -2.934958861125719,
          -2.2982106648784906,
          -1.1835669930838506,
          -2.7727477345321248,
          -3.2342559865549148,
          -2.948276445897824,
          -1.3194819276038887,
          -0.6730481718960821,
          -2.442203505997448,
          -1.0282658144308867,
          -2.5120107704904404,
          -1.5419889507884825,
          -0.25650026097778605,
          -2.666968834227518,
          -2.627023725164484,
          -1.4145752456262735,
          -0.1278036216780197,
          -2.0913154279672246,
          -0.4000736012998293,
          -1.0721329197896645,
          -1.2784969426711248,
          -2.2242898702672766,
          -3.452468908589602,
          -2.387356914113964,
          -3.4516375725726434,
          -3.0903709790477345,
          -2.753494809278945,
          -0.3747046332488595,
          -1.5319076372975264,
          -1.3726658014943256,
          -2.3262357121996073,
          -1.7676206707881803,
          -1.915375707583327,
          -1.5184602318272542,
          -2.604449600155016,
          -1.4814403651847698,
          -1.2692359357062115,
          -2.6895912867865834,
          -1.4020734685262597,
          -2.418557547489597,
          -1.0681773766367186,
          -0.8322205953922603,
          -0.7819590515397301,
          -2.1507104566431856,
          -2.6834893869707175,
          -1.425987899383746,
          -2.5570453465338017,
          -2.6821631433820734,
          -0.7669579410483117,
          -1.8954546316950343,
          -3.3543926235061936,
          -1.0126716639691824,
          -3.654427394144493,
          -2.7279808700918755,
          -2.8482978020005216,
          -3.7068085681565237,
          -1.3358009288724824,
          -3.8933652041822833,
          -2.345154908421705,
          -1.5235201064447819,
          -2.7164789120989954,
          -1.811750604005334,
          -1.6883313546767291,
          -2.399833698474859,
          -2.770302560368991,
          -1.0994942797729887,
          -3.2656888904140318,
          -1.464586816045731,
          -1.854879994616641,
          -0.05208217853291147,
          -1.5450599380997367,
          -0.9183437955401319,
          -2.7320313992909977,
          -1.8078199806706359,
          -1.5968046671957017,
          -2.7300138848771414,
          -1.407554030427995,
          -2.3089052703730792,
          -4.193225776305228,
          -3.8193924248353754,
          -2.408867919453197,
          -1.961267154841237,
          -2.160371753718132,
          -1.3341005132368773,
          -2.150420678866079,
          -2.2146824421076325,
          0.4805537700041608,
          -0.8445009179199117,
          -1.504233278266665,
          -0.7040621495027417,
          -3.5877945450088284,
          -0.3232035697561135,
          -0.8237732653328358,
          -1.6842864328461016,
          -1.5865852582745994,
          -3.674774483864583,
          -2.474261054661563,
          -3.881014370537756,
          -1.4507226938203388,
          -1.6462458551432575,
          -0.5452905583361732,
          -2.1073559785766727,
          -2.689467547686393,
          -2.3585738669694147,
          -2.0680957042673094,
          -0.8426568923228726,
          -3.0946367648017694,
          -0.9672460998100119,
          -2.8703116212390523,
          -2.076721010562548,
          -2.0948417274643765,
          -2.839524733200342,
          -0.6634310795108904,
          -2.533201116142564,
          -2.981050757799832,
          -2.033770143736896,
          -3.4395013079188725,
          -2.4761001441263293,
          -1.2779143910943205,
          -0.9315063618784551,
          -1.4718843305939138,
          -2.0570261468543536,
          -3.103129580644473,
          -0.33538767670775194,
          0.24156219954128128,
          -3.168846816387001,
          -1.7860207366516112,
          -2.9347631249734065,
          -1.9307866218263863,
          -1.5541224042854698,
          -2.8425119588463255,
          -1.8774596075730112,
          -1.6869110320807985,
          -0.7823268779407502,
          -2.504504281281926,
          -2.1939990611580438,
          -1.340044030304578,
          -3.1442309387434393,
          -2.101578268053916,
          -3.1542350274541757,
          -3.0379603834937283,
          -0.14054574682044704,
          -2.5976007427251897,
          -1.8727002558807195,
          -1.3955455465987412,
          -3.5293240049877648,
          -1.0069785533503173,
          -2.460806933844108,
          -2.2424396390598926,
          -1.540793836236639,
          -2.585462596734661,
          -1.0799821279781818,
          -2.3603745474304367,
          -1.7306137377612698,
          -2.1086360911863724,
          -1.0686315466484984,
          -2.8834332674109744,
          -0.5198220706616294,
          -2.6854168452598737,
          -1.8503726423469806,
          -2.6639336388010886,
          -2.655393638964519,
          -2.5504942344861097,
          0.35269225510917074,
          -0.8225084983520756,
          -1.3252538903239102,
          -2.6522067667313562,
          -1.2037175095470294,
          -1.6500823193764864,
          -2.2578530973835162,
          -1.8900052524624404,
          -2.5038938621453695,
          -2.2207683891871968,
          -2.00654496789775,
          -0.25996191548522435,
          -1.9013566394361234,
          -1.7326539624436357,
          -2.9911289278592688,
          -0.7375927608514644,
          -1.6783493314685156,
          -1.0239299279750425,
          -3.291190482245408,
          -1.582321445516441,
          -1.7718844308008566,
          -2.2839906988741907,
          -0.6671543443765925,
          -0.7683551382516983,
          -3.1662582212678916,
          -2.557070351607724,
          -3.878592585812627,
          -2.011651555701464,
          -1.5733901573833433,
          -1.5954725212611005,
          -1.584877131864471,
          -1.6771677888105232,
          -2.2365267508756013,
          -1.0796021989714333,
          -0.9307792507326481,
          -0.1567745307941687,
          -1.5427969845069798,
          -1.6749413920609546,
          -1.7447747264077886,
          -0.9381007940409117,
          -1.8900732361303392,
          -0.8979813916611852,
          -2.039103290535381,
          -2.62838337924808,
          -0.9691263871182602,
          -2.0224678207814946,
          -2.5628347620143246,
          -2.0812924634499517,
          -2.092070696923453,
          -3.0508780357133247,
          -1.4787087955801639,
          -0.9871546458518126,
          -2.4533529932085902,
          -1.5075503739738967,
          -2.5899655636213375,
          -3.049275771817581,
          -1.1807374509595394,
          -4.140573705572035,
          -0.9512786885914561,
          -2.646182525650703,
          -1.9982865484783796,
          -1.6786841572582727,
          -0.5723362343764861,
          -2.205121149684864,
          -0.9795424833965402,
          -1.6978561238260967,
          -2.2149934241184344,
          -2.474332222322244,
          -1.8070623857501067,
          -1.7176493506357207,
          -2.8645347393684433,
          -0.9818325393375871,
          -1.9002902224139593,
          -3.0928985139167957,
          -2.3027068781167324,
          -0.7408782571136934,
          -1.609862494992673,
          -3.0611602472385697,
          -1.1729229219789694,
          -1.1964208108579246,
          -3.082420142326241,
          -1.388648694990509,
          -1.8336687949890447,
          -2.159026654012881,
          -0.5616922276826869,
          -2.6414589957297014,
          -2.4394635267270823,
          -2.60012651071483,
          -3.4250944068507314,
          -0.7459540457269546,
          -2.9777048445638594,
          -2.224895873043829,
          -0.8233567744183816,
          -3.287482692869077,
          -3.115914443305391,
          -1.2632863468524456,
          -1.269935699787942,
          -1.8264974152735343,
          -1.0146538827849925,
          -2.107364162263673,
          -3.958968272737017,
          -3.918304051495451,
          -1.796203309780937,
          -2.344143417671137,
          -2.4738534306434863,
          -1.1031925739353967,
          -0.8574876825909494,
          -2.1133433852674424,
          -2.059612838003171,
          -1.06942776716366,
          -2.0989945497100804,
          -1.0111506425633876,
          -1.496853349744298,
          -3.5620095414582837,
          -1.6803476373551918,
          -0.6387223434708549,
          -1.5980466802982347,
          -3.3423729967015703,
          -2.4585719661757657,
          -2.1067002375853745,
          -0.976704023732157,
          -1.0016053387568096,
          -1.204641897178196,
          -3.5373368445756967,
          -2.028170375811959,
          -1.0331937371293152,
          -2.492488760778597,
          -2.7836571929127087,
          -2.856784102306172,
          -2.7087639004726873,
          -0.08679304384899242,
          -3.930120240366536,
          -2.4965913622629143,
          -1.5900186859670895,
          -0.8179096375054572,
          -1.6943395028867858,
          -3.0399169660488394,
          -0.9723337158049883,
          -2.3889234751673154,
          -1.8358797117280856,
          -2.4073930472317127,
          -2.387373802272365,
          -3.059929251517265,
          -3.5732920334598246,
          -1.8147242847567147,
          -1.5349249419774669,
          -1.730722285581629
         ],
         "xaxis": "x",
         "y": [
          0.3182836823339642,
          2.2609590301929736,
          1.8150363246853654,
          -0.7751427291268806,
          3.1216182350152977,
          -0.6306346639990936,
          1.6573454061682562,
          1.8343093422541494,
          2.1012457852209323,
          0.9545782317724163,
          0.5378077047012029,
          0.9973325327198416,
          0.754195639229897,
          2.254200573185632,
          1.4025832152309354,
          -0.31371402939203885,
          1.1567185748895803,
          0.5664401029209738,
          0.6640804102456975,
          1.4549822585229149,
          1.8682990465146438,
          2.6404974959037513,
          1.385844274201705,
          0.8314254722892264,
          2.7358488476966523,
          0.7914895195166356,
          1.3912300283261423,
          1.6477233052241367,
          1.5298162013902432,
          2.1775679839238835,
          0.7925708939157587,
          -0.06406776368548946,
          2.3086937084193684,
          0.13404677228865167,
          2.139445913259443,
          0.25999315611057167,
          2.1222950087889845,
          0.9423313983665474,
          1.9846555532213181,
          2.581308465473982,
          0.19733049461227462,
          0.1256499222956967,
          1.3661738685622502,
          2.0029168272771547,
          2.168350232566062,
          2.3640709523643486,
          0.5400688912987278,
          2.050560541621613,
          -0.915067523775376,
          1.0104590629607364,
          2.3161009087987394,
          1.8629022838154683,
          2.756327687078628,
          0.00474344466686089,
          2.810694009944566,
          1.6060488442294314,
          1.062527054715373,
          -0.4419574814139012,
          1.2557676871310175,
          1.6423965261268927,
          0.5494392611321005,
          1.381695009812291,
          0.40597099913980356,
          1.4366463431214265,
          0.41010332114665116,
          1.1996501409552942,
          2.4892294417302154,
          0.13085945322720266,
          1.9959659944732442,
          1.0532903231377193,
          0.43219181972362825,
          1.3285304974803378,
          0.4511878221161726,
          1.3291261756902955,
          2.1287699179198603,
          2.449293835672981,
          2.3958263285449384,
          1.4529473167826819,
          1.012847900485342,
          2.1957650860320204,
          2.417196677411663,
          0.6391321618515515,
          0.9318762507240423,
          2.5580869929354146,
          0.38797938712603264,
          1.9540064064600466,
          2.1498154052544547,
          2.0252032012256183,
          2.3678160134178596,
          1.8987725025089195,
          2.4688319421776477,
          1.915392692373281,
          -0.22387289223880705,
          1.2761307290831856,
          2.396626045925642,
          1.123760365408954,
          0.7035227042534481,
          2.850625215045045,
          1.6347350398218459,
          -1.1548133364086326,
          0.1632070854293165,
          2.182176180964644,
          1.268637820087832,
          0.26028594092400165,
          1.804897605091412,
          2.2152685125240614,
          1.6088236251797583,
          3.085118133591289,
          1.3887821641469535,
          3.3687338837537144,
          1.771574948285119,
          0.49243297567090494,
          2.2408664352168093,
          2.944855261807713,
          0.7293426668327322,
          0.9805203838062859,
          -0.09505205132522161,
          1.7478150772978682,
          2.0952430233964257,
          -0.19290279460807913,
          1.197148878652775,
          0.22783599710215613,
          1.3863994915559135,
          0.7114060742689184,
          1.3472364285340839,
          0.32225783654503876,
          1.1643883610605514,
          1.808133845881197,
          1.5977475173360214,
          0.5965687460479456,
          0.18002532924324632,
          1.4641315430978032,
          1.1787487168261277,
          0.48048648582884296,
          1.4495735991436411,
          0.029215704048920963,
          1.6000060237089742,
          2.70591440890133,
          1.54555037611313,
          1.463453821927897,
          -0.16753553512456976,
          1.9245277847112332,
          2.550823678426044,
          0.9747797915372775,
          0.9222993950949077,
          1.2438101318186967,
          1.4241270590806634,
          1.9979269590381112,
          1.7674469771190424,
          0.5974846765678703,
          1.485745383955693,
          0.9342242383448677,
          0.6403599583316184,
          1.7839697984875555,
          1.997439109894506,
          3.2838928743995885,
          0.44976774182992124,
          0.7920674128575874,
          1.7985874947604816,
          1.37214188306798,
          1.9180004297529485,
          2.5525789469912343,
          1.1120551936777507,
          0.10021827571432841,
          1.122612021162927,
          0.965156542435142,
          0.5154411878645375,
          2.1482764713181552,
          0.3506091446056173,
          2.6880511545843,
          1.6665927976242505,
          1.3669838422247877,
          1.3443184550029068,
          1.6487166037539343,
          1.0124004375565898,
          2.0779685605309677,
          1.9808029871874866,
          2.0866544246716185,
          1.109398974053322,
          0.31557281530068854,
          -0.7586442427963092,
          1.7980574198308341,
          2.0016069379149455,
          1.0754453217204563,
          1.471672581757845,
          1.0969802529850807,
          0.4884539273817992,
          -0.45586964728932405,
          1.5025435831791645,
          0.8422229250519342,
          0.8855340299701874,
          1.156508447808642,
          1.236646923182716,
          0.7100304297272306,
          0.5966018806391186,
          -0.3038063599089835,
          2.213568075861564,
          1.4777288149862855,
          0.3500533945225342,
          0.24798949860142253,
          2.065111879451734,
          0.8263470292784052,
          2.836678880118107,
          2.597805093056836,
          1.7148035237109098,
          2.31739261069798,
          0.179638157555224,
          2.9198576753919596,
          -0.07526675265776968,
          3.317941866770019,
          1.1332510698260958,
          2.2077711548290364,
          -0.5566141021495171,
          1.8802822582791332,
          1.1996181209418557,
          0.9905622578765999,
          1.1085987748565467,
          0.5380906082645693,
          0.7374739813317267,
          1.6796779186734572,
          0.3006591822568329,
          0.3558773646066018,
          1.9178512531058411,
          2.721049203706262,
          0.9123542679689692,
          1.6382409780735399,
          1.2442555938187914,
          2.1555722726937825,
          1.1514992511308204,
          1.4214661569666098,
          -0.6861616966290912,
          1.9768947828214845,
          1.7029276975348817,
          2.335422613260476,
          2.068249258449,
          0.5819565090989426,
          1.342846649279342,
          1.933644568178352,
          0.6810546809538424,
          0.6840410208084777,
          2.1333566136262636,
          1.8310596888962083,
          1.171045700693358,
          2.3629704533224,
          0.2938998170502396,
          1.9526361847756706,
          1.1335502932511778,
          2.504579989512182,
          0.8430435896610843,
          -0.2760571511087315,
          0.7523491036983002,
          1.0838368341302556,
          1.4329850106058515,
          1.5793394161149468,
          0.4454006220438939,
          0.6708780287719941,
          1.036170812980232,
          1.3348839998571296,
          0.37795279245398483,
          1.6798346013843095,
          0.31761954379636914,
          2.715197303372301,
          -0.6346826724519589,
          1.563065545868765,
          0.6538940782978296,
          0.6724689693212837,
          1.8841641965160074,
          0.0885812004749363,
          1.4554010400505757,
          0.4405605405376534,
          2.1323049295610788,
          0.6830069948414703,
          2.169448410375713,
          3.133989459934536,
          1.1425180818463776,
          0.46476416007856974,
          2.008890565442564,
          0.3959782089776986,
          0.9320840069144829,
          2.778972173489453,
          2.237112836979896,
          0.2387972012302598,
          1.395537446121798,
          -0.1878468613278993,
          2.263114833996802,
          1.0913103675098128,
          1.3768097140351907,
          0.02872671465247914,
          0.827879435729179,
          1.5793801524408706,
          2.055002101799724,
          1.6192865386741688,
          1.5996223628602046,
          2.1049273891672633,
          0.6026283291128788,
          2.91866817645935,
          2.160915403003368,
          2.779888374623816,
          1.8282760016277515,
          1.80056141173196,
          2.4627136481941645,
          2.5784907104506516,
          -0.47590367742695966,
          1.5300300053846227,
          0.19976373449680113,
          1.1983633131222304,
          2.405242989322559,
          2.1624178857904135,
          2.686820613765466,
          0.027706729104416173,
          1.3281544560231566,
          2.153056229826235,
          1.6432621903155578,
          1.963910864503015,
          2.564655158477113,
          1.3434977902100855,
          1.9725798241680315,
          1.4736539169176435,
          1.959217783555373,
          2.0097070309138405,
          1.3557244703885087,
          0.8363649081425506,
          1.6256362738204873,
          0.395017052567201,
          2.0507084240844056,
          0.6981848652046093,
          -0.0959154288373334,
          0.007734877525100049,
          2.0808336049695644,
          2.3881414773944227,
          0.9823704015843951,
          0.895510190412224,
          1.585937057986257,
          0.8778051234507487,
          1.7692784284170568,
          0.8378483421304816,
          1.0362784399330547,
          2.0379128181680772,
          1.2249999084029033,
          1.4169137093999027,
          0.6285492274867338,
          1.5709200051587087,
          1.043575853787559,
          1.3328183390744044,
          0.3975325779294952,
          0.7852961769670042,
          1.0520575335603994,
          0.875250395312024,
          2.45752243516941,
          0.10015242560897508,
          0.931944449910202,
          0.9921646210161493,
          0.1549561103299466,
          0.24458364908733704,
          1.1819456901459542,
          0.8745682765986865,
          3.3716833343680146,
          1.4412029860558262,
          2.0925151238757347,
          -0.11370707202353957,
          2.1784967655263885,
          1.1716208527797178,
          0.5465706014444346,
          0.7437832906897266,
          1.610589073750533,
          -0.6015846420570236,
          0.9270118862723646,
          2.6441194972767343,
          0.11844829145991626,
          1.1967137498910365,
          3.169159081662044,
          1.0606372662111945,
          1.734552093023686,
          1.7569513425364445,
          0.0879468738121759,
          2.8841662070604785,
          3.161336358030558,
          2.61258530099216,
          2.245279292386606,
          0.3618068662112708,
          1.4108460720326637,
          0.9828578270026959,
          -1.2346658869257507,
          2.441076748492009,
          0.8949315422294442,
          2.3141730960119604,
          1.663048407325868,
          1.6269370740319278,
          2.0948198426616504,
          0.19988286891374854,
          1.874985932581319,
          0.4223596143655456,
          1.2123784724453528,
          0.07146119450156396,
          0.42931614188835865,
          0.44138195174869704,
          2.5584229366922453,
          1.912120682981006,
          0.03158980985896939,
          1.5721270491067363,
          1.9732334101202895,
          1.8316000434495576,
          1.1021454345381176,
          2.1251264134155776,
          0.921467122904524,
          2.346322843064833,
          -0.5656690022430182,
          0.9996359682289093,
          0.36379514791115464,
          2.095450596694074,
          1.1552739027511492,
          1.3454507662618698,
          1.4346993621558712,
          1.3555855588005425,
          1.2952219854202713,
          1.6345781303536215,
          -0.20521371346157918,
          2.108358250169356,
          1.0439379029130456,
          0.4414218558923845,
          2.5727365283324843,
          2.41114308451219,
          1.1435352801624097,
          2.427350832233721,
          1.2507650151526442,
          0.654530420440879,
          0.8845155426895048,
          1.6190875342792244,
          1.2412054736606788,
          0.4307210930267996,
          2.4153600557329478,
          1.4323439264278102,
          2.923942458271116,
          0.40726869822679374,
          1.625194147279871,
          1.487083594901138,
          1.3752867871991246,
          -1.0235346807058194,
          2.0780262038468273,
          0.9527213910080605,
          1.5371958184579917,
          2.5274460998058705,
          -0.08529812154278697,
          1.4919591352473267,
          -1.1914143753583457,
          1.2612796305140022,
          3.228507321724126,
          -0.10770919906376435,
          1.4736360751800845,
          1.7063312159342747,
          1.5559258740356072,
          1.590427246787945,
          0.19107287014039495,
          0.8868936411155555,
          0.24958100937925143,
          2.426778050222586,
          1.8330543701138446,
          0.3705968125947515,
          1.60430009972584,
          0.7520324575562065,
          1.2255084762356458,
          1.5882712475217646,
          1.2060120991754497,
          -0.0043924746929667495,
          1.5466526494477433,
          2.6570863027655154,
          1.7281260687775541,
          0.8123059172570035,
          2.0104566679026155,
          1.566592537289947,
          0.7436061462614305,
          0.7130209824382081,
          1.5940466687410655,
          1.015327336563945,
          0.3146900182407769,
          1.0399310906441053,
          1.3518808435281746,
          0.3188681724841701,
          1.121769170504315,
          2.13711625683997,
          1.2142704189398965,
          1.6933776258004434,
          2.142502783940151,
          1.9415671714324416,
          1.923694704497181,
          0.9338409516795466,
          0.6986124497572043,
          -0.6566018922795307,
          1.7566468826146524,
          3.1684149741591727,
          -0.14161068456282572,
          0.9224641684173714,
          1.7868181846768225,
          1.2724741906609214,
          0.7264785809084052,
          0.4746391200192767,
          2.15806133169634,
          2.7029662127095477,
          2.0854041954583016,
          1.5229716503811361,
          1.9972692463793227,
          2.3791049088878213,
          1.3607746232755953,
          0.7576107298144285,
          1.6445447538994054,
          2.272469835034943,
          2.2099228577388543,
          0.7600816483371771,
          0.7947941545809243,
          2.0152495205039442,
          2.1921454006706793,
          1.4783700380839757,
          1.1807963616167685,
          2.0634831437046626,
          0.3443437048962981,
          2.5699053799484566,
          -0.16245564781513938,
          2.3661094300248076,
          0.7027472465241018,
          0.9981891866387071,
          2.4532963028159025,
          1.6919757303166916,
          1.3793024080485603,
          1.387397192917497,
          1.876829826574176,
          1.901818781269764,
          2.602539963660274,
          1.2137640707685209,
          -0.7967260600788649,
          2.403115781930615,
          1.1331272332845213,
          0.938182913235055,
          0.03737206023904358,
          0.7255057955656672,
          1.1065506632444877,
          1.7071937529829189,
          2.249051198834237,
          1.9586586607660226,
          1.3672019483726339,
          1.5603505150224708,
          0.6967710255515378,
          1.1572995782097883,
          2.5585084209552216,
          0.7862852856356458,
          1.0349260386929904,
          0.8855970235969006,
          0.3350197141300491,
          0.9802538847376886,
          2.946406942549935,
          0.4301187252407676,
          0.0669980426915577
         ],
         "yaxis": "y"
        },
        {
         "hovertemplate": "Categoria=Ante vetro<br>PC1=%{x}<br>PC2=%{y}<extra></extra>",
         "legendgroup": "Ante vetro",
         "marker": {
          "color": "#00cc96",
          "symbol": "circle"
         },
         "mode": "markers",
         "name": "Ante vetro",
         "showlegend": true,
         "type": "scattergl",
         "x": [
          0.22106240809744218,
          0.11988762418637033,
          -0.6648711964429185,
          0.15022644276687908,
          -0.3118464401760187,
          -0.3622900079348717,
          -0.5025472190735095,
          -0.2630416634972231,
          -1.1064430230936244,
          -1.1952261985430768,
          0.00006972572437585116,
          0.07069516205939771,
          -0.10069340600708973,
          -0.15021325384558584,
          0.003816082508212917,
          -0.6486270497593227,
          0.16537708893434172,
          -0.24013960249975944,
          0.679280388761076,
          -0.24848217138628712,
          0.09562558323011278,
          -1.4612791951773096,
          -0.4552710795745218,
          -0.4739503636884544,
          -1.4406720800325847,
          -1.2872901099419054,
          -1.1363687598749208,
          -0.36541916990501416,
          -0.3351815574134087,
          -1.7625467671428061,
          -0.564513133758035,
          -0.04944028257395058,
          -0.3945357058023728,
          0.4811373703108758,
          0.7190175355784241,
          0.08593232011425164,
          -1.1734922403826522,
          -0.23132455405678062,
          -0.5258479309710073,
          -0.5520982082898568,
          -1.2148511525783987,
          0.16064899572547756,
          -0.7365782645251342
         ],
         "xaxis": "x",
         "y": [
          0.33932722206953186,
          1.0644951165559071,
          0.30298610015718414,
          0.35188489295016717,
          0.993860413146111,
          -0.06766940580172386,
          -0.1120031693169203,
          0.4841605829298663,
          0.7605272487142373,
          0.5348382713503481,
          0.5758483723603215,
          0.7977974501584926,
          0.371151274379927,
          -0.1692279935875097,
          0.4196859919595261,
          -0.8098231490606367,
          0.7975438520029985,
          -0.36287464349900134,
          -0.15327812372014205,
          1.0444753927159494,
          1.1998263838496523,
          1.06736748681489,
          -0.2756726341382665,
          0.43847087161087966,
          0.46380632235346286,
          -0.053381269047683845,
          0.17466297651354565,
          0.8067037848485392,
          -0.26982530611669164,
          0.4204144190283455,
          -0.8232270542977745,
          1.362463230463589,
          1.6026137346027272,
          0.6791060650244957,
          -0.555827900046499,
          1.0540875033996095,
          0.7629690689368631,
          0.6534990851601031,
          -0.8291907706534012,
          -0.30989978155690906,
          -0.2642594368284464,
          -0.5325289783912774,
          0.9897745695744168
         ],
         "yaxis": "y"
        },
        {
         "hovertemplate": "Categoria=Visive<br>PC1=%{x}<br>PC2=%{y}<extra></extra>",
         "legendgroup": "Visive",
         "marker": {
          "color": "#ab63fa",
          "symbol": "circle"
         },
         "mode": "markers",
         "name": "Visive",
         "showlegend": true,
         "type": "scattergl",
         "x": [
          -3.0728491572810714,
          -0.6010350040363636,
          -2.2198799828214684,
          -2.588674113967779,
          0.8072789457705525,
          -1.8839562635473375,
          -2.05797826235993,
          -3.165040582465607,
          -1.7105065136370696,
          -2.3568101533098176,
          -2.7572615208901703,
          -2.4509240313826055,
          -0.31164328147539555,
          -0.7471271402465178,
          -2.182812900890304,
          -1.536878649384198,
          -2.3727193151969885,
          -2.8745271650045647,
          -2.2286724697541254,
          -2.25614451758051,
          -1.847967387825824,
          -4.152919611809338,
          -2.182461980517826,
          -2.3439637684894032,
          -2.144766064022305,
          -3.061316224418188,
          -2.693180361498372,
          -2.542059437772509,
          -1.2730834078976114,
          -0.4958999206121179
         ],
         "xaxis": "x",
         "y": [
          1.4249206606606373,
          1.5957934663044713,
          2.187893857992513,
          2.0960339577439346,
          -0.06214538659325163,
          3.0801988123507287,
          0.3152331029703838,
          0.4164764889183492,
          2.2112257627372873,
          -0.21886422150551135,
          0.5268158962487127,
          2.856808335251143,
          1.5672620895276683,
          1.8518745701236072,
          0.4785118926361028,
          0.8747872842658441,
          0.6090528445101936,
          1.7089669089673962,
          0.9141921553316658,
          1.373523484253897,
          -0.05682078238459609,
          1.9406615902438145,
          2.981745908085962,
          0.12907374066405744,
          1.1624349696124059,
          0.657521362016338,
          1.8742492060658382,
          1.3372321950057564,
          0.2487512165290741,
          0.4074910083110663
         ],
         "yaxis": "y"
        },
        {
         "hovertemplate": "Categoria=Ante Acciaio<br>PC1=%{x}<br>PC2=%{y}<extra></extra>",
         "legendgroup": "Ante Acciaio",
         "marker": {
          "color": "#FFA15A",
          "symbol": "circle"
         },
         "mode": "markers",
         "name": "Ante Acciaio",
         "showlegend": true,
         "type": "scattergl",
         "x": [
          5.577766856850629,
          4.5985171220209,
          5.339565212280373,
          6.155413528585128,
          6.090663225199153,
          6.061324379469268,
          5.017555993634138,
          5.081985863639956,
          5.524537280417083,
          6.22020161546502,
          5.322657514622135,
          5.796572711974612,
          5.42012412655799,
          6.500512293555363,
          4.946006197099654,
          5.10029236334587,
          4.745543336224637,
          3.896696163591042,
          5.613242809204752,
          5.514712770197208,
          6.627159357379344
         ],
         "xaxis": "x",
         "y": [
          -4.255929791240561,
          -3.5195060031725016,
          -3.0054565681492775,
          -3.7485833494472858,
          -3.476191212192481,
          -3.8337904080066787,
          -3.6756609129244366,
          -3.808366340182758,
          -3.124678503849295,
          -3.849191879196796,
          -4.818514196013399,
          -4.214321625391412,
          -3.3332030694748296,
          -3.4206551023500116,
          -4.298131673426207,
          -3.5203767145500193,
          -3.3985820408165766,
          -3.296882308061541,
          -3.24679734110575,
          -5.114199496561477,
          -3.843506203250273
         ],
         "yaxis": "y"
        },
        {
         "hovertemplate": "Categoria=Profili Alluminio Flux<br>PC1=%{x}<br>PC2=%{y}<extra></extra>",
         "legendgroup": "Profili Alluminio Flux",
         "marker": {
          "color": "#19d3f3",
          "symbol": "circle"
         },
         "mode": "markers",
         "name": "Profili Alluminio Flux",
         "showlegend": true,
         "type": "scattergl",
         "x": [
          5.177009492042179,
          5.991845382834651,
          5.772691655247251,
          5.869078961734625,
          6.133545446346325,
          5.752597003090042,
          5.395771762072459,
          5.310983250377511,
          5.901509586738499,
          5.762164426597321,
          4.979077673247744,
          6.13210126212147,
          5.608389470206919,
          5.37692101619974,
          6.246589810878903,
          5.326895513426319,
          6.429623906213256,
          6.014106308056783,
          4.866321858233734,
          5.2490034032853705,
          5.710477336340257,
          5.513196866487705,
          5.8068436962633765,
          5.650116845863783,
          5.875248954562359,
          5.7443474245992,
          6.101229283804308
         ],
         "xaxis": "x",
         "y": [
          -4.023543632259548,
          -2.684548883181233,
          -2.891109073023422,
          -4.134954204773152,
          -2.88082842779936,
          -4.154389336574923,
          -2.8888007519522354,
          -2.874244416436889,
          -3.525439152624797,
          -3.692743050460115,
          -3.558104013708939,
          -2.651877195559904,
          -2.3926974082803842,
          -3.5259591941965014,
          -3.8809995794627494,
          -4.001015410336739,
          -3.79445700514085,
          -2.832470041167163,
          -3.1884549907433697,
          -4.1706385884789485,
          -4.83061362965557,
          -3.0913586864601665,
          -3.6919890834193145,
          -3.1716035797368742,
          -4.573304318990972,
          -2.550016825237062,
          -3.474990004976975
         ],
         "yaxis": "y"
        },
        {
         "hovertemplate": "Categoria=Profili Alluminio Flux 2<br>PC1=%{x}<br>PC2=%{y}<extra></extra>",
         "legendgroup": "Profili Alluminio Flux 2",
         "marker": {
          "color": "#FF6692",
          "symbol": "circle"
         },
         "mode": "markers",
         "name": "Profili Alluminio Flux 2",
         "showlegend": true,
         "type": "scattergl",
         "x": [
          6.695579943870358,
          5.773683261282273,
          6.849515396553899,
          4.896046623322153,
          5.34088234226481,
          6.180583865573931,
          5.775186365107571,
          5.002611877534484,
          5.548485586885232,
          5.5874220772487355,
          5.222505625798502,
          6.80345907642679
         ],
         "xaxis": "x",
         "y": [
          -3.886541951508225,
          -2.5821497194889105,
          -3.8764166082094333,
          -3.0426125129991712,
          -3.6368085386032045,
          -3.8045398083955693,
          -2.747000642120131,
          -2.6239063282280077,
          -4.6589749438049735,
          -3.8095530094026526,
          -4.2215415257649545,
          -4.578466704537453
         ],
         "yaxis": "y"
        },
        {
         "hovertemplate": "Categoria=Profili Alluminio Kybos<br>PC1=%{x}<br>PC2=%{y}<extra></extra>",
         "legendgroup": "Profili Alluminio Kybos",
         "marker": {
          "color": "#B6E880",
          "symbol": "circle"
         },
         "mode": "markers",
         "name": "Profili Alluminio Kybos",
         "showlegend": true,
         "type": "scattergl",
         "x": [
          -4.268482247111803,
          -1.1402073479618264,
          -2.3591954192955336,
          -4.273874824489533,
          -3.1421682988700916,
          -6.4173023978061865,
          -3.9542311831938646,
          -2.3740096882550423,
          -2.4911532357105224,
          -4.648493268827703,
          -4.860696377933181,
          -2.8190277317318078,
          -3.2790072630345897,
          -2.780216839762083,
          -3.7244403416052454,
          -2.6562170992509606,
          -1.617924304144216,
          -4.116494964207532,
          -1.3515218595037457,
          -3.5157352642856208,
          -1.7266122506117767,
          -2.9934627535792138,
          -3.8657216013257427,
          -1.3604236428240326,
          -4.892018449776927,
          -2.6761198556069394,
          -6.53932104369425,
          -2.186826406924613,
          -4.6054871448572765
         ],
         "xaxis": "x",
         "y": [
          1.7998675669299482,
          -0.2611790737248525,
          2.9912606197699994,
          5.984142874896883,
          5.106328669089122,
          3.364914400289721,
          1.902766270920184,
          2.6050604927616803,
          1.7176415637198061,
          3.0213205126579186,
          1.024121777128862,
          3.579633614770974,
          5.394200050660407,
          1.958176034116143,
          2.674749220031877,
          3.1390487121501285,
          1.7164328391660746,
          3.1498893045452485,
          2.77109715610297,
          3.5034692990654124,
          3.2496568438910187,
          1.2861725242052309,
          1.4233115377566286,
          1.1295753304958065,
          0.6115707755128481,
          2.3617108056087446,
          2.9741004085198286,
          2.3645746525059033,
          1.0048456092562412
         ],
         "yaxis": "y"
        },
        {
         "hovertemplate": "Categoria=MP Acciaio<br>PC1=%{x}<br>PC2=%{y}<extra></extra>",
         "legendgroup": "MP Acciaio",
         "marker": {
          "color": "#FF97FF",
          "symbol": "circle"
         },
         "mode": "markers",
         "name": "MP Acciaio",
         "showlegend": true,
         "type": "scattergl",
         "x": [
          4.755013750140511,
          4.7682299017744025,
          4.567982054748646,
          3.8175862859897305,
          4.19211086412657,
          4.572500318998179,
          3.6220186618140016,
          4.207576380844967,
          3.9941575339775937,
          3.8204018737499323,
          3.2362267910407883,
          4.175026813984252,
          4.392077978584718,
          4.391102393153862,
          4.943644213326903,
          4.178582710974914,
          4.00903417724197,
          4.396508119567193,
          3.4346348205743875,
          3.4220758657948602,
          4.940895759074852,
          3.2369316482653923,
          4.399124750253351,
          4.574825500305953,
          3.8040419061047053,
          3.798479434272119,
          4.380459897152825,
          3.2407170627137947,
          4.759099436319279,
          4.393921952555912,
          4.203485952392093,
          4.573843586542571,
          3.0462697786949358,
          3.6315973257056453,
          3.817951102376399,
          3.822539320643699,
          4.950355789194255,
          4.357710675012405,
          5.1206653831276645,
          3.6264852231922204,
          3.4327091479987026,
          4.584163126996111,
          4.362355254426371,
          4.007239342052469,
          3.9884605117141745,
          3.439312952316413,
          3.8103374692441023,
          4.573341651079807,
          4.1851888748468475,
          3.433049104910427,
          3.689396084102758,
          4.433887495943309,
          4.425947159288827,
          4.571611980658561,
          3.981894550649623,
          4.139782474394605,
          3.993304068666229,
          4.286822858905314,
          4.430031426629116,
          4.28049134057801,
          3.6953242392258714,
          4.714096462795615,
          4.855862806153213,
          4.289025920648945,
          3.249736986890572,
          4.428615438730249,
          4.439398961921893,
          3.549887071247556,
          3.4047098026673055,
          3.689798028444161,
          4.28180520932218,
          4.286969510216129,
          3.69639273192616,
          4.42900869186165,
          4.429738289756093,
          3.9855452190696057,
          3.5490640175314496,
          3.996185026282863,
          4.431518346203643,
          4.426078611582993,
          4.431312549117433,
          4.268295826132084,
          4.429685197755584,
          3.625738347211631,
          4.112346303849334,
          3.4067996088905486,
          4.025591111902048,
          3.4361720036476506,
          4.434689528385459,
          4.281693149509768,
          4.714096462795615,
          3.8497264085657728,
          3.9918695868924963,
          4.282985944565749,
          4.426078611582993,
          4.117674603825135,
          4.12017513446431,
          3.9926265548821367,
          3.39950786874446,
          3.5502177362176024,
          4.281757274887117,
          3.99164542036354,
          4.13692548080144,
          3.4097807576655637,
          4.576635125533123,
          3.8370686185771175,
          4.435844151078511,
          4.138129892885614,
          3.693628593031708,
          3.9813043713772034,
          3.252817282636457,
          3.6960931063690983,
          4.855862806153213,
          4.286692414131138,
          4.576635125533123,
          3.842977142366148,
          3.842086899062845,
          4.435844151078511,
          3.9870828559865417,
          4.1438659378211335,
          4.141960212413679,
          3.255181547439524,
          3.550990271310851,
          3.9883073592998564,
          4.435844151078511,
          3.9820214297821837,
          3.6932516649465317,
          4.431166759812544,
          4.438162583475769,
          3.6881299467530484,
          3.8442491640341308,
          4.426183478912711,
          3.5407443160767187,
          3.7024997245511164,
          4.142118054170339,
          4.131630217912917,
          4.576635125533123,
          4.289965712266706,
          3.7037246874116105,
          3.8416845246499136,
          4.568598407236819,
          3.39305276218089,
          3.8399330142582713,
          4.572412337994612,
          3.5464883340802147,
          4.875935099228966,
          4.140528020059949,
          4.598122742971575,
          4.88190242363901,
          4.011334004290349,
          4.692788783516728,
          4.442861937357536,
          4.708938929951157,
          4.285570429363194,
          4.352238232365659,
          4.57546843772052,
          3.9970189074048417,
          3.6982524980667235
         ],
         "xaxis": "x",
         "y": [
          -2.8011738713870997,
          -2.8151315799248713,
          -2.588711427919158,
          -1.681063138938566,
          -2.131120756184979,
          -2.5862945814664284,
          -3.000925512105514,
          -2.1431353848859147,
          -3.438222199008875,
          -3.2307212210755685,
          -2.5391898884630035,
          -3.658395903262841,
          -2.3590277182505623,
          -2.3678816487932615,
          -3.022238504337761,
          -3.665473682993741,
          -3.455490292512804,
          -2.376551835785841,
          -2.765853701701034,
          -2.754781407411171,
          -3.03766481118314,
          -2.534160598437352,
          -2.377311633821953,
          -2.5974356691546596,
          -3.2163619997778596,
          -3.2110522512319415,
          -2.3620786739169604,
          -2.5420988660438497,
          -2.8072609422817307,
          -2.3691162405754027,
          -2.1422341625364676,
          -2.5963260788572633,
          -2.3019609901252327,
          -3.0104572852706997,
          -3.2257844029825753,
          -3.2289735422100754,
          -3.0363989420777133,
          -3.883536764210038,
          -3.2510689967383177,
          -3.00972701380418,
          -2.7715248459004123,
          -2.594460004339643,
          -3.8870846060728406,
          -1.9065629500217491,
          -3.4436021962039844,
          -2.7691040939717424,
          -3.2177591983289986,
          -2.590940282763333,
          -3.6757765536409988,
          -2.7783223375109185,
          -3.0839825149804816,
          -2.772545148391021,
          -2.763944552973761,
          -2.9361718521647515,
          -3.428344231196729,
          -2.428299632601809,
          -2.2452986959287853,
          -2.597256209925645,
          -2.7788997122016097,
          -2.59041492888714,
          -3.0823312864358683,
          -3.1108634170627676,
          -3.2812763130211864,
          -2.59349360797314,
          -2.550745403074819,
          -2.769243150820864,
          -2.7784721163930604,
          -2.905263804612399,
          -2.7386079646254524,
          -3.0739763180658937,
          -2.594060496429775,
          -2.596110977177454,
          -3.092199713618581,
          -2.7684193887266835,
          -2.76434782741245,
          -3.4356680920890854,
          -2.9166363817900858,
          -2.251196730951305,
          -2.7678684131749005,
          -2.7653660038327033,
          -2.7740594777014103,
          -3.7724096526626067,
          -2.7670808474395616,
          -3.004071247145948,
          -2.798397499384494,
          -2.740684221787301,
          -2.693965291939347,
          -2.7799803805542638,
          -2.7730679648803416,
          -2.592840945902339,
          -3.1108634170627676,
          -2.072544521150156,
          -2.248101331705661,
          -2.5936100871701226,
          -2.7653660038327033,
          -2.799290523973837,
          -2.803408506538586,
          -2.244072638598344,
          -2.7289492151001107,
          -2.9099394723627556,
          -2.5991121984203196,
          -2.2420132933743373,
          -2.4216039644186447,
          -2.7386125225222924,
          -2.942192094200128,
          -3.254253490757118,
          -2.780373605881605,
          -2.4198112593691445,
          -3.0834544225962826,
          -3.42890897128779,
          -2.5449970055717097,
          -3.0899804375299906,
          -3.2812763130211864,
          -2.5937776727352895,
          -2.942192094200128,
          -3.2527155607011924,
          -3.2502194803120763,
          -2.780373605881605,
          -3.4309129560699985,
          -2.4269938014238988,
          -2.4230505638402358,
          -2.557338604266553,
          -2.9108124588467366,
          -2.237685430078416,
          -2.780373605881605,
          -3.4248463789692334,
          -3.083817870125141,
          -2.7676432351605356,
          -2.778774178090103,
          -3.075252916894624,
          -3.2573742989824197,
          -2.7662493169009945,
          -2.901273085796929,
          -3.086932531624764,
          -2.426688645915245,
          -3.6046143804802364,
          -2.942192094200128,
          -2.605328546596557,
          -1.8913491454579792,
          -3.262925527219006,
          -2.9417916497151664,
          -2.725205673828107,
          -3.2584154539650116,
          -2.942096531218092,
          -2.9086638183243965,
          -2.9330177084127573,
          -2.41741363378317,
          -2.595333420405118,
          -2.9537153421860403,
          -2.937813060285344,
          -2.7362636244259786,
          -2.947418272446165,
          -2.7490460620213297,
          -2.8794708311637818,
          -2.940969380033799,
          -2.948784935395364,
          -2.2421705665179723,
          -3.085367963607669
         ],
         "yaxis": "y"
        },
        {
         "hovertemplate": "Categoria=Accessori<br>PC1=%{x}<br>PC2=%{y}<extra></extra>",
         "legendgroup": "Accessori",
         "marker": {
          "color": "#FECB52",
          "symbol": "circle"
         },
         "mode": "markers",
         "name": "Accessori",
         "showlegend": true,
         "type": "scattergl",
         "x": [
          0.1735613323782188,
          0.28795931207625103,
          -1.432180358880339,
          -0.7535519810640597,
          30.131403249823407,
          -11.484849768171438,
          -13.840486731454167,
          1.8637596904306823,
          27.775766286540684,
          -24.833459226773567,
          15.604975309579924,
          5.004608974807646,
          -9.129212804888713,
          5.299063595217997,
          10.501095222467352,
          7.360245938090374,
          20.708855396692496,
          10.501095222467352,
          5.528083855537144,
          7.621983378455121,
          -9.207734036998135,
          3.856990967054525,
          9.20549489266185,
          -0.7863318932623934,
          -13.369359338797628,
          0.2933350482422018,
          2.6489720115249202,
          2.6489720115249202,
          0.0822187610073005,
          -1.0523932154479194,
          0.3210552603894902,
          -1.1578937618434046,
          -0.1568578763096723,
          1.17277284786775,
          2.6489720115249202,
          -0.29763183060997384,
          -0.523204939433611,
          -0.4321027933674113,
          -2.0496064800935074,
          -0.9138094457071414,
          2.6489720115249202,
          -0.9728716574523442,
          -0.838364505110911,
          -1.2797380748558522,
          -0.4616369368529731,
          0.27906524284803824,
          -0.964558863366043,
          0.718343966093034,
          0.4925148242391362,
          -0.2729534493717864,
          -1.1314374258702844,
          -0.19998782767803427,
          -0.6023676350447498,
          -0.28098222747974416,
          -0.841898770711938,
          -0.2123890491813595,
          -0.691788419612398,
          0.24529184592254902,
          -1.033862135219505,
          -0.4825026113199111,
          0.4295348465481074,
          -0.7477311780583233,
          0.25072373828189126,
          -0.6242460566310056,
          -0.8215622940281012,
          -0.2708294142249817,
          -1.098992974685754,
          -0.022924761848206136,
          -0.7426415167202033,
          -0.6758525092965489,
          -0.5398657998049268,
          -1.0071225549058378,
          -0.800770758458625,
          -0.6408359051642887,
          0.8277220771619003,
          -0.08175668686908012,
          -1.3397888408923007,
          -0.14944724732547354,
          -1.4285879320081594,
          -0.26378598002623793,
          -0.7900160730651036,
          0.21932762094131517,
          -0.6883870804859706,
          0.8203567586796928,
          -0.3757062043817452,
          -1.110744951854307,
          -0.34791709006332766,
          -1.1076971338702315,
          -0.09485716632243978,
          0.5754160728477523,
          1.6169786752296411,
          -0.37558932099383957,
          1.5162305598364825,
          2.5816680982882816,
          0.4476912541202692,
          0.4224152650303762,
          -1.3547562798857873,
          1.822432726162559,
          0.2724277565140642,
          -0.7338256158527704,
          -5.046108735198646,
          -0.23000027403487217,
          0.05287002387177952,
          -0.19595201227772438,
          -11.484849768171438,
          -7.166182002153106,
          2.522712107233112,
          -1.8735929369077577,
          0.7064733339166028,
          2.6489720115249202,
          8.930670580278862,
          0.6973702754489003,
          10.501095222467352,
          0.6792411763123231,
          0.33364328380097097,
          -0.9120316319241902,
          -0.6674480057989836,
          6.182427456449017,
          31.70182789201189,
          -0.527744652516817,
          -0.050500020630054335,
          -0.481964410781574,
          -0.0728027308617036,
          -1.054052100248248,
          -24.833459226773567,
          -1.4024006874063637,
          -0.6874222328091384,
          -0.814534068379535,
          -0.46117831122761616,
          -0.7125472284329785,
          -1.308798893511786,
          0.03159760787744267,
          -0.4275333124321337,
          -0.40463145939713663,
          -0.7089469431967185,
          0.45178924174820717,
          0.6134314979693947,
          2.429112561618539,
          0.5561597743761462,
          0.038676414539952506,
          -0.6666980016267462,
          -1.093238999136381,
          31.70182789201189,
          -1.3229382388565976,
          1.9128354604990674,
          5.161651439026502,
          6.37873053672257,
          13.44564142657075,
          0.05308363750095339,
          -1.0133083322028624,
          -0.9408724323264044,
          38.768738781860066,
          -0.3227705154603868,
          0.2338847797022884,
          -0.93458975032974,
          -0.8283727453713262,
          -1.447789377461516,
          15.604975309579924,
          -5.988363520511748,
          -0.2915658516191566,
          10.501095222467352,
          -12.270062089265693,
          5.299063595217997,
          -0.9629798120620079,
          -0.16880044600250432,
          -1.0642647398223266,
          0.5454919759353032,
          0.7537184414395415,
          -0.24581406878255233,
          -11.484849768171438,
          0.8320946163073011,
          -0.940570027763039,
          1.1124979959425125,
          1.9543611120954074,
          -1.731228066893319,
          0.18538174468264124,
          -0.3843405589581754,
          -0.43050988080202246,
          -0.5116997192519266,
          0.04437643172972435,
          0.09929430934075796,
          2.6489720115249202,
          -0.7412880645924671,
          0.11722184818463618,
          2.6489720115249202,
          0.6859325005114406,
          0.17270407342378025,
          0.7342371431948979,
          0.059968958147898856,
          -0.1671204876386011,
          -0.7482758501586368,
          -0.9704176513436971,
          0.2889716971772157,
          -1.2444591976774912,
          -0.5999214394440553,
          -0.09927111230493478,
          -0.7554235893671899,
          -0.9450033995645565,
          0.18608942633200962,
          0.6444009955524277,
          -0.23624400813272028,
          -0.6597766741590216,
          0.20394105157090708,
          0.6371300703031533,
          0.8133500481471423,
          -0.9309895927195551,
          -0.4585719553462884,
          -1.374897023139781,
          -0.9442375982101525,
          -1.3138661805265222,
          0.15018825005276348,
          0.5382240738247496,
          0.3560629253585339,
          -0.3799905004065901,
          -0.8619043913203758,
          -0.21514935386848008,
          -0.6356368003127392,
          -0.361820836696977,
          -0.6086381767488506,
          -0.8735894498481873,
          0.8820675558909612,
          -0.28345456280591486,
          -0.8449276691878866,
          -0.29602448156873484,
          -1.0011595849791737,
          0.08749274766543698,
          -0.8053452026513505,
          -0.47866141112793886,
          -1.0879081430163962,
          -0.8096752442807494,
          -0.043070635465188925,
          -0.07637363837280266,
          0.08352631145052944,
          -0.965380258050616,
          -1.3361230677712745,
          -0.4240626726083354,
          -1.29035498814333,
          0.16757466928325082,
          0.244411283587027,
          -0.6903221945415485,
          -0.020136273181612204,
          0.16049855620655748,
          -0.7460414122629678,
          0.859783862041971,
          0.22822863289729015,
          -0.34883233586787443,
          -0.7074549748503112,
          -5.2031511994174995,
          2.6489720115249202,
          -19.33697297911387,
          16.78279379122128,
          -1.4271183140258474,
          0.861052205529989,
          -0.8275322010758306,
          -0.9967912202982385,
          0.6859412087893122,
          0.9856900610983326,
          -0.5406276352274211,
          -1.713318661220875,
          -0.49187727285204585,
          5.789821295901893,
          0.6859412087893122,
          4.892435786079901,
          -0.484568071416539,
          -1.273404638511771,
          -0.4187318326646391,
          -0.5687945183169271,
          -0.6171035224052789,
          0.4721096429708271,
          -1.2590721517862173,
          -0.9955256380107383,
          -0.2781651455163461,
          0.17887434123806342,
          -1.1498573945353696,
          0.4424116963119078,
          -0.01753695892908839,
          0.45037751246103924,
          -0.09174929887753647,
          0.8643985544925493,
          -0.3691308856497629,
          -0.8220692021895516,
          -0.14381986598712423,
          0.7451874266873192,
          -0.7201754128716987,
          -0.8626512487078573,
          0.29396534530922497,
          -1.1442211933368587,
          0.3698024146436153,
          -0.30416368012262446,
          -1.242905723545582,
          -0.18789442607572787,
          0.9215009977402876,
          2.6489720115249202,
          4.876119685901315,
          9.574544683576146,
          2.727493243634347,
          2.1254971307954196,
          -0.1394859095916871,
          0.34181587701488564,
          -0.8615737698335898,
          -0.89058697323242,
          -1.5768410188191295,
          -1.24994030068136,
          -1.3602071644506397,
          0.14762316137548423,
          -0.9947911848022628,
          0.5629883630856604,
          -0.8594001634495542,
          -0.6222320942548641,
          -1.3975669276976581,
          -0.16490583145178,
          0.20001727386213064,
          -0.19211991402709033,
          -0.3960165835658549,
          -1.36237025762503,
          -0.7969050681515009,
          -1.5825029618428272,
          -1.125440404336954,
          0.8039212323646786,
          1.1071667054024514,
          -1.0001718431417086,
          1.7429577948777166,
          0.26456999577722823,
          -0.6651296180359854,
          -0.8415563932815523,
          0.2831896119000772,
          -0.08756534691390525,
          -1.6136091601295361,
          6.211872918490054,
          6.211872918490054,
          -0.24750373823201433,
          -1.3410998151349953,
          -0.6035352729845082,
          -0.35567513572437204,
          11.914477400436976,
          20.708855396692496,
          7.135899560634881,
          1.4711535298835636,
          3.1724468922544182,
          3.417653546911916,
          20.316249236145378,
          5.986124376175451,
          -24.833459226773567,
          -1.3664830316233882,
          2.6489720115249202,
          2.6489720115249202,
          2.6489720115249202,
          -7.166182002153106,
          2.6489720115249202,
          -1.1881595394907314,
          0.653813794593647,
          2.6489720115249202,
          2.6489720115249202,
          -0.5270592158124151,
          -1.1015428829356495,
          -0.8533582583489053,
          -1.5495384960204461,
          -1.0962001933986258,
          0.6859412087893122,
          -0.776824932654313,
          0.19827421412486734,
          -0.591051691083424,
          -1.1779416065443176,
          0.03173894105930114,
          0.612095561089084,
          -0.9428494364210007,
          -0.003698590651110633,
          1.603368631232767,
          -0.06534954593369637,
          3.172446892254412,
          2.6489720115249202,
          2.6489720115249202,
          -0.4733719635006608,
          -0.9178467677901171,
          0.7494327700041269,
          3.1565556905179935,
          1.2951576648107077,
          2.4204729163405965,
          -1.7679947347034846,
          0.4300580590170069,
          -1.604568606079039,
          0.2988260361946674,
          0.24206563522495017,
          -0.9019234098090382,
          -0.4818015159601827,
          0.8510883013113187,
          -2.052226274572901,
          -0.2314628749761762,
          -1.537834421093779,
          -1.4484116112750802,
          -0.26307932907816556,
          -0.5883264703879449,
          -0.6443290705926419,
          -1.2143939191001432,
          -0.7995192523472834,
          -0.5077173114320741,
          0.3444473118989437,
          -0.8335123286844043,
          -1.194327141898119,
          -0.4892398911539699,
          3.9053117252757112,
          0.46782667515202236,
          0.46782667515202236,
          0.46782667515202236,
          0.03159760787744267,
          1.7765138769757611,
          0.03159760787744267,
          1.2959907813317688,
          0.5142809382709529,
          1.9617252970007724,
          0.319418803750845,
          0.04498679136962484,
          0.14463605062531776,
          0.645508651182381,
          -1.1066917687323299,
          -0.2829010807907212,
          -1.5885357442172885,
          -0.0568565469209931,
          -0.40935343503240945,
          6.874506042382998,
          7.2342445021034205,
          6.719767367724988
         ],
         "xaxis": "x",
         "y": [
          1.1485564343379173,
          0.4274271923482673,
          0.11467851854197855,
          1.4507038562886576,
          20.03961224541764,
          -13.072828764799075,
          -14.947117878584928,
          -2.451857120012582,
          18.16532313163179,
          -23.693800409585577,
          8.48149604373822,
          0.0471950317018828,
          -11.198539651013226,
          0.28148117092512126,
          4.42053629720221,
          1.9214841454877343,
          12.542455790274229,
          4.42053629720221,
          0.4637037236542959,
          2.1297384914639395,
          -11.261015954806084,
          -0.8659201775784025,
          3.3896772846199905,
          -4.560432373021672,
          -14.572260055827762,
          -3.7013831958698136,
          -1.8270940820839685,
          -1.8270940820839685,
          -0.3292781406731142,
          -0.5850052038127532,
          -2.0694976477743188,
          -1.1064994205825156,
          1.2736405885419257,
          -3.0016485933897648,
          -1.8270940820839685,
          2.018721322700448,
          -0.12331174597081272,
          1.1887105477383049,
          -0.11205451802660754,
          -1.4672412947031663,
          -1.8270940820839685,
          -0.22265485281640074,
          0.37428263829870567,
          -0.5383927150702336,
          0.8467397627392707,
          0.17269567992640597,
          -0.38323538844175764,
          0.21425248306235928,
          0.7557849611658577,
          0.03205355228576301,
          -0.35212029373654535,
          0.12337514705001039,
          0.6245070571570072,
          0.9023333684495713,
          0.28672661374105185,
          -0.5264085275926408,
          -0.2762654062585477,
          0.4082027405621814,
          0.12839132865936356,
          1.0175894010622464,
          -0.13719365267492323,
          1.899909041935926,
          -0.25699111164183636,
          0.4420044094297913,
          -0.3644379518507419,
          0.8530257047177787,
          1.634275358283974,
          0.42099446442431465,
          -0.10562852467458961,
          0.6238719730730622,
          -0.07615319215459795,
          -0.4125847493260595,
          -0.7594494822353143,
          0.34181007219495935,
          -0.2327637000492717,
          0.8724291802173656,
          -0.1689562844981619,
          0.48399265399089436,
          0.19080713415589204,
          1.1003346873734174,
          0.2635113840946948,
          0.7394690890379794,
          -0.5120518974419884,
          -0.4350791040049559,
          0.5076063163402733,
          0.5160749331699578,
          0.3929728877498663,
          -0.2167393874380491,
          0.8803522759665912,
          0.375428428048733,
          -2.6482112176472854,
          -0.745024192688863,
          -0.4590884415546216,
          -1.8806451996206988,
          -0.5430889622569643,
          -0.28072677141454755,
          2.441673412954375,
          -2.484739385166724,
          0.5758368218901819,
          1.720415491161297,
          -7.94977185378441,
          0.415775774889563,
          0.0984982888785373,
          1.1954132779014135,
          -13.072828764799075,
          -9.636632056191681,
          -0.6567000294280851,
          1.4106601579931006,
          0.16299193611167775,
          -1.8270940820839685,
          3.1710102213449725,
          0.3633426339754217,
          4.42053629720221,
          0.18877672995428363,
          0.9429446113717007,
          0.2216740864236997,
          -0.7124602286869924,
          0.9843395885948141,
          21.289138321274873,
          0.5099019012178903,
          0.3163107570299681,
          0.8785611646442065,
          -0.1466918522196559,
          0.8071519297376337,
          -23.693800409585577,
          0.08092980234388979,
          0.18015069493542127,
          1.7911116092045019,
          1.049224171808217,
          -0.005332777813480627,
          -1.2570195752996405,
          -3.909637541846028,
          -0.3917011303597033,
          -4.2567281184730374,
          0.6275889776333006,
          1.0673208442104132,
          -1.4100154409386694,
          -2.0020277327039757,
          0.6815769548887892,
          -0.4265851053726419,
          2.1688166703598077,
          0.7492265494417014,
          21.289138321274873,
          0.14745436184877223,
          -2.412809430142048,
          0.17214763928761218,
          1.1405303480769622,
          6.763397689434516,
          -0.6029871812857746,
          -0.11670166206354965,
          1.003527579789612,
          26.912005662632424,
          1.2184575947787972,
          0.9714882437780368,
          -0.21306462327576192,
          0.6107443461826376,
          0.16230152074174922,
          8.48149604373822,
          -8.69948749929876,
          0.05675524914188504,
          4.42053629720221,
          -13.697591802727702,
          0.28148117092512126,
          0.3052870639836661,
          -0.6202729121978292,
          -0.5748585585016616,
          -0.8845203328813129,
          0.4442501822898521,
          -0.5453028756488332,
          -13.072828764799075,
          0.3655153625277541,
          -4.683153684043357,
          -1.7202852813559177,
          -2.379769077174661,
          0.9351786875596609,
          1.1303737516259675,
          1.6901035055015377,
          0.11217548198544547,
          -0.18254903101427908,
          1.151823550239497,
          0.3847042242981085,
          -1.8270940820839685,
          0.6545521322013939,
          0.6729333440358078,
          -1.8270940820839685,
          0.027761844215271284,
          0.04937077119179221,
          0.05798474915335907,
          1.2660284563212882,
          -0.0614098616330832,
          0.10908735967818266,
          0.6653348940884648,
          1.0134021969570561,
          1.519422595355866,
          0.4949347016252028,
          -4.013764714834134,
          -3.159042380606228,
          -0.40016971355287306,
          0.6434655310539235,
          0.5863688511001391,
          0.007847372330375038,
          -0.4860395372585794,
          0.6107506275421473,
          -0.2624834895549084,
          0.1443023194890486,
          -0.6186922264581833,
          -0.17859948832621217,
          -0.15537160962612395,
          1.451499493377984,
          -0.11336380818820964,
          1.1327252208632925,
          0.14695388140912452,
          -0.6569939474627738,
          1.163469531774786,
          -0.5255577786399863,
          0.880183133214153,
          0.9693323575429499,
          1.6424601693551637,
          0.17509600713256604,
          -0.5978817529327968,
          -0.321407905033216,
          1.3322227034517062,
          -0.09614218905329788,
          -0.31497111715340753,
          0.8664372309708295,
          0.23117448401014679,
          -0.40149311613938915,
          -0.0854494965783904,
          0.2719942751750475,
          -0.9817152994670312,
          0.2941279652185076,
          -1.1863527648432588,
          -0.02920599419705713,
          -0.44042206221901853,
          0.61934710559288,
          -0.7114746221512662,
          0.07766612977303905,
          -1.109391737513785,
          1.0171792878869867,
          0.9721290054156064,
          1.1478210743991057,
          0.25143638314285965,
          0.5272906337922505,
          0.03530103672181198,
          0.5147278861987847,
          0.6548165826157806,
          0.6018810272975703,
          -8.074724461370137,
          -1.8270940820839685,
          -19.320459144085255,
          9.41864060063114,
          0.4271836061435901,
          0.31568384969187147,
          0.9226997933527255,
          -0.5519280999950457,
          -3.3890016769055133,
          -0.1836684761442785,
          -0.9288837649695297,
          -5.297999848354068,
          -4.326146233798434,
          0.6719580696305032,
          -3.3890016769055133,
          -0.04205683085934628,
          0.15769608726781834,
          -0.31891331437047704,
          0.09092826352499703,
          -0.171256031261743,
          -0.244440456400686,
          0.061194293488741794,
          -0.44444171587553316,
          0.3534320594070118,
          0.5911219979737768,
          -0.965626728230609,
          0.543732267440731,
          0.8255141354067115,
          1.3784155845938373,
          -3.5764305882840985,
          1.1798945806042633,
          -3.247010077376282,
          0.4542441640793635,
          0.6370239222454022,
          0.2569217492357138,
          -0.060356760286599385,
          1.515305203411261,
          0.24669421956060547,
          0.3197583638222267,
          -0.19277178823290503,
          -0.5833851125913044,
          1.4171635014357389,
          -0.3270047587680356,
          -0.39886470677442215,
          0.22299665260380502,
          -1.8270940820839685,
          -0.055038919959164476,
          3.683315912446441,
          -1.764617778291105,
          -2.243602774036385,
          1.1140572925299965,
          0.5078145004970019,
          0.18593907498828902,
          -0.03697341227090812,
          1.1000801669899893,
          0.7221876749481424,
          -0.05751528922452612,
          -0.5495726381589287,
          1.0802424733420948,
          -0.1221152027311796,
          0.6179083079484142,
          0.04160059898717496,
          -0.15974010656540583,
          0.9204938214684485,
          -2.079812234691998,
          0.40230450291573655,
          0.08417271851019525,
          0.3969017966488234,
          0.7999355645739208,
          0.0579073329709724,
          -0.49638578588244947,
          0.3462480161020077,
          0.0002035615181154855,
          3.4868158617518286,
          -2.547974510463143,
          1.0296331195136863,
          0.41695376359908326,
          0.16821432962333466,
          0.6393897214133192,
          0.8206258111413725,
          -5.218664859410746,
          1.007768202517139,
          1.007768202517139,
          0.8994811917652022,
          -0.13436906820583325,
          0.9654503697255173,
          -0.6728681068583843,
          5.545109765473712,
          12.542455790274229,
          1.7429804203652763,
          -2.7642386389768885,
          -1.4105853901315546,
          -1.215483950217006,
          12.230074271309922,
          0.8281488291126553,
          -23.693800409585577,
          1.0108511325374605,
          -1.8270940820839685,
          -1.8270940820839685,
          -1.8270940820839685,
          -9.636632056191681,
          -1.8270940820839685,
          0.5628222775907487,
          0.5767521016524202,
          -1.8270940820839685,
          -1.8270940820839685,
          -1.2123495787201002,
          0.23366343269049883,
          0.764078701764377,
          0.19158314365655868,
          -0.3322828058176755,
          -3.3890016769055133,
          -0.49877061950672097,
          -0.04660883420395694,
          0.010818294829314706,
          -0.16767960266872778,
          0.3010642593374937,
          -0.07134015394615224,
          2.4899779063527476,
          -0.27651219243137876,
          -1.6957654106011582,
          -0.28425043334128564,
          -1.4105853901315595,
          -1.8270940820839685,
          -1.8270940820839685,
          0.2979272838172351,
          -0.12299739576736195,
          0.007471063399678078,
          -1.4232294039943907,
          -2.9042717336850337,
          -0.5461513537778124,
          -0.24588477208383225,
          -0.18631444998026805,
          0.4129112332342776,
          -0.17848449270761743,
          -1.341657300735725,
          -0.5858827971954523,
          -0.23252091497434813,
          -0.2579224960835542,
          0.7815581053701307,
          1.6349321284377398,
          0.7939001785224387,
          0.543040500910431,
          -0.4471996459944507,
          1.55145185318666,
          0.21494781867018897,
          -0.38570520408059616,
          -0.45811687408632606,
          -0.5822542200288962,
          0.33720419107369826,
          -0.04551383411600027,
          0.767243815407445,
          -0.4446917282296309,
          -0.8274732213981782,
          -3.5625469652190183,
          -3.5625469652190183,
          -3.5625469652190183,
          -3.909637541846028,
          -2.521275235337988,
          -3.909637541846028,
          -2.903608855130198,
          -0.4463642816982973,
          -1.2190610285997687,
          -0.22427347320986793,
          0.11126422711943607,
          0.9849237721430193,
          -0.5031515308417136,
          -0.34200735761473944,
          -0.48697101634105605,
          0.07763154325397284,
          0.8953262709925969,
          0.6867508939905792,
          -5.2259969750288064,
          -5.111653575405581,
          -5.374881463631842
         ],
         "yaxis": "y"
        },
        {
         "hovertemplate": "Categoria=MP Alluminio<br>PC1=%{x}<br>PC2=%{y}<extra></extra>",
         "legendgroup": "MP Alluminio",
         "marker": {
          "color": "#EF553B",
          "symbol": "circle"
         },
         "mode": "markers",
         "name": "MP Alluminio",
         "showlegend": true,
         "type": "scattergl",
         "x": [
          6.254382994436565,
          6.317995387430305,
          5.851437118955567,
          8.32927147768779,
          6.8676085970911345,
          5.994755565455724,
          -3.81211161144714,
          -4.096038245983131,
          -3.1079275327697293
         ],
         "xaxis": "x",
         "y": [
          -3.2898659338714933,
          -5.141330311643233,
          -5.202970594041285,
          -5.543045585932887,
          -6.2699770296726465,
          -5.4001145767720455,
          1.8593805922205915,
          1.520143675221251,
          2.1255598033814436
         ],
         "yaxis": "y"
        },
        {
         "hovertemplate": "Categoria=Truciolare<br>PC1=%{x}<br>PC2=%{y}<extra></extra>",
         "legendgroup": "Truciolare",
         "marker": {
          "color": "#00cc96",
          "symbol": "circle"
         },
         "mode": "markers",
         "name": "Truciolare",
         "showlegend": true,
         "type": "scattergl",
         "x": [
          -5.252842916407966,
          -4.0485291050971774,
          -3.9769028965453064,
          -1.4485823009862429,
          -2.6635471085817484,
          -3.7874676714409596,
          -4.843805687699909,
          -2.902252379584972,
          -4.122942664708411,
          -4.585036523040191,
          -1.6745524778681882,
          -3.131388647575315,
          -3.097144742239313,
          -2.1931413956388885,
          -4.131547497752008,
          -4.720835691050652,
          -4.1905820443264306,
          -4.855385885864802,
          -3.506385106713727,
          -0.8001827821540962,
          -1.9875184934636274,
          -4.0208622633490565,
          -2.268057632927011,
          -2.503198535658583,
          -3.2479443488447686,
          -6.813197202511881,
          -3.9967649165127526,
          -4.123146951717067,
          -3.155054120930322,
          -3.356308108841922,
          -5.494459449573822,
          -2.2225023381424207,
          -5.513858308458744,
          -4.228614664185669,
          -4.204073307478658,
          -1.5776271977245404,
          -5.906481340434015,
          -4.556213581314182,
          -5.8442951914556796,
          -3.4889710571587185,
          -3.386281339170618,
          -2.3440066745702413,
          -4.396358422250742,
          -4.653469232493454,
          -2.7509258141999666,
          -3.0253820394949114,
          -4.952268440658517,
          -2.4200617897837438,
          -5.099284748692646,
          -3.148707892705666,
          -4.286138993621865,
          -3.5516772744045917,
          -2.203930001527024,
          -4.391039242448187,
          -2.021238883632525,
          -3.38887644278318,
          -1.9490574232587763,
          -3.719475611590614,
          -4.946498132340033,
          -3.5683525363371498,
          -3.335094098298989,
          -3.980689618113017,
          -2.240545143572819,
          -3.497643478447104,
          -4.549504976653513,
          -1.47233456014546,
          -3.7470434721857426,
          -4.201626573992017,
          -1.3075613566621354,
          -2.4050120100452452,
          -3.0873931565485706,
          -5.989582855466221,
          -4.328955154018281,
          -2.9919003370297457,
          -4.3012132707110995,
          -4.480396151274769,
          -3.779751282652935,
          -2.7668460753470763,
          -5.055644891153663,
          -2.625707096106558,
          -6.722901753843605,
          -3.786377731500427,
          -4.366479546505476,
          -4.527376702985665,
          -4.230874420527922,
          -3.2583154104053538,
          -2.3980333491035433,
          -2.8311573688249787,
          -1.851565433186487,
          -4.59919874232088,
          -2.8223851442830425,
          -2.436508705803,
          -2.5226351662740742,
          -2.810707966152586,
          -0.5862434481177288,
          -2.616480081145768,
          -3.069071391370895,
          -6.1124249716196175,
          1.0056347966634054,
          1.4409530559953152,
          -9.307612035112962,
          -1.6019540658136309,
          1.2087331410684523,
          -2.646735262510141,
          -4.0341729160254785,
          -3.5593497601964685,
          -5.1839771243123955,
          -1.8544468985177696,
          0.3217780818695899,
          -5.247272591541603,
          -4.8049049452945285,
          -6.670700024008354,
          -4.825497253178875,
          -2.7159272658131153,
          1.4409530559953152,
          -0.5748467988303081,
          -3.5121071739419443,
          -3.111418860503922,
          -3.111418860503922,
          -3.0702316761536834,
          -0.2739438000416396,
          -3.0717442418786733,
          -1.0469386607270492,
          -5.648317779708417,
          0.48589029216228813,
          -2.2665296557798076,
          -2.5877669565621426,
          -4.445039095809938,
          -6.1195428369325615,
          -2.9762147525767655,
          -5.249026017201415,
          -5.641749192378065,
          -1.9998282229447026,
          -1.6499377724380972,
          -2.0902269423055007,
          -3.1034397863934706,
          -0.7460090687066051,
          -3.7774006725674507,
          -4.49588540991818,
          2.3152567750598605,
          2.458277590687759,
          -3.7261893586127286,
          2.5704507794154994,
          2.3152567750598605,
          -2.87781370038691,
          7.184704774026606,
          6.632205345022927,
          8.470162114719132
         ],
         "xaxis": "x",
         "y": [
          2.20727451155889,
          2.2346916103457994,
          4.010973496328557,
          3.1020824376021126,
          2.719414491984194,
          1.4330613092025957,
          0.9890519052200895,
          3.225581964240883,
          3.27475373699725,
          1.3121552153866167,
          0.9478744245524685,
          1.4314178507601063,
          2.6349656926681275,
          0.8685679810442226,
          1.2132193441339234,
          4.444351499118035,
          1.1465755217235014,
          1.838281186631316,
          4.398808287314177,
          1.5880748360261536,
          2.1870440396319015,
          3.9063544759168356,
          1.1261322522245032,
          2.297597083931576,
          1.4510478184111588,
          3.6412493360015397,
          1.1570364814051286,
          2.4578627655265746,
          4.536413415895333,
          3.683013832566233,
          2.9755138188597217,
          0.6102873532094257,
          1.4645396307056606,
          3.015438969006793,
          5.14873169270268,
          0.5171284111595431,
          2.1089938166817275,
          3.7629634038420736,
          4.110193265762988,
          4.396385832823472,
          2.531668502069596,
          2.9138420011399164,
          0.4764221397035319,
          2.647248515644333,
          1.9851069884209787,
          0.6479099551657923,
          1.5764944782115173,
          2.697258160316041,
          0.9472197555923901,
          3.6756810768337673,
          6.4463490988330445,
          1.2356126140584451,
          1.140238122450557,
          2.688373868214806,
          1.8647483861398209,
          5.350629783924925,
          2.915416868613022,
          0.21393538312269514,
          1.9499479265225397,
          0.1370367714570178,
          0.14260850416731558,
          2.493799616371811,
          1.2301962661426065,
          1.1587817288665332,
          0.7022878907478003,
          2.7325770422579736,
          1.7284251050845472,
          1.7595256321746335,
          2.8726614663468557,
          2.5883824991277917,
          3.1836612650080003,
          3.108112902886285,
          1.9634757800330356,
          1.5221071669661845,
          1.3255058408439382,
          2.4544557328411853,
          2.099244323127446,
          1.7983574660296466,
          1.0056245026766266,
          0.7611027515802147,
          2.9145849881411388,
          4.268493910752135,
          4.635829525078945,
          3.788965885868983,
          1.6305379680692964,
          3.0669988675893483,
          3.2878079182059614,
          1.019061841984354,
          -0.6389055904781652,
          2.7302723962578326,
          -3.1138498859952697,
          0.08334273270383212,
          2.1265105539705815,
          -1.5889931587316248,
          -1.3154730188996218,
          4.596628567408703,
          1.5560294859902912,
          2.957941106508651,
          -3.134633868605998,
          -2.7882679865895343,
          2.5465134541926453,
          3.3317947782838546,
          -0.08591475106207691,
          4.073988812900301,
          1.3490944062625805,
          2.001421040704187,
          0.47207104700597774,
          4.783200298764462,
          2.8412483415760215,
          0.5483960616304996,
          2.222429783675633,
          3.9627724532779673,
          2.2925697956568363,
          0.15997877692999174,
          -2.7882679865895343,
          1.098116122161414,
          2.304732802113361,
          -0.3360243105116652,
          -0.3360243105116652,
          -0.34605601495831345,
          1.6866269556784084,
          -0.3906782881384228,
          2.6249653425337267,
          4.001815052378676,
          0.756203172397082,
          -1.343539434979159,
          1.9430953466603451,
          2.315972550496556,
          2.467379510126066,
          2.3946673924006547,
          2.4952205218815733,
          3.63890705196128,
          3.778457986473074,
          3.336913497763834,
          -0.633534348662127,
          2.1036749756202098,
          2.309610024416881,
          -0.14264513013364807,
          1.9545516081055716,
          -2.0926183732036363,
          -1.978822248438052,
          0.4690985333883646,
          -1.8895703858768278,
          -2.0926183732036363,
          4.0562767266702435,
          -5.413459815597859,
          -5.322712810810609,
          -6.960941939523919
         ],
         "yaxis": "y"
        },
        {
         "hovertemplate": "Categoria=Coibenti<br>PC1=%{x}<br>PC2=%{y}<extra></extra>",
         "legendgroup": "Coibenti",
         "marker": {
          "color": "#ab63fa",
          "symbol": "circle"
         },
         "mode": "markers",
         "name": "Coibenti",
         "showlegend": true,
         "type": "scattergl",
         "x": [
          8.31949838625479,
          9.267218200820928,
          8.721135263479631,
          8.819399873248512,
          7.631910643533764,
          7.635288819337966,
          8.237927452444847,
          7.771683816678212,
          8.895519691999397,
          7.476424121441287,
          10.229283548579062,
          10.490428022644348,
          8.379292654418483,
          8.109206089371778,
          6.335708891106813
         ],
         "xaxis": "x",
         "y": [
          -4.639297805263394,
          -9.016616400997359,
          -4.260783815175106,
          -7.413975628503267,
          -6.427557291297669,
          -5.428540948983221,
          -5.9791205888831795,
          -7.888664500853985,
          -5.534387670868477,
          -6.680601151545468,
          -7.125429386989738,
          -6.830175371675758,
          -4.848855866273529,
          -4.410881983565911,
          -5.972738327981247
         ],
         "yaxis": "y"
        },
        {
         "hovertemplate": "Categoria=Laminati e altri<br>PC1=%{x}<br>PC2=%{y}<extra></extra>",
         "legendgroup": "Laminati e altri",
         "marker": {
          "color": "#FFA15A",
          "symbol": "circle"
         },
         "mode": "markers",
         "name": "Laminati e altri",
         "showlegend": true,
         "type": "scattergl",
         "x": [
          7.762590479747644,
          7.564469248342497,
          7.5202051610076746,
          6.843178162261379,
          7.830715824314637,
          5.294830410903412,
          7.5460653080718885,
          7.489193272245481,
          8.077143279687675,
          6.3599885302331005,
          7.134993117218196,
          6.385783982938984,
          6.5952352536264796,
          6.7683193178874115,
          6.414593952341623,
          7.092315367845581
         ],
         "xaxis": "x",
         "y": [
          -3.668181340252503,
          -4.931716706814701,
          -3.774338168054736,
          -3.036421410635174,
          -3.966392773942837,
          -4.264701003836579,
          -3.9436057665086848,
          -5.8202062510720225,
          -3.7840417387037815,
          -5.000990594264705,
          -3.3878449667124904,
          -5.800854645002516,
          -4.0740514619439345,
          -4.828844651812557,
          -4.937049469783676,
          -5.489860850260713
         ],
         "yaxis": "y"
        }
       ],
       "layout": {
        "legend": {
         "title": {
          "text": "Categoria"
         },
         "tracegroupgap": 0
        },
        "template": {
         "data": {
          "bar": [
           {
            "error_x": {
             "color": "#2a3f5f"
            },
            "error_y": {
             "color": "#2a3f5f"
            },
            "marker": {
             "line": {
              "color": "white",
              "width": 0.5
             },
             "pattern": {
              "fillmode": "overlay",
              "size": 10,
              "solidity": 0.2
             }
            },
            "type": "bar"
           }
          ],
          "barpolar": [
           {
            "marker": {
             "line": {
              "color": "white",
              "width": 0.5
             },
             "pattern": {
              "fillmode": "overlay",
              "size": 10,
              "solidity": 0.2
             }
            },
            "type": "barpolar"
           }
          ],
          "carpet": [
           {
            "aaxis": {
             "endlinecolor": "#2a3f5f",
             "gridcolor": "#C8D4E3",
             "linecolor": "#C8D4E3",
             "minorgridcolor": "#C8D4E3",
             "startlinecolor": "#2a3f5f"
            },
            "baxis": {
             "endlinecolor": "#2a3f5f",
             "gridcolor": "#C8D4E3",
             "linecolor": "#C8D4E3",
             "minorgridcolor": "#C8D4E3",
             "startlinecolor": "#2a3f5f"
            },
            "type": "carpet"
           }
          ],
          "choropleth": [
           {
            "colorbar": {
             "outlinewidth": 0,
             "ticks": ""
            },
            "type": "choropleth"
           }
          ],
          "contour": [
           {
            "colorbar": {
             "outlinewidth": 0,
             "ticks": ""
            },
            "colorscale": [
             [
              0,
              "#0d0887"
             ],
             [
              0.1111111111111111,
              "#46039f"
             ],
             [
              0.2222222222222222,
              "#7201a8"
             ],
             [
              0.3333333333333333,
              "#9c179e"
             ],
             [
              0.4444444444444444,
              "#bd3786"
             ],
             [
              0.5555555555555556,
              "#d8576b"
             ],
             [
              0.6666666666666666,
              "#ed7953"
             ],
             [
              0.7777777777777778,
              "#fb9f3a"
             ],
             [
              0.8888888888888888,
              "#fdca26"
             ],
             [
              1,
              "#f0f921"
             ]
            ],
            "type": "contour"
           }
          ],
          "contourcarpet": [
           {
            "colorbar": {
             "outlinewidth": 0,
             "ticks": ""
            },
            "type": "contourcarpet"
           }
          ],
          "heatmap": [
           {
            "colorbar": {
             "outlinewidth": 0,
             "ticks": ""
            },
            "colorscale": [
             [
              0,
              "#0d0887"
             ],
             [
              0.1111111111111111,
              "#46039f"
             ],
             [
              0.2222222222222222,
              "#7201a8"
             ],
             [
              0.3333333333333333,
              "#9c179e"
             ],
             [
              0.4444444444444444,
              "#bd3786"
             ],
             [
              0.5555555555555556,
              "#d8576b"
             ],
             [
              0.6666666666666666,
              "#ed7953"
             ],
             [
              0.7777777777777778,
              "#fb9f3a"
             ],
             [
              0.8888888888888888,
              "#fdca26"
             ],
             [
              1,
              "#f0f921"
             ]
            ],
            "type": "heatmap"
           }
          ],
          "heatmapgl": [
           {
            "colorbar": {
             "outlinewidth": 0,
             "ticks": ""
            },
            "colorscale": [
             [
              0,
              "#0d0887"
             ],
             [
              0.1111111111111111,
              "#46039f"
             ],
             [
              0.2222222222222222,
              "#7201a8"
             ],
             [
              0.3333333333333333,
              "#9c179e"
             ],
             [
              0.4444444444444444,
              "#bd3786"
             ],
             [
              0.5555555555555556,
              "#d8576b"
             ],
             [
              0.6666666666666666,
              "#ed7953"
             ],
             [
              0.7777777777777778,
              "#fb9f3a"
             ],
             [
              0.8888888888888888,
              "#fdca26"
             ],
             [
              1,
              "#f0f921"
             ]
            ],
            "type": "heatmapgl"
           }
          ],
          "histogram": [
           {
            "marker": {
             "pattern": {
              "fillmode": "overlay",
              "size": 10,
              "solidity": 0.2
             }
            },
            "type": "histogram"
           }
          ],
          "histogram2d": [
           {
            "colorbar": {
             "outlinewidth": 0,
             "ticks": ""
            },
            "colorscale": [
             [
              0,
              "#0d0887"
             ],
             [
              0.1111111111111111,
              "#46039f"
             ],
             [
              0.2222222222222222,
              "#7201a8"
             ],
             [
              0.3333333333333333,
              "#9c179e"
             ],
             [
              0.4444444444444444,
              "#bd3786"
             ],
             [
              0.5555555555555556,
              "#d8576b"
             ],
             [
              0.6666666666666666,
              "#ed7953"
             ],
             [
              0.7777777777777778,
              "#fb9f3a"
             ],
             [
              0.8888888888888888,
              "#fdca26"
             ],
             [
              1,
              "#f0f921"
             ]
            ],
            "type": "histogram2d"
           }
          ],
          "histogram2dcontour": [
           {
            "colorbar": {
             "outlinewidth": 0,
             "ticks": ""
            },
            "colorscale": [
             [
              0,
              "#0d0887"
             ],
             [
              0.1111111111111111,
              "#46039f"
             ],
             [
              0.2222222222222222,
              "#7201a8"
             ],
             [
              0.3333333333333333,
              "#9c179e"
             ],
             [
              0.4444444444444444,
              "#bd3786"
             ],
             [
              0.5555555555555556,
              "#d8576b"
             ],
             [
              0.6666666666666666,
              "#ed7953"
             ],
             [
              0.7777777777777778,
              "#fb9f3a"
             ],
             [
              0.8888888888888888,
              "#fdca26"
             ],
             [
              1,
              "#f0f921"
             ]
            ],
            "type": "histogram2dcontour"
           }
          ],
          "mesh3d": [
           {
            "colorbar": {
             "outlinewidth": 0,
             "ticks": ""
            },
            "type": "mesh3d"
           }
          ],
          "parcoords": [
           {
            "line": {
             "colorbar": {
              "outlinewidth": 0,
              "ticks": ""
             }
            },
            "type": "parcoords"
           }
          ],
          "pie": [
           {
            "automargin": true,
            "type": "pie"
           }
          ],
          "scatter": [
           {
            "fillpattern": {
             "fillmode": "overlay",
             "size": 10,
             "solidity": 0.2
            },
            "type": "scatter"
           }
          ],
          "scatter3d": [
           {
            "line": {
             "colorbar": {
              "outlinewidth": 0,
              "ticks": ""
             }
            },
            "marker": {
             "colorbar": {
              "outlinewidth": 0,
              "ticks": ""
             }
            },
            "type": "scatter3d"
           }
          ],
          "scattercarpet": [
           {
            "marker": {
             "colorbar": {
              "outlinewidth": 0,
              "ticks": ""
             }
            },
            "type": "scattercarpet"
           }
          ],
          "scattergeo": [
           {
            "marker": {
             "colorbar": {
              "outlinewidth": 0,
              "ticks": ""
             }
            },
            "type": "scattergeo"
           }
          ],
          "scattergl": [
           {
            "marker": {
             "colorbar": {
              "outlinewidth": 0,
              "ticks": ""
             }
            },
            "type": "scattergl"
           }
          ],
          "scattermapbox": [
           {
            "marker": {
             "colorbar": {
              "outlinewidth": 0,
              "ticks": ""
             }
            },
            "type": "scattermapbox"
           }
          ],
          "scatterpolar": [
           {
            "marker": {
             "colorbar": {
              "outlinewidth": 0,
              "ticks": ""
             }
            },
            "type": "scatterpolar"
           }
          ],
          "scatterpolargl": [
           {
            "marker": {
             "colorbar": {
              "outlinewidth": 0,
              "ticks": ""
             }
            },
            "type": "scatterpolargl"
           }
          ],
          "scatterternary": [
           {
            "marker": {
             "colorbar": {
              "outlinewidth": 0,
              "ticks": ""
             }
            },
            "type": "scatterternary"
           }
          ],
          "surface": [
           {
            "colorbar": {
             "outlinewidth": 0,
             "ticks": ""
            },
            "colorscale": [
             [
              0,
              "#0d0887"
             ],
             [
              0.1111111111111111,
              "#46039f"
             ],
             [
              0.2222222222222222,
              "#7201a8"
             ],
             [
              0.3333333333333333,
              "#9c179e"
             ],
             [
              0.4444444444444444,
              "#bd3786"
             ],
             [
              0.5555555555555556,
              "#d8576b"
             ],
             [
              0.6666666666666666,
              "#ed7953"
             ],
             [
              0.7777777777777778,
              "#fb9f3a"
             ],
             [
              0.8888888888888888,
              "#fdca26"
             ],
             [
              1,
              "#f0f921"
             ]
            ],
            "type": "surface"
           }
          ],
          "table": [
           {
            "cells": {
             "fill": {
              "color": "#EBF0F8"
             },
             "line": {
              "color": "white"
             }
            },
            "header": {
             "fill": {
              "color": "#C8D4E3"
             },
             "line": {
              "color": "white"
             }
            },
            "type": "table"
           }
          ]
         },
         "layout": {
          "annotationdefaults": {
           "arrowcolor": "#2a3f5f",
           "arrowhead": 0,
           "arrowwidth": 1
          },
          "autotypenumbers": "strict",
          "coloraxis": {
           "colorbar": {
            "outlinewidth": 0,
            "ticks": ""
           }
          },
          "colorscale": {
           "diverging": [
            [
             0,
             "#8e0152"
            ],
            [
             0.1,
             "#c51b7d"
            ],
            [
             0.2,
             "#de77ae"
            ],
            [
             0.3,
             "#f1b6da"
            ],
            [
             0.4,
             "#fde0ef"
            ],
            [
             0.5,
             "#f7f7f7"
            ],
            [
             0.6,
             "#e6f5d0"
            ],
            [
             0.7,
             "#b8e186"
            ],
            [
             0.8,
             "#7fbc41"
            ],
            [
             0.9,
             "#4d9221"
            ],
            [
             1,
             "#276419"
            ]
           ],
           "sequential": [
            [
             0,
             "#0d0887"
            ],
            [
             0.1111111111111111,
             "#46039f"
            ],
            [
             0.2222222222222222,
             "#7201a8"
            ],
            [
             0.3333333333333333,
             "#9c179e"
            ],
            [
             0.4444444444444444,
             "#bd3786"
            ],
            [
             0.5555555555555556,
             "#d8576b"
            ],
            [
             0.6666666666666666,
             "#ed7953"
            ],
            [
             0.7777777777777778,
             "#fb9f3a"
            ],
            [
             0.8888888888888888,
             "#fdca26"
            ],
            [
             1,
             "#f0f921"
            ]
           ],
           "sequentialminus": [
            [
             0,
             "#0d0887"
            ],
            [
             0.1111111111111111,
             "#46039f"
            ],
            [
             0.2222222222222222,
             "#7201a8"
            ],
            [
             0.3333333333333333,
             "#9c179e"
            ],
            [
             0.4444444444444444,
             "#bd3786"
            ],
            [
             0.5555555555555556,
             "#d8576b"
            ],
            [
             0.6666666666666666,
             "#ed7953"
            ],
            [
             0.7777777777777778,
             "#fb9f3a"
            ],
            [
             0.8888888888888888,
             "#fdca26"
            ],
            [
             1,
             "#f0f921"
            ]
           ]
          },
          "colorway": [
           "#636efa",
           "#EF553B",
           "#00cc96",
           "#ab63fa",
           "#FFA15A",
           "#19d3f3",
           "#FF6692",
           "#B6E880",
           "#FF97FF",
           "#FECB52"
          ],
          "font": {
           "color": "#2a3f5f"
          },
          "geo": {
           "bgcolor": "white",
           "lakecolor": "white",
           "landcolor": "white",
           "showlakes": true,
           "showland": true,
           "subunitcolor": "#C8D4E3"
          },
          "hoverlabel": {
           "align": "left"
          },
          "hovermode": "closest",
          "mapbox": {
           "style": "light"
          },
          "paper_bgcolor": "white",
          "plot_bgcolor": "white",
          "polar": {
           "angularaxis": {
            "gridcolor": "#EBF0F8",
            "linecolor": "#EBF0F8",
            "ticks": ""
           },
           "bgcolor": "white",
           "radialaxis": {
            "gridcolor": "#EBF0F8",
            "linecolor": "#EBF0F8",
            "ticks": ""
           }
          },
          "scene": {
           "xaxis": {
            "backgroundcolor": "white",
            "gridcolor": "#DFE8F3",
            "gridwidth": 2,
            "linecolor": "#EBF0F8",
            "showbackground": true,
            "ticks": "",
            "zerolinecolor": "#EBF0F8"
           },
           "yaxis": {
            "backgroundcolor": "white",
            "gridcolor": "#DFE8F3",
            "gridwidth": 2,
            "linecolor": "#EBF0F8",
            "showbackground": true,
            "ticks": "",
            "zerolinecolor": "#EBF0F8"
           },
           "zaxis": {
            "backgroundcolor": "white",
            "gridcolor": "#DFE8F3",
            "gridwidth": 2,
            "linecolor": "#EBF0F8",
            "showbackground": true,
            "ticks": "",
            "zerolinecolor": "#EBF0F8"
           }
          },
          "shapedefaults": {
           "line": {
            "color": "#2a3f5f"
           }
          },
          "ternary": {
           "aaxis": {
            "gridcolor": "#DFE8F3",
            "linecolor": "#A2B1C6",
            "ticks": ""
           },
           "baxis": {
            "gridcolor": "#DFE8F3",
            "linecolor": "#A2B1C6",
            "ticks": ""
           },
           "bgcolor": "white",
           "caxis": {
            "gridcolor": "#DFE8F3",
            "linecolor": "#A2B1C6",
            "ticks": ""
           }
          },
          "title": {
           "x": 0.05
          },
          "xaxis": {
           "automargin": true,
           "gridcolor": "#EBF0F8",
           "linecolor": "#EBF0F8",
           "ticks": "",
           "title": {
            "standoff": 15
           },
           "zerolinecolor": "#EBF0F8",
           "zerolinewidth": 2
          },
          "yaxis": {
           "automargin": true,
           "gridcolor": "#EBF0F8",
           "linecolor": "#EBF0F8",
           "ticks": "",
           "title": {
            "standoff": 15
           },
           "zerolinecolor": "#EBF0F8",
           "zerolinewidth": 2
          }
         }
        },
        "title": {
         "text": "Clustering storico listino"
        },
        "xaxis": {
         "anchor": "y",
         "domain": [
          0,
          1
         ],
         "title": {
          "text": "PC1"
         }
        },
        "yaxis": {
         "anchor": "x",
         "domain": [
          0,
          1
         ],
         "title": {
          "text": "PC2"
         }
        }
       }
      }
     },
     "metadata": {},
     "output_type": "display_data"
    }
   ],
   "source": [
    "# clustering storico listino\n",
    "fig = px.scatter(df_pca, x=\"PC1\", y=\"PC2\", color=\"Categoria\", template=\"plotly_white\", title=\"Clustering storico listino\")\n",
    "fig.write_html(\"vista_listino/clustering_storico_listino.html\")\n",
    "fig.show()"
   ]
  },
  {
   "cell_type": "code",
   "execution_count": 135,
   "metadata": {},
   "outputs": [
    {
     "data": {
      "text/html": [
       "<div>\n",
       "<style scoped>\n",
       "    .dataframe tbody tr th:only-of-type {\n",
       "        vertical-align: middle;\n",
       "    }\n",
       "\n",
       "    .dataframe tbody tr th {\n",
       "        vertical-align: top;\n",
       "    }\n",
       "\n",
       "    .dataframe thead th {\n",
       "        text-align: right;\n",
       "    }\n",
       "</style>\n",
       "<table border=\"1\" class=\"dataframe\">\n",
       "  <thead>\n",
       "    <tr style=\"text-align: right;\">\n",
       "      <th></th>\n",
       "      <th>Delta_avg</th>\n",
       "    </tr>\n",
       "    <tr>\n",
       "      <th>Categoria</th>\n",
       "      <th></th>\n",
       "    </tr>\n",
       "  </thead>\n",
       "  <tbody>\n",
       "    <tr>\n",
       "      <th>Profili Alluminio Kybos</th>\n",
       "      <td>2.05</td>\n",
       "    </tr>\n",
       "    <tr>\n",
       "      <th>Truciolare</th>\n",
       "      <td>1.92</td>\n",
       "    </tr>\n",
       "    <tr>\n",
       "      <th>Visive</th>\n",
       "      <td>1.55</td>\n",
       "    </tr>\n",
       "    <tr>\n",
       "      <th>Vetri</th>\n",
       "      <td>1.54</td>\n",
       "    </tr>\n",
       "    <tr>\n",
       "      <th>Ante vetro</th>\n",
       "      <td>1.04</td>\n",
       "    </tr>\n",
       "    <tr>\n",
       "      <th>Accessori</th>\n",
       "      <td>0.73</td>\n",
       "    </tr>\n",
       "    <tr>\n",
       "      <th>MP Acciaio</th>\n",
       "      <td>-0.49</td>\n",
       "    </tr>\n",
       "    <tr>\n",
       "      <th>Ante Acciaio</th>\n",
       "      <td>-0.95</td>\n",
       "    </tr>\n",
       "    <tr>\n",
       "      <th>Profili Alluminio Flux</th>\n",
       "      <td>-0.95</td>\n",
       "    </tr>\n",
       "    <tr>\n",
       "      <th>Profili Alluminio Flux 2</th>\n",
       "      <td>-1.01</td>\n",
       "    </tr>\n",
       "    <tr>\n",
       "      <th>Laminati e altri</th>\n",
       "      <td>-1.45</td>\n",
       "    </tr>\n",
       "    <tr>\n",
       "      <th>MP Alluminio</th>\n",
       "      <td>-1.45</td>\n",
       "    </tr>\n",
       "    <tr>\n",
       "      <th>Veneziane</th>\n",
       "      <td>-1.59</td>\n",
       "    </tr>\n",
       "    <tr>\n",
       "      <th>Coibenti</th>\n",
       "      <td>-2.02</td>\n",
       "    </tr>\n",
       "  </tbody>\n",
       "</table>\n",
       "</div>"
      ],
      "text/plain": [
       "                          Delta_avg\n",
       "Categoria                          \n",
       "Profili Alluminio Kybos        2.05\n",
       "Truciolare                     1.92\n",
       "Visive                         1.55\n",
       "Vetri                          1.54\n",
       "Ante vetro                     1.04\n",
       "Accessori                      0.73\n",
       "MP Acciaio                    -0.49\n",
       "Ante Acciaio                  -0.95\n",
       "Profili Alluminio Flux        -0.95\n",
       "Profili Alluminio Flux 2      -1.01\n",
       "Laminati e altri              -1.45\n",
       "MP Alluminio                  -1.45\n",
       "Veneziane                     -1.59\n",
       "Coibenti                      -2.02"
      ]
     },
     "execution_count": 135,
     "metadata": {},
     "output_type": "execute_result"
    }
   ],
   "source": [
    "df_mean_deltas = df_listino_storico.groupby(\"Categoria\").agg({\"Delta_avg\":\"mean\"}).sort_values(by=\"Delta_avg\", ascending=False)\n",
    "# apply rounding to 2 decimal places\n",
    "df_mean_deltas[\"Delta_avg\"] = df_mean_deltas[\"Delta_avg\"].apply(lambda x: round(x, 2))\n",
    "df_mean_deltas"
   ]
  },
  {
   "cell_type": "code",
   "execution_count": 136,
   "metadata": {},
   "outputs": [
    {
     "data": {
      "application/vnd.plotly.v1+json": {
       "config": {
        "plotlyServerURL": "https://plot.ly"
       },
       "data": [
        {
         "alignmentgroup": "True",
         "hovertemplate": "Categoria=%{x}<br>Differenza media=%{marker.color}<extra></extra>",
         "legendgroup": "",
         "marker": {
          "color": [
           2.05,
           1.92,
           1.55,
           1.54,
           1.04,
           0.73,
           -0.49,
           -0.95,
           -0.95,
           -1.01,
           -1.45,
           -1.45,
           -1.59,
           -2.02
          ],
          "coloraxis": "coloraxis",
          "pattern": {
           "shape": ""
          }
         },
         "name": "",
         "offsetgroup": "",
         "orientation": "v",
         "showlegend": false,
         "text": [
          2.05,
          1.92,
          1.55,
          1.54,
          1.04,
          0.73,
          -0.49,
          -0.95,
          -0.95,
          -1.01,
          -1.45,
          -1.45,
          -1.59,
          -2.02
         ],
         "textposition": "auto",
         "type": "bar",
         "x": [
          "Profili Alluminio Kybos",
          "Truciolare",
          "Visive",
          "Vetri",
          "Ante vetro",
          "Accessori",
          "MP Acciaio",
          "Ante Acciaio",
          "Profili Alluminio Flux",
          "Profili Alluminio Flux 2",
          "Laminati e altri",
          "MP Alluminio",
          "Veneziane",
          "Coibenti"
         ],
         "xaxis": "x",
         "y": [
          2.05,
          1.92,
          1.55,
          1.54,
          1.04,
          0.73,
          -0.49,
          -0.95,
          -0.95,
          -1.01,
          -1.45,
          -1.45,
          -1.59,
          -2.02
         ],
         "yaxis": "y"
        }
       ],
       "layout": {
        "barmode": "relative",
        "coloraxis": {
         "colorbar": {
          "title": {
           "text": "Differenza media"
          }
         },
         "colorscale": [
          [
           0,
           "#440154"
          ],
          [
           0.1111111111111111,
           "#482878"
          ],
          [
           0.2222222222222222,
           "#3e4989"
          ],
          [
           0.3333333333333333,
           "#31688e"
          ],
          [
           0.4444444444444444,
           "#26828e"
          ],
          [
           0.5555555555555556,
           "#1f9e89"
          ],
          [
           0.6666666666666666,
           "#35b779"
          ],
          [
           0.7777777777777778,
           "#6ece58"
          ],
          [
           0.8888888888888888,
           "#b5de2b"
          ],
          [
           1,
           "#fde725"
          ]
         ]
        },
        "legend": {
         "tracegroupgap": 0
        },
        "template": {
         "data": {
          "bar": [
           {
            "error_x": {
             "color": "#2a3f5f"
            },
            "error_y": {
             "color": "#2a3f5f"
            },
            "marker": {
             "line": {
              "color": "white",
              "width": 0.5
             },
             "pattern": {
              "fillmode": "overlay",
              "size": 10,
              "solidity": 0.2
             }
            },
            "type": "bar"
           }
          ],
          "barpolar": [
           {
            "marker": {
             "line": {
              "color": "white",
              "width": 0.5
             },
             "pattern": {
              "fillmode": "overlay",
              "size": 10,
              "solidity": 0.2
             }
            },
            "type": "barpolar"
           }
          ],
          "carpet": [
           {
            "aaxis": {
             "endlinecolor": "#2a3f5f",
             "gridcolor": "#C8D4E3",
             "linecolor": "#C8D4E3",
             "minorgridcolor": "#C8D4E3",
             "startlinecolor": "#2a3f5f"
            },
            "baxis": {
             "endlinecolor": "#2a3f5f",
             "gridcolor": "#C8D4E3",
             "linecolor": "#C8D4E3",
             "minorgridcolor": "#C8D4E3",
             "startlinecolor": "#2a3f5f"
            },
            "type": "carpet"
           }
          ],
          "choropleth": [
           {
            "colorbar": {
             "outlinewidth": 0,
             "ticks": ""
            },
            "type": "choropleth"
           }
          ],
          "contour": [
           {
            "colorbar": {
             "outlinewidth": 0,
             "ticks": ""
            },
            "colorscale": [
             [
              0,
              "#0d0887"
             ],
             [
              0.1111111111111111,
              "#46039f"
             ],
             [
              0.2222222222222222,
              "#7201a8"
             ],
             [
              0.3333333333333333,
              "#9c179e"
             ],
             [
              0.4444444444444444,
              "#bd3786"
             ],
             [
              0.5555555555555556,
              "#d8576b"
             ],
             [
              0.6666666666666666,
              "#ed7953"
             ],
             [
              0.7777777777777778,
              "#fb9f3a"
             ],
             [
              0.8888888888888888,
              "#fdca26"
             ],
             [
              1,
              "#f0f921"
             ]
            ],
            "type": "contour"
           }
          ],
          "contourcarpet": [
           {
            "colorbar": {
             "outlinewidth": 0,
             "ticks": ""
            },
            "type": "contourcarpet"
           }
          ],
          "heatmap": [
           {
            "colorbar": {
             "outlinewidth": 0,
             "ticks": ""
            },
            "colorscale": [
             [
              0,
              "#0d0887"
             ],
             [
              0.1111111111111111,
              "#46039f"
             ],
             [
              0.2222222222222222,
              "#7201a8"
             ],
             [
              0.3333333333333333,
              "#9c179e"
             ],
             [
              0.4444444444444444,
              "#bd3786"
             ],
             [
              0.5555555555555556,
              "#d8576b"
             ],
             [
              0.6666666666666666,
              "#ed7953"
             ],
             [
              0.7777777777777778,
              "#fb9f3a"
             ],
             [
              0.8888888888888888,
              "#fdca26"
             ],
             [
              1,
              "#f0f921"
             ]
            ],
            "type": "heatmap"
           }
          ],
          "heatmapgl": [
           {
            "colorbar": {
             "outlinewidth": 0,
             "ticks": ""
            },
            "colorscale": [
             [
              0,
              "#0d0887"
             ],
             [
              0.1111111111111111,
              "#46039f"
             ],
             [
              0.2222222222222222,
              "#7201a8"
             ],
             [
              0.3333333333333333,
              "#9c179e"
             ],
             [
              0.4444444444444444,
              "#bd3786"
             ],
             [
              0.5555555555555556,
              "#d8576b"
             ],
             [
              0.6666666666666666,
              "#ed7953"
             ],
             [
              0.7777777777777778,
              "#fb9f3a"
             ],
             [
              0.8888888888888888,
              "#fdca26"
             ],
             [
              1,
              "#f0f921"
             ]
            ],
            "type": "heatmapgl"
           }
          ],
          "histogram": [
           {
            "marker": {
             "pattern": {
              "fillmode": "overlay",
              "size": 10,
              "solidity": 0.2
             }
            },
            "type": "histogram"
           }
          ],
          "histogram2d": [
           {
            "colorbar": {
             "outlinewidth": 0,
             "ticks": ""
            },
            "colorscale": [
             [
              0,
              "#0d0887"
             ],
             [
              0.1111111111111111,
              "#46039f"
             ],
             [
              0.2222222222222222,
              "#7201a8"
             ],
             [
              0.3333333333333333,
              "#9c179e"
             ],
             [
              0.4444444444444444,
              "#bd3786"
             ],
             [
              0.5555555555555556,
              "#d8576b"
             ],
             [
              0.6666666666666666,
              "#ed7953"
             ],
             [
              0.7777777777777778,
              "#fb9f3a"
             ],
             [
              0.8888888888888888,
              "#fdca26"
             ],
             [
              1,
              "#f0f921"
             ]
            ],
            "type": "histogram2d"
           }
          ],
          "histogram2dcontour": [
           {
            "colorbar": {
             "outlinewidth": 0,
             "ticks": ""
            },
            "colorscale": [
             [
              0,
              "#0d0887"
             ],
             [
              0.1111111111111111,
              "#46039f"
             ],
             [
              0.2222222222222222,
              "#7201a8"
             ],
             [
              0.3333333333333333,
              "#9c179e"
             ],
             [
              0.4444444444444444,
              "#bd3786"
             ],
             [
              0.5555555555555556,
              "#d8576b"
             ],
             [
              0.6666666666666666,
              "#ed7953"
             ],
             [
              0.7777777777777778,
              "#fb9f3a"
             ],
             [
              0.8888888888888888,
              "#fdca26"
             ],
             [
              1,
              "#f0f921"
             ]
            ],
            "type": "histogram2dcontour"
           }
          ],
          "mesh3d": [
           {
            "colorbar": {
             "outlinewidth": 0,
             "ticks": ""
            },
            "type": "mesh3d"
           }
          ],
          "parcoords": [
           {
            "line": {
             "colorbar": {
              "outlinewidth": 0,
              "ticks": ""
             }
            },
            "type": "parcoords"
           }
          ],
          "pie": [
           {
            "automargin": true,
            "type": "pie"
           }
          ],
          "scatter": [
           {
            "fillpattern": {
             "fillmode": "overlay",
             "size": 10,
             "solidity": 0.2
            },
            "type": "scatter"
           }
          ],
          "scatter3d": [
           {
            "line": {
             "colorbar": {
              "outlinewidth": 0,
              "ticks": ""
             }
            },
            "marker": {
             "colorbar": {
              "outlinewidth": 0,
              "ticks": ""
             }
            },
            "type": "scatter3d"
           }
          ],
          "scattercarpet": [
           {
            "marker": {
             "colorbar": {
              "outlinewidth": 0,
              "ticks": ""
             }
            },
            "type": "scattercarpet"
           }
          ],
          "scattergeo": [
           {
            "marker": {
             "colorbar": {
              "outlinewidth": 0,
              "ticks": ""
             }
            },
            "type": "scattergeo"
           }
          ],
          "scattergl": [
           {
            "marker": {
             "colorbar": {
              "outlinewidth": 0,
              "ticks": ""
             }
            },
            "type": "scattergl"
           }
          ],
          "scattermapbox": [
           {
            "marker": {
             "colorbar": {
              "outlinewidth": 0,
              "ticks": ""
             }
            },
            "type": "scattermapbox"
           }
          ],
          "scatterpolar": [
           {
            "marker": {
             "colorbar": {
              "outlinewidth": 0,
              "ticks": ""
             }
            },
            "type": "scatterpolar"
           }
          ],
          "scatterpolargl": [
           {
            "marker": {
             "colorbar": {
              "outlinewidth": 0,
              "ticks": ""
             }
            },
            "type": "scatterpolargl"
           }
          ],
          "scatterternary": [
           {
            "marker": {
             "colorbar": {
              "outlinewidth": 0,
              "ticks": ""
             }
            },
            "type": "scatterternary"
           }
          ],
          "surface": [
           {
            "colorbar": {
             "outlinewidth": 0,
             "ticks": ""
            },
            "colorscale": [
             [
              0,
              "#0d0887"
             ],
             [
              0.1111111111111111,
              "#46039f"
             ],
             [
              0.2222222222222222,
              "#7201a8"
             ],
             [
              0.3333333333333333,
              "#9c179e"
             ],
             [
              0.4444444444444444,
              "#bd3786"
             ],
             [
              0.5555555555555556,
              "#d8576b"
             ],
             [
              0.6666666666666666,
              "#ed7953"
             ],
             [
              0.7777777777777778,
              "#fb9f3a"
             ],
             [
              0.8888888888888888,
              "#fdca26"
             ],
             [
              1,
              "#f0f921"
             ]
            ],
            "type": "surface"
           }
          ],
          "table": [
           {
            "cells": {
             "fill": {
              "color": "#EBF0F8"
             },
             "line": {
              "color": "white"
             }
            },
            "header": {
             "fill": {
              "color": "#C8D4E3"
             },
             "line": {
              "color": "white"
             }
            },
            "type": "table"
           }
          ]
         },
         "layout": {
          "annotationdefaults": {
           "arrowcolor": "#2a3f5f",
           "arrowhead": 0,
           "arrowwidth": 1
          },
          "autotypenumbers": "strict",
          "coloraxis": {
           "colorbar": {
            "outlinewidth": 0,
            "ticks": ""
           }
          },
          "colorscale": {
           "diverging": [
            [
             0,
             "#8e0152"
            ],
            [
             0.1,
             "#c51b7d"
            ],
            [
             0.2,
             "#de77ae"
            ],
            [
             0.3,
             "#f1b6da"
            ],
            [
             0.4,
             "#fde0ef"
            ],
            [
             0.5,
             "#f7f7f7"
            ],
            [
             0.6,
             "#e6f5d0"
            ],
            [
             0.7,
             "#b8e186"
            ],
            [
             0.8,
             "#7fbc41"
            ],
            [
             0.9,
             "#4d9221"
            ],
            [
             1,
             "#276419"
            ]
           ],
           "sequential": [
            [
             0,
             "#0d0887"
            ],
            [
             0.1111111111111111,
             "#46039f"
            ],
            [
             0.2222222222222222,
             "#7201a8"
            ],
            [
             0.3333333333333333,
             "#9c179e"
            ],
            [
             0.4444444444444444,
             "#bd3786"
            ],
            [
             0.5555555555555556,
             "#d8576b"
            ],
            [
             0.6666666666666666,
             "#ed7953"
            ],
            [
             0.7777777777777778,
             "#fb9f3a"
            ],
            [
             0.8888888888888888,
             "#fdca26"
            ],
            [
             1,
             "#f0f921"
            ]
           ],
           "sequentialminus": [
            [
             0,
             "#0d0887"
            ],
            [
             0.1111111111111111,
             "#46039f"
            ],
            [
             0.2222222222222222,
             "#7201a8"
            ],
            [
             0.3333333333333333,
             "#9c179e"
            ],
            [
             0.4444444444444444,
             "#bd3786"
            ],
            [
             0.5555555555555556,
             "#d8576b"
            ],
            [
             0.6666666666666666,
             "#ed7953"
            ],
            [
             0.7777777777777778,
             "#fb9f3a"
            ],
            [
             0.8888888888888888,
             "#fdca26"
            ],
            [
             1,
             "#f0f921"
            ]
           ]
          },
          "colorway": [
           "#636efa",
           "#EF553B",
           "#00cc96",
           "#ab63fa",
           "#FFA15A",
           "#19d3f3",
           "#FF6692",
           "#B6E880",
           "#FF97FF",
           "#FECB52"
          ],
          "font": {
           "color": "#2a3f5f"
          },
          "geo": {
           "bgcolor": "white",
           "lakecolor": "white",
           "landcolor": "white",
           "showlakes": true,
           "showland": true,
           "subunitcolor": "#C8D4E3"
          },
          "hoverlabel": {
           "align": "left"
          },
          "hovermode": "closest",
          "mapbox": {
           "style": "light"
          },
          "paper_bgcolor": "white",
          "plot_bgcolor": "white",
          "polar": {
           "angularaxis": {
            "gridcolor": "#EBF0F8",
            "linecolor": "#EBF0F8",
            "ticks": ""
           },
           "bgcolor": "white",
           "radialaxis": {
            "gridcolor": "#EBF0F8",
            "linecolor": "#EBF0F8",
            "ticks": ""
           }
          },
          "scene": {
           "xaxis": {
            "backgroundcolor": "white",
            "gridcolor": "#DFE8F3",
            "gridwidth": 2,
            "linecolor": "#EBF0F8",
            "showbackground": true,
            "ticks": "",
            "zerolinecolor": "#EBF0F8"
           },
           "yaxis": {
            "backgroundcolor": "white",
            "gridcolor": "#DFE8F3",
            "gridwidth": 2,
            "linecolor": "#EBF0F8",
            "showbackground": true,
            "ticks": "",
            "zerolinecolor": "#EBF0F8"
           },
           "zaxis": {
            "backgroundcolor": "white",
            "gridcolor": "#DFE8F3",
            "gridwidth": 2,
            "linecolor": "#EBF0F8",
            "showbackground": true,
            "ticks": "",
            "zerolinecolor": "#EBF0F8"
           }
          },
          "shapedefaults": {
           "line": {
            "color": "#2a3f5f"
           }
          },
          "ternary": {
           "aaxis": {
            "gridcolor": "#DFE8F3",
            "linecolor": "#A2B1C6",
            "ticks": ""
           },
           "baxis": {
            "gridcolor": "#DFE8F3",
            "linecolor": "#A2B1C6",
            "ticks": ""
           },
           "bgcolor": "white",
           "caxis": {
            "gridcolor": "#DFE8F3",
            "linecolor": "#A2B1C6",
            "ticks": ""
           }
          },
          "title": {
           "x": 0.05
          },
          "xaxis": {
           "automargin": true,
           "gridcolor": "#EBF0F8",
           "linecolor": "#EBF0F8",
           "ticks": "",
           "title": {
            "standoff": 15
           },
           "zerolinecolor": "#EBF0F8",
           "zerolinewidth": 2
          },
          "yaxis": {
           "automargin": true,
           "gridcolor": "#EBF0F8",
           "linecolor": "#EBF0F8",
           "ticks": "",
           "title": {
            "standoff": 15
           },
           "zerolinecolor": "#EBF0F8",
           "zerolinewidth": 2
          }
         }
        },
        "title": {
         "text": "Differenza media tra prezzi"
        },
        "xaxis": {
         "anchor": "y",
         "domain": [
          0,
          1
         ],
         "title": {
          "text": "Categoria"
         }
        },
        "yaxis": {
         "anchor": "x",
         "domain": [
          0,
          1
         ],
         "title": {
          "text": "Differenza media"
         }
        }
       }
      }
     },
     "metadata": {},
     "output_type": "display_data"
    }
   ],
   "source": [
    "fig = px.bar(df_mean_deltas, x=df_mean_deltas.index, y=\"Delta_avg\", template=\"plotly_white\", \n",
    "             title=\"Differenza media tra prezzi\",\n",
    "             labels={\"Delta_avg\":\"Differenza media\", \"Categoria\":\"Categoria\"}, color=\"Delta_avg\", \n",
    "             color_continuous_scale=px.colors.sequential.Viridis, text=\"Delta_avg\")\n",
    "fig.write_html(\"vista_listino/delta_media_prezzi.html\")\n",
    "fig.show()"
   ]
  },
  {
   "cell_type": "code",
   "execution_count": 137,
   "metadata": {},
   "outputs": [
    {
     "data": {
      "text/plain": [
       "[83.36, 80.55, 82.61, 57.03, 47.5, 57.51, 86.82, 64.17, 83.93, 59.39, 64.29]"
      ]
     },
     "execution_count": 137,
     "metadata": {},
     "output_type": "execute_result"
    }
   ],
   "source": [
    "storico_vendita = df_listino[df_listino[\"Codice_articolo\"]==\"017.PM419\"][\"Vendita\"][0].copy()\n",
    "storico_vendita"
   ]
  },
  {
   "cell_type": "code",
   "execution_count": 138,
   "metadata": {},
   "outputs": [
    {
     "data": {
      "text/plain": [
       "[36.84, 34.03, 36.09, 10.51, 0.98, 10.99, 40.3, 17.65, 37.41, 12.87, 17.77]"
      ]
     },
     "execution_count": 138,
     "metadata": {},
     "output_type": "execute_result"
    }
   ],
   "source": [
    "for i in range(len(storico_vendita)):\n",
    "    storico_vendita[i] = round(storico_vendita[i] - df_listino[df_listino[\"Codice_articolo\"]==\"017.PM419\"][\"Costo\"].values[0], 2)\n",
    "storico_vendita"
   ]
  },
  {
   "cell_type": "code",
   "execution_count": 139,
   "metadata": {},
   "outputs": [
    {
     "data": {
      "application/vnd.plotly.v1+json": {
       "config": {
        "plotlyServerURL": "https://plot.ly"
       },
       "data": [
        {
         "alignmentgroup": "True",
         "hovertemplate": "vendita=%{x}<br>Discostamento=%{y}<br>text=%{text}<br>color=%{marker.color}<extra></extra>",
         "legendgroup": "",
         "marker": {
          "color": [
           36.84,
           34.03,
           36.09,
           10.51,
           0.98,
           10.99,
           40.3,
           17.65,
           37.41,
           12.87,
           17.77
          ],
          "coloraxis": "coloraxis",
          "pattern": {
           "shape": ""
          }
         },
         "name": "",
         "offsetgroup": "",
         "orientation": "v",
         "showlegend": false,
         "text": [
          36.84,
          34.03,
          36.09,
          10.51,
          0.98,
          10.99,
          40.3,
          17.65,
          37.41,
          12.87,
          17.77
         ],
         "textposition": "outside",
         "type": "bar",
         "x": [
          1,
          2,
          3,
          4,
          5,
          6,
          7,
          8,
          9,
          10,
          11
         ],
         "xaxis": "x",
         "y": [
          36.84,
          34.03,
          36.09,
          10.51,
          0.98,
          10.99,
          40.3,
          17.65,
          37.41,
          12.87,
          17.77
         ],
         "yaxis": "y"
        }
       ],
       "layout": {
        "barmode": "relative",
        "coloraxis": {
         "colorbar": {
          "title": {
           "text": "color"
          }
         },
         "colorscale": [
          [
           0,
           "rgb(103,0,31)"
          ],
          [
           0.1,
           "rgb(178,24,43)"
          ],
          [
           0.2,
           "rgb(214,96,77)"
          ],
          [
           0.3,
           "rgb(244,165,130)"
          ],
          [
           0.4,
           "rgb(253,219,199)"
          ],
          [
           0.5,
           "rgb(247,247,247)"
          ],
          [
           0.6,
           "rgb(209,229,240)"
          ],
          [
           0.7,
           "rgb(146,197,222)"
          ],
          [
           0.8,
           "rgb(67,147,195)"
          ],
          [
           0.9,
           "rgb(33,102,172)"
          ],
          [
           1,
           "rgb(5,48,97)"
          ]
         ]
        },
        "legend": {
         "tracegroupgap": 0
        },
        "template": {
         "data": {
          "bar": [
           {
            "error_x": {
             "color": "#2a3f5f"
            },
            "error_y": {
             "color": "#2a3f5f"
            },
            "marker": {
             "line": {
              "color": "white",
              "width": 0.5
             },
             "pattern": {
              "fillmode": "overlay",
              "size": 10,
              "solidity": 0.2
             }
            },
            "type": "bar"
           }
          ],
          "barpolar": [
           {
            "marker": {
             "line": {
              "color": "white",
              "width": 0.5
             },
             "pattern": {
              "fillmode": "overlay",
              "size": 10,
              "solidity": 0.2
             }
            },
            "type": "barpolar"
           }
          ],
          "carpet": [
           {
            "aaxis": {
             "endlinecolor": "#2a3f5f",
             "gridcolor": "#C8D4E3",
             "linecolor": "#C8D4E3",
             "minorgridcolor": "#C8D4E3",
             "startlinecolor": "#2a3f5f"
            },
            "baxis": {
             "endlinecolor": "#2a3f5f",
             "gridcolor": "#C8D4E3",
             "linecolor": "#C8D4E3",
             "minorgridcolor": "#C8D4E3",
             "startlinecolor": "#2a3f5f"
            },
            "type": "carpet"
           }
          ],
          "choropleth": [
           {
            "colorbar": {
             "outlinewidth": 0,
             "ticks": ""
            },
            "type": "choropleth"
           }
          ],
          "contour": [
           {
            "colorbar": {
             "outlinewidth": 0,
             "ticks": ""
            },
            "colorscale": [
             [
              0,
              "#0d0887"
             ],
             [
              0.1111111111111111,
              "#46039f"
             ],
             [
              0.2222222222222222,
              "#7201a8"
             ],
             [
              0.3333333333333333,
              "#9c179e"
             ],
             [
              0.4444444444444444,
              "#bd3786"
             ],
             [
              0.5555555555555556,
              "#d8576b"
             ],
             [
              0.6666666666666666,
              "#ed7953"
             ],
             [
              0.7777777777777778,
              "#fb9f3a"
             ],
             [
              0.8888888888888888,
              "#fdca26"
             ],
             [
              1,
              "#f0f921"
             ]
            ],
            "type": "contour"
           }
          ],
          "contourcarpet": [
           {
            "colorbar": {
             "outlinewidth": 0,
             "ticks": ""
            },
            "type": "contourcarpet"
           }
          ],
          "heatmap": [
           {
            "colorbar": {
             "outlinewidth": 0,
             "ticks": ""
            },
            "colorscale": [
             [
              0,
              "#0d0887"
             ],
             [
              0.1111111111111111,
              "#46039f"
             ],
             [
              0.2222222222222222,
              "#7201a8"
             ],
             [
              0.3333333333333333,
              "#9c179e"
             ],
             [
              0.4444444444444444,
              "#bd3786"
             ],
             [
              0.5555555555555556,
              "#d8576b"
             ],
             [
              0.6666666666666666,
              "#ed7953"
             ],
             [
              0.7777777777777778,
              "#fb9f3a"
             ],
             [
              0.8888888888888888,
              "#fdca26"
             ],
             [
              1,
              "#f0f921"
             ]
            ],
            "type": "heatmap"
           }
          ],
          "heatmapgl": [
           {
            "colorbar": {
             "outlinewidth": 0,
             "ticks": ""
            },
            "colorscale": [
             [
              0,
              "#0d0887"
             ],
             [
              0.1111111111111111,
              "#46039f"
             ],
             [
              0.2222222222222222,
              "#7201a8"
             ],
             [
              0.3333333333333333,
              "#9c179e"
             ],
             [
              0.4444444444444444,
              "#bd3786"
             ],
             [
              0.5555555555555556,
              "#d8576b"
             ],
             [
              0.6666666666666666,
              "#ed7953"
             ],
             [
              0.7777777777777778,
              "#fb9f3a"
             ],
             [
              0.8888888888888888,
              "#fdca26"
             ],
             [
              1,
              "#f0f921"
             ]
            ],
            "type": "heatmapgl"
           }
          ],
          "histogram": [
           {
            "marker": {
             "pattern": {
              "fillmode": "overlay",
              "size": 10,
              "solidity": 0.2
             }
            },
            "type": "histogram"
           }
          ],
          "histogram2d": [
           {
            "colorbar": {
             "outlinewidth": 0,
             "ticks": ""
            },
            "colorscale": [
             [
              0,
              "#0d0887"
             ],
             [
              0.1111111111111111,
              "#46039f"
             ],
             [
              0.2222222222222222,
              "#7201a8"
             ],
             [
              0.3333333333333333,
              "#9c179e"
             ],
             [
              0.4444444444444444,
              "#bd3786"
             ],
             [
              0.5555555555555556,
              "#d8576b"
             ],
             [
              0.6666666666666666,
              "#ed7953"
             ],
             [
              0.7777777777777778,
              "#fb9f3a"
             ],
             [
              0.8888888888888888,
              "#fdca26"
             ],
             [
              1,
              "#f0f921"
             ]
            ],
            "type": "histogram2d"
           }
          ],
          "histogram2dcontour": [
           {
            "colorbar": {
             "outlinewidth": 0,
             "ticks": ""
            },
            "colorscale": [
             [
              0,
              "#0d0887"
             ],
             [
              0.1111111111111111,
              "#46039f"
             ],
             [
              0.2222222222222222,
              "#7201a8"
             ],
             [
              0.3333333333333333,
              "#9c179e"
             ],
             [
              0.4444444444444444,
              "#bd3786"
             ],
             [
              0.5555555555555556,
              "#d8576b"
             ],
             [
              0.6666666666666666,
              "#ed7953"
             ],
             [
              0.7777777777777778,
              "#fb9f3a"
             ],
             [
              0.8888888888888888,
              "#fdca26"
             ],
             [
              1,
              "#f0f921"
             ]
            ],
            "type": "histogram2dcontour"
           }
          ],
          "mesh3d": [
           {
            "colorbar": {
             "outlinewidth": 0,
             "ticks": ""
            },
            "type": "mesh3d"
           }
          ],
          "parcoords": [
           {
            "line": {
             "colorbar": {
              "outlinewidth": 0,
              "ticks": ""
             }
            },
            "type": "parcoords"
           }
          ],
          "pie": [
           {
            "automargin": true,
            "type": "pie"
           }
          ],
          "scatter": [
           {
            "fillpattern": {
             "fillmode": "overlay",
             "size": 10,
             "solidity": 0.2
            },
            "type": "scatter"
           }
          ],
          "scatter3d": [
           {
            "line": {
             "colorbar": {
              "outlinewidth": 0,
              "ticks": ""
             }
            },
            "marker": {
             "colorbar": {
              "outlinewidth": 0,
              "ticks": ""
             }
            },
            "type": "scatter3d"
           }
          ],
          "scattercarpet": [
           {
            "marker": {
             "colorbar": {
              "outlinewidth": 0,
              "ticks": ""
             }
            },
            "type": "scattercarpet"
           }
          ],
          "scattergeo": [
           {
            "marker": {
             "colorbar": {
              "outlinewidth": 0,
              "ticks": ""
             }
            },
            "type": "scattergeo"
           }
          ],
          "scattergl": [
           {
            "marker": {
             "colorbar": {
              "outlinewidth": 0,
              "ticks": ""
             }
            },
            "type": "scattergl"
           }
          ],
          "scattermapbox": [
           {
            "marker": {
             "colorbar": {
              "outlinewidth": 0,
              "ticks": ""
             }
            },
            "type": "scattermapbox"
           }
          ],
          "scatterpolar": [
           {
            "marker": {
             "colorbar": {
              "outlinewidth": 0,
              "ticks": ""
             }
            },
            "type": "scatterpolar"
           }
          ],
          "scatterpolargl": [
           {
            "marker": {
             "colorbar": {
              "outlinewidth": 0,
              "ticks": ""
             }
            },
            "type": "scatterpolargl"
           }
          ],
          "scatterternary": [
           {
            "marker": {
             "colorbar": {
              "outlinewidth": 0,
              "ticks": ""
             }
            },
            "type": "scatterternary"
           }
          ],
          "surface": [
           {
            "colorbar": {
             "outlinewidth": 0,
             "ticks": ""
            },
            "colorscale": [
             [
              0,
              "#0d0887"
             ],
             [
              0.1111111111111111,
              "#46039f"
             ],
             [
              0.2222222222222222,
              "#7201a8"
             ],
             [
              0.3333333333333333,
              "#9c179e"
             ],
             [
              0.4444444444444444,
              "#bd3786"
             ],
             [
              0.5555555555555556,
              "#d8576b"
             ],
             [
              0.6666666666666666,
              "#ed7953"
             ],
             [
              0.7777777777777778,
              "#fb9f3a"
             ],
             [
              0.8888888888888888,
              "#fdca26"
             ],
             [
              1,
              "#f0f921"
             ]
            ],
            "type": "surface"
           }
          ],
          "table": [
           {
            "cells": {
             "fill": {
              "color": "#EBF0F8"
             },
             "line": {
              "color": "white"
             }
            },
            "header": {
             "fill": {
              "color": "#C8D4E3"
             },
             "line": {
              "color": "white"
             }
            },
            "type": "table"
           }
          ]
         },
         "layout": {
          "annotationdefaults": {
           "arrowcolor": "#2a3f5f",
           "arrowhead": 0,
           "arrowwidth": 1
          },
          "autotypenumbers": "strict",
          "coloraxis": {
           "colorbar": {
            "outlinewidth": 0,
            "ticks": ""
           }
          },
          "colorscale": {
           "diverging": [
            [
             0,
             "#8e0152"
            ],
            [
             0.1,
             "#c51b7d"
            ],
            [
             0.2,
             "#de77ae"
            ],
            [
             0.3,
             "#f1b6da"
            ],
            [
             0.4,
             "#fde0ef"
            ],
            [
             0.5,
             "#f7f7f7"
            ],
            [
             0.6,
             "#e6f5d0"
            ],
            [
             0.7,
             "#b8e186"
            ],
            [
             0.8,
             "#7fbc41"
            ],
            [
             0.9,
             "#4d9221"
            ],
            [
             1,
             "#276419"
            ]
           ],
           "sequential": [
            [
             0,
             "#0d0887"
            ],
            [
             0.1111111111111111,
             "#46039f"
            ],
            [
             0.2222222222222222,
             "#7201a8"
            ],
            [
             0.3333333333333333,
             "#9c179e"
            ],
            [
             0.4444444444444444,
             "#bd3786"
            ],
            [
             0.5555555555555556,
             "#d8576b"
            ],
            [
             0.6666666666666666,
             "#ed7953"
            ],
            [
             0.7777777777777778,
             "#fb9f3a"
            ],
            [
             0.8888888888888888,
             "#fdca26"
            ],
            [
             1,
             "#f0f921"
            ]
           ],
           "sequentialminus": [
            [
             0,
             "#0d0887"
            ],
            [
             0.1111111111111111,
             "#46039f"
            ],
            [
             0.2222222222222222,
             "#7201a8"
            ],
            [
             0.3333333333333333,
             "#9c179e"
            ],
            [
             0.4444444444444444,
             "#bd3786"
            ],
            [
             0.5555555555555556,
             "#d8576b"
            ],
            [
             0.6666666666666666,
             "#ed7953"
            ],
            [
             0.7777777777777778,
             "#fb9f3a"
            ],
            [
             0.8888888888888888,
             "#fdca26"
            ],
            [
             1,
             "#f0f921"
            ]
           ]
          },
          "colorway": [
           "#636efa",
           "#EF553B",
           "#00cc96",
           "#ab63fa",
           "#FFA15A",
           "#19d3f3",
           "#FF6692",
           "#B6E880",
           "#FF97FF",
           "#FECB52"
          ],
          "font": {
           "color": "#2a3f5f"
          },
          "geo": {
           "bgcolor": "white",
           "lakecolor": "white",
           "landcolor": "white",
           "showlakes": true,
           "showland": true,
           "subunitcolor": "#C8D4E3"
          },
          "hoverlabel": {
           "align": "left"
          },
          "hovermode": "closest",
          "mapbox": {
           "style": "light"
          },
          "paper_bgcolor": "white",
          "plot_bgcolor": "white",
          "polar": {
           "angularaxis": {
            "gridcolor": "#EBF0F8",
            "linecolor": "#EBF0F8",
            "ticks": ""
           },
           "bgcolor": "white",
           "radialaxis": {
            "gridcolor": "#EBF0F8",
            "linecolor": "#EBF0F8",
            "ticks": ""
           }
          },
          "scene": {
           "xaxis": {
            "backgroundcolor": "white",
            "gridcolor": "#DFE8F3",
            "gridwidth": 2,
            "linecolor": "#EBF0F8",
            "showbackground": true,
            "ticks": "",
            "zerolinecolor": "#EBF0F8"
           },
           "yaxis": {
            "backgroundcolor": "white",
            "gridcolor": "#DFE8F3",
            "gridwidth": 2,
            "linecolor": "#EBF0F8",
            "showbackground": true,
            "ticks": "",
            "zerolinecolor": "#EBF0F8"
           },
           "zaxis": {
            "backgroundcolor": "white",
            "gridcolor": "#DFE8F3",
            "gridwidth": 2,
            "linecolor": "#EBF0F8",
            "showbackground": true,
            "ticks": "",
            "zerolinecolor": "#EBF0F8"
           }
          },
          "shapedefaults": {
           "line": {
            "color": "#2a3f5f"
           }
          },
          "ternary": {
           "aaxis": {
            "gridcolor": "#DFE8F3",
            "linecolor": "#A2B1C6",
            "ticks": ""
           },
           "baxis": {
            "gridcolor": "#DFE8F3",
            "linecolor": "#A2B1C6",
            "ticks": ""
           },
           "bgcolor": "white",
           "caxis": {
            "gridcolor": "#DFE8F3",
            "linecolor": "#A2B1C6",
            "ticks": ""
           }
          },
          "title": {
           "x": 0.05
          },
          "xaxis": {
           "automargin": true,
           "gridcolor": "#EBF0F8",
           "linecolor": "#EBF0F8",
           "ticks": "",
           "title": {
            "standoff": 15
           },
           "zerolinecolor": "#EBF0F8",
           "zerolinewidth": 2
          },
          "yaxis": {
           "automargin": true,
           "gridcolor": "#EBF0F8",
           "linecolor": "#EBF0F8",
           "ticks": "",
           "title": {
            "standoff": 15
           },
           "zerolinecolor": "#EBF0F8",
           "zerolinewidth": 2
          }
         }
        },
        "title": {
         "text": "Storico discostamento articolo 017.PM419"
        },
        "xaxis": {
         "anchor": "y",
         "domain": [
          0,
          1
         ],
         "title": {
          "text": "vendita"
         }
        },
        "yaxis": {
         "anchor": "x",
         "domain": [
          0,
          1
         ],
         "title": {
          "text": "Discostamento"
         }
        }
       }
      }
     },
     "metadata": {},
     "output_type": "display_data"
    }
   ],
   "source": [
    "fig = px.bar(x=list(range(1, len(storico_vendita)+1)), y=storico_vendita, title=\"Storico discostamento articolo 017.PM419\", \n",
    "             template=\"plotly_white\", text=storico_vendita, labels={\"x\":\"vendita\", \"y\":\"Discostamento\"},\n",
    "             color=storico_vendita, color_continuous_scale=px.colors.sequential.RdBu)\n",
    "fig.update_traces(textposition='outside')\n",
    "fig.write_html(\"vista_listino/storico_vendita_esempio.html\")\n",
    "fig.show()"
   ]
  },
  {
   "cell_type": "code",
   "execution_count": 150,
   "metadata": {},
   "outputs": [
    {
     "data": {
      "text/html": [
       "<div>\n",
       "<style scoped>\n",
       "    .dataframe tbody tr th:only-of-type {\n",
       "        vertical-align: middle;\n",
       "    }\n",
       "\n",
       "    .dataframe tbody tr th {\n",
       "        vertical-align: top;\n",
       "    }\n",
       "\n",
       "    .dataframe thead th {\n",
       "        text-align: right;\n",
       "    }\n",
       "</style>\n",
       "<table border=\"1\" class=\"dataframe\">\n",
       "  <thead>\n",
       "    <tr style=\"text-align: right;\">\n",
       "      <th></th>\n",
       "      <th>Codice_articolo</th>\n",
       "      <th>Codice_variante</th>\n",
       "      <th>Descrizione</th>\n",
       "      <th>Costo</th>\n",
       "      <th>Data_riferimento</th>\n",
       "      <th>Categoria</th>\n",
       "      <th>Storico</th>\n",
       "      <th>Vendita</th>\n",
       "      <th>Prezzo_1</th>\n",
       "      <th>Prezzo_2</th>\n",
       "      <th>...</th>\n",
       "      <th>Prezzo_5</th>\n",
       "      <th>Prezzo_6</th>\n",
       "      <th>Prezzo_7</th>\n",
       "      <th>Prezzo_8</th>\n",
       "      <th>Prezzo_9</th>\n",
       "      <th>Prezzo_10</th>\n",
       "      <th>Prezzo_11</th>\n",
       "      <th>Prezzo_12</th>\n",
       "      <th>Prezzo_13</th>\n",
       "      <th>media_discostamento</th>\n",
       "    </tr>\n",
       "  </thead>\n",
       "  <tbody>\n",
       "    <tr>\n",
       "      <th>0</th>\n",
       "      <td>017.PM419</td>\n",
       "      <td>1</td>\n",
       "      <td></td>\n",
       "      <td>46.52</td>\n",
       "      <td>2023-01-12</td>\n",
       "      <td>Veneziane</td>\n",
       "      <td>[54.77, 53.52, 52.73, 52.54, 51.16, 51.02, 50....</td>\n",
       "      <td>[83.36, 80.55, 82.61, 57.03, 47.5, 57.51, 86.8...</td>\n",
       "      <td>54.77</td>\n",
       "      <td>53.52</td>\n",
       "      <td>...</td>\n",
       "      <td>51.16</td>\n",
       "      <td>51.02</td>\n",
       "      <td>50.51</td>\n",
       "      <td>50.42</td>\n",
       "      <td>49.04</td>\n",
       "      <td>48.98</td>\n",
       "      <td>47.70</td>\n",
       "      <td>46.54</td>\n",
       "      <td>46.52</td>\n",
       "      <td>23.22</td>\n",
       "    </tr>\n",
       "    <tr>\n",
       "      <th>1</th>\n",
       "      <td>017.PM421</td>\n",
       "      <td>1</td>\n",
       "      <td></td>\n",
       "      <td>48.75</td>\n",
       "      <td>2023-01-12</td>\n",
       "      <td>Veneziane</td>\n",
       "      <td>[59.61, 58.81, 57.25, 55.73, 55.52, 55.03, 53....</td>\n",
       "      <td>[87.6, 80.11, 86.4, 78.17, 76.77, 45.5, 91.64,...</td>\n",
       "      <td>59.61</td>\n",
       "      <td>58.81</td>\n",
       "      <td>...</td>\n",
       "      <td>55.52</td>\n",
       "      <td>55.03</td>\n",
       "      <td>53.55</td>\n",
       "      <td>52.54</td>\n",
       "      <td>51.04</td>\n",
       "      <td>49.91</td>\n",
       "      <td>49.58</td>\n",
       "      <td>49.45</td>\n",
       "      <td>48.75</td>\n",
       "      <td>27.15</td>\n",
       "    </tr>\n",
       "    <tr>\n",
       "      <th>2</th>\n",
       "      <td>017.PM422</td>\n",
       "      <td>3</td>\n",
       "      <td></td>\n",
       "      <td>46.52</td>\n",
       "      <td>2023-01-12</td>\n",
       "      <td>Veneziane</td>\n",
       "      <td>[56.56, 55.83, 55.05, 54.76, 53.36, 52.24, 52....</td>\n",
       "      <td>[52.68, 52.01, 57.63]</td>\n",
       "      <td>56.56</td>\n",
       "      <td>55.83</td>\n",
       "      <td>...</td>\n",
       "      <td>53.36</td>\n",
       "      <td>52.24</td>\n",
       "      <td>52.09</td>\n",
       "      <td>50.87</td>\n",
       "      <td>50.02</td>\n",
       "      <td>49.29</td>\n",
       "      <td>48.03</td>\n",
       "      <td>46.67</td>\n",
       "      <td>46.52</td>\n",
       "      <td>7.59</td>\n",
       "    </tr>\n",
       "    <tr>\n",
       "      <th>3</th>\n",
       "      <td>017.PM424</td>\n",
       "      <td>2</td>\n",
       "      <td></td>\n",
       "      <td>51.80</td>\n",
       "      <td>2023-01-12</td>\n",
       "      <td>Veneziane</td>\n",
       "      <td>[63.6, 61.8, 60.77, 60.25, 58.76, 57.81, 56.28...</td>\n",
       "      <td>[67.89, 61.62, 77.74, 97.53, 50.93, 77.55, 62....</td>\n",
       "      <td>63.60</td>\n",
       "      <td>61.80</td>\n",
       "      <td>...</td>\n",
       "      <td>58.76</td>\n",
       "      <td>57.81</td>\n",
       "      <td>56.28</td>\n",
       "      <td>55.65</td>\n",
       "      <td>55.03</td>\n",
       "      <td>54.85</td>\n",
       "      <td>54.33</td>\n",
       "      <td>52.92</td>\n",
       "      <td>51.80</td>\n",
       "      <td>17.98</td>\n",
       "    </tr>\n",
       "    <tr>\n",
       "      <th>4</th>\n",
       "      <td>017.PM425</td>\n",
       "      <td>1</td>\n",
       "      <td></td>\n",
       "      <td>46.52</td>\n",
       "      <td>2023-01-12</td>\n",
       "      <td>Veneziane</td>\n",
       "      <td>[54.46, 54.26, 53.77, 53.56, 52.41, 52.23, 51....</td>\n",
       "      <td>[53.66, 57.03, 80.53, 50.62]</td>\n",
       "      <td>54.46</td>\n",
       "      <td>54.26</td>\n",
       "      <td>...</td>\n",
       "      <td>52.41</td>\n",
       "      <td>52.23</td>\n",
       "      <td>51.71</td>\n",
       "      <td>50.51</td>\n",
       "      <td>50.01</td>\n",
       "      <td>48.55</td>\n",
       "      <td>47.81</td>\n",
       "      <td>47.14</td>\n",
       "      <td>46.52</td>\n",
       "      <td>13.94</td>\n",
       "    </tr>\n",
       "  </tbody>\n",
       "</table>\n",
       "<p>5 rows × 22 columns</p>\n",
       "</div>"
      ],
      "text/plain": [
       "  Codice_articolo  Codice_variante Descrizione  Costo Data_riferimento  \\\n",
       "0       017.PM419                1              46.52       2023-01-12   \n",
       "1       017.PM421                1              48.75       2023-01-12   \n",
       "2       017.PM422                3              46.52       2023-01-12   \n",
       "3       017.PM424                2              51.80       2023-01-12   \n",
       "4       017.PM425                1              46.52       2023-01-12   \n",
       "\n",
       "   Categoria                                            Storico  \\\n",
       "0  Veneziane  [54.77, 53.52, 52.73, 52.54, 51.16, 51.02, 50....   \n",
       "1  Veneziane  [59.61, 58.81, 57.25, 55.73, 55.52, 55.03, 53....   \n",
       "2  Veneziane  [56.56, 55.83, 55.05, 54.76, 53.36, 52.24, 52....   \n",
       "3  Veneziane  [63.6, 61.8, 60.77, 60.25, 58.76, 57.81, 56.28...   \n",
       "4  Veneziane  [54.46, 54.26, 53.77, 53.56, 52.41, 52.23, 51....   \n",
       "\n",
       "                                             Vendita  Prezzo_1  Prezzo_2  ...  \\\n",
       "0  [83.36, 80.55, 82.61, 57.03, 47.5, 57.51, 86.8...     54.77     53.52  ...   \n",
       "1  [87.6, 80.11, 86.4, 78.17, 76.77, 45.5, 91.64,...     59.61     58.81  ...   \n",
       "2                              [52.68, 52.01, 57.63]     56.56     55.83  ...   \n",
       "3  [67.89, 61.62, 77.74, 97.53, 50.93, 77.55, 62....     63.60     61.80  ...   \n",
       "4                       [53.66, 57.03, 80.53, 50.62]     54.46     54.26  ...   \n",
       "\n",
       "   Prezzo_5  Prezzo_6  Prezzo_7  Prezzo_8  Prezzo_9  Prezzo_10  Prezzo_11  \\\n",
       "0     51.16     51.02     50.51     50.42     49.04      48.98      47.70   \n",
       "1     55.52     55.03     53.55     52.54     51.04      49.91      49.58   \n",
       "2     53.36     52.24     52.09     50.87     50.02      49.29      48.03   \n",
       "3     58.76     57.81     56.28     55.65     55.03      54.85      54.33   \n",
       "4     52.41     52.23     51.71     50.51     50.01      48.55      47.81   \n",
       "\n",
       "   Prezzo_12  Prezzo_13  media_discostamento  \n",
       "0      46.54      46.52                23.22  \n",
       "1      49.45      48.75                27.15  \n",
       "2      46.67      46.52                 7.59  \n",
       "3      52.92      51.80                17.98  \n",
       "4      47.14      46.52                13.94  \n",
       "\n",
       "[5 rows x 22 columns]"
      ]
     },
     "execution_count": 150,
     "metadata": {},
     "output_type": "execute_result"
    }
   ],
   "source": [
    "df_listino[\"media_discostamento\"] = df_listino[\"Vendita\"].apply(lambda x: np.mean(x))\n",
    "df_listino[\"media_discostamento\"] = df_listino[\"media_discostamento\"] - df_listino[\"Costo\"]\n",
    "df_listino[\"media_discostamento\"] = df_listino[\"media_discostamento\"].apply(lambda x: round(x, 2))\n",
    "df_listino.head()"
   ]
  },
  {
   "cell_type": "code",
   "execution_count": 154,
   "metadata": {},
   "outputs": [
    {
     "data": {
      "text/html": [
       "<div>\n",
       "<style scoped>\n",
       "    .dataframe tbody tr th:only-of-type {\n",
       "        vertical-align: middle;\n",
       "    }\n",
       "\n",
       "    .dataframe tbody tr th {\n",
       "        vertical-align: top;\n",
       "    }\n",
       "\n",
       "    .dataframe thead th {\n",
       "        text-align: right;\n",
       "    }\n",
       "</style>\n",
       "<table border=\"1\" class=\"dataframe\">\n",
       "  <thead>\n",
       "    <tr style=\"text-align: right;\">\n",
       "      <th></th>\n",
       "      <th>Codice_articolo</th>\n",
       "      <th>Categoria</th>\n",
       "      <th>media_discostamento</th>\n",
       "    </tr>\n",
       "  </thead>\n",
       "  <tbody>\n",
       "    <tr>\n",
       "      <th>1383</th>\n",
       "      <td>017.PM052</td>\n",
       "      <td>Truciolare</td>\n",
       "      <td>-183.15</td>\n",
       "    </tr>\n",
       "    <tr>\n",
       "      <th>609</th>\n",
       "      <td>017.PM107.020</td>\n",
       "      <td>Ante vetro</td>\n",
       "      <td>-17.96</td>\n",
       "    </tr>\n",
       "    <tr>\n",
       "      <th>587</th>\n",
       "      <td>017.PM106.015</td>\n",
       "      <td>Ante vetro</td>\n",
       "      <td>-4.40</td>\n",
       "    </tr>\n",
       "    <tr>\n",
       "      <th>1263</th>\n",
       "      <td>090.PBT90.12</td>\n",
       "      <td>Accessori</td>\n",
       "      <td>-0.91</td>\n",
       "    </tr>\n",
       "    <tr>\n",
       "      <th>375</th>\n",
       "      <td>090.VSO33</td>\n",
       "      <td>Vetri</td>\n",
       "      <td>-0.89</td>\n",
       "    </tr>\n",
       "    <tr>\n",
       "      <th>1067</th>\n",
       "      <td>017.PM589</td>\n",
       "      <td>Accessori</td>\n",
       "      <td>-0.30</td>\n",
       "    </tr>\n",
       "    <tr>\n",
       "      <th>723</th>\n",
       "      <td>052.MP.067</td>\n",
       "      <td>Profili Alluminio Kybos</td>\n",
       "      <td>-0.20</td>\n",
       "    </tr>\n",
       "    <tr>\n",
       "      <th>1039</th>\n",
       "      <td>017.PM534</td>\n",
       "      <td>Accessori</td>\n",
       "      <td>-0.12</td>\n",
       "    </tr>\n",
       "    <tr>\n",
       "      <th>963</th>\n",
       "      <td>017.PM378</td>\n",
       "      <td>Accessori</td>\n",
       "      <td>-0.05</td>\n",
       "    </tr>\n",
       "    <tr>\n",
       "      <th>1344</th>\n",
       "      <td>017.PM051.FF</td>\n",
       "      <td>Truciolare</td>\n",
       "      <td>-0.04</td>\n",
       "    </tr>\n",
       "    <tr>\n",
       "      <th>1005</th>\n",
       "      <td>017.PM468</td>\n",
       "      <td>Accessori</td>\n",
       "      <td>-0.01</td>\n",
       "    </tr>\n",
       "    <tr>\n",
       "      <th>1307</th>\n",
       "      <td>092.GU001.12</td>\n",
       "      <td>Accessori</td>\n",
       "      <td>-0.01</td>\n",
       "    </tr>\n",
       "  </tbody>\n",
       "</table>\n",
       "</div>"
      ],
      "text/plain": [
       "     Codice_articolo                Categoria  media_discostamento\n",
       "1383       017.PM052               Truciolare              -183.15\n",
       "609    017.PM107.020               Ante vetro               -17.96\n",
       "587    017.PM106.015               Ante vetro                -4.40\n",
       "1263    090.PBT90.12                Accessori                -0.91\n",
       "375        090.VSO33                    Vetri                -0.89\n",
       "1067       017.PM589                Accessori                -0.30\n",
       "723       052.MP.067  Profili Alluminio Kybos                -0.20\n",
       "1039       017.PM534                Accessori                -0.12\n",
       "963        017.PM378                Accessori                -0.05\n",
       "1344    017.PM051.FF               Truciolare                -0.04\n",
       "1005       017.PM468                Accessori                -0.01\n",
       "1307    092.GU001.12                Accessori                -0.01"
      ]
     },
     "execution_count": 154,
     "metadata": {},
     "output_type": "execute_result"
    }
   ],
   "source": [
    "df_listino[df_listino[\"media_discostamento\"] < 0 ].sort_values(by = \"media_discostamento\")[[\"Codice_articolo\", \"Categoria\", \"media_discostamento\"]]"
   ]
  },
  {
   "cell_type": "code",
   "execution_count": null,
   "metadata": {},
   "outputs": [],
   "source": []
  },
  {
   "cell_type": "code",
   "execution_count": null,
   "metadata": {},
   "outputs": [],
   "source": []
  },
  {
   "cell_type": "code",
   "execution_count": null,
   "metadata": {},
   "outputs": [],
   "source": []
  },
  {
   "cell_type": "code",
   "execution_count": null,
   "metadata": {},
   "outputs": [],
   "source": []
  },
  {
   "cell_type": "code",
   "execution_count": null,
   "metadata": {},
   "outputs": [],
   "source": []
  },
  {
   "cell_type": "code",
   "execution_count": null,
   "metadata": {},
   "outputs": [],
   "source": []
  },
  {
   "cell_type": "code",
   "execution_count": null,
   "metadata": {},
   "outputs": [],
   "source": []
  },
  {
   "cell_type": "code",
   "execution_count": null,
   "metadata": {},
   "outputs": [],
   "source": []
  }
 ],
 "metadata": {
  "kernelspec": {
   "display_name": "Python 3",
   "language": "python",
   "name": "python3"
  },
  "language_info": {
   "codemirror_mode": {
    "name": "ipython",
    "version": 3
   },
   "file_extension": ".py",
   "mimetype": "text/x-python",
   "name": "python",
   "nbconvert_exporter": "python",
   "pygments_lexer": "ipython3",
   "version": "3.10.12"
  }
 },
 "nbformat": 4,
 "nbformat_minor": 2
}
